{
 "cells": [
  {
   "cell_type": "markdown",
   "metadata": {},
   "source": [
    "# Neuronales Netz"
   ]
  },
  {
   "cell_type": "markdown",
   "metadata": {},
   "source": [
    "## Imports"
   ]
  },
  {
   "cell_type": "code",
   "execution_count": 40,
   "metadata": {},
   "outputs": [],
   "source": [
    "import pandas as pd\n",
    "from tqdm.notebook import tqdm\n",
    "import numpy as np\n",
    "import matplotlib.pyplot as plt\n",
    "from sklearn.datasets import load_iris\n",
    "from sklearn.model_selection import train_test_split"
   ]
  },
  {
   "cell_type": "markdown",
   "metadata": {},
   "source": [
    "## Einfaches Beispiel"
   ]
  },
  {
   "cell_type": "code",
   "execution_count": 106,
   "metadata": {},
   "outputs": [],
   "source": [
    "x1 = 1\n",
    "x2 = 3\n",
    "w1,w2 = 0.3, 0.3\n",
    "w3,w4 = 0.6, 0.6\n",
    "w5 = 0.8\n",
    "w6 = 0.9\n",
    "\n",
    "def sigmoid(x):\n",
    "    return 1/(1 + np.exp(-x))\n",
    "\n",
    "n1 = x1*w1+x2*w3\n",
    "n2 = x1*w2+x2*w4\n",
    "n1_out = sigmoid(n1)\n",
    "n2_out = sigmoid(n2)\n",
    "\n",
    "n3 = n1_out*w5+n2_out*w6\n",
    "n3_out = sigmoid(n3)"
   ]
  },
  {
   "cell_type": "markdown",
   "metadata": {},
   "source": [
    "## Datengrundlage"
   ]
  },
  {
   "cell_type": "code",
   "execution_count": 88,
   "metadata": {},
   "outputs": [],
   "source": [
    "data = pd.read_csv(\"/data/iris.csv\")\n",
    "x = data[[\"sepal length\",\"sepal width\"]].to_numpy()\n",
    "y = np.where(data[\"class\"] == \"Iris-setosa\",1,0) # target binarisieren\n",
    "\n",
    "x_train, x_test, y_train, y_test = train_test_split(x, y, test_size=0.4, random_state=45)"
   ]
  },
  {
   "cell_type": "markdown",
   "metadata": {},
   "source": [
    "## Plot Data"
   ]
  },
  {
   "cell_type": "code",
   "execution_count": 90,
   "metadata": {},
   "outputs": [
    {
     "data": {
      "image/png": "[encoded data removed]",
      "text/plain": [
       "<Figure size 432x288 with 1 Axes>"
      ]
     },
     "metadata": {
      "needs_background": "light"
     },
     "output_type": "display_data"
    }
   ],
   "source": [
    "plt.scatter(x[np.where(y==1),:1],x[np.where(y==1),1:],c=\"#1ACC94\",label=\"True\")\n",
    "plt.scatter(x[np.where(y==0),:1],x[np.where(y==0),1:],c=\"#CC1B58\",label=\"False\")\n",
    "plt.show()"
   ]
  },
  {
   "cell_type": "markdown",
   "metadata": {},
   "source": [
    "## Neuronales Netz"
   ]
  },
  {
   "cell_type": "code",
   "execution_count": 91,
   "metadata": {},
   "outputs": [],
   "source": [
    "class nn:\n",
    "    def __init__(self,n_features):\n",
    "        self.w = [np.random.uniform(0,1) for i in range(6)] \n",
    "        self.b = [np.random.uniform(0,1) for i in range(2)]\n",
    "        \n",
    "    def sigmoid(self,x):\n",
    "        return 1/(1 + np.exp(-x))\n",
    "    \n",
    "    def sigmoid_diff(self,x):\n",
    "        e = np.exp(-x)\n",
    "        return e/(1 + e)**2\n",
    "        \n",
    "    def __call__(self,x):       \n",
    "        self.h1 = self.w[0]*x[0]+self.w[2]*x[1]+self.b[0]\n",
    "        self.h2 = self.w[1]*x[0]+self.w[3]*x[1]+self.b[0]\n",
    "        \n",
    "        self.h1_out = self.sigmoid(self.h1)\n",
    "        self.h2_out = self.sigmoid(self.h2)\n",
    "        \n",
    "        self.y = self.h1_out*self.w[4]+self.h2_out*self.w[5]+self.b[1]\n",
    "        self.y_out = self.sigmoid(self.y)\n",
    "\n",
    "        \n",
    "        return self.y_out"
   ]
  },
  {
   "cell_type": "code",
   "execution_count": 102,
   "metadata": {},
   "outputs": [
    {
     "data": {
      "text/plain": [
       "0.5"
      ]
     },
     "execution_count": 102,
     "metadata": {},
     "output_type": "execute_result"
    }
   ],
   "source": [
    "net.sigmoid(0)"
   ]
  },
  {
   "cell_type": "code",
   "execution_count": 92,
   "metadata": {},
   "outputs": [
    {
     "data": {
      "application/vnd.jupyter.widget-view+json": {
       "model_id": "14e565729de841a583548f00debfbee3",
       "version_major": 2,
       "version_minor": 0
      },
      "text/plain": [
       "  0%|          | 0/1000 [00:00<?, ?it/s]"
      ]
     },
     "metadata": {},
     "output_type": "display_data"
    },
    {
     "data": {
      "text/plain": [
       "[<matplotlib.lines.Line2D at 0x7f1539f92400>]"
      ]
     },
     "execution_count": 92,
     "metadata": {},
     "output_type": "execute_result"
    },
    {
     "data": {
      "image/png": "[encoded data removed]",
      "text/plain": [
       "<Figure size 432x288 with 1 Axes>"
      ]
     },
     "metadata": {
      "needs_background": "light"
     },
     "output_type": "display_data"
    }
   ],
   "source": [
    "def logloss(prediction, y):\n",
    "    loss = -np.mean(y*(np.log(prediction)) + (1-y)*np.log(1-prediction))\n",
    "    return loss\n",
    "\n",
    "net = nn(2)\n",
    "\n",
    "epoch_loss = []\n",
    "for epoch in tqdm(range(1000)):\n",
    "    batch_loss = []\n",
    "    for x,y in zip(x_train,y_train):\n",
    "        \n",
    "        prediction = net(x)\n",
    "        loss = logloss(prediction,y)\n",
    "        \n",
    "        lr = 0.001\n",
    "    \n",
    "        A = (-y/(net.y_out)+((1-y)/(1-net.y_out)))*net.sigmoid_diff(net.y)\n",
    "        \n",
    "        deriv_w0 = A*net.w[4]*net.sigmoid_diff(net.h1)*x[:1]\n",
    "        deriv_w1 = A*net.w[5]*net.sigmoid_diff(net.h2)*x[:1]\n",
    "        deriv_w2 = A*net.w[4]*net.sigmoid_diff(net.h1)*x[1:]\n",
    "        deriv_w3 = A*net.w[5]*net.sigmoid_diff(net.h2)*x[1:]\n",
    "        deriv_w4 = A*net.h1_out\n",
    "        deriv_w5 = A*net.h2_out\n",
    "        \n",
    "        deriv_b0 = A*(net.w[4]*net.sigmoid_diff(net.h1)+net.w[5]*net.sigmoid_diff(net.h2))\n",
    "        deriv_b1 = A\n",
    "        \n",
    "        net.w[0] = net.w[0] - lr * deriv_w0\n",
    "        net.w[1] = net.w[1] - lr * deriv_w1\n",
    "        net.w[2] = net.w[2] - lr * deriv_w2\n",
    "        net.w[3] = net.w[3] - lr * deriv_w3\n",
    "        net.w[4] = net.w[4] - lr * deriv_w4\n",
    "        net.w[4] = net.w[4] - lr * deriv_w5\n",
    "        \n",
    "        net.b[0] = net.b[0] - lr * deriv_b0\n",
    "        net.b[1] = net.b[1] - lr * deriv_b1\n",
    "\n",
    "        batch_loss.append(loss)\n",
    "\n",
    "    epoch_loss.append(np.mean(batch_loss))\n",
    "    \n",
    "plt.plot(epoch_loss)"
   ]
  },
  {
   "cell_type": "code",
   "execution_count": 93,
   "metadata": {},
   "outputs": [
    {
     "data": {
      "image/png": "[encoded data removed]",
      "text/plain": [
       "<Figure size 576x432 with 1 Axes>"
      ]
     },
     "metadata": {
      "needs_background": "light"
     },
     "output_type": "display_data"
    }
   ],
   "source": [
    "n = 100\n",
    "z = []\n",
    "\n",
    "x1_lims = [x_test[:,:1].min(),x_test[:,:1].max()]\n",
    "x2_lims = [x_test[:,1:].min(),x_test[:,1:].max()]\n",
    "meshgrid = np.meshgrid(np.linspace(x1_lims[0],x1_lims[1],n),np.linspace(x2_lims[0],x2_lims[1],n))\n",
    "for value in np.nditer(meshgrid):\n",
    "    z.append(net(np.array(value)))\n",
    "\n",
    "plt.figure(figsize=(8,6))\n",
    "plt.contourf(meshgrid[0],meshgrid[1],np.array(z).reshape(n,n),alpha=0.2)\n",
    "plt.scatter(x_test[np.where(y_test==1),:1],x_test[np.where(y_test==1),1:],c=\"#1ACC94\",label=\"True\")\n",
    "plt.scatter(x_test[np.where(y_test==0),:1],x_test[np.where(y_test==0),1:],c=\"#CC1B58\",label=\"False\")\n",
    "plt.xlabel(\"$x_1$\")\n",
    "plt.ylabel(\"$x_2$\")\n",
    "plt.xlim(x1_lims[0],x1_lims[1])\n",
    "plt.ylim(x2_lims[0],x2_lims[1])\n",
    "plt.legend()\n",
    "plt.title(\"Klassifikationsraum\")\n",
    "plt.show()"
   ]
  },
  {
   "cell_type": "code",
   "execution_count": null,
   "metadata": {},
   "outputs": [],
   "source": []
  }
 ],
 "metadata": {
  "kernelspec": {
   "display_name": "Python 3 (ipykernel)",
   "language": "python",
   "name": "python3"
  },
  "language_info": {
   "codemirror_mode": {
    "name": "ipython",
    "version": 3
   },
   "file_extension": ".py",
   "mimetype": "text/x-python",
   "name": "python",
   "nbconvert_exporter": "python",
   "pygments_lexer": "ipython3",
   "version": "3.8.12"
  }
 },
 "nbformat": 4,
 "nbformat_minor": 4
}
