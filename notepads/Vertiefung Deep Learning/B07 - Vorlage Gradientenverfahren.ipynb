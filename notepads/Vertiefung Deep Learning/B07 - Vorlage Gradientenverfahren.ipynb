{
 "cells": [
  {
   "cell_type": "markdown",
   "id": "ce459c5e",
   "metadata": {},
   "source": [
    "# *Aufgabe: Gradientenverfahren*"
   ]
  },
  {
   "cell_type": "markdown",
   "id": "a4b6f1a7",
   "metadata": {},
   "source": [
    "0. Importieren Sie alle die nötigen Bibliotheken."
   ]
  },
  {
   "cell_type": "code",
   "execution_count": null,
   "id": "1e0fd736",
   "metadata": {},
   "outputs": [],
   "source": []
  },
  {
   "cell_type": "markdown",
   "id": "c41ab1e2",
   "metadata": {},
   "source": [
    "1. Kopieren und visualisieren (am besten mit scatter) Sie die Daten:"
   ]
  },
  {
   "cell_type": "code",
   "execution_count": null,
   "id": "220b168a",
   "metadata": {},
   "outputs": [],
   "source": []
  },
  {
   "cell_type": "markdown",
   "id": "4135cb88",
   "metadata": {},
   "source": [
    "2. Implementieren Sie das Gradientenverfahren für die Regressionsaufgabe. Es ist ausreichend, lineare Regression zu betrachten. "
   ]
  },
  {
   "cell_type": "code",
   "execution_count": null,
   "id": "95ad7720",
   "metadata": {},
   "outputs": [],
   "source": [
    "# Initialgewicht\n",
    "w = 1\n",
    "# Anzahl der Epochen:\n",
    "epoch = 500\n",
    "# Learning rate:\n",
    "lr = 0.00000001\n",
    "\n",
    "# Vergesses Sie nicht, den Fehler bei jeder Iteration für die Visualisierung zu speichern."
   ]
  },
  {
   "cell_type": "markdown",
   "id": "49c78e70",
   "metadata": {},
   "source": [
    "3. Visualisieren Sie den Fehler: "
   ]
  },
  {
   "cell_type": "code",
   "execution_count": null,
   "id": "24d4f6f7",
   "metadata": {},
   "outputs": [],
   "source": []
  },
  {
   "cell_type": "markdown",
   "id": "28a647bb",
   "metadata": {},
   "source": [
    "Zusatzaufgabe 1. Implementieren Sie ein Momentum für Ihr Gradientenverfahren"
   ]
  },
  {
   "cell_type": "code",
   "execution_count": null,
   "id": "89eadce6",
   "metadata": {},
   "outputs": [],
   "source": []
  },
  {
   "cell_type": "markdown",
   "id": "20cbb007",
   "metadata": {},
   "source": [
    "Zusatzaufgabe 2: Wiederholen Sie den Schritt 2 für die Logistische Regression. "
   ]
  },
  {
   "cell_type": "code",
   "execution_count": null,
   "id": "0fd8bacd",
   "metadata": {},
   "outputs": [],
   "source": []
  }
 ],
 "metadata": {
  "kernelspec": {
   "display_name": "Python 3 (ipykernel)",
   "language": "python",
   "name": "python3"
  },
  "language_info": {
   "codemirror_mode": {
    "name": "ipython",
    "version": 3
   },
   "file_extension": ".py",
   "mimetype": "text/x-python",
   "name": "python",
   "nbconvert_exporter": "python",
   "pygments_lexer": "ipython3",
   "version": "3.8.12"
  }
 },
 "nbformat": 4,
 "nbformat_minor": 5
}
