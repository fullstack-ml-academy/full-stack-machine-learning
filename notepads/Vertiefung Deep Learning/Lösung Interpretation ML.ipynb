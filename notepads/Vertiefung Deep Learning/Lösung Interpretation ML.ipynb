{
 "cells": [
  {
   "cell_type": "markdown",
   "id": "f00a85dc",
   "metadata": {
    "pycharm": {
     "name": "#%% md\n"
    }
   },
   "source": [
    "# *Aufgabe: SVM und Interpretation ML*"
   ]
  },
  {
   "cell_type": "markdown",
   "source": [
    "0. Imports"
   ],
   "metadata": {
    "collapsed": false,
    "pycharm": {
     "name": "#%% md\n"
    }
   }
  },
  {
   "cell_type": "code",
   "execution_count": 1,
   "outputs": [],
   "source": [
    "import pandas as pd\n",
    "from sklearn.model_selection import train_test_split\n",
    "from sklearn import svm\n",
    "from sklearn.linear_model import LinearRegression\n",
    "from sklearn.neighbors import KNeighborsRegressor\n",
    "from sklearn.ensemble import BaggingRegressor, RandomForestRegressor, VotingRegressor, AdaBoostRegressor\n",
    "from sklearn.tree import DecisionTreeRegressor\n",
    "import numpy as np\n",
    "import time\n",
    "import shap\n",
    "from sklearn.datasets import load_diabetes\n",
    "import matplotlib.pyplot as plt\n",
    "from sklearn.preprocessing import MinMaxScaler"
   ],
   "metadata": {
    "collapsed": false,
    "pycharm": {
     "name": "#%%\n"
    }
   }
  },
  {
   "cell_type": "markdown",
   "source": [
    "### Aufgabe 1. SVM"
   ],
   "metadata": {
    "collapsed": false,
    "pycharm": {
     "name": "#%% md\n"
    }
   }
  },
  {
   "cell_type": "markdown",
   "source": [
    "1. Load and split the data"
   ],
   "metadata": {
    "collapsed": false,
    "pycharm": {
     "name": "#%% md\n"
    }
   }
  },
  {
   "cell_type": "code",
   "execution_count": 2,
   "outputs": [
    {
     "name": "stdout",
     "output_type": "stream",
     "text": [
      "X Train: (298, 7)\n",
      "Y Train: (298,)\n",
      "X Test: (100, 7)\n",
      "Y Test: (100,)\n"
     ]
    }
   ],
   "source": [
    "data = pd.read_csv(\"../../../data/mpg.csv\")\n",
    "X  = data.drop([\"mpg\"],axis=1)\n",
    "x_train, x_test, y_train, y_test = train_test_split(X, data[\"mpg\"])\n",
    "\n",
    "minmax = MinMaxScaler()\n",
    "\n",
    "x_train = pd.DataFrame(minmax.fit_transform(x_train), columns=X.columns)\n",
    "x_test = minmax.fit_transform(x_test)\n",
    "\n",
    "print('X Train: {}'.format(x_train.shape)) \n",
    "print('Y Train: {}'.format(y_train.shape)) \n",
    "print('X Test: {}'.format(x_test.shape)) \n",
    "print('Y Test: {}'.format(y_test.shape))"
   ],
   "metadata": {
    "collapsed": false,
    "pycharm": {
     "name": "#%%\n"
    }
   }
  },
  {
   "cell_type": "code",
   "execution_count": 3,
   "outputs": [
    {
     "name": "stdout",
     "output_type": "stream",
     "text": [
      "X Train: (331, 10)\n",
      "Y Train: (331,)\n",
      "X Test: (111, 10)\n",
      "Y Test: (111,)\n"
     ]
    }
   ],
   "source": [
    "# An alternative data\n",
    "features, target = load_diabetes(return_X_y=True, as_frame=True)\n",
    "\n",
    "X = features\n",
    "x_train, x_test, y_train, y_test = train_test_split(features, target)\n",
    "\n",
    "minmax = MinMaxScaler()\n",
    "\n",
    "x_train = pd.DataFrame(minmax.fit_transform(x_train), columns=X.columns)\n",
    "x_test = minmax.fit_transform(x_test)\n",
    "print('X Train: {}'.format(x_train.shape)) \n",
    "print('Y Train: {}'.format(y_train.shape)) \n",
    "print('X Test: {}'.format(x_test.shape)) \n",
    "print('Y Test: {}'.format(y_test.shape))"
   ],
   "metadata": {
    "collapsed": false,
    "pycharm": {
     "name": "#%%\n"
    }
   }
  },
  {
   "cell_type": "markdown",
   "source": [
    "2. Train and evaluate all the models"
   ],
   "metadata": {
    "collapsed": false,
    "pycharm": {
     "name": "#%% md\n"
    }
   }
  },
  {
   "cell_type": "code",
   "execution_count": 4,
   "outputs": [
    {
     "name": "stdout",
     "output_type": "stream",
     "text": [
      "Genauigkeit von knn: 3730.5088288288293; running time: 0.0\n",
      "Genauigkeit von linregr: 3542.1993892093046; running time: 0.0\n",
      "Genauigkeit von tree: 5897.4324324324325; running time: 0.0\n",
      "Genauigkeit von forest: 3561.5741594594597; running time: 0.16\n",
      "Genauigkeit von ada: 3524.096313864107; running time: 0.06\n",
      "Genauigkeit von svm: 5177.462573819533; running time: 0.0\n"
     ]
    }
   ],
   "source": [
    "import warnings\n",
    "warnings.filterwarnings('ignore')\n",
    "\n",
    "def mse(y_pred,y):\n",
    "    return np.mean((y_pred-y)**2)\n",
    "\n",
    "def train_evaluate_time(method):\n",
    "    start_time = time.time()\n",
    "    methods[method].fit(x_train, y_train)\n",
    "    running_time = round(time.time() - start_time,2)\n",
    "    model_predict = methods[method].predict(x_test)\n",
    "    model_mse = mse(model_predict,y_test)\n",
    "    print(\"Genauigkeit von {}: {}; running time: {}\".format(method, model_mse, running_time))\n",
    "\n",
    "\n",
    "methods = {\"knn\": KNeighborsRegressor(), \"linregr\": LinearRegression(), \"tree\": DecisionTreeRegressor(), \n",
    "           \"forest\": RandomForestRegressor(), \"ada\": AdaBoostRegressor(), \"svm\": svm.SVR()}\n",
    "\n",
    "\n",
    "for method in methods:\n",
    "    train_evaluate_time(method)\n",
    "    "
   ],
   "metadata": {
    "collapsed": false,
    "pycharm": {
     "name": "#%%\n"
    }
   }
  },
  {
   "cell_type": "markdown",
   "id": "042fdefc",
   "metadata": {
    "pycharm": {
     "name": "#%% md\n"
    }
   },
   "source": [
    "### Aufgabe 2. Interpretation"
   ]
  },
  {
   "cell_type": "code",
   "execution_count": null,
   "id": "e3fc6fe5",
   "metadata": {
    "pycharm": {
     "name": "#%%\n",
     "is_executing": true
    }
   },
   "outputs": [
    {
     "name": "stderr",
     "output_type": "stream",
     "text": [
      "Using 331 background data samples could cause slower run times. Consider using shap.sample(data, K) or shap.kmeans(data, K) to summarize the background as K samples.\n"
     ]
    },
    {
     "data": {
      "text/plain": "  0%|          | 0/331 [00:00<?, ?it/s]",
      "application/vnd.jupyter.widget-view+json": {
       "version_major": 2,
       "version_minor": 0,
       "model_id": "9ed85dad228e4997a83520f6acee4a09"
      },
      "application/json": {
       "n": 0,
       "total": 331,
       "elapsed": 0.009996891021728516,
       "ncols": null,
       "nrows": null,
       "prefix": "",
       "ascii": false,
       "unit": "it",
       "unit_scale": false,
       "rate": null,
       "bar_format": null,
       "postfix": null,
       "unit_divisor": 1000,
       "initial": 0,
       "colour": null
      }
     },
     "metadata": {},
     "output_type": "display_data"
    }
   ],
   "source": [
    "def plot_one_method(ax, title, x):\n",
    "    ax.set_title(title)\n",
    "    ticks = np.arange(1, len(x) + 1)\n",
    "    ax.bar(ticks, x)\n",
    "    ax.set_xticks(ticks=ticks, labels=list(x_train.columns), rotation=90)\n",
    "\n",
    "\n",
    "fig, ax = plt.subplots(2,2, figsize=(15,15))\n",
    "\n",
    "plot_one_method(ax[0,0], \"Koeffizienten Lineare Regrssion\", methods[\"linregr\"].coef_)\n",
    "plot_one_method(ax[0,1], \"Feature Importance beim Entscheidungsbaum\", methods[\"tree\"].feature_importances_)\n",
    "plot_one_method(ax[1,0], \"Feature Importance beim Random Forest\", methods[\"forest\"].feature_importances_)\n",
    "plot_one_method(ax[1,1], \"Feature Importance beim AdaBoost\", methods[\"ada\"].feature_importances_)\n",
    "\n",
    "# Shap value nehmen\n",
    "#x_train=x_train.head(10)\n",
    "explainer = shap.KernelExplainer(methods[\"svm\"].predict, x_train)\n",
    "shap_values = explainer.shap_values(x_train)\n",
    "plt.figure(figsize=(10,10))\n",
    "plt.title(\"SHAP Values: {}\".format(method))\n",
    "shap.summary_plot(shap_values, x_train)\n",
    "plt.show()"
   ]
  },
  {
   "cell_type": "code",
   "execution_count": null,
   "outputs": [],
   "source": [],
   "metadata": {
    "collapsed": false,
    "pycharm": {
     "name": "#%%\n"
    }
   }
  }
 ],
 "metadata": {
  "kernelspec": {
   "display_name": "Python 3 (ipykernel)",
   "language": "python",
   "name": "python3"
  },
  "language_info": {
   "codemirror_mode": {
    "name": "ipython",
    "version": 3
   },
   "file_extension": ".py",
   "mimetype": "text/x-python",
   "name": "python",
   "nbconvert_exporter": "python",
   "pygments_lexer": "ipython3",
   "version": "3.8.12"
  }
 },
 "nbformat": 4,
 "nbformat_minor": 5
}