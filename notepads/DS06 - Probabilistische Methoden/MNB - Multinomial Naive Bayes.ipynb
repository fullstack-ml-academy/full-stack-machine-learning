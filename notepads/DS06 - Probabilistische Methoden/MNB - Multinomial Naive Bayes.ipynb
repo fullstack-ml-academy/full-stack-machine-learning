{
 "cells": [
  {
   "cell_type": "markdown",
   "id": "61d97d61-8e46-4966-bfc7-c93d0a92feb4",
   "metadata": {},
   "source": [
    "# Multinomial Naive Bayes "
   ]
  },
  {
   "cell_type": "markdown",
   "id": "96a22918-f376-4580-8e2a-6a8180adae6a",
   "metadata": {},
   "source": [
    "## Imports"
   ]
  },
  {
   "cell_type": "code",
   "execution_count": 67,
   "id": "84d1f576-abb3-4ea7-80bb-58c139ed1d5c",
   "metadata": {},
   "outputs": [],
   "source": [
    "import pandas as pd\n",
    "import numpy as np\n",
    "from sklearn.feature_extraction.text import CountVectorizer"
   ]
  },
  {
   "cell_type": "markdown",
   "id": "2bc22ef7-7380-486b-ba27-a69fd6b9084d",
   "metadata": {},
   "source": [
    "## Datengrundlage"
   ]
  },
  {
   "cell_type": "code",
   "execution_count": 150,
   "id": "b1433dce-11ae-4014-8a85-2dc6f6ed6ba3",
   "metadata": {},
   "outputs": [],
   "source": [
    "messages = [\"Das Meeting ist verschoben.\",\n",
    "            \"Die Präsentation lief gut\",\n",
    "            \"Nach der Präsentation wollen wir Mittagessen und die  Präsentation besprechen\",\n",
    "            \"Kannst du die Präsentation für Montag auch Sonntag erstellen?\",\n",
    "            \"Zeit für ein kurzes Meeting?\",\n",
    "            \"Lust auf Mittagessen am Sonntag?\",\n",
    "            \"Gehst du mit mir am Sonntag spazieren? Sonntag soll schönes Wetter werden.\",\n",
    "            \"Kann ich dir meine Präsentation für die Schule zeigen?\"]\n",
    "business_mail = [1,1,1,1,1,0,0,0]"
   ]
  },
  {
   "cell_type": "code",
   "execution_count": 152,
   "id": "4e06a943-105d-49b5-a16e-6a72937a474e",
   "metadata": {},
   "outputs": [
    {
     "data": {
      "text/html": [
       "<div>\n",
       "<style scoped>\n",
       "    .dataframe tbody tr th:only-of-type {\n",
       "        vertical-align: middle;\n",
       "    }\n",
       "\n",
       "    .dataframe tbody tr th {\n",
       "        vertical-align: top;\n",
       "    }\n",
       "\n",
       "    .dataframe thead th {\n",
       "        text-align: right;\n",
       "    }\n",
       "</style>\n",
       "<table border=\"1\" class=\"dataframe\">\n",
       "  <thead>\n",
       "    <tr style=\"text-align: right;\">\n",
       "      <th></th>\n",
       "      <th>mittagessen</th>\n",
       "      <th>meeting</th>\n",
       "      <th>präsentation</th>\n",
       "      <th>sonntag</th>\n",
       "      <th>business</th>\n",
       "    </tr>\n",
       "  </thead>\n",
       "  <tbody>\n",
       "    <tr>\n",
       "      <th>0</th>\n",
       "      <td>0</td>\n",
       "      <td>1</td>\n",
       "      <td>0</td>\n",
       "      <td>0</td>\n",
       "      <td>1</td>\n",
       "    </tr>\n",
       "    <tr>\n",
       "      <th>1</th>\n",
       "      <td>0</td>\n",
       "      <td>0</td>\n",
       "      <td>1</td>\n",
       "      <td>0</td>\n",
       "      <td>1</td>\n",
       "    </tr>\n",
       "    <tr>\n",
       "      <th>2</th>\n",
       "      <td>1</td>\n",
       "      <td>0</td>\n",
       "      <td>2</td>\n",
       "      <td>0</td>\n",
       "      <td>1</td>\n",
       "    </tr>\n",
       "    <tr>\n",
       "      <th>3</th>\n",
       "      <td>0</td>\n",
       "      <td>0</td>\n",
       "      <td>1</td>\n",
       "      <td>1</td>\n",
       "      <td>1</td>\n",
       "    </tr>\n",
       "    <tr>\n",
       "      <th>4</th>\n",
       "      <td>0</td>\n",
       "      <td>1</td>\n",
       "      <td>0</td>\n",
       "      <td>0</td>\n",
       "      <td>1</td>\n",
       "    </tr>\n",
       "    <tr>\n",
       "      <th>5</th>\n",
       "      <td>1</td>\n",
       "      <td>0</td>\n",
       "      <td>0</td>\n",
       "      <td>1</td>\n",
       "      <td>0</td>\n",
       "    </tr>\n",
       "    <tr>\n",
       "      <th>6</th>\n",
       "      <td>0</td>\n",
       "      <td>0</td>\n",
       "      <td>0</td>\n",
       "      <td>2</td>\n",
       "      <td>0</td>\n",
       "    </tr>\n",
       "    <tr>\n",
       "      <th>7</th>\n",
       "      <td>0</td>\n",
       "      <td>0</td>\n",
       "      <td>1</td>\n",
       "      <td>0</td>\n",
       "      <td>0</td>\n",
       "    </tr>\n",
       "  </tbody>\n",
       "</table>\n",
       "</div>"
      ],
      "text/plain": [
       "   mittagessen  meeting  präsentation  sonntag  business\n",
       "0            0        1             0        0         1\n",
       "1            0        0             1        0         1\n",
       "2            1        0             2        0         1\n",
       "3            0        0             1        1         1\n",
       "4            0        1             0        0         1\n",
       "5            1        0             0        1         0\n",
       "6            0        0             0        2         0\n",
       "7            0        0             1        0         0"
      ]
     },
     "execution_count": 152,
     "metadata": {},
     "output_type": "execute_result"
    }
   ],
   "source": [
    "vectorizer = CountVectorizer()\n",
    "data = pd.DataFrame(vectorizer.fit_transform(messages).todense(),columns=vectorizer.get_feature_names())[[\"mittagessen\",\"meeting\",\"präsentation\", \"sonntag\"]]\n",
    "data[\"business\"] = business_mail\n",
    "data"
   ]
  },
  {
   "cell_type": "markdown",
   "id": "fa4e09fa-d5d5-41ef-a6d6-cfe40a604cb9",
   "metadata": {},
   "source": [
    "## Multinomial Naive Bayes"
   ]
  },
  {
   "cell_type": "markdown",
   "id": "0502bfca-809c-46c7-89f3-054f24fa9cd6",
   "metadata": {},
   "source": [
    "### Wahrscheinlichkeiten"
   ]
  },
  {
   "cell_type": "code",
   "execution_count": 154,
   "id": "609d1858-b11d-428c-9d8e-833a75346f0b",
   "metadata": {},
   "outputs": [
    {
     "name": "stdout",
     "output_type": "stream",
     "text": [
      "Wahrscheinlichkei Business Mail: 0.625\n",
      "Wahrscheinlichkei Privat Mail: 0.375\n"
     ]
    }
   ],
   "source": [
    "likelihood_business = data.loc[data[\"business\"]==1].shape[0]/data.shape[0]\n",
    "likelihood_privat = data.loc[data[\"business\"]==0].shape[0]/data.shape[0]\n",
    "print(\"Wahrscheinlichkei Business Mail: {}\".format(likelihood_business))\n",
    "print(\"Wahrscheinlichkei Privat Mail: {}\".format(likelihood_privat))"
   ]
  },
  {
   "cell_type": "code",
   "execution_count": 167,
   "id": "4600c9e3-9e00-400b-ad6f-9bda56093ec9",
   "metadata": {},
   "outputs": [],
   "source": [
    "business_mails = data.loc[(data[\"business\"]==1)][[\"mittagessen\",\"meeting\",\"präsentation\",\"sonntag\"]]\n",
    "privat_mails = data.loc[(data[\"business\"]==0)][[\"mittagessen\",\"meeting\",\"präsentation\",\"sonntag\"]]"
   ]
  },
  {
   "cell_type": "code",
   "execution_count": 165,
   "id": "d969add2-ba5d-412b-9549-c9e6cf0f620f",
   "metadata": {},
   "outputs": [
    {
     "name": "stdout",
     "output_type": "stream",
     "text": [
      "Wahrscheinlichkeit 'Mittagessen' in Business Mails: 0.125\n",
      "Wahrscheinlichkeit 'Meeting' in Business Mails: 0.25\n",
      "Wahrscheinlichkeit 'Präsentation' in Business Mails: 0.5\n",
      "Wahrscheinlichkeit 'Sonntag' in Business Mails: 0.125\n"
     ]
    }
   ],
   "source": [
    "likelihood_business_mittagessen = business_mails[\"mittagessen\"].sum()/business_mails.sum().sum()\n",
    "likelihood_business_meeting = business_mails[\"meeting\"].sum()/business_mails.sum().sum()\n",
    "likelihood_business_praesentation = business_mails[\"präsentation\"].sum()/business_mails.sum().sum()\n",
    "likelihood_business_sonntag = business_mails[\"sonntag\"].sum()/business_mails.sum().sum()\n",
    "\n",
    "print(\"Wahrscheinlichkeit 'Mittagessen' in Business Mails: {}\".format(likelihood_business_mittagessen))\n",
    "print(\"Wahrscheinlichkeit 'Meeting' in Business Mails: {}\".format(likelihood_business_meeting))\n",
    "print(\"Wahrscheinlichkeit 'Präsentation' in Business Mails: {}\".format(likelihood_business_praesentation))\n",
    "print(\"Wahrscheinlichkeit 'Sonntag' in Business Mails: {}\".format(likelihood_business_sonntag))"
   ]
  },
  {
   "cell_type": "code",
   "execution_count": 168,
   "id": "905513e2-b3b7-4fb6-88af-c1389ca39d35",
   "metadata": {},
   "outputs": [
    {
     "name": "stdout",
     "output_type": "stream",
     "text": [
      "Wahrscheinlichkeit 'Mittagessen' in Privat Mails: 0.20\n",
      "Wahrscheinlichkeit 'Meeting' in Privat Mails: 0.00\n",
      "Wahrscheinlichkeit 'Präsentation' in Privat Mails: 0.20\n",
      "Wahrscheinlichkeit 'Sonntag' in Privat Mails: 0.60\n"
     ]
    }
   ],
   "source": [
    "likelihood_privat_mittagessen = privat_mails[\"mittagessen\"].sum()/privat_mails.sum().sum()\n",
    "likelihood_privat_meeting = privat_mails[\"meeting\"].sum()/privat_mails.sum().sum()\n",
    "likelihood_privat_praesentation = privat_mails[\"präsentation\"].sum()/privat_mails.sum().sum()\n",
    "likelihood_privat_sonntag = privat_mails[\"sonntag\"].sum()/privat_mails.sum().sum()\n",
    "\n",
    "print(\"Wahrscheinlichkeit 'Mittagessen' in Privat Mails: {:.2f}\".format(likelihood_privat_mittagessen))\n",
    "print(\"Wahrscheinlichkeit 'Meeting' in Privat Mails: {:.2f}\".format(likelihood_privat_meeting))\n",
    "print(\"Wahrscheinlichkeit 'Präsentation' in Privat Mails: {:.2f}\".format(likelihood_privat_praesentation))\n",
    "print(\"Wahrscheinlichkeit 'Sonntag' in Privat Mails: {:.2f}\".format(likelihood_privat_sonntag))"
   ]
  },
  {
   "cell_type": "markdown",
   "id": "97e03384-89fb-4665-bc2f-e7f459a41887",
   "metadata": {},
   "source": [
    "## Neue Instanz"
   ]
  },
  {
   "cell_type": "code",
   "execution_count": 177,
   "id": "42e0913e-dbaf-4648-94e4-8310b2db6a01",
   "metadata": {},
   "outputs": [
    {
     "data": {
      "text/html": [
       "<div>\n",
       "<style scoped>\n",
       "    .dataframe tbody tr th:only-of-type {\n",
       "        vertical-align: middle;\n",
       "    }\n",
       "\n",
       "    .dataframe tbody tr th {\n",
       "        vertical-align: top;\n",
       "    }\n",
       "\n",
       "    .dataframe thead tr th {\n",
       "        text-align: left;\n",
       "    }\n",
       "</style>\n",
       "<table border=\"1\" class=\"dataframe\">\n",
       "  <thead>\n",
       "    <tr>\n",
       "      <th></th>\n",
       "      <th>mittagessen</th>\n",
       "      <th>meeting</th>\n",
       "      <th>präsentation</th>\n",
       "      <th>sonntag</th>\n",
       "    </tr>\n",
       "  </thead>\n",
       "  <tbody>\n",
       "    <tr>\n",
       "      <th>0</th>\n",
       "      <td>0</td>\n",
       "      <td>1</td>\n",
       "      <td>0</td>\n",
       "      <td>1</td>\n",
       "    </tr>\n",
       "  </tbody>\n",
       "</table>\n",
       "</div>"
      ],
      "text/plain": [
       "  mittagessen meeting präsentation sonntag\n",
       "0           0       1            0       1"
      ]
     },
     "execution_count": 177,
     "metadata": {},
     "output_type": "execute_result"
    }
   ],
   "source": [
    "neue_mail = pd.DataFrame([[0,1,0,1]],columns=[[\"mittagessen\",\"meeting\",\"präsentation\", \"sonntag\"]])\n",
    "neue_mail"
   ]
  },
  {
   "cell_type": "markdown",
   "id": "fc4b618f-61ea-4c2b-a1da-3a338ebd706c",
   "metadata": {},
   "source": [
    "## Wahrscheinlichkeit für Business und Privat errechnen"
   ]
  },
  {
   "cell_type": "code",
   "execution_count": 178,
   "id": "5b64f0cc-9808-4d20-9167-4c7c5d1a342e",
   "metadata": {},
   "outputs": [
    {
     "name": "stdout",
     "output_type": "stream",
     "text": [
      "Wahrscheinlichkeit einer Business Mail: 0.020\n",
      "Wahrscheinlichkeit privaten Mail: 0.0\n"
     ]
    }
   ],
   "source": [
    "business_prediction = likelihood_business*likelihood_business_meeting*likelihood_business_sonntag\n",
    "privat_prediction = likelihood_privat*likelihood_privat_meeting*likelihood_privat_sonntag\n",
    "\n",
    "print(\"Wahrscheinlichkeit einer Business Mail: {:.3f}\".format(business_prediction))\n",
    "print(\"Wahrscheinlichkeit privaten Mail: {:.23}\".format(privat_prediction))"
   ]
  },
  {
   "cell_type": "markdown",
   "id": "85e723b7-e642-4e37-8e7e-807449a98d01",
   "metadata": {},
   "source": [
    "## Additiver Smoothing Parmaeter"
   ]
  },
  {
   "cell_type": "code",
   "execution_count": 179,
   "id": "9b0d44ca-e818-4c0d-80ce-74c141aa6ef1",
   "metadata": {},
   "outputs": [],
   "source": [
    "business_mails_additive = data.loc[(data[\"business\"]==1)][[\"mittagessen\",\"meeting\",\"präsentation\",\"sonntag\"]]+1\n",
    "privat_mails_additive = data.loc[(data[\"business\"]==0)][[\"mittagessen\",\"meeting\",\"präsentation\",\"sonntag\"]]+1"
   ]
  },
  {
   "cell_type": "code",
   "execution_count": 180,
   "id": "e8f41733-d199-47bd-8e99-45fb37fc5336",
   "metadata": {},
   "outputs": [
    {
     "name": "stdout",
     "output_type": "stream",
     "text": [
      "Wahrscheinlichkeit 'Mittagessen' in Business Mails: 0.21\n",
      "Wahrscheinlichkeit 'Meeting' in Business Mails: 0.25\n",
      "Wahrscheinlichkeit 'Präsentation' in Business Mails: 0.32\n",
      "Wahrscheinlichkeit 'Sonntag' in Business Mails: 0.21\n"
     ]
    }
   ],
   "source": [
    "likelihood_business_mittagessen_additive = business_mails_additive[\"mittagessen\"].sum()/business_mails_additive.sum().sum()\n",
    "likelihood_business_meeting_additive = business_mails_additive[\"meeting\"].sum()/business_mails_additive.sum().sum()\n",
    "likelihood_business_praesentation_additive = business_mails_additive[\"präsentation\"].sum()/business_mails_additive.sum().sum()\n",
    "likelihood_business_sonntag_additive = business_mails_additive[\"sonntag\"].sum()/business_mails_additive.sum().sum()\n",
    "\n",
    "print(\"Wahrscheinlichkeit 'Mittagessen' in Business Mails: {:.2f}\".format(likelihood_business_mittagessen_additive))\n",
    "print(\"Wahrscheinlichkeit 'Meeting' in Business Mails: {:.2f}\".format(likelihood_business_meeting_additive))\n",
    "print(\"Wahrscheinlichkeit 'Präsentation' in Business Mails: {:.2f}\".format(likelihood_business_praesentation_additive))\n",
    "print(\"Wahrscheinlichkeit 'Sonntag' in Business Mails: {:.2f}\".format(likelihood_business_sonntag_additive))"
   ]
  },
  {
   "cell_type": "code",
   "execution_count": 181,
   "id": "d96fe9c1-ea7e-47da-bc48-dbc961ad4d89",
   "metadata": {},
   "outputs": [
    {
     "name": "stdout",
     "output_type": "stream",
     "text": [
      "Wahrscheinlichkeit 'Mittagessen' in Privat Mails: 0.24\n",
      "Wahrscheinlichkeit 'Meeting' in Privat Mails: 0.18\n",
      "Wahrscheinlichkeit 'Präsentation' in Privat Mails: 0.24\n",
      "Wahrscheinlichkeit 'Sonntag' in Privat Mails: 0.35\n"
     ]
    }
   ],
   "source": [
    "likelihood_privat_mittagessen_additive = privat_mails_additive[\"mittagessen\"].sum()/privat_mails_additive.sum().sum()\n",
    "likelihood_privat_meeting_additive = privat_mails_additive[\"meeting\"].sum()/privat_mails_additive.sum().sum()\n",
    "likelihood_privat_praesentation_additive = privat_mails_additive[\"präsentation\"].sum()/privat_mails_additive.sum().sum()\n",
    "likelihood_privat_sonntag_additive = privat_mails_additive[\"sonntag\"].sum()/privat_mails_additive.sum().sum()\n",
    "\n",
    "print(\"Wahrscheinlichkeit 'Mittagessen' in Privat Mails: {:.2f}\".format(likelihood_privat_mittagessen_additive))\n",
    "print(\"Wahrscheinlichkeit 'Meeting' in Privat Mails: {:.2f}\".format(likelihood_privat_meeting_additive))\n",
    "print(\"Wahrscheinlichkeit 'Präsentation' in Privat Mails: {:.2f}\".format(likelihood_privat_praesentation_additive))\n",
    "print(\"Wahrscheinlichkeit 'Sonntag' in Privat Mails: {:.2f}\".format(likelihood_privat_sonntag_additive))"
   ]
  },
  {
   "cell_type": "code",
   "execution_count": 190,
   "id": "500bc8a8-95d8-4954-a598-7507902f75d7",
   "metadata": {},
   "outputs": [
    {
     "name": "stdout",
     "output_type": "stream",
     "text": [
      "Wahrscheinlichkeit einer Business Mail: 0.033482142857142856\n",
      "Wahrscheinlichkeit privaten Mail: 0.023356401384083045\n"
     ]
    }
   ],
   "source": [
    "business_prediction_additive = likelihood_business*likelihood_business_meeting_additive*likelihood_business_sonntag_additive\n",
    "privat_prediction_additive = likelihood_privat*likelihood_privat_meeting_additive*likelihood_privat_sonntag_additive\n",
    "\n",
    "print(\"Wahrscheinlichkeit einer Business Mail: {:}\".format(business_prediction_additive))\n",
    "print(\"Wahrscheinlichkeit privaten Mail: {}\".format(privat_prediction_additive))"
   ]
  },
  {
   "cell_type": "code",
   "execution_count": null,
   "id": "c213b98c-636d-40f7-a1da-25d4ec501587",
   "metadata": {},
   "outputs": [],
   "source": []
  }
 ],
 "metadata": {
  "kernelspec": {
   "display_name": "Python 3 (ipykernel)",
   "language": "python",
   "name": "python3"
  },
  "language_info": {
   "codemirror_mode": {
    "name": "ipython",
    "version": 3
   },
   "file_extension": ".py",
   "mimetype": "text/x-python",
   "name": "python",
   "nbconvert_exporter": "python",
   "pygments_lexer": "ipython3",
   "version": "3.8.12"
  }
 },
 "nbformat": 4,
 "nbformat_minor": 5
}
