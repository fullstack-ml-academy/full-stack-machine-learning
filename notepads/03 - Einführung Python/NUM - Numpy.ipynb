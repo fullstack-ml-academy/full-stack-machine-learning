{
 "cells": [
  {
   "cell_type": "markdown",
   "metadata": {
    "pycharm": {
     "name": "#%% md\n"
    }
   },
   "source": [
    "# Numpy Arrays"
   ]
  },
  {
   "cell_type": "markdown",
   "metadata": {
    "pycharm": {
     "name": "#%% md\n"
    }
   },
   "source": [
    "### ndarray Attribute"
   ]
  },
  {
   "cell_type": "code",
   "execution_count": 3,
   "metadata": {
    "pycharm": {
     "name": "#%%\n"
    }
   },
   "outputs": [
    {
     "name": "stdout",
     "output_type": "stream",
     "text": [
      "Dimensionalität: 2\n",
      "Form (rows,columns): (2, 3)\n",
      "Total number of elements: 6\n",
      "Arrays Data Type: float64\n",
      "Byte Size of each element: 8\n"
     ]
    }
   ],
   "source": [
    "import numpy as np\n",
    "\n",
    "matrix = np.array([[ 1., 0., 0.],[ 0., 1., 2.]])\n",
    "print(\"Dimensionalität:\",matrix.ndim)\n",
    "print(\"Form (rows,columns):\",matrix.shape)\n",
    "print(\"Total number of elements:\",matrix.size)\n",
    "print(\"Arrays Data Type:\",matrix.dtype)\n",
    "print(\"Byte Size of each element:\",matrix.itemsize)"
   ]
  },
  {
   "cell_type": "markdown",
   "metadata": {
    "pycharm": {
     "name": "#%% md\n"
    }
   },
   "source": [
    "### Matrizen mit Inhalt initialisieren"
   ]
  },
  {
   "cell_type": "code",
   "execution_count": 73,
   "metadata": {
    "pycharm": {
     "name": "#%%\n"
    }
   },
   "outputs": [],
   "source": [
    "zeros = np.zeros(shape=(3,2)) #3x2 Matrix komplett gefüllt mit 0\n",
    "ones = np.ones(shape=(3,2)) #3x2 Matrix komplett gefüllt mit 1\n",
    "random = np.random.rand(3,2) #3x2 Matrix komplett zufällig in [0,1] gefüllt "
   ]
  },
  {
   "cell_type": "markdown",
   "metadata": {
    "pycharm": {
     "name": "#%% md\n"
    }
   },
   "source": [
    "### Array Form verändern"
   ]
  },
  {
   "cell_type": "code",
   "execution_count": 13,
   "metadata": {
    "pycharm": {
     "name": "#%%\n"
    }
   },
   "outputs": [
    {
     "name": "stdout",
     "output_type": "stream",
     "text": [
      "(3, 4)\n",
      "[[ 0  1  2  3  4  5  6  7  8  9 10 11]]\n",
      "[[ 0  1  2  3  4  5]\n",
      " [ 6  7  8  9 10 11]]\n"
     ]
    },
    {
     "ename": "ValueError",
     "evalue": "cannot reshape array of size 12 into shape (7,3)",
     "output_type": "error",
     "traceback": [
      "\u001B[0;31m---------------------------------------------------------------------------\u001B[0m",
      "\u001B[0;31mValueError\u001B[0m                                Traceback (most recent call last)",
      "\u001B[0;32m<ipython-input-13-1c74ca1468b3>\u001B[0m in \u001B[0;36m<module>\u001B[0;34m\u001B[0m\n\u001B[1;32m      3\u001B[0m \u001B[0mprint\u001B[0m\u001B[0;34m(\u001B[0m\u001B[0mmatrix\u001B[0m\u001B[0;34m.\u001B[0m\u001B[0mreshape\u001B[0m\u001B[0;34m(\u001B[0m\u001B[0;36m1\u001B[0m\u001B[0;34m,\u001B[0m\u001B[0;36m12\u001B[0m\u001B[0;34m)\u001B[0m\u001B[0;34m)\u001B[0m \u001B[0;31m#2 Dimensionen festegelegt\u001B[0m\u001B[0;34m\u001B[0m\u001B[0;34m\u001B[0m\u001B[0m\n\u001B[1;32m      4\u001B[0m \u001B[0mprint\u001B[0m\u001B[0;34m(\u001B[0m\u001B[0mmatrix\u001B[0m\u001B[0;34m.\u001B[0m\u001B[0mreshape\u001B[0m\u001B[0;34m(\u001B[0m\u001B[0;34m-\u001B[0m\u001B[0;36m1\u001B[0m\u001B[0;34m,\u001B[0m\u001B[0;36m6\u001B[0m\u001B[0;34m)\u001B[0m\u001B[0;34m)\u001B[0m \u001B[0;31m#1 Dimension festgelegt, andere soll Numpy errechnen\u001B[0m\u001B[0;34m\u001B[0m\u001B[0;34m\u001B[0m\u001B[0m\n\u001B[0;32m----> 5\u001B[0;31m \u001B[0mprint\u001B[0m\u001B[0;34m(\u001B[0m\u001B[0mmatrix\u001B[0m\u001B[0;34m.\u001B[0m\u001B[0mreshape\u001B[0m\u001B[0;34m(\u001B[0m\u001B[0;36m7\u001B[0m\u001B[0;34m,\u001B[0m\u001B[0;36m3\u001B[0m\u001B[0;34m)\u001B[0m\u001B[0;34m)\u001B[0m \u001B[0;31m#Invalide Form - ValueError\u001B[0m\u001B[0;34m\u001B[0m\u001B[0;34m\u001B[0m\u001B[0m\n\u001B[0m",
      "\u001B[0;31mValueError\u001B[0m: cannot reshape array of size 12 into shape (7,3)"
     ]
    }
   ],
   "source": [
    "matrix = np.array([[ 0,  1,  2,  3],[ 4,  5,  6,  7],[8, 9, 10, 11]])\n",
    "print(matrix.shape) #(3,4)\n",
    "print(matrix.reshape(1,12)) #2 Dimensionen festegelegt\n",
    "print(matrix.reshape(-1,6)) #1 Dimension festgelegt, andere soll Numpy errechnen\n",
    "print(matrix.reshape(7,3)) #Invalide Form - ValueError"
   ]
  },
  {
   "cell_type": "markdown",
   "source": [
    "### 1-Dim Array Dimension hinzufügen"
   ],
   "metadata": {
    "collapsed": false,
    "pycharm": {
     "name": "#%% md\n"
    }
   }
  },
  {
   "cell_type": "code",
   "execution_count": 5,
   "outputs": [
    {
     "name": "stdout",
     "output_type": "stream",
     "text": [
      "[[1]\n",
      " [2]\n",
      " [3]]\n"
     ]
    }
   ],
   "source": [
    "vector = np.array([1, 2, 3])\n",
    "print(vector.reshape(-1, 1))"
   ],
   "metadata": {
    "collapsed": false,
    "pycharm": {
     "name": "#%%\n"
    }
   }
  },
  {
   "cell_type": "markdown",
   "metadata": {
    "pycharm": {
     "name": "#%% md\n"
    }
   },
   "source": [
    "### Indexierung eindimensionaler Arrays"
   ]
  },
  {
   "cell_type": "code",
   "execution_count": 19,
   "metadata": {
    "pycharm": {
     "name": "#%%\n"
    }
   },
   "outputs": [
    {
     "data": {
      "text/plain": [
       "array([0, 3, 6, 9])"
      ]
     },
     "execution_count": 19,
     "metadata": {},
     "output_type": "execute_result"
    }
   ],
   "source": [
    "vector = np.array([ 0,  1,  2,  3, 4,  5,  6,  7, 8, 9, 10, 11])\n",
    "#Indexing: [von:bis:schrittgröße]\n",
    "vector[1:3:1] #array([1, 2])\n",
    "vector[2::2] #array([ 2,  4,  6,  8, 10])\n",
    "vector[::3] #array([0, 3, 6, 9])"
   ]
  },
  {
   "cell_type": "markdown",
   "metadata": {
    "pycharm": {
     "name": "#%% md\n"
    }
   },
   "source": [
    "### Indexierung mehrdimensionaler Arrays (1/2)"
   ]
  },
  {
   "cell_type": "code",
   "execution_count": 30,
   "metadata": {
    "pycharm": {
     "name": "#%%\n"
    }
   },
   "outputs": [
    {
     "data": {
      "text/plain": [
       "array([[11]])"
      ]
     },
     "execution_count": 30,
     "metadata": {},
     "output_type": "execute_result"
    }
   ],
   "source": [
    "matrix = np.array([[ 0,  1,  2],[10, 11, 12],[20, 21, 22]])\n",
    "#array([[ 0,  1,  2],\n",
    "#       [10, 11, 12],\n",
    "#       [20, 21, 22]])\n",
    "matrix[1:2,1:2] #array([[11]])"
   ]
  },
  {
   "cell_type": "markdown",
   "metadata": {
    "pycharm": {
     "name": "#%% md\n"
    }
   },
   "source": [
    "### Indexierung mehrdimensionaler Arrays (2/2)"
   ]
  },
  {
   "cell_type": "code",
   "execution_count": 39,
   "metadata": {
    "pycharm": {
     "name": "#%%\n"
    }
   },
   "outputs": [
    {
     "data": {
      "text/plain": [
       "array([[12, 13],\n",
       "       [22, 23]])"
      ]
     },
     "execution_count": 39,
     "metadata": {},
     "output_type": "execute_result"
    }
   ],
   "source": [
    "matrix = np.array([[ 0,  1,  2, 3],[10, 11, 12, 13],[20, 21, 22, 23],[30, 31, 32, 33]])\n",
    "#array([[ 0,  1,  2,  3],\n",
    "#       [10, 11, 12, 13],\n",
    "#       [20, 21, 22, 23],\n",
    "#       [30, 31, 32, 33]])\n",
    "matrix[1:3,2:]"
   ]
  },
  {
   "cell_type": "markdown",
   "metadata": {
    "pycharm": {
     "name": "#%% md\n"
    }
   },
   "source": [
    "### Arrays flatten"
   ]
  },
  {
   "cell_type": "code",
   "execution_count": 50,
   "metadata": {
    "pycharm": {
     "name": "#%%\n"
    }
   },
   "outputs": [
    {
     "name": "stdout",
     "output_type": "stream",
     "text": [
      "(3, 2)\n",
      "(6,)\n"
     ]
    }
   ],
   "source": [
    "matrix = np.array([[ 0,  1],[10, 11],[20, 21]])\n",
    "print(matrix.shape) #(3, 2)\n",
    "matrix = matrix.ravel() #array([ 0,  1, 10, 11, 20, 21])\n",
    "print(matrix.shape) #(6,)"
   ]
  },
  {
   "cell_type": "markdown",
   "metadata": {
    "pycharm": {
     "name": "#%% md\n"
    }
   },
   "source": [
    "### Flache Arrays als iterator"
   ]
  },
  {
   "cell_type": "code",
   "execution_count": 53,
   "metadata": {
    "pycharm": {
     "name": "#%%\n"
    }
   },
   "outputs": [
    {
     "name": "stdout",
     "output_type": "stream",
     "text": [
      "0\n",
      "1\n",
      "10\n",
      "11\n",
      "20\n",
      "21\n"
     ]
    }
   ],
   "source": [
    "matrix = np.array([[0,  1],[10, 11],[20, 21]])\n",
    "for element in matrix.flat:\n",
    "    print(element)"
   ]
  },
  {
   "cell_type": "markdown",
   "metadata": {
    "pycharm": {
     "name": "#%% md\n"
    }
   },
   "source": [
    "### Arrays squeezen"
   ]
  },
  {
   "cell_type": "code",
   "execution_count": 61,
   "metadata": {
    "pycharm": {
     "name": "#%%\n"
    }
   },
   "outputs": [
    {
     "name": "stdout",
     "output_type": "stream",
     "text": [
      "[[[[0]]]\n",
      "\n",
      "\n",
      " [[[1]]]\n",
      "\n",
      "\n",
      " [[[2]]]\n",
      "\n",
      "\n",
      " [[[3]]]]\n",
      "[0 1 2 3]\n"
     ]
    }
   ],
   "source": [
    "vector = np.array([0,1,2,3])\n",
    "vector.resize(4,1,1,1)\n",
    "print(vector) #[[[[0]]] [[[1]]] [[[2]]] [[[3]]]]\n",
    "print(vector.squeeze()) #[0 1 2 3]"
   ]
  },
  {
   "cell_type": "markdown",
   "metadata": {
    "pycharm": {
     "name": "#%% md\n"
    }
   },
   "source": [
    "### Mit Arrays rechnen"
   ]
  },
  {
   "cell_type": "code",
   "execution_count": 68,
   "metadata": {
    "pycharm": {
     "name": "#%%\n"
    }
   },
   "outputs": [
    {
     "name": "stdout",
     "output_type": "stream",
     "text": [
      "[ 4  6  8 10]\n",
      "[-4 -4 -4 -4]\n",
      "[ 0  5 12 21]\n",
      "[0.         0.2        0.33333333 0.42857143]\n",
      "38\n"
     ]
    }
   ],
   "source": [
    "v1 = np.array([0,1,2,3])\n",
    "v2 = np.array([4,5,6,7])\n",
    "\n",
    "print(v1+v2) #[ 4  6  8 10]\n",
    "print(v1-v2) #[-4 -4 -4 -4]\n",
    "print(v1*v2) #[ 0  5 12 21]\n",
    "print(v1/v2) #[0. 0.2 0.33 0.428]\n",
    "print(np.dot(v1,v2)) #38"
   ]
  }
 ],
 "metadata": {
  "kernelspec": {
   "display_name": "Python 3 (ipykernel)",
   "language": "python",
   "name": "python3"
  },
  "language_info": {
   "codemirror_mode": {
    "name": "ipython",
    "version": 3
   },
   "file_extension": ".py",
   "mimetype": "text/x-python",
   "name": "python",
   "nbconvert_exporter": "python",
   "pygments_lexer": "ipython3",
   "version": "3.8.12"
  }
 },
 "nbformat": 4,
 "nbformat_minor": 4
}