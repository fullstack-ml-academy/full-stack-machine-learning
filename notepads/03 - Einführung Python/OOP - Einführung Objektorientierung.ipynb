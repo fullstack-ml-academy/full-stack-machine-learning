{
 "cells": [
  {
   "cell_type": "markdown",
   "metadata": {},
   "source": [
    "# Einführung Objektorientierung"
   ]
  },
  {
   "cell_type": "markdown",
   "metadata": {},
   "source": [
    "### Einfache Klasse und Klassenobjekte"
   ]
  },
  {
   "cell_type": "code",
   "execution_count": 2,
   "metadata": {},
   "outputs": [
    {
     "name": "stdout",
     "output_type": "stream",
     "text": [
      "<__main__.Human object at 0x1088cc160>\n"
     ]
    }
   ],
   "source": [
    "class Human:\n",
    "    pass\n",
    "        \n",
    "marie = Human()\n",
    "print(marie)"
   ]
  },
  {
   "cell_type": "markdown",
   "metadata": {},
   "source": [
    "### Spezielle Methoden: Konstruktor"
   ]
  },
  {
   "cell_type": "code",
   "execution_count": 3,
   "metadata": {},
   "outputs": [
    {
     "name": "stdout",
     "output_type": "stream",
     "text": [
      "171\n"
     ]
    }
   ],
   "source": [
    "class Human:\n",
    "    def __init__(self,size): #Constructor\n",
    "        self.size = size\n",
    "        \n",
    "marie = Human(171)\n",
    "print(marie.size) #171"
   ]
  },
  {
   "cell_type": "markdown",
   "metadata": {},
   "source": [
    "### Spezielle Methoden: Representation "
   ]
  },
  {
   "cell_type": "code",
   "execution_count": 1,
   "metadata": {},
   "outputs": [
    {
     "name": "stdout",
     "output_type": "stream",
     "text": [
      "Car (VW Polo)\n"
     ]
    }
   ],
   "source": [
    "class Car:\n",
    "    def __init__(self,name):\n",
    "        self.name = name\n",
    "        \n",
    "    def __repr__(self):\n",
    "        return 'Car ({})'.format(self.name)\n",
    "    \n",
    "vehicle = Car('VW Polo')\n",
    "print(vehicle) #Car (VW Polo)"
   ]
  },
  {
   "cell_type": "markdown",
   "metadata": {},
   "source": [
    "### Spezielle Methoden: Bool"
   ]
  },
  {
   "cell_type": "code",
   "execution_count": 5,
   "metadata": {},
   "outputs": [
    {
     "name": "stdout",
     "output_type": "stream",
     "text": [
      "Anna is enrolled\n"
     ]
    }
   ],
   "source": [
    "class Participant:\n",
    "    def __init__(self,name):\n",
    "        self.name = name\n",
    "        self.enrolled = True\n",
    "        \n",
    "    def __bool__(self):\n",
    "        return self.enrolled\n",
    "\n",
    "user = Participant('Anna')\n",
    "if user:\n",
    "    print(\"{} is enrolled\".format(user.name)) #Anna is enrolled"
   ]
  },
  {
   "cell_type": "markdown",
   "metadata": {},
   "source": [
    "### Spezielle Methoden: Mathematische Operationen mit Klassenobjekten"
   ]
  },
  {
   "cell_type": "code",
   "execution_count": 6,
   "metadata": {},
   "outputs": [
    {
     "name": "stdout",
     "output_type": "stream",
     "text": [
      "Vector (20, 12)\n"
     ]
    }
   ],
   "source": [
    "class Vector:\n",
    "    def __init__(self,x,y):\n",
    "        self.x = x\n",
    "        self.y = y\n",
    "        \n",
    "    def __mul__(self,scalar):\n",
    "        return Vector(self.x*scalar, self.y*scalar)\n",
    "    \n",
    "    def __repr__(self):\n",
    "        return 'Vector ({}, {})'.format(self.x,self.y)\n",
    "            \n",
    "a = Vector(5,3)\n",
    "print(a*4) #Vector (20, 12)"
   ]
  },
  {
   "cell_type": "markdown",
   "metadata": {},
   "source": [
    "### Spezielle Methoden: Operatoren mit Klassenobjekten"
   ]
  },
  {
   "cell_type": "code",
   "execution_count": 98,
   "metadata": {},
   "outputs": [
    {
     "name": "stdout",
     "output_type": "stream",
     "text": [
      "27\n",
      "B2\n"
     ]
    }
   ],
   "source": [
    "class CardDeck:\n",
    "    def __init__(self):\n",
    "        self.cards = [c+v for c in 'R G B'.split() for v in [str(n) for n in range(2,11)]]\n",
    "\n",
    "    def __len__(self):\n",
    "        return len(self.cards)\n",
    "    \n",
    "    def __getitem__(self,pos):\n",
    "        return self.cards[pos]\n",
    "    \n",
    "deck = CardDeck()\n",
    "print(len(deck))\n",
    "print(deck[18])"
   ]
  },
  {
   "cell_type": "markdown",
   "metadata": {},
   "source": [
    "### Vererbung"
   ]
  },
  {
   "cell_type": "code",
   "execution_count": 7,
   "metadata": {},
   "outputs": [
    {
     "name": "stdout",
     "output_type": "stream",
     "text": [
      "I am Alex Müller. Good to meet you!\n"
     ]
    }
   ],
   "source": [
    "class Human:\n",
    "    def __init__(self,fname,lname):\n",
    "        self.fname = fname\n",
    "        self.lname = lname\n",
    "        \n",
    "    def identify(self):\n",
    "        print('I am {} {}. Good to meet you!'.format(self.fname,self.lname))\n",
    "        \n",
    "class Student(Human):\n",
    "    pass\n",
    "\n",
    "x = Student('Alex','Müller')\n",
    "x.identify() #I am Alex Müller. Good to meet you!"
   ]
  }
 ],
 "metadata": {
  "kernelspec": {
   "display_name": "Python 3 (ipykernel)",
   "language": "python",
   "name": "python3"
  },
  "language_info": {
   "codemirror_mode": {
    "name": "ipython",
    "version": 3
   },
   "file_extension": ".py",
   "mimetype": "text/x-python",
   "name": "python",
   "nbconvert_exporter": "python",
   "pygments_lexer": "ipython3",
   "version": "3.8.12"
  }
 },
 "nbformat": 4,
 "nbformat_minor": 4
}
