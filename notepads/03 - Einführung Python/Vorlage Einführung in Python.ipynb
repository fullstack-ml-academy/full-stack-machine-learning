{
 "cells": [
  {
   "cell_type": "markdown",
   "id": "ce459c5e",
   "metadata": {
    "pycharm": {
     "name": "#%% md\n"
    }
   },
   "source": [
    "# Aufgabe: Einführung in Python"
   ]
  },
  {
   "cell_type": "markdown",
   "id": "c41ab1e2",
   "metadata": {
    "pycharm": {
     "name": "#%% md\n"
    }
   },
   "source": [
    "1. Lesen Sie den Datensatz mit Pandas ein. "
   ]
  },
  {
   "cell_type": "code",
   "execution_count": 1,
   "id": "220b168a",
   "metadata": {
    "pycharm": {
     "name": "#%%\n"
    }
   },
   "outputs": [],
   "source": [
    "import pandas as pd\n",
    "\n",
    "# census = ...\n",
    "\n",
    "# Denken Sie daran, dass nicht alle Spalten für diese Aufgabe benötigt werden:\n",
    "# census.pop()\n",
    "\n",
    "# Außerdem kann man keinen Durchschnittswert von kategorischen Features ermitteln. Einer der Wege, mit Categorischen Werten umzugehen:\n",
    "\n",
    "# SEX: Male: 1, Female: 0\n",
    "census[\"sex\"] = census[\"sex\"].replace({' Male': 1, ' Female': 0})"
   ]
  },
  {
   "cell_type": "markdown",
   "id": "4135cb88",
   "metadata": {
    "pycharm": {
     "name": "#%% md\n"
    }
   },
   "source": [
    "2. Geben Sie eine Statistische Zusammenfassung der Daten aus:"
   ]
  },
  {
   "cell_type": "code",
   "execution_count": null,
   "id": "95ad7720",
   "metadata": {
    "pycharm": {
     "name": "#%%\n"
    }
   },
   "outputs": [],
   "source": []
  },
  {
   "cell_type": "markdown",
   "id": "28a647bb",
   "metadata": {
    "pycharm": {
     "name": "#%% md\n"
    }
   },
   "source": [
    "3. Schreiben Sie eine Funktion train_test_mean(split_rate), die die Daten mittels Train-Test-Split von Sklearn in Trainings- und Testdaten trennt und analysiert, ob die Features in Test- und Trainingsdatensatz sich in den Mittelwerten unterscheiden:"
   ]
  },
  {
   "cell_type": "code",
   "execution_count": 2,
   "id": "89eadce6",
   "metadata": {
    "pycharm": {
     "name": "#%%\n"
    }
   },
   "outputs": [],
   "source": [
    "from sklearn.model_selection import train_test_split\n",
    "\n",
    "def train_test_mean(split_rate):\n",
    "\n",
    "    # Hier soll ich programmieren: train/test split machen und mean Werte anzeigen lassen..\n",
    "    print(\"Hier lasse ich meine Ergebnisse zeigen :)\")\n"
   ]
  },
  {
   "cell_type": "markdown",
   "id": "175aacd6",
   "metadata": {
    "pycharm": {
     "name": "#%% md\n"
    }
   },
   "source": [
    "4. Rufen Sie die Funktion für unterschiedliche Werte von split_rate auf und vergleichen Sie die Ergebnisse:"
   ]
  },
  {
   "cell_type": "code",
   "execution_count": null,
   "id": "36b4137d",
   "metadata": {
    "pycharm": {
     "name": "#%%\n"
    }
   },
   "outputs": [],
   "source": [
    "train_test_mean(0.2)\n",
    "train_test_mean(0.3)\n",
    "train_test_mean(0.5)"
   ]
  }
 ],
 "metadata": {
  "kernelspec": {
   "display_name": "Python 3 (ipykernel)",
   "language": "python",
   "name": "python3"
  },
  "language_info": {
   "codemirror_mode": {
    "name": "ipython",
    "version": 3
   },
   "file_extension": ".py",
   "mimetype": "text/x-python",
   "name": "python",
   "nbconvert_exporter": "python",
   "pygments_lexer": "ipython3",
   "version": "3.8.12"
  }
 },
 "nbformat": 4,
 "nbformat_minor": 5
}