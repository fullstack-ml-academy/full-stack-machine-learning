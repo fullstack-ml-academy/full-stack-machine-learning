{
 "cells": [
  {
   "cell_type": "markdown",
   "id": "806111bc",
   "metadata": {
    "pycharm": {
     "name": "#%% md\n"
    }
   },
   "source": [
    "### Datentypen und Strukturen"
   ]
  },
  {
   "cell_type": "code",
   "execution_count": 1,
   "id": "1cabb95a",
   "metadata": {
    "pycharm": {
     "name": "#%%\n"
    }
   },
   "outputs": [
    {
     "data": {
      "text/plain": "('a', 15)"
     },
     "execution_count": 1,
     "metadata": {},
     "output_type": "execute_result"
    }
   ],
   "source": [
    "# Dictionary of dictionaries\n",
    "\n",
    "a = [1, 2, 3]\n",
    "b = (\"a\", 15)\n",
    "c = {\"yes\": 1, \"no\": 0}\n",
    "\n",
    "k = {'Bestanden': a, 'Durchgefallen': b, 'Nicht angetreten': c}\n",
    "#print(type(k))\n",
    "#print(k[\"Nicht angetreten\"][\"yes\"])\n",
    "\n",
    "k = {'Bestanden': a, 1: b, 'Nicht angetreten': c}\n",
    "\n",
    "# int type can also be a key\n",
    "k[1]"
   ]
  },
  {
   "cell_type": "markdown",
   "id": "7ce44c7b",
   "metadata": {
    "pycharm": {
     "name": "#%% md\n"
    }
   },
   "source": [
    "### Sklearn"
   ]
  },
  {
   "cell_type": "code",
   "execution_count": 2,
   "id": "7ce96835",
   "metadata": {
    "pycharm": {
     "name": "#%%\n"
    }
   },
   "outputs": [
    {
     "name": "stdout",
     "output_type": "stream",
     "text": [
      "Decision Tree scores with 97.77777777777777% accuracy\n",
      "Predicted: Iris-setosa, reality: Iris-setosa\n",
      "Predicted: Iris-virginica, reality: Iris-virginica\n",
      "Predicted: Iris-versicolor, reality: Iris-versicolor\n",
      "Predicted: Iris-versicolor, reality: Iris-versicolor\n",
      "Predicted: Iris-versicolor, reality: Iris-versicolor\n",
      "Predicted: Iris-virginica, reality: Iris-virginica\n",
      "Predicted: Iris-virginica, reality: Iris-virginica\n",
      "Predicted: Iris-versicolor, reality: Iris-versicolor\n",
      "Predicted: Iris-setosa, reality: Iris-setosa\n",
      "Predicted: Iris-virginica, reality: Iris-virginica\n",
      "Predicted: Iris-versicolor, reality: Iris-versicolor\n",
      "Predicted: Iris-versicolor, reality: Iris-versicolor\n",
      "Predicted: Iris-virginica, reality: Iris-virginica\n",
      "Predicted: Iris-versicolor, reality: Iris-versicolor\n",
      "Predicted: Iris-setosa, reality: Iris-setosa\n",
      "Predicted: Iris-virginica, reality: Iris-virginica\n",
      "Predicted: Iris-versicolor, reality: Iris-versicolor\n",
      "Predicted: Iris-versicolor, reality: Iris-versicolor\n",
      "Predicted: Iris-virginica, reality: Iris-virginica\n",
      "Predicted: Iris-versicolor, reality: Iris-versicolor\n",
      "Predicted: Iris-virginica, reality: Iris-virginica\n",
      "Predicted: Iris-virginica, reality: Iris-virginica\n",
      "Predicted: Iris-setosa, reality: Iris-setosa\n",
      "Predicted: Iris-setosa, reality: Iris-setosa\n",
      "Predicted: Iris-versicolor, reality: Iris-versicolor\n",
      "Predicted: Iris-setosa, reality: Iris-setosa\n",
      "Predicted: Iris-versicolor, reality: Iris-versicolor\n",
      "Predicted: Iris-virginica, reality: Iris-virginica\n",
      "Predicted: Iris-virginica, reality: Iris-virginica\n",
      "Predicted: Iris-setosa, reality: Iris-setosa\n",
      "Predicted: Iris-versicolor, reality: Iris-versicolor\n",
      "Predicted: Iris-versicolor, reality: Iris-versicolor\n",
      "Predicted: Iris-setosa, reality: Iris-setosa\n",
      "Predicted: Iris-virginica, reality: Iris-virginica\n",
      "Predicted: Iris-virginica, reality: Iris-virginica\n",
      "Predicted: Iris-virginica, reality: Iris-virginica\n",
      "Predicted: Iris-setosa, reality: Iris-setosa\n",
      "Predicted: Iris-setosa, reality: Iris-setosa\n",
      "Predicted: Iris-setosa, reality: Iris-setosa\n",
      "Predicted: Iris-virginica, reality: Iris-versicolor\n",
      "Predicted: Iris-setosa, reality: Iris-setosa\n",
      "Predicted: Iris-setosa, reality: Iris-setosa\n",
      "Predicted: Iris-setosa, reality: Iris-setosa\n",
      "Predicted: Iris-versicolor, reality: Iris-versicolor\n",
      "Predicted: Iris-setosa, reality: Iris-setosa\n"
     ]
    }
   ],
   "source": [
    "# DecisionTree: predictions\n",
    "\n",
    "import pandas as pd\n",
    "from sklearn.tree import DecisionTreeClassifier\n",
    "from sklearn.model_selection import train_test_split\n",
    "\n",
    "data = pd.read_csv('../../data/iris.csv')\n",
    "X = data.drop(['class'],axis=1)\n",
    "y = data['class']\n",
    "\n",
    "X_train, X_test, y_train, y_test = train_test_split(X, y, test_size=0.3)\n",
    "\n",
    "dt = DecisionTreeClassifier()\n",
    "dt.fit(X_train, y_train)\n",
    "score = dt.score(X_test, y_test)\n",
    "print('Decision Tree scores with {}% accuracy'.format(score*100))\n",
    "\n",
    "for i in range(len(X_test)):\n",
    "    print(\"Predicted: {}, reality: {}\".format(dt.predict(X_test)[i], y_test.to_numpy()[i]))"
   ]
  },
  {
   "cell_type": "code",
   "execution_count": null,
   "id": "def7ef0d",
   "metadata": {
    "pycharm": {
     "name": "#%%\n"
    }
   },
   "outputs": [],
   "source": []
  }
 ],
 "metadata": {
  "kernelspec": {
   "display_name": "Python 3 (ipykernel)",
   "language": "python",
   "name": "python3"
  },
  "language_info": {
   "codemirror_mode": {
    "name": "ipython",
    "version": 3
   },
   "file_extension": ".py",
   "mimetype": "text/x-python",
   "name": "python",
   "nbconvert_exporter": "python",
   "pygments_lexer": "ipython3",
   "version": "3.8.12"
  }
 },
 "nbformat": 4,
 "nbformat_minor": 5
}