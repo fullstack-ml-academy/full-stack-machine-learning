{
 "cells": [
  {
   "cell_type": "markdown",
   "metadata": {},
   "source": [
    "# Datentypen und Strukturen"
   ]
  },
  {
   "cell_type": "markdown",
   "metadata": {},
   "source": [
    "### Dynamische Verwaltung der Datentypen, keine statische Typprüfung"
   ]
  },
  {
   "cell_type": "code",
   "execution_count": 1,
   "metadata": {},
   "outputs": [],
   "source": [
    "var = 12 #int\n",
    "var = \"String\" #string\n",
    "var = 12.1 #float\n",
    " \n",
    "#keine Fehlermeldung, Variablen können Typen jederzeit wechseln"
   ]
  },
  {
   "cell_type": "markdown",
   "metadata": {},
   "source": [
    "### Casting von Datentypen"
   ]
  },
  {
   "cell_type": "code",
   "execution_count": 2,
   "metadata": {},
   "outputs": [
    {
     "name": "stdout",
     "output_type": "stream",
     "text": [
      "12.0\n"
     ]
    }
   ],
   "source": [
    "var = 12 #int\n",
    "var = float(var)\n",
    "print(var) #12.0"
   ]
  },
  {
   "cell_type": "markdown",
   "metadata": {},
   "source": [
    "### Python Datentypen - Numbers"
   ]
  },
  {
   "cell_type": "code",
   "execution_count": 13,
   "metadata": {},
   "outputs": [
    {
     "name": "stdout",
     "output_type": "stream",
     "text": [
      "<class 'int'>\n",
      "<class 'float'>\n",
      "<class 'bool'>\n"
     ]
    }
   ],
   "source": [
    "a = 10\n",
    "print(type(a)) #<class 'int'>\n",
    "\n",
    "b = 10.0\n",
    "print(type(b)) #<class 'float'>\n",
    "\n",
    "c = True\n",
    "print(type(c)) #<class 'bool'>"
   ]
  },
  {
   "cell_type": "markdown",
   "metadata": {},
   "source": [
    "### Python Datentypen - Immutable Sequences"
   ]
  },
  {
   "cell_type": "code",
   "execution_count": 12,
   "metadata": {},
   "outputs": [
    {
     "name": "stdout",
     "output_type": "stream",
     "text": [
      "<class 'str'>\n",
      "<class 'tuple'>\n",
      "<class 'bytes'>\n"
     ]
    }
   ],
   "source": [
    "d = \"string\"\n",
    "print(type(d)) #<class 'str'>\n",
    "\n",
    "e = (\"apple\", \"banana\", \"cherry\")\n",
    "print(type(e)) #<class 'tuple'>\n",
    "\n",
    "f = (1024).to_bytes(2, byteorder='big') #b'\\x04\\x00'\n",
    "print(type(f)) #<class 'bytes'>"
   ]
  },
  {
   "cell_type": "markdown",
   "metadata": {},
   "source": [
    "### Python Datentypen - Mutable Sequences"
   ]
  },
  {
   "cell_type": "code",
   "execution_count": 22,
   "metadata": {},
   "outputs": [
    {
     "name": "stdout",
     "output_type": "stream",
     "text": [
      "<class 'list'>\n",
      "<class 'bytearray'>\n"
     ]
    }
   ],
   "source": [
    "g = [1,2,3,4]\n",
    "print(type(g)) #<class 'list'>\n",
    "\n",
    "h = bytearray(\"apple\", 'utf-8') #bytearray(b'apple')\n",
    "print(type(h)) #<class 'bytearray'>"
   ]
  },
  {
   "cell_type": "markdown",
   "metadata": {},
   "source": [
    "### Python Datentypen - Set Types"
   ]
  },
  {
   "cell_type": "code",
   "execution_count": 38,
   "metadata": {},
   "outputs": [
    {
     "name": "stdout",
     "output_type": "stream",
     "text": [
      "<class 'set'>\n",
      "<class 'frozenset'>\n"
     ]
    },
    {
     "ename": "AttributeError",
     "evalue": "'frozenset' object has no attribute 'add'",
     "output_type": "error",
     "traceback": [
      "\u001b[0;31m---------------------------------------------------------------------------\u001b[0m",
      "\u001b[0;31mAttributeError\u001b[0m                            Traceback (most recent call last)",
      "\u001b[0;32m<ipython-input-38-527e0b8b152c>\u001b[0m in \u001b[0;36m<module>\u001b[0;34m\u001b[0m\n\u001b[1;32m      5\u001b[0m \u001b[0mj\u001b[0m \u001b[0;34m=\u001b[0m \u001b[0mfrozenset\u001b[0m\u001b[0;34m(\u001b[0m\u001b[0;34m[\u001b[0m\u001b[0;34m'Big'\u001b[0m\u001b[0;34m,\u001b[0m\u001b[0;34m'Data'\u001b[0m\u001b[0;34m,\u001b[0m\u001b[0;34m'and'\u001b[0m\u001b[0;34m,\u001b[0m\u001b[0;34m'Data'\u001b[0m\u001b[0;34m,\u001b[0m\u001b[0;34m'Science'\u001b[0m\u001b[0;34m]\u001b[0m\u001b[0;34m)\u001b[0m\u001b[0;34m\u001b[0m\u001b[0m\n\u001b[1;32m      6\u001b[0m \u001b[0mprint\u001b[0m\u001b[0;34m(\u001b[0m\u001b[0mtype\u001b[0m\u001b[0;34m(\u001b[0m\u001b[0mj\u001b[0m\u001b[0;34m)\u001b[0m\u001b[0;34m)\u001b[0m \u001b[0;31m#<class 'frozenset'>\u001b[0m\u001b[0;34m\u001b[0m\u001b[0m\n\u001b[0;32m----> 7\u001b[0;31m \u001b[0mj\u001b[0m\u001b[0;34m.\u001b[0m\u001b[0madd\u001b[0m\u001b[0;34m(\u001b[0m\u001b[0;34m'Machine'\u001b[0m\u001b[0;34m)\u001b[0m \u001b[0;31m#does not work\u001b[0m\u001b[0;34m\u001b[0m\u001b[0m\n\u001b[0m",
      "\u001b[0;31mAttributeError\u001b[0m: 'frozenset' object has no attribute 'add'"
     ]
    }
   ],
   "source": [
    "i = set(['Data','Science','Big','Data']) #{'Science', 'Big', 'Data'}\n",
    "print(type(i)) #<class 'set'>\n",
    "i.add('Machine') #funktioniert, weil mutalbe\n",
    "\n",
    "j = frozenset(['Data','Science','Big','Data'])\n",
    "print(type(j)) #<class 'frozenset'>\n",
    "j.add('Machine') #funktioniert nicht, da immutable"
   ]
  },
  {
   "cell_type": "markdown",
   "metadata": {},
   "source": [
    "### Python Datentypen - Mappings"
   ]
  },
  {
   "cell_type": "code",
   "execution_count": 47,
   "metadata": {},
   "outputs": [
    {
     "name": "stdout",
     "output_type": "stream",
     "text": [
      "<class 'dict'>\n",
      "14\n"
     ]
    }
   ],
   "source": [
    "k = {'Bestanden': 14, 'Durchgefallen': 3, 'Nicht angetreten': 5}\n",
    "print(type(k)) #<class 'dict'>\n",
    "print(k['Bestanden']) #14"
   ]
  },
  {
   "cell_type": "markdown",
   "metadata": {},
   "source": [
    "### Python Datentypen - Callables"
   ]
  },
  {
   "cell_type": "code",
   "execution_count": 73,
   "metadata": {},
   "outputs": [
    {
     "name": "stdout",
     "output_type": "stream",
     "text": [
      "<class 'function'>\n",
      "<class 'method'>\n"
     ]
    }
   ],
   "source": [
    "def function(): \n",
    "    print('This is a function')\n",
    "print(type(function)) #<class 'function'>\n",
    "\n",
    "class Class:\n",
    "    def method(self): \n",
    "        print('This is a method')\n",
    "        \n",
    "instance = Class()\n",
    "print(type(instance.method)) #<class 'method'>"
   ]
  }
 ],
 "metadata": {
  "kernelspec": {
   "display_name": "Python 3 (ipykernel)",
   "language": "python",
   "name": "python3"
  },
  "language_info": {
   "codemirror_mode": {
    "name": "ipython",
    "version": 3
   },
   "file_extension": ".py",
   "mimetype": "text/x-python",
   "name": "python",
   "nbconvert_exporter": "python",
   "pygments_lexer": "ipython3",
   "version": "3.8.12"
  }
 },
 "nbformat": 4,
 "nbformat_minor": 4
}
