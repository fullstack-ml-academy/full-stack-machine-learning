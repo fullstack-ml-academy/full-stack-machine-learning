{
 "cells": [
  {
   "cell_type": "markdown",
   "id": "ce459c5e",
   "metadata": {
    "pycharm": {
     "name": "#%% md\n"
    }
   },
   "source": [
    "# Aufgabe: Einführung in Python"
   ]
  },
  {
   "cell_type": "markdown",
   "id": "c41ab1e2",
   "metadata": {
    "pycharm": {
     "name": "#%% md\n"
    }
   },
   "source": [
    "## 1. Lesen Sie den Datensatz mit Pandas ein. "
   ]
  },
  {
   "cell_type": "code",
   "execution_count": null,
   "id": "220b168a",
   "metadata": {
    "pycharm": {
     "name": "#%%\n"
    }
   },
   "outputs": [],
   "source": [
    "# Importieren aller nötigen Pakete\n",
    "import pandas as pd\n",
    "import os\n"
   ]
  },
  {
   "cell_type": "code",
   "execution_count": null,
   "id": "9eccc57e",
   "metadata": {},
   "outputs": [],
   "source": [
    "path = os.path.join(\"..\", \"..\", \"..\", \"data\", \"census.csv\")\n",
    "# census = ...\n",
    "\n",
    "# Denken Sie daran, dass nicht alle Spalten für diese Aufgabe benötigt werden:\n",
    "# census.pop()\n",
    "\n",
    "# Außerdem kann man keinen Durchschnittswert von kategorischen Features ermitteln. Einer der Wege, mit kategorischen Werten umzugehen:\n",
    "\n",
    "# SEX: Male: 1, Female: 0\n",
    "# census[\"sex\"] = census[\"sex\"].replace({' Male': 1, ' Female': 0})\n"
   ]
  },
  {
   "cell_type": "markdown",
   "id": "4135cb88",
   "metadata": {
    "pycharm": {
     "name": "#%% md\n"
    }
   },
   "source": [
    "## 2. Geben Sie eine Statistische Zusammenfassung der Daten aus:"
   ]
  },
  {
   "cell_type": "markdown",
   "id": "a6e3661c",
   "metadata": {},
   "source": [
    "Tip: mit Pandas möglich - in der [Dokumentation](https://pandas.pydata.org/docs/user_guide) kann es nachgelesen werden "
   ]
  },
  {
   "cell_type": "code",
   "execution_count": null,
   "id": "95ad7720",
   "metadata": {
    "pycharm": {
     "name": "#%%\n"
    }
   },
   "outputs": [],
   "source": [
    "# Eine Übersicht über die verschiedenen Metriken wie Minimum, Maximum, Mittelwert\n"
   ]
  },
  {
   "cell_type": "markdown",
   "id": "28a647bb",
   "metadata": {
    "pycharm": {
     "name": "#%% md\n"
    }
   },
   "source": [
    "## 3. Teilen Sie die Daten mittels Train-Test-Split von Sklearn in Trainings- und Testdaten"
   ]
  },
  {
   "cell_type": "markdown",
   "id": "81c2f34a",
   "metadata": {},
   "source": [
    "Tip: Machen Sie sich mit der Funktion und ihren Parametern vertraut: [train_test_split](https://scikit-learn.org/stable/modules/generated/sklearn.model_selection.train_test_split.html)"
   ]
  },
  {
   "cell_type": "code",
   "execution_count": null,
   "id": "89eadce6",
   "metadata": {
    "pycharm": {
     "name": "#%%\n"
    }
   },
   "outputs": [],
   "source": [
    "from sklearn.model_selection import train_test_split\n",
    "\n",
    "# Verwenden der Funktion train_test_split\n"
   ]
  },
  {
   "cell_type": "markdown",
   "id": "175aacd6",
   "metadata": {
    "pycharm": {
     "name": "#%% md\n"
    }
   },
   "source": [
    "## 4. Analysieren Sie mit Numpy, ob die Features in Test- und Trainingsdatensatz sich in den Mittelwerten unterscheiden."
   ]
  },
  {
   "cell_type": "code",
   "execution_count": null,
   "metadata": {
    "collapsed": false,
    "pycharm": {
     "name": "#%%\n"
    }
   },
   "outputs": [],
   "source": [
    "# Transformieren der Pandas Series in ein Numpy array\n",
    "\n",
    "# Mittelwerte der verschiedenen Features in Train / Test Data Frames betrachten"
   ]
  }
 ],
 "metadata": {
  "kernelspec": {
   "display_name": ".venv",
   "language": "python",
   "name": "python3"
  },
  "language_info": {
   "codemirror_mode": {
    "name": "ipython",
    "version": 3
   },
   "file_extension": ".py",
   "mimetype": "text/x-python",
   "name": "python",
   "nbconvert_exporter": "python",
   "pygments_lexer": "ipython3",
   "version": "3.10.15"
  }
 },
 "nbformat": 4,
 "nbformat_minor": 5
}
