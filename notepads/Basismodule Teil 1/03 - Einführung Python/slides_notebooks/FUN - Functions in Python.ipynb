{
 "cells": [
  {
   "cell_type": "markdown",
   "metadata": {
    "pycharm": {
     "name": "#%% md\n"
    }
   },
   "source": [
    "# Functions in Python"
   ]
  },
  {
   "cell_type": "markdown",
   "metadata": {
    "pycharm": {
     "name": "#%% md\n"
    }
   },
   "source": [
    "### Funktionen in Python, Argumente und Standardwerte"
   ]
  },
  {
   "cell_type": "code",
   "execution_count": 1,
   "metadata": {
    "pycharm": {
     "name": "#%%\n"
    }
   },
   "outputs": [
    {
     "name": "stdout",
     "output_type": "stream",
     "text": [
      "Hello from me to Thomas, how are you?\n",
      "Hello from me to Everyone, how are you?\n"
     ]
    },
    {
     "ename": "TypeError",
     "evalue": "hello() missing 1 required positional argument: 'from_whom'",
     "output_type": "error",
     "traceback": [
      "\u001B[1;31m---------------------------------------------------------------------------\u001B[0m",
      "\u001B[1;31mTypeError\u001B[0m                                 Traceback (most recent call last)",
      "\u001B[1;32m~\\AppData\\Local\\Temp/ipykernel_4264/1080726949.py\u001B[0m in \u001B[0;36m<module>\u001B[1;34m\u001B[0m\n\u001B[0;32m      4\u001B[0m \u001B[0mprint\u001B[0m\u001B[1;33m(\u001B[0m\u001B[0mhello\u001B[0m\u001B[1;33m(\u001B[0m\u001B[1;34m'me'\u001B[0m\u001B[1;33m,\u001B[0m \u001B[1;34m'Thomas'\u001B[0m\u001B[1;33m)\u001B[0m\u001B[1;33m)\u001B[0m \u001B[1;31m#Hello from me to Thomas, how are you?\u001B[0m\u001B[1;33m\u001B[0m\u001B[1;33m\u001B[0m\u001B[0m\n\u001B[0;32m      5\u001B[0m \u001B[0mprint\u001B[0m\u001B[1;33m(\u001B[0m\u001B[0mhello\u001B[0m\u001B[1;33m(\u001B[0m\u001B[1;34m'me'\u001B[0m\u001B[1;33m)\u001B[0m\u001B[1;33m)\u001B[0m \u001B[1;31m#Hello from me to Everyone, how are you?\u001B[0m\u001B[1;33m\u001B[0m\u001B[1;33m\u001B[0m\u001B[0m\n\u001B[1;32m----> 6\u001B[1;33m \u001B[0mprint\u001B[0m\u001B[1;33m(\u001B[0m\u001B[0mhello\u001B[0m\u001B[1;33m(\u001B[0m\u001B[1;33m)\u001B[0m\u001B[1;33m)\u001B[0m \u001B[1;31m#Error, because from_whom is a required argument\u001B[0m\u001B[1;33m\u001B[0m\u001B[1;33m\u001B[0m\u001B[0m\n\u001B[0m",
      "\u001B[1;31mTypeError\u001B[0m: hello() missing 1 required positional argument: 'from_whom'"
     ]
    }
   ],
   "source": [
    "def hello(from_whom, to='Everyone'): #a required and an optional arguments\n",
    "    return 'Hello from {} to {}, how are you?'.format(from_whom, to)\n",
    "\n",
    "print(hello('me', 'Thomas')) #Hello from me to Thomas, how are you?\n",
    "print(hello('me')) #Hello from me to Everyone, how are you?\n",
    "print(hello()) #Error, because from_whom is a required argument"
   ]
  },
  {
   "cell_type": "markdown",
   "metadata": {
    "pycharm": {
     "name": "#%% md\n"
    }
   },
   "source": [
    "### Beliebige Menge von Übergabeargumenten"
   ]
  },
  {
   "cell_type": "code",
   "execution_count": 2,
   "metadata": {
    "pycharm": {
     "name": "#%%\n"
    }
   },
   "outputs": [
    {
     "name": "stdout",
     "output_type": "stream",
     "text": [
      "I make 32cm Pizza now\n",
      "And I add some Cheese\n",
      "And I add some Chilli\n",
      "And I add some Mushrooms\n"
     ]
    }
   ],
   "source": [
    "def make_pizza(size, *toppings):\n",
    "    print('I make {}cm Pizza now'.format(size))\n",
    "    for topping in toppings:\n",
    "        print('And I add some {}'.format(topping))\n",
    "        \n",
    "make_pizza(32, 'Cheese', 'Chilli', 'Mushrooms')"
   ]
  },
  {
   "cell_type": "markdown",
   "metadata": {
    "pycharm": {
     "name": "#%% md\n"
    }
   },
   "source": [
    "### Functions als First-Level Objects (Speichern von Functions in Datenstrukturen)"
   ]
  },
  {
   "cell_type": "code",
   "execution_count": 3,
   "metadata": {
    "pycharm": {
     "name": "#%%\n"
    }
   },
   "outputs": [
    {
     "name": "stdout",
     "output_type": "stream",
     "text": [
      "225\n",
      "152\n"
     ]
    }
   ],
   "source": [
    "def f1(x):\n",
    "    return x**2\n",
    "\n",
    "def f2(x):\n",
    "    return 10*x+2\n",
    "\n",
    "functions = [f1,f2]\n",
    "\n",
    "for function in functions:\n",
    "    print(function(15))"
   ]
  },
  {
   "cell_type": "markdown",
   "metadata": {
    "pycharm": {
     "name": "#%% md\n"
    }
   },
   "source": [
    "### Functions als First-Level Objects (Functions als Argumente)"
   ]
  },
  {
   "cell_type": "code",
   "execution_count": 4,
   "metadata": {
    "pycharm": {
     "name": "#%%\n"
    }
   },
   "outputs": [
    {
     "name": "stdout",
     "output_type": "stream",
     "text": [
      "10404\n"
     ]
    }
   ],
   "source": [
    "def f1(x):\n",
    "    return x**2\n",
    " \n",
    "def f2(x):\n",
    "    return 10*x+2\n",
    " \n",
    "print(f1(f2(10))) #10404"
   ]
  },
  {
   "cell_type": "markdown",
   "metadata": {
    "pycharm": {
     "name": "#%% md\n"
    }
   },
   "source": [
    "### Functions als First-Level Objects (Functions als Return Werte)"
   ]
  },
  {
   "cell_type": "code",
   "execution_count": 5,
   "metadata": {
    "pycharm": {
     "name": "#%%\n"
    }
   },
   "outputs": [
    {
     "name": "stdout",
     "output_type": "stream",
     "text": [
      "<function parent.<locals>.first_child at 0x00000173FF14C700>\n",
      "Hi, I am Emma\n"
     ]
    }
   ],
   "source": [
    "def parent(num):\n",
    "    def first_child():\n",
    "        return 'Hi, I am Emma'\n",
    "\n",
    "    def second_child():\n",
    "        return 'Call me Liam'\n",
    "\n",
    "    if num == 1:\n",
    "        return first_child\n",
    "    else:\n",
    "        return second_child\n",
    "    \n",
    "print(parent(1)) #<function parent.<locals>.first_child at 0x110d290d0>\n",
    "print(parent(1)()) #Hi, I am Emma"
   ]
  },
  {
   "cell_type": "markdown",
   "metadata": {
    "pycharm": {
     "name": "#%% md\n"
    }
   },
   "source": [
    "### Decorators in Python"
   ]
  },
  {
   "cell_type": "code",
   "execution_count": 6,
   "metadata": {
    "pycharm": {
     "name": "#%%\n"
    }
   },
   "outputs": [
    {
     "name": "stdout",
     "output_type": "stream",
     "text": [
      "Wrapping here\n",
      "Hallo\n",
      "Wrapping there\n"
     ]
    }
   ],
   "source": [
    "def wrapping(func):\n",
    "    def wrapper():\n",
    "        print('Wrapping here')\n",
    "        func()\n",
    "        print('Wrapping there')\n",
    "    return wrapper\n",
    "\n",
    "@wrapping        \n",
    "def hey():\n",
    "    print('Hallo')\n",
    "    \n",
    "hey() #äquivalent zu wrapping(hey())"
   ]
  },
  {
   "cell_type": "markdown",
   "metadata": {
    "pycharm": {
     "name": "#%% md\n"
    }
   },
   "source": [
    "### Decorators in Python (Einfache Nutzung / Unterlassung mit @Decorator)"
   ]
  },
  {
   "cell_type": "code",
   "execution_count": 7,
   "metadata": {
    "pycharm": {
     "name": "#%%\n"
    }
   },
   "outputs": [
    {
     "name": "stdout",
     "output_type": "stream",
     "text": [
      "Hallo\n"
     ]
    }
   ],
   "source": [
    "def wrapping(func):\n",
    "    def wrapper():\n",
    "        print('Wrapping here')\n",
    "        func()\n",
    "        print('Wrapping there')\n",
    "    return wrapper\n",
    "      \n",
    "def hey():\n",
    "    print('Hallo')\n",
    "    \n",
    "hey()"
   ]
  },
  {
   "cell_type": "markdown",
   "metadata": {
    "pycharm": {
     "name": "#%% md\n"
    }
   },
   "source": [
    "### Decorators als Support für Performance Messung"
   ]
  },
  {
   "cell_type": "code",
   "execution_count": 8,
   "outputs": [
    {
     "name": "stdout",
     "output_type": "stream",
     "text": [
      "Sleeping...\n",
      "...Good Morning!\n",
      "++ Function waking_up() took 3.01s\n"
     ]
    }
   ],
   "source": [
    "import time\n",
    "\n",
    "def timer(func):\n",
    "    def wrapper_time():\n",
    "        start_time = time.time()\n",
    "        value = func()\n",
    "        print('++ Function {}() took {}s'.format(func.__name__,round(time.time() - start_time,2)))\n",
    "        return value\n",
    "    return wrapper_time\n",
    "  \n",
    "@timer\n",
    "def waking_up():\n",
    "    print('Sleeping...')\n",
    "    time.sleep(3)\n",
    "    print('...Good Morning!')\n",
    "\n",
    "waking_up() #wieder äquivalent zu timer(waking_up())"
   ],
   "metadata": {
    "collapsed": false,
    "pycharm": {
     "name": "#%%\n"
    }
   }
  },
  {
   "cell_type": "code",
   "execution_count": null,
   "outputs": [],
   "source": [],
   "metadata": {
    "collapsed": false,
    "pycharm": {
     "name": "#%%\n"
    }
   }
  }
 ],
 "metadata": {
  "kernelspec": {
   "display_name": "Python 3 (ipykernel)",
   "language": "python",
   "name": "python3"
  },
  "language_info": {
   "codemirror_mode": {
    "name": "ipython",
    "version": 3
   },
   "file_extension": ".py",
   "mimetype": "text/x-python",
   "name": "python",
   "nbconvert_exporter": "python",
   "pygments_lexer": "ipython3",
   "version": "3.8.12"
  }
 },
 "nbformat": 4,
 "nbformat_minor": 4
}