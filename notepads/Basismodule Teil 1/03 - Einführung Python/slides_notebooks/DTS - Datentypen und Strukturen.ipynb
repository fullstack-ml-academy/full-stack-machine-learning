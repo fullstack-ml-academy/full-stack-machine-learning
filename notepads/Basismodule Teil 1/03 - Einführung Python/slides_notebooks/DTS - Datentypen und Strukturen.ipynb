{
 "cells": [
  {
   "cell_type": "markdown",
   "metadata": {
    "pycharm": {
     "name": "#%% md\n"
    }
   },
   "source": [
    "# Datentypen und Strukturen"
   ]
  },
  {
   "cell_type": "markdown",
   "metadata": {
    "pycharm": {
     "name": "#%% md\n"
    }
   },
   "source": [
    "### Dynamische Verwaltung der Datentypen, keine statische Typprüfung"
   ]
  },
  {
   "cell_type": "code",
   "execution_count": 1,
   "metadata": {
    "pycharm": {
     "name": "#%%\n"
    }
   },
   "outputs": [],
   "source": [
    "var = 12 #int\n",
    "var = \"String\" #string\n",
    "var = 12.1 #float\n",
    " \n",
    "#keine Fehlermeldung, Variablen können Typen jederzeit wechseln"
   ]
  },
  {
   "cell_type": "markdown",
   "metadata": {
    "pycharm": {
     "name": "#%% md\n"
    }
   },
   "source": [
    "### Casting von Datentypen"
   ]
  },
  {
   "cell_type": "code",
   "execution_count": 2,
   "metadata": {
    "pycharm": {
     "name": "#%%\n"
    }
   },
   "outputs": [
    {
     "name": "stdout",
     "output_type": "stream",
     "text": [
      "12.0\n"
     ]
    }
   ],
   "source": [
    "var = 12 #int\n",
    "var = float(var)\n",
    "print(var) #12.0"
   ]
  },
  {
   "cell_type": "markdown",
   "metadata": {
    "pycharm": {
     "name": "#%% md\n"
    }
   },
   "source": [
    "### Python Datentypen - Numbers"
   ]
  },
  {
   "cell_type": "code",
   "execution_count": 3,
   "metadata": {
    "pycharm": {
     "name": "#%%\n"
    }
   },
   "outputs": [
    {
     "name": "stdout",
     "output_type": "stream",
     "text": [
      "<class 'int'>\n",
      "<class 'float'>\n",
      "<class 'bool'>\n"
     ]
    }
   ],
   "source": [
    "a = 10\n",
    "print(type(a)) #<class 'int'>\n",
    "\n",
    "b = 10.0\n",
    "print(type(b)) #<class 'float'>\n",
    "\n",
    "c = True\n",
    "print(type(c)) #<class 'bool'>"
   ]
  },
  {
   "cell_type": "markdown",
   "metadata": {
    "pycharm": {
     "name": "#%% md\n"
    }
   },
   "source": [
    "### Python Datentypen - Immutable Sequences"
   ]
  },
  {
   "cell_type": "code",
   "execution_count": 4,
   "metadata": {
    "pycharm": {
     "name": "#%%\n"
    }
   },
   "outputs": [
    {
     "name": "stdout",
     "output_type": "stream",
     "text": [
      "<class 'str'>\n",
      "<class 'tuple'>\n",
      "<class 'bytes'>\n"
     ]
    }
   ],
   "source": [
    "d = \"string\"\n",
    "print(type(d)) #<class 'str'>\n",
    "\n",
    "e = (\"apple\", \"banana\", \"cherry\")\n",
    "print(type(e)) #<class 'tuple'>\n",
    "\n",
    "f = (1024).to_bytes(2, byteorder='big') #b'\\x04\\x00'\n",
    "print(type(f)) #<class 'bytes'>"
   ]
  },
  {
   "cell_type": "markdown",
   "metadata": {
    "pycharm": {
     "name": "#%% md\n"
    }
   },
   "source": [
    "### Python Datentypen - Mutable Sequences"
   ]
  },
  {
   "cell_type": "code",
   "execution_count": 5,
   "metadata": {
    "pycharm": {
     "name": "#%%\n"
    }
   },
   "outputs": [
    {
     "name": "stdout",
     "output_type": "stream",
     "text": [
      "<class 'list'>\n",
      "<class 'bytearray'>\n"
     ]
    }
   ],
   "source": [
    "g = [1,2,3,4]\n",
    "print(type(g)) #<class 'list'>\n",
    "\n",
    "h = bytearray(\"apple\", 'utf-8') #bytearray(b'apple')\n",
    "print(type(h)) #<class 'bytearray'>"
   ]
  },
  {
   "cell_type": "markdown",
   "metadata": {
    "pycharm": {
     "name": "#%% md\n"
    }
   },
   "source": [
    "### Python Datentypen - Set Types"
   ]
  },
  {
   "cell_type": "code",
   "execution_count": 7,
   "metadata": {
    "pycharm": {
     "name": "#%%\n"
    }
   },
   "outputs": [
    {
     "name": "stdout",
     "output_type": "stream",
     "text": [
      "<class 'set'>\n",
      "<class 'frozenset'>\n"
     ]
    },
    {
     "ename": "AttributeError",
     "evalue": "'frozenset' object has no attribute 'add'",
     "output_type": "error",
     "traceback": [
      "\u001B[1;31m---------------------------------------------------------------------------\u001B[0m",
      "\u001B[1;31mAttributeError\u001B[0m                            Traceback (most recent call last)",
      "\u001B[1;32m~\\AppData\\Local\\Temp/ipykernel_6864/4050700990.py\u001B[0m in \u001B[0;36m<module>\u001B[1;34m\u001B[0m\n\u001B[0;32m      5\u001B[0m \u001B[0mj\u001B[0m \u001B[1;33m=\u001B[0m \u001B[0mfrozenset\u001B[0m\u001B[1;33m(\u001B[0m\u001B[1;33m[\u001B[0m\u001B[1;34m'Data'\u001B[0m\u001B[1;33m,\u001B[0m\u001B[1;34m'Science'\u001B[0m\u001B[1;33m,\u001B[0m\u001B[1;34m'Big'\u001B[0m\u001B[1;33m,\u001B[0m\u001B[1;34m'Data'\u001B[0m\u001B[1;33m]\u001B[0m\u001B[1;33m)\u001B[0m\u001B[1;33m\u001B[0m\u001B[1;33m\u001B[0m\u001B[0m\n\u001B[0;32m      6\u001B[0m \u001B[0mprint\u001B[0m\u001B[1;33m(\u001B[0m\u001B[0mtype\u001B[0m\u001B[1;33m(\u001B[0m\u001B[0mj\u001B[0m\u001B[1;33m)\u001B[0m\u001B[1;33m)\u001B[0m \u001B[1;31m#<class 'frozenset'>\u001B[0m\u001B[1;33m\u001B[0m\u001B[1;33m\u001B[0m\u001B[0m\n\u001B[1;32m----> 7\u001B[1;33m \u001B[0mj\u001B[0m\u001B[1;33m.\u001B[0m\u001B[0madd\u001B[0m\u001B[1;33m(\u001B[0m\u001B[1;34m'Machine'\u001B[0m\u001B[1;33m)\u001B[0m \u001B[1;31m#funktioniert nicht, da immutable\u001B[0m\u001B[1;33m\u001B[0m\u001B[1;33m\u001B[0m\u001B[0m\n\u001B[0m",
      "\u001B[1;31mAttributeError\u001B[0m: 'frozenset' object has no attribute 'add'"
     ]
    }
   ],
   "source": [
    "i = set(['Data','Science','Big','Data']) #{'Science', 'Big', 'Data'}\n",
    "print(type(i)) #<class 'set'>\n",
    "i.add('Machine') #funktioniert, weil mutalbe\n",
    "\n",
    "j = frozenset(['Data','Science','Big','Data'])\n",
    "print(type(j)) #<class 'frozenset'>\n",
    "j.add('Machine') #funktioniert nicht, da immutable"
   ]
  },
  {
   "cell_type": "markdown",
   "metadata": {
    "pycharm": {
     "name": "#%% md\n"
    }
   },
   "source": [
    "### Python Datentypen - Mappings"
   ]
  },
  {
   "cell_type": "code",
   "execution_count": 8,
   "metadata": {
    "pycharm": {
     "name": "#%%\n"
    }
   },
   "outputs": [
    {
     "name": "stdout",
     "output_type": "stream",
     "text": [
      "<class 'dict'>\n",
      "14\n"
     ]
    }
   ],
   "source": [
    "k = {'Bestanden': 14, 'Durchgefallen': 3, 'Nicht angetreten': 5}\n",
    "print(type(k)) #<class 'dict'>\n",
    "print(k['Bestanden']) #14"
   ]
  },
  {
   "cell_type": "markdown",
   "metadata": {
    "pycharm": {
     "name": "#%% md\n"
    }
   },
   "source": [
    "### Python Datentypen - Callables"
   ]
  },
  {
   "cell_type": "code",
   "execution_count": 9,
   "outputs": [
    {
     "name": "stdout",
     "output_type": "stream",
     "text": [
      "<class 'function'>\n",
      "<class 'method'>\n"
     ]
    }
   ],
   "source": [
    "def function(): \n",
    "    print('This is a function')\n",
    "print(type(function)) #<class 'function'>\n",
    "\n",
    "class Class:\n",
    "    def method(self): \n",
    "        print('This is a method')\n",
    "        \n",
    "instance = Class()\n",
    "print(type(instance.method)) #<class 'method'>"
   ],
   "metadata": {
    "collapsed": false,
    "pycharm": {
     "name": "#%%\n"
    }
   }
  },
  {
   "cell_type": "code",
   "execution_count": null,
   "outputs": [],
   "source": [],
   "metadata": {
    "collapsed": false,
    "pycharm": {
     "name": "#%%\n"
    }
   }
  }
 ],
 "metadata": {
  "kernelspec": {
   "display_name": "Python 3 (ipykernel)",
   "language": "python",
   "name": "python3"
  },
  "language_info": {
   "codemirror_mode": {
    "name": "ipython",
    "version": 3
   },
   "file_extension": ".py",
   "mimetype": "text/x-python",
   "name": "python",
   "nbconvert_exporter": "python",
   "pygments_lexer": "ipython3",
   "version": "3.8.12"
  }
 },
 "nbformat": 4,
 "nbformat_minor": 4
}