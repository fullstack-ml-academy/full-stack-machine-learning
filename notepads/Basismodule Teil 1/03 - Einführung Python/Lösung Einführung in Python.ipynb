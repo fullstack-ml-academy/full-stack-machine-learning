{
 "cells": [
  {
   "cell_type": "markdown",
   "id": "ce459c5e",
   "metadata": {
    "pycharm": {
     "name": "#%% md\n"
    }
   },
   "source": [
    "# *Aufgabe: Einführung in Python*"
   ]
  },
  {
   "cell_type": "markdown",
   "id": "c41ab1e2",
   "metadata": {
    "pycharm": {
     "name": "#%% md\n"
    }
   },
   "source": [
    "1. Lesen Sie den Datensatz mit Pandas ein:"
   ]
  },
  {
   "cell_type": "code",
   "execution_count": 1,
   "id": "220b168a",
   "metadata": {
    "pycharm": {
     "name": "#%%\n"
    }
   },
   "outputs": [
    {
     "name": "stdout",
     "output_type": "stream",
     "text": [
      "Index(['age', 'workclass', 'education', 'marital-status', 'occupation',\n",
      "       'relationship', 'race', 'sex', 'capital-gain', 'capital-loss',\n",
      "       'hours-per-week', 'native-country', 'target'],\n",
      "      dtype='object')\n"
     ]
    },
    {
     "data": {
      "text/plain": "   age          workclass   education       marital-status  \\\n0   39          State-gov   Bachelors        Never-married   \n1   50   Self-emp-not-inc   Bachelors   Married-civ-spouse   \n2   38            Private     HS-grad             Divorced   \n3   53            Private        11th   Married-civ-spouse   \n4   28            Private   Bachelors   Married-civ-spouse   \n\n           occupation    relationship    race      sex  capital-gain  \\\n0        Adm-clerical   Not-in-family   White     Male          2174   \n1     Exec-managerial         Husband   White     Male             0   \n2   Handlers-cleaners   Not-in-family   White     Male             0   \n3   Handlers-cleaners         Husband   Black     Male             0   \n4      Prof-specialty            Wife   Black   Female             0   \n\n   capital-loss  hours-per-week  native-country  target  \n0             0              40   United-States   <=50K  \n1             0              13   United-States   <=50K  \n2             0              40   United-States   <=50K  \n3             0              40   United-States   <=50K  \n4             0              40            Cuba   <=50K  ",
      "text/html": "<div>\n<style scoped>\n    .dataframe tbody tr th:only-of-type {\n        vertical-align: middle;\n    }\n\n    .dataframe tbody tr th {\n        vertical-align: top;\n    }\n\n    .dataframe thead th {\n        text-align: right;\n    }\n</style>\n<table border=\"1\" class=\"dataframe\">\n  <thead>\n    <tr style=\"text-align: right;\">\n      <th></th>\n      <th>age</th>\n      <th>workclass</th>\n      <th>education</th>\n      <th>marital-status</th>\n      <th>occupation</th>\n      <th>relationship</th>\n      <th>race</th>\n      <th>sex</th>\n      <th>capital-gain</th>\n      <th>capital-loss</th>\n      <th>hours-per-week</th>\n      <th>native-country</th>\n      <th>target</th>\n    </tr>\n  </thead>\n  <tbody>\n    <tr>\n      <th>0</th>\n      <td>39</td>\n      <td>State-gov</td>\n      <td>Bachelors</td>\n      <td>Never-married</td>\n      <td>Adm-clerical</td>\n      <td>Not-in-family</td>\n      <td>White</td>\n      <td>Male</td>\n      <td>2174</td>\n      <td>0</td>\n      <td>40</td>\n      <td>United-States</td>\n      <td>&lt;=50K</td>\n    </tr>\n    <tr>\n      <th>1</th>\n      <td>50</td>\n      <td>Self-emp-not-inc</td>\n      <td>Bachelors</td>\n      <td>Married-civ-spouse</td>\n      <td>Exec-managerial</td>\n      <td>Husband</td>\n      <td>White</td>\n      <td>Male</td>\n      <td>0</td>\n      <td>0</td>\n      <td>13</td>\n      <td>United-States</td>\n      <td>&lt;=50K</td>\n    </tr>\n    <tr>\n      <th>2</th>\n      <td>38</td>\n      <td>Private</td>\n      <td>HS-grad</td>\n      <td>Divorced</td>\n      <td>Handlers-cleaners</td>\n      <td>Not-in-family</td>\n      <td>White</td>\n      <td>Male</td>\n      <td>0</td>\n      <td>0</td>\n      <td>40</td>\n      <td>United-States</td>\n      <td>&lt;=50K</td>\n    </tr>\n    <tr>\n      <th>3</th>\n      <td>53</td>\n      <td>Private</td>\n      <td>11th</td>\n      <td>Married-civ-spouse</td>\n      <td>Handlers-cleaners</td>\n      <td>Husband</td>\n      <td>Black</td>\n      <td>Male</td>\n      <td>0</td>\n      <td>0</td>\n      <td>40</td>\n      <td>United-States</td>\n      <td>&lt;=50K</td>\n    </tr>\n    <tr>\n      <th>4</th>\n      <td>28</td>\n      <td>Private</td>\n      <td>Bachelors</td>\n      <td>Married-civ-spouse</td>\n      <td>Prof-specialty</td>\n      <td>Wife</td>\n      <td>Black</td>\n      <td>Female</td>\n      <td>0</td>\n      <td>0</td>\n      <td>40</td>\n      <td>Cuba</td>\n      <td>&lt;=50K</td>\n    </tr>\n  </tbody>\n</table>\n</div>"
     },
     "execution_count": 1,
     "metadata": {},
     "output_type": "execute_result"
    }
   ],
   "source": [
    "import pandas as pd\n",
    "import os\n",
    "\n",
    "census = pd.read_csv(os.path.join(\"..\", \"..\", \"..\", \"data\", \"census.csv\"))\n",
    "print(census.columns)\n",
    "\n",
    "census.head()"
   ]
  },
  {
   "cell_type": "code",
   "execution_count": 2,
   "id": "3c1eccc9",
   "metadata": {
    "pycharm": {
     "name": "#%%\n"
    }
   },
   "outputs": [
    {
     "data": {
      "text/plain": "   age    race      sex  hours-per-week  target\n0   39   White     Male              40   <=50K\n1   50   White     Male              13   <=50K\n2   38   White     Male              40   <=50K\n3   53   Black     Male              40   <=50K\n4   28   Black   Female              40   <=50K",
      "text/html": "<div>\n<style scoped>\n    .dataframe tbody tr th:only-of-type {\n        vertical-align: middle;\n    }\n\n    .dataframe tbody tr th {\n        vertical-align: top;\n    }\n\n    .dataframe thead th {\n        text-align: right;\n    }\n</style>\n<table border=\"1\" class=\"dataframe\">\n  <thead>\n    <tr style=\"text-align: right;\">\n      <th></th>\n      <th>age</th>\n      <th>race</th>\n      <th>sex</th>\n      <th>hours-per-week</th>\n      <th>target</th>\n    </tr>\n  </thead>\n  <tbody>\n    <tr>\n      <th>0</th>\n      <td>39</td>\n      <td>White</td>\n      <td>Male</td>\n      <td>40</td>\n      <td>&lt;=50K</td>\n    </tr>\n    <tr>\n      <th>1</th>\n      <td>50</td>\n      <td>White</td>\n      <td>Male</td>\n      <td>13</td>\n      <td>&lt;=50K</td>\n    </tr>\n    <tr>\n      <th>2</th>\n      <td>38</td>\n      <td>White</td>\n      <td>Male</td>\n      <td>40</td>\n      <td>&lt;=50K</td>\n    </tr>\n    <tr>\n      <th>3</th>\n      <td>53</td>\n      <td>Black</td>\n      <td>Male</td>\n      <td>40</td>\n      <td>&lt;=50K</td>\n    </tr>\n    <tr>\n      <th>4</th>\n      <td>28</td>\n      <td>Black</td>\n      <td>Female</td>\n      <td>40</td>\n      <td>&lt;=50K</td>\n    </tr>\n  </tbody>\n</table>\n</div>"
     },
     "execution_count": 2,
     "metadata": {},
     "output_type": "execute_result"
    }
   ],
   "source": [
    "# Pop the columns:\n",
    "\n",
    "to_pop = [\"occupation\", \"relationship\", \"capital-gain\", \"capital-loss\", \"native-country\", \"education\", \"workclass\", \"marital-status\"]\n",
    "\n",
    "for col in to_pop:\n",
    "    census.pop(col)\n",
    "    \n",
    "census.head()    "
   ]
  },
  {
   "cell_type": "code",
   "execution_count": 3,
   "id": "d1a38245",
   "metadata": {
    "pycharm": {
     "name": "#%%\n"
    }
   },
   "outputs": [
    {
     "data": {
      "text/plain": "   age  race  sex  hours-per-week  target\n0   39     3    1              40       0\n1   50     3    1              13       0\n2   38     3    1              40       0\n3   53     2    1              40       0\n4   28     2    0              40       0",
      "text/html": "<div>\n<style scoped>\n    .dataframe tbody tr th:only-of-type {\n        vertical-align: middle;\n    }\n\n    .dataframe tbody tr th {\n        vertical-align: top;\n    }\n\n    .dataframe thead th {\n        text-align: right;\n    }\n</style>\n<table border=\"1\" class=\"dataframe\">\n  <thead>\n    <tr style=\"text-align: right;\">\n      <th></th>\n      <th>age</th>\n      <th>race</th>\n      <th>sex</th>\n      <th>hours-per-week</th>\n      <th>target</th>\n    </tr>\n  </thead>\n  <tbody>\n    <tr>\n      <th>0</th>\n      <td>39</td>\n      <td>3</td>\n      <td>1</td>\n      <td>40</td>\n      <td>0</td>\n    </tr>\n    <tr>\n      <th>1</th>\n      <td>50</td>\n      <td>3</td>\n      <td>1</td>\n      <td>13</td>\n      <td>0</td>\n    </tr>\n    <tr>\n      <th>2</th>\n      <td>38</td>\n      <td>3</td>\n      <td>1</td>\n      <td>40</td>\n      <td>0</td>\n    </tr>\n    <tr>\n      <th>3</th>\n      <td>53</td>\n      <td>2</td>\n      <td>1</td>\n      <td>40</td>\n      <td>0</td>\n    </tr>\n    <tr>\n      <th>4</th>\n      <td>28</td>\n      <td>2</td>\n      <td>0</td>\n      <td>40</td>\n      <td>0</td>\n    </tr>\n  </tbody>\n</table>\n</div>"
     },
     "execution_count": 3,
     "metadata": {},
     "output_type": "execute_result"
    }
   ],
   "source": [
    "# Numerische Werte:\n",
    "\n",
    "# SEX: Male: 1, Female: 0\n",
    "census[\"sex\"] = census[\"sex\"].replace({' Male': 1, ' Female': 0})\n",
    "\n",
    "# RACE: Asian-Pac-Islander: 4, White: 3, Black: 2, Amer-Indian-Eskimo: 1, Other: 0\n",
    "census[\"race\"] = census[\"race\"].replace({' White': 3, ' Black': 2, ' Asian-Pac-Islander': 4, ' Amer-Indian-Eskimo':1, ' Other': 0})\n",
    "\n",
    "# TARGET: >50K: 1, <=50K: 0 \n",
    "census[\"target\"] = census[\"target\"].replace({' >50K': 1, ' <=50K': 0})\n",
    "\n",
    "census.head()"
   ]
  },
  {
   "cell_type": "markdown",
   "id": "4135cb88",
   "metadata": {
    "pycharm": {
     "name": "#%% md\n"
    }
   },
   "source": [
    "2. Geben Sie eine Statistische Zusammenfassung der Daten aus:"
   ]
  },
  {
   "cell_type": "code",
   "execution_count": 4,
   "id": "95ad7720",
   "metadata": {
    "pycharm": {
     "name": "#%%\n"
    }
   },
   "outputs": [
    {
     "data": {
      "text/plain": "                age          race           sex  hours-per-week        target\ncount  32561.000000  32561.000000  32561.000000    32561.000000  32561.000000\nmean      38.581647      2.891895      0.669205       40.437456      0.240810\nstd       13.640433      0.478836      0.470506       12.347429      0.427581\nmin       17.000000      0.000000      0.000000        1.000000      0.000000\n25%       28.000000      3.000000      0.000000       40.000000      0.000000\n50%       37.000000      3.000000      1.000000       40.000000      0.000000\n75%       48.000000      3.000000      1.000000       45.000000      0.000000\nmax       90.000000      4.000000      1.000000       99.000000      1.000000",
      "text/html": "<div>\n<style scoped>\n    .dataframe tbody tr th:only-of-type {\n        vertical-align: middle;\n    }\n\n    .dataframe tbody tr th {\n        vertical-align: top;\n    }\n\n    .dataframe thead th {\n        text-align: right;\n    }\n</style>\n<table border=\"1\" class=\"dataframe\">\n  <thead>\n    <tr style=\"text-align: right;\">\n      <th></th>\n      <th>age</th>\n      <th>race</th>\n      <th>sex</th>\n      <th>hours-per-week</th>\n      <th>target</th>\n    </tr>\n  </thead>\n  <tbody>\n    <tr>\n      <th>count</th>\n      <td>32561.000000</td>\n      <td>32561.000000</td>\n      <td>32561.000000</td>\n      <td>32561.000000</td>\n      <td>32561.000000</td>\n    </tr>\n    <tr>\n      <th>mean</th>\n      <td>38.581647</td>\n      <td>2.891895</td>\n      <td>0.669205</td>\n      <td>40.437456</td>\n      <td>0.240810</td>\n    </tr>\n    <tr>\n      <th>std</th>\n      <td>13.640433</td>\n      <td>0.478836</td>\n      <td>0.470506</td>\n      <td>12.347429</td>\n      <td>0.427581</td>\n    </tr>\n    <tr>\n      <th>min</th>\n      <td>17.000000</td>\n      <td>0.000000</td>\n      <td>0.000000</td>\n      <td>1.000000</td>\n      <td>0.000000</td>\n    </tr>\n    <tr>\n      <th>25%</th>\n      <td>28.000000</td>\n      <td>3.000000</td>\n      <td>0.000000</td>\n      <td>40.000000</td>\n      <td>0.000000</td>\n    </tr>\n    <tr>\n      <th>50%</th>\n      <td>37.000000</td>\n      <td>3.000000</td>\n      <td>1.000000</td>\n      <td>40.000000</td>\n      <td>0.000000</td>\n    </tr>\n    <tr>\n      <th>75%</th>\n      <td>48.000000</td>\n      <td>3.000000</td>\n      <td>1.000000</td>\n      <td>45.000000</td>\n      <td>0.000000</td>\n    </tr>\n    <tr>\n      <th>max</th>\n      <td>90.000000</td>\n      <td>4.000000</td>\n      <td>1.000000</td>\n      <td>99.000000</td>\n      <td>1.000000</td>\n    </tr>\n  </tbody>\n</table>\n</div>"
     },
     "execution_count": 4,
     "metadata": {},
     "output_type": "execute_result"
    }
   ],
   "source": [
    "census.describe()"
   ]
  },
  {
   "cell_type": "markdown",
   "id": "28a647bb",
   "metadata": {
    "pycharm": {
     "name": "#%% md\n"
    }
   },
   "source": [
    "3. Schreiben Sie eine Funktion train_test_mean(split_rate), die die Daten mittels Train-Test-Split von Sklearn in Trainings- und Testdaten trennt und analysiert, ob die Features in Test- und Trainingsdatensatz sich in den Mittelwerten unterscheiden:"
   ]
  },
  {
   "cell_type": "code",
   "execution_count": 5,
   "id": "89eadce6",
   "metadata": {
    "pycharm": {
     "name": "#%%\n"
    }
   },
   "outputs": [],
   "source": [
    "from sklearn.model_selection import train_test_split\n",
    "import numpy as np\n",
    "\n",
    "def train_test_mean(split_rate):\n",
    "\n",
    "    def calculate_mean(dataframe, feature):\n",
    "        return np.mean(dataframe[feature].to_numpy())\n",
    "\n",
    "    train, test = train_test_split(census, test_size=split_rate)\n",
    "\n",
    "    print(\"\\n---------split rate: {}---------\".format(split_rate))\n",
    "\n",
    "    print('Train: {}'.format(train.shape))\n",
    "    print('Test: {}'.format(test.shape))\n",
    "\n",
    "    for feature in census.columns:\n",
    "        print(\"Feature: {}, mean train: {}, mean test: {}\".format(feature, calculate_mean(train, feature), calculate_mean(test, feature)))\n"
   ]
  },
  {
   "cell_type": "markdown",
   "id": "175aacd6",
   "metadata": {
    "pycharm": {
     "name": "#%% md\n"
    }
   },
   "source": [
    "4. Rufen Sie die Funktion für unterschiedliche Werte von split_rate auf und vergleichen Sie die Ergebnisse:"
   ]
  },
  {
   "cell_type": "code",
   "execution_count": 6,
   "id": "36b4137d",
   "metadata": {
    "pycharm": {
     "name": "#%%\n"
    }
   },
   "outputs": [
    {
     "name": "stdout",
     "output_type": "stream",
     "text": [
      "\n",
      "---------split rate: 0.2---------\n",
      "Train: (26048, 5)\n",
      "Test: (6513, 5)\n",
      "Feature: age, mean train: 38.61927979115479, mean test: 38.4311377245509\n",
      "Feature: race, mean train: 2.8915079852579852, mean test: 2.8934438814678334\n",
      "Feature: sex, mean train: 0.6693412162162162, mean test: 0.6686626746506986\n",
      "Feature: hours-per-week, mean train: 40.42210534398034, mean test: 40.498848456932286\n",
      "Feature: target, mean train: 0.24143888206388206, mean test: 0.23829264547827422\n",
      "\n",
      "---------split rate: 0.3---------\n",
      "Train: (22792, 5)\n",
      "Test: (9769, 5)\n",
      "Feature: age, mean train: 38.532379782379785, mean test: 38.69659125806121\n",
      "Feature: race, mean train: 2.892155142155142, mean test: 2.8912887706008803\n",
      "Feature: sex, mean train: 0.6661547911547911, mean test: 0.6763230627495138\n",
      "Feature: hours-per-week, mean train: 40.46099508599509, mean test: 40.38253659535265\n",
      "Feature: target, mean train: 0.24052299052299053, mean test: 0.24147814515303512\n",
      "\n",
      "---------split rate: 0.5---------\n",
      "Train: (16280, 5)\n",
      "Test: (16281, 5)\n",
      "Feature: age, mean train: 38.60663390663391, mean test: 38.55666113875069\n",
      "Feature: race, mean train: 2.89477886977887, mean test: 2.8890117314661263\n",
      "Feature: sex, mean train: 0.6659090909090909, mean test: 0.6725016890854371\n",
      "Feature: hours-per-week, mean train: 40.38716216216216, mean test: 40.48774645292058\n",
      "Feature: target, mean train: 0.24066339066339065, mean test: 0.24095571525090598\n"
     ]
    }
   ],
   "source": [
    "train_test_mean(0.2)\n",
    "train_test_mean(0.3)\n",
    "train_test_mean(0.5)\n"
   ]
  },
  {
   "cell_type": "code",
   "execution_count": null,
   "id": "ec542a65",
   "metadata": {
    "pycharm": {
     "name": "#%%\n"
    }
   },
   "outputs": [],
   "source": []
  }
 ],
 "metadata": {
  "kernelspec": {
   "display_name": "Python 3 (ipykernel)",
   "language": "python",
   "name": "python3"
  },
  "language_info": {
   "codemirror_mode": {
    "name": "ipython",
    "version": 3
   },
   "file_extension": ".py",
   "mimetype": "text/x-python",
   "name": "python",
   "nbconvert_exporter": "python",
   "pygments_lexer": "ipython3",
   "version": "3.9.10"
  }
 },
 "nbformat": 4,
 "nbformat_minor": 5
}