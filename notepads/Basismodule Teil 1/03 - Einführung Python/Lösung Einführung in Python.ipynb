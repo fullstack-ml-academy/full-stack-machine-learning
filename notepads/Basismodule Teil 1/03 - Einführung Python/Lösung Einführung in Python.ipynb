{
 "cells": [
  {
   "cell_type": "markdown",
   "id": "ce459c5e",
   "metadata": {
    "pycharm": {
     "name": "#%% md\n"
    }
   },
   "source": [
    "# *Aufgabe: Einführung in Python*"
   ]
  },
  {
   "cell_type": "markdown",
   "id": "c41ab1e2",
   "metadata": {
    "pycharm": {
     "name": "#%% md\n"
    }
   },
   "source": [
    "1. Lesen Sie den Datensatz mit Pandas ein:"
   ]
  },
  {
   "cell_type": "code",
   "execution_count": 1,
   "id": "220b168a",
   "metadata": {
    "pycharm": {
     "name": "#%%\n"
    }
   },
   "outputs": [],
   "source": [
    "# define all imports used in the notebook in the first cell\n",
    "\n",
    "import pandas as pd\n",
    "import os"
   ]
  },
  {
   "cell_type": "code",
   "execution_count": 2,
   "id": "c75fe5fa",
   "metadata": {},
   "outputs": [
    {
     "name": "stdout",
     "output_type": "stream",
     "text": [
      "Index(['age', 'workclass', 'education', 'marital-status', 'occupation',\n",
      "       'relationship', 'race', 'sex', 'capital-gain', 'capital-loss',\n",
      "       'hours-per-week', 'native-country', 'target'],\n",
      "      dtype='object')\n"
     ]
    },
    {
     "data": {
      "text/html": [
       "<div>\n",
       "<style scoped>\n",
       "    .dataframe tbody tr th:only-of-type {\n",
       "        vertical-align: middle;\n",
       "    }\n",
       "\n",
       "    .dataframe tbody tr th {\n",
       "        vertical-align: top;\n",
       "    }\n",
       "\n",
       "    .dataframe thead th {\n",
       "        text-align: right;\n",
       "    }\n",
       "</style>\n",
       "<table border=\"1\" class=\"dataframe\">\n",
       "  <thead>\n",
       "    <tr style=\"text-align: right;\">\n",
       "      <th></th>\n",
       "      <th>age</th>\n",
       "      <th>workclass</th>\n",
       "      <th>education</th>\n",
       "      <th>marital-status</th>\n",
       "      <th>occupation</th>\n",
       "      <th>relationship</th>\n",
       "      <th>race</th>\n",
       "      <th>sex</th>\n",
       "      <th>capital-gain</th>\n",
       "      <th>capital-loss</th>\n",
       "      <th>hours-per-week</th>\n",
       "      <th>native-country</th>\n",
       "      <th>target</th>\n",
       "    </tr>\n",
       "  </thead>\n",
       "  <tbody>\n",
       "    <tr>\n",
       "      <th>0</th>\n",
       "      <td>39</td>\n",
       "      <td>State-gov</td>\n",
       "      <td>Bachelors</td>\n",
       "      <td>Never-married</td>\n",
       "      <td>Adm-clerical</td>\n",
       "      <td>Not-in-family</td>\n",
       "      <td>White</td>\n",
       "      <td>Male</td>\n",
       "      <td>2174</td>\n",
       "      <td>0</td>\n",
       "      <td>40</td>\n",
       "      <td>United-States</td>\n",
       "      <td>&lt;=50K</td>\n",
       "    </tr>\n",
       "    <tr>\n",
       "      <th>1</th>\n",
       "      <td>50</td>\n",
       "      <td>Self-emp-not-inc</td>\n",
       "      <td>Bachelors</td>\n",
       "      <td>Married-civ-spouse</td>\n",
       "      <td>Exec-managerial</td>\n",
       "      <td>Husband</td>\n",
       "      <td>White</td>\n",
       "      <td>Male</td>\n",
       "      <td>0</td>\n",
       "      <td>0</td>\n",
       "      <td>13</td>\n",
       "      <td>United-States</td>\n",
       "      <td>&lt;=50K</td>\n",
       "    </tr>\n",
       "    <tr>\n",
       "      <th>2</th>\n",
       "      <td>38</td>\n",
       "      <td>Private</td>\n",
       "      <td>HS-grad</td>\n",
       "      <td>Divorced</td>\n",
       "      <td>Handlers-cleaners</td>\n",
       "      <td>Not-in-family</td>\n",
       "      <td>White</td>\n",
       "      <td>Male</td>\n",
       "      <td>0</td>\n",
       "      <td>0</td>\n",
       "      <td>40</td>\n",
       "      <td>United-States</td>\n",
       "      <td>&lt;=50K</td>\n",
       "    </tr>\n",
       "    <tr>\n",
       "      <th>3</th>\n",
       "      <td>53</td>\n",
       "      <td>Private</td>\n",
       "      <td>11th</td>\n",
       "      <td>Married-civ-spouse</td>\n",
       "      <td>Handlers-cleaners</td>\n",
       "      <td>Husband</td>\n",
       "      <td>Black</td>\n",
       "      <td>Male</td>\n",
       "      <td>0</td>\n",
       "      <td>0</td>\n",
       "      <td>40</td>\n",
       "      <td>United-States</td>\n",
       "      <td>&lt;=50K</td>\n",
       "    </tr>\n",
       "    <tr>\n",
       "      <th>4</th>\n",
       "      <td>28</td>\n",
       "      <td>Private</td>\n",
       "      <td>Bachelors</td>\n",
       "      <td>Married-civ-spouse</td>\n",
       "      <td>Prof-specialty</td>\n",
       "      <td>Wife</td>\n",
       "      <td>Black</td>\n",
       "      <td>Female</td>\n",
       "      <td>0</td>\n",
       "      <td>0</td>\n",
       "      <td>40</td>\n",
       "      <td>Cuba</td>\n",
       "      <td>&lt;=50K</td>\n",
       "    </tr>\n",
       "    <tr>\n",
       "      <th>5</th>\n",
       "      <td>37</td>\n",
       "      <td>Private</td>\n",
       "      <td>Masters</td>\n",
       "      <td>Married-civ-spouse</td>\n",
       "      <td>Exec-managerial</td>\n",
       "      <td>Wife</td>\n",
       "      <td>White</td>\n",
       "      <td>Female</td>\n",
       "      <td>0</td>\n",
       "      <td>0</td>\n",
       "      <td>40</td>\n",
       "      <td>United-States</td>\n",
       "      <td>&lt;=50K</td>\n",
       "    </tr>\n",
       "    <tr>\n",
       "      <th>6</th>\n",
       "      <td>49</td>\n",
       "      <td>Private</td>\n",
       "      <td>9th</td>\n",
       "      <td>Married-spouse-absent</td>\n",
       "      <td>Other-service</td>\n",
       "      <td>Not-in-family</td>\n",
       "      <td>Black</td>\n",
       "      <td>Female</td>\n",
       "      <td>0</td>\n",
       "      <td>0</td>\n",
       "      <td>16</td>\n",
       "      <td>Jamaica</td>\n",
       "      <td>&lt;=50K</td>\n",
       "    </tr>\n",
       "    <tr>\n",
       "      <th>7</th>\n",
       "      <td>52</td>\n",
       "      <td>Self-emp-not-inc</td>\n",
       "      <td>HS-grad</td>\n",
       "      <td>Married-civ-spouse</td>\n",
       "      <td>Exec-managerial</td>\n",
       "      <td>Husband</td>\n",
       "      <td>White</td>\n",
       "      <td>Male</td>\n",
       "      <td>0</td>\n",
       "      <td>0</td>\n",
       "      <td>45</td>\n",
       "      <td>United-States</td>\n",
       "      <td>&gt;50K</td>\n",
       "    </tr>\n",
       "    <tr>\n",
       "      <th>8</th>\n",
       "      <td>31</td>\n",
       "      <td>Private</td>\n",
       "      <td>Masters</td>\n",
       "      <td>Never-married</td>\n",
       "      <td>Prof-specialty</td>\n",
       "      <td>Not-in-family</td>\n",
       "      <td>White</td>\n",
       "      <td>Female</td>\n",
       "      <td>14084</td>\n",
       "      <td>0</td>\n",
       "      <td>50</td>\n",
       "      <td>United-States</td>\n",
       "      <td>&gt;50K</td>\n",
       "    </tr>\n",
       "    <tr>\n",
       "      <th>9</th>\n",
       "      <td>42</td>\n",
       "      <td>Private</td>\n",
       "      <td>Bachelors</td>\n",
       "      <td>Married-civ-spouse</td>\n",
       "      <td>Exec-managerial</td>\n",
       "      <td>Husband</td>\n",
       "      <td>White</td>\n",
       "      <td>Male</td>\n",
       "      <td>5178</td>\n",
       "      <td>0</td>\n",
       "      <td>40</td>\n",
       "      <td>United-States</td>\n",
       "      <td>&gt;50K</td>\n",
       "    </tr>\n",
       "  </tbody>\n",
       "</table>\n",
       "</div>"
      ],
      "text/plain": [
       "   age          workclass   education          marital-status  \\\n",
       "0   39          State-gov   Bachelors           Never-married   \n",
       "1   50   Self-emp-not-inc   Bachelors      Married-civ-spouse   \n",
       "2   38            Private     HS-grad                Divorced   \n",
       "3   53            Private        11th      Married-civ-spouse   \n",
       "4   28            Private   Bachelors      Married-civ-spouse   \n",
       "5   37            Private     Masters      Married-civ-spouse   \n",
       "6   49            Private         9th   Married-spouse-absent   \n",
       "7   52   Self-emp-not-inc     HS-grad      Married-civ-spouse   \n",
       "8   31            Private     Masters           Never-married   \n",
       "9   42            Private   Bachelors      Married-civ-spouse   \n",
       "\n",
       "           occupation    relationship    race      sex  capital-gain  \\\n",
       "0        Adm-clerical   Not-in-family   White     Male          2174   \n",
       "1     Exec-managerial         Husband   White     Male             0   \n",
       "2   Handlers-cleaners   Not-in-family   White     Male             0   \n",
       "3   Handlers-cleaners         Husband   Black     Male             0   \n",
       "4      Prof-specialty            Wife   Black   Female             0   \n",
       "5     Exec-managerial            Wife   White   Female             0   \n",
       "6       Other-service   Not-in-family   Black   Female             0   \n",
       "7     Exec-managerial         Husband   White     Male             0   \n",
       "8      Prof-specialty   Not-in-family   White   Female         14084   \n",
       "9     Exec-managerial         Husband   White     Male          5178   \n",
       "\n",
       "   capital-loss  hours-per-week  native-country  target  \n",
       "0             0              40   United-States   <=50K  \n",
       "1             0              13   United-States   <=50K  \n",
       "2             0              40   United-States   <=50K  \n",
       "3             0              40   United-States   <=50K  \n",
       "4             0              40            Cuba   <=50K  \n",
       "5             0              40   United-States   <=50K  \n",
       "6             0              16         Jamaica   <=50K  \n",
       "7             0              45   United-States    >50K  \n",
       "8             0              50   United-States    >50K  \n",
       "9             0              40   United-States    >50K  "
      ]
     },
     "execution_count": 2,
     "metadata": {},
     "output_type": "execute_result"
    }
   ],
   "source": [
    "# navigate to the relative path where the data is saved\n",
    "file_path = os.path.join(\"..\", \"..\", \"..\", \"data\", \"census.csv\")\n",
    "\n",
    "# read csv with pandas package\n",
    "census = pd.read_csv(file_path)\n",
    "\n",
    "# show all column names in the data frame\n",
    "print(census.columns)\n",
    "\n",
    "# show the first 10 rows to investigate\n",
    "census.head(10)\n"
   ]
  },
  {
   "cell_type": "code",
   "execution_count": 3,
   "id": "3c1eccc9",
   "metadata": {
    "pycharm": {
     "name": "#%%\n"
    }
   },
   "outputs": [
    {
     "data": {
      "text/html": [
       "<div>\n",
       "<style scoped>\n",
       "    .dataframe tbody tr th:only-of-type {\n",
       "        vertical-align: middle;\n",
       "    }\n",
       "\n",
       "    .dataframe tbody tr th {\n",
       "        vertical-align: top;\n",
       "    }\n",
       "\n",
       "    .dataframe thead th {\n",
       "        text-align: right;\n",
       "    }\n",
       "</style>\n",
       "<table border=\"1\" class=\"dataframe\">\n",
       "  <thead>\n",
       "    <tr style=\"text-align: right;\">\n",
       "      <th></th>\n",
       "      <th>age</th>\n",
       "      <th>race</th>\n",
       "      <th>sex</th>\n",
       "      <th>hours-per-week</th>\n",
       "      <th>target</th>\n",
       "    </tr>\n",
       "  </thead>\n",
       "  <tbody>\n",
       "    <tr>\n",
       "      <th>0</th>\n",
       "      <td>39</td>\n",
       "      <td>White</td>\n",
       "      <td>Male</td>\n",
       "      <td>40</td>\n",
       "      <td>&lt;=50K</td>\n",
       "    </tr>\n",
       "    <tr>\n",
       "      <th>1</th>\n",
       "      <td>50</td>\n",
       "      <td>White</td>\n",
       "      <td>Male</td>\n",
       "      <td>13</td>\n",
       "      <td>&lt;=50K</td>\n",
       "    </tr>\n",
       "    <tr>\n",
       "      <th>2</th>\n",
       "      <td>38</td>\n",
       "      <td>White</td>\n",
       "      <td>Male</td>\n",
       "      <td>40</td>\n",
       "      <td>&lt;=50K</td>\n",
       "    </tr>\n",
       "    <tr>\n",
       "      <th>3</th>\n",
       "      <td>53</td>\n",
       "      <td>Black</td>\n",
       "      <td>Male</td>\n",
       "      <td>40</td>\n",
       "      <td>&lt;=50K</td>\n",
       "    </tr>\n",
       "    <tr>\n",
       "      <th>4</th>\n",
       "      <td>28</td>\n",
       "      <td>Black</td>\n",
       "      <td>Female</td>\n",
       "      <td>40</td>\n",
       "      <td>&lt;=50K</td>\n",
       "    </tr>\n",
       "  </tbody>\n",
       "</table>\n",
       "</div>"
      ],
      "text/plain": [
       "   age    race      sex  hours-per-week  target\n",
       "0   39   White     Male              40   <=50K\n",
       "1   50   White     Male              13   <=50K\n",
       "2   38   White     Male              40   <=50K\n",
       "3   53   Black     Male              40   <=50K\n",
       "4   28   Black   Female              40   <=50K"
      ]
     },
     "execution_count": 3,
     "metadata": {},
     "output_type": "execute_result"
    }
   ],
   "source": [
    "# Pop the columns:\n",
    "# define the list of columns to remove\n",
    "to_pop = [\"occupation\", \"relationship\", \"capital-gain\", \"capital-loss\", \"native-country\", \"education\", \"workclass\", \"marital-status\"]\n",
    "\n",
    "# go through the list and remove them individually\n",
    "for col in to_pop:\n",
    "    census.pop(col)\n",
    "\n",
    "census.head()"
   ]
  },
  {
   "cell_type": "code",
   "execution_count": 4,
   "id": "d1a38245",
   "metadata": {
    "pycharm": {
     "name": "#%%\n"
    }
   },
   "outputs": [
    {
     "name": "stderr",
     "output_type": "stream",
     "text": [
      "/var/folders/6z/jr7vc1n52qlbyvvf98jx_y580000gn/T/ipykernel_56076/1054288636.py:6: FutureWarning: Downcasting behavior in `replace` is deprecated and will be removed in a future version. To retain the old behavior, explicitly call `result.infer_objects(copy=False)`. To opt-in to the future behavior, set `pd.set_option('future.no_silent_downcasting', True)`\n",
      "  census[\"sex\"] = census[\"sex\"].replace(sex_dict)\n",
      "/var/folders/6z/jr7vc1n52qlbyvvf98jx_y580000gn/T/ipykernel_56076/1054288636.py:16: FutureWarning: Downcasting behavior in `replace` is deprecated and will be removed in a future version. To retain the old behavior, explicitly call `result.infer_objects(copy=False)`. To opt-in to the future behavior, set `pd.set_option('future.no_silent_downcasting', True)`\n",
      "  census[\"race\"] = census[\"race\"].replace(race_dict)\n",
      "/var/folders/6z/jr7vc1n52qlbyvvf98jx_y580000gn/T/ipykernel_56076/1054288636.py:19: FutureWarning: Downcasting behavior in `replace` is deprecated and will be removed in a future version. To retain the old behavior, explicitly call `result.infer_objects(copy=False)`. To opt-in to the future behavior, set `pd.set_option('future.no_silent_downcasting', True)`\n",
      "  census[\"target\"] = census[\"target\"].replace({' >50K': 1, ' <=50K': 0})\n"
     ]
    },
    {
     "data": {
      "text/html": [
       "<div>\n",
       "<style scoped>\n",
       "    .dataframe tbody tr th:only-of-type {\n",
       "        vertical-align: middle;\n",
       "    }\n",
       "\n",
       "    .dataframe tbody tr th {\n",
       "        vertical-align: top;\n",
       "    }\n",
       "\n",
       "    .dataframe thead th {\n",
       "        text-align: right;\n",
       "    }\n",
       "</style>\n",
       "<table border=\"1\" class=\"dataframe\">\n",
       "  <thead>\n",
       "    <tr style=\"text-align: right;\">\n",
       "      <th></th>\n",
       "      <th>age</th>\n",
       "      <th>race</th>\n",
       "      <th>sex</th>\n",
       "      <th>hours-per-week</th>\n",
       "      <th>target</th>\n",
       "    </tr>\n",
       "  </thead>\n",
       "  <tbody>\n",
       "    <tr>\n",
       "      <th>0</th>\n",
       "      <td>39</td>\n",
       "      <td>3</td>\n",
       "      <td>1</td>\n",
       "      <td>40</td>\n",
       "      <td>0</td>\n",
       "    </tr>\n",
       "    <tr>\n",
       "      <th>1</th>\n",
       "      <td>50</td>\n",
       "      <td>3</td>\n",
       "      <td>1</td>\n",
       "      <td>13</td>\n",
       "      <td>0</td>\n",
       "    </tr>\n",
       "    <tr>\n",
       "      <th>2</th>\n",
       "      <td>38</td>\n",
       "      <td>3</td>\n",
       "      <td>1</td>\n",
       "      <td>40</td>\n",
       "      <td>0</td>\n",
       "    </tr>\n",
       "    <tr>\n",
       "      <th>3</th>\n",
       "      <td>53</td>\n",
       "      <td>2</td>\n",
       "      <td>1</td>\n",
       "      <td>40</td>\n",
       "      <td>0</td>\n",
       "    </tr>\n",
       "    <tr>\n",
       "      <th>4</th>\n",
       "      <td>28</td>\n",
       "      <td>2</td>\n",
       "      <td>0</td>\n",
       "      <td>40</td>\n",
       "      <td>0</td>\n",
       "    </tr>\n",
       "  </tbody>\n",
       "</table>\n",
       "</div>"
      ],
      "text/plain": [
       "   age  race  sex  hours-per-week  target\n",
       "0   39     3    1              40       0\n",
       "1   50     3    1              13       0\n",
       "2   38     3    1              40       0\n",
       "3   53     2    1              40       0\n",
       "4   28     2    0              40       0"
      ]
     },
     "execution_count": 4,
     "metadata": {},
     "output_type": "execute_result"
    }
   ],
   "source": [
    "# Replace categorical values with numerical values\n",
    "\n",
    "# define a dictionary to replace the values\n",
    "sex_dict = {\" Male\": 1, \" Female\": 0}\n",
    "# replace the values in the specific columns with the dictionary\n",
    "census[\"sex\"] = census[\"sex\"].replace(sex_dict)\n",
    "\n",
    "# do the same for the other categorical columns\n",
    "race_dict = {\n",
    "    \" White\": 3,\n",
    "    \" Black\": 2,\n",
    "    \" Asian-Pac-Islander\": 4,\n",
    "    \" Amer-Indian-Eskimo\": 1,\n",
    "    \" Other\": 0,\n",
    "}\n",
    "census[\"race\"] = census[\"race\"].replace(race_dict)\n",
    "\n",
    "# the dictionary can also be given directly to the function:\n",
    "census[\"target\"] = census[\"target\"].replace({' >50K': 1, ' <=50K': 0})\n",
    "\n",
    "census.head()"
   ]
  },
  {
   "cell_type": "markdown",
   "id": "4135cb88",
   "metadata": {
    "pycharm": {
     "name": "#%% md\n"
    }
   },
   "source": [
    "2. Geben Sie eine Statistische Zusammenfassung der Daten aus:"
   ]
  },
  {
   "cell_type": "code",
   "execution_count": null,
   "id": "95ad7720",
   "metadata": {
    "pycharm": {
     "name": "#%%\n"
    }
   },
   "outputs": [
    {
     "data": {
      "text/plain": [
       "age               38.581647\n",
       "race               2.891895\n",
       "sex                0.669205\n",
       "hours-per-week    40.437456\n",
       "target             0.240810\n",
       "dtype: float64"
      ]
     },
     "execution_count": 11,
     "metadata": {},
     "output_type": "execute_result"
    }
   ],
   "source": [
    "# overview of all columns easily available with one call\n",
    "census.describe()"
   ]
  },
  {
   "cell_type": "markdown",
   "id": "28a647bb",
   "metadata": {
    "pycharm": {
     "name": "#%% md\n"
    }
   },
   "source": [
    "3. Teilen Sie die Daten mittels Train-Test-Split von Sklearn in Trainings- und Testdaten"
   ]
  },
  {
   "cell_type": "code",
   "execution_count": null,
   "id": "89eadce6",
   "metadata": {
    "pycharm": {
     "name": "#%%\n"
    }
   },
   "outputs": [],
   "source": [
    "from sklearn.model_selection import train_test_split\n",
    "\n",
    "# split the data frame randomly into train/ test, test size\n",
    "train, test = train_test_split(census, test_size=0.3)"
   ]
  },
  {
   "cell_type": "markdown",
   "id": "175aacd6",
   "metadata": {
    "pycharm": {
     "name": "#%% md\n"
    }
   },
   "source": [
    "4. Analysieren Sie mit Numpy, ob die Features in Test- und Trainingsdatensatz sich in den Mittelwerten unterscheiden."
   ]
  },
  {
   "cell_type": "code",
   "execution_count": null,
   "id": "36b4137d",
   "metadata": {
    "pycharm": {
     "name": "#%%\n"
    }
   },
   "outputs": [
    {
     "name": "stdout",
     "output_type": "stream",
     "text": [
      "Train: (22792, 5)\n",
      "Test: (9769, 5)\n",
      "Feature: age, mean train: 38.572700947700945, mean test: 38.60251816972055\n",
      "Feature: race, mean train: 2.891891891891892, mean test: 2.8919029583375986\n",
      "Feature: sex, mean train: 0.6711126711126711, mean test: 0.6647558603746545\n",
      "Feature: hours-per-week, mean train: 40.48433660933661, mean test: 40.3280786160303\n",
      "Feature: target, mean train: 0.2414882414882415, mean test: 0.23922612345173508\n"
     ]
    }
   ],
   "source": [
    "import numpy as np\n",
    "\n",
    "def calculate_mean(dataframe, feature):\n",
    "    \"\"\"Calculate the mean for a feature in a data frame using numpy.\"\"\"\n",
    "    return np.mean(dataframe[feature].to_numpy())\n",
    "\n",
    "\n",
    "print('Train: {}'.format(train.shape))\n",
    "print('Test: {}'.format(test.shape))\n",
    "\n",
    "# go through the features to get the mean for both train and test values\n",
    "for feature in census.columns:\n",
    "    print(\"Feature: {}, mean train: {}, mean test: {}\".format(feature, calculate_mean(train, feature), calculate_mean(test, feature)))"
   ]
  },
  {
   "cell_type": "code",
   "execution_count": 8,
   "id": "ec542a65",
   "metadata": {
    "pycharm": {
     "name": "#%%\n"
    }
   },
   "outputs": [],
   "source": [
    "# Additional: function to compare the mean for different split rates\n",
    "\n",
    "def train_test_mean(split_rate: float):\n",
    "    \"\"\"Show the mean for all features and train/test data based on split rate.\n",
    "\n",
    "    Args:\n",
    "        split_rate (float): Number between 0 and 1 to indicate percentage of data to use for test.\n",
    "    \"\"\"\n",
    "\n",
    "    # split the data frame randomly into train/ test based on the split rate\n",
    "    train, test = train_test_split(census, test_size=split_rate)\n",
    "\n",
    "    # Output information\n",
    "    print(\"\\n---------split rate: {}---------\".format(split_rate))\n",
    "\n",
    "    print(\"Train: {}\".format(train.shape))\n",
    "    print(\"Test: {}\".format(test.shape))\n",
    "\n",
    "    # go through the features to get the mean for both train and test values\n",
    "    for feature in census.columns:\n",
    "        print(\n",
    "            \"Feature: {}, mean train: {}, mean test: {}\".format(\n",
    "                feature, calculate_mean(train, feature), calculate_mean(test, feature)\n",
    "            )\n",
    "        )\n"
   ]
  },
  {
   "cell_type": "code",
   "execution_count": 9,
   "id": "ceac1659",
   "metadata": {},
   "outputs": [
    {
     "name": "stdout",
     "output_type": "stream",
     "text": [
      "\n",
      "---------split rate: 0.2---------\n",
      "Train: (26048, 5)\n",
      "Test: (6513, 5)\n",
      "Feature: age, mean train: 38.55862254299754, mean test: 38.67372946414863\n",
      "Feature: race, mean train: 2.8898955773955772, mean test: 2.8998925226470136\n",
      "Feature: sex, mean train: 0.668458230958231, mean test: 0.6721940733916781\n",
      "Feature: hours-per-week, mean train: 40.43930436117936, mean test: 40.430062951021036\n",
      "Feature: target, mean train: 0.23913544226044225, mean test: 0.24750499001996007\n",
      "\n",
      "---------split rate: 0.3---------\n",
      "Train: (22792, 5)\n",
      "Test: (9769, 5)\n",
      "Feature: age, mean train: 38.599640224640225, mean test: 38.539666291329716\n",
      "Feature: race, mean train: 2.891979641979642, mean test: 2.8916982290920257\n",
      "Feature: sex, mean train: 0.6694015444015444, mean test: 0.6687480806633228\n",
      "Feature: hours-per-week, mean train: 40.471130221130224, mean test: 40.358890367488996\n",
      "Feature: target, mean train: 0.23982098982098982, mean test: 0.24311597911761695\n",
      "\n",
      "---------split rate: 0.4---------\n",
      "Train: (19536, 5)\n",
      "Test: (13025, 5)\n",
      "Feature: age, mean train: 38.64219901719902, mean test: 38.49082533589252\n",
      "Feature: race, mean train: 2.8929668304668303, mean test: 2.8902879078694816\n",
      "Feature: sex, mean train: 0.6690724815724816, mean test: 0.669404990403071\n",
      "Feature: hours-per-week, mean train: 40.52047502047502, mean test: 40.31293666026871\n",
      "Feature: target, mean train: 0.24196355446355447, mean test: 0.23907869481765834\n"
     ]
    }
   ],
   "source": [
    "train_test_mean(0.2)\n",
    "train_test_mean(0.3)\n",
    "train_test_mean(0.4)"
   ]
  }
 ],
 "metadata": {
  "kernelspec": {
   "display_name": ".venv",
   "language": "python",
   "name": "python3"
  },
  "language_info": {
   "codemirror_mode": {
    "name": "ipython",
    "version": 3
   },
   "file_extension": ".py",
   "mimetype": "text/x-python",
   "name": "python",
   "nbconvert_exporter": "python",
   "pygments_lexer": "ipython3",
   "version": "3.10.15"
  }
 },
 "nbformat": 4,
 "nbformat_minor": 5
}
