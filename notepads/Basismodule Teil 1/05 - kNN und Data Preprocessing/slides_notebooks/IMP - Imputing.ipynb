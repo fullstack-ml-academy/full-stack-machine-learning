{
 "cells": [
  {
   "cell_type": "markdown",
   "metadata": {
    "pycharm": {
     "name": "#%% md\n"
    }
   },
   "source": [
    "# Imputing"
   ]
  },
  {
   "cell_type": "markdown",
   "metadata": {
    "pycharm": {
     "name": "#%% md\n"
    }
   },
   "source": [
    "## Imports"
   ]
  },
  {
   "cell_type": "code",
   "execution_count": 1,
   "metadata": {
    "pycharm": {
     "name": "#%%\n"
    }
   },
   "outputs": [],
   "source": [
    "import numpy as np\n",
    "from sklearn.datasets import load_iris\n",
    "from sklearn.model_selection import train_test_split\n",
    "from sklearn.impute import SimpleImputer\n",
    "from sklearn.impute import KNNImputer\n",
    "from sklearn.metrics import mean_squared_error\n",
    "import matplotlib.pyplot as plt"
   ]
  },
  {
   "cell_type": "markdown",
   "metadata": {
    "pycharm": {
     "name": "#%% md\n"
    }
   },
   "source": [
    "## Datengrundlage"
   ]
  },
  {
   "cell_type": "code",
   "execution_count": 2,
   "metadata": {
    "pycharm": {
     "name": "#%%\n"
    }
   },
   "outputs": [],
   "source": [
    "data = load_iris()\n",
    "x_original = data[\"data\"]\n",
    "y = data[\"target\"]\n",
    "x = x_original.copy()"
   ]
  },
  {
   "cell_type": "markdown",
   "metadata": {
    "pycharm": {
     "name": "#%% md\n"
    }
   },
   "source": [
    "## Daten zufällig entfernen"
   ]
  },
  {
   "cell_type": "code",
   "execution_count": 3,
   "metadata": {
    "pycharm": {
     "name": "#%%\n"
    }
   },
   "outputs": [],
   "source": [
    "remove_n = 20\n",
    "rows = np.random.randint(0,x.shape[0],size=remove_n)\n",
    "cols = np.random.randint(0,x.shape[1],size=remove_n)"
   ]
  },
  {
   "cell_type": "code",
   "execution_count": 4,
   "metadata": {
    "pycharm": {
     "name": "#%%\n"
    }
   },
   "outputs": [],
   "source": [
    "for ri,ci in zip(rows,cols):\n",
    "    x[ri,ci] = np.nan"
   ]
  },
  {
   "cell_type": "code",
   "execution_count": 5,
   "metadata": {
    "pycharm": {
     "name": "#%%\n"
    }
   },
   "outputs": [
    {
     "name": "stdout",
     "output_type": "stream",
     "text": [
      "20 von 600 Werten fehlen\n"
     ]
    }
   ],
   "source": [
    "print(\"{} von {} Werten fehlen\".format(np.count_nonzero(np.isnan(x)),x.size))"
   ]
  },
  {
   "cell_type": "markdown",
   "metadata": {
    "pycharm": {
     "name": "#%% md\n"
    }
   },
   "source": [
    "## Daten in Test- und Trainingsdaten teilen\n",
    "Auch bei fehlenden Werte müssen die Daten stets zuerst in Test- und Trainingsdaten geteilt werden. Die Methoden zum Imputing werden dabei nur auf den Trainingsdaten erstellt und dann auf die Testdaten angewandt"
   ]
  },
  {
   "cell_type": "code",
   "execution_count": 6,
   "metadata": {
    "pycharm": {
     "name": "#%%\n"
    }
   },
   "outputs": [],
   "source": [
    "x_train, x_test, y_train, y_test = train_test_split(x, y, test_size=0.33, random_state=45)"
   ]
  },
  {
   "cell_type": "code",
   "execution_count": 7,
   "metadata": {
    "pycharm": {
     "name": "#%%\n"
    }
   },
   "outputs": [
    {
     "name": "stdout",
     "output_type": "stream",
     "text": [
      "11 von 400 Werten im Trainingsdatensatz fehlen\n",
      "9 von 200 Werten im Testdatensatz fehlen\n"
     ]
    }
   ],
   "source": [
    "print(\"{} von {} Werten im Trainingsdatensatz fehlen\".format(np.count_nonzero(np.isnan(x_train)),x_train.size))\n",
    "print(\"{} von {} Werten im Testdatensatz fehlen\".format(np.count_nonzero(np.isnan(x_test)),x_test.size))"
   ]
  },
  {
   "cell_type": "markdown",
   "metadata": {
    "pycharm": {
     "name": "#%% md\n"
    }
   },
   "source": [
    "## Imputer trainieren und anwenden"
   ]
  },
  {
   "cell_type": "code",
   "execution_count": 8,
   "metadata": {
    "pycharm": {
     "name": "#%%\n"
    }
   },
   "outputs": [
    {
     "data": {
      "text/plain": "array([5.868,   nan,   nan,   nan])"
     },
     "execution_count": 8,
     "metadata": {},
     "output_type": "execute_result"
    }
   ],
   "source": [
    "mean = np.mean(x_train,axis=0)\n",
    "mean"
   ]
  },
  {
   "cell_type": "code",
   "execution_count": 9,
   "metadata": {
    "pycharm": {
     "name": "#%%\n"
    }
   },
   "outputs": [],
   "source": [
    "imputer = SimpleImputer()\n",
    "imputer.fit(x_train)\n",
    "x_train = imputer.transform(x_train)\n",
    "x_test = imputer.transform(x_test)"
   ]
  },
  {
   "cell_type": "code",
   "execution_count": 10,
   "metadata": {
    "pycharm": {
     "name": "#%%\n"
    }
   },
   "outputs": [
    {
     "data": {
      "text/plain": "array([[4.8, 3. , 1.4, 0.3],\n       [5.6, 3. , 4.5, 1.5],\n       [6.4, 2.8, 5.6, 2.1],\n       [5.3, 3.7, 1.5, 0.2],\n       [6.7, 3.3, 5.7, 2.5],\n       [5.1, 3.8, 1.5, 0.3],\n       [4.7, 3.2, 1.6, 0.2],\n       [5.6, 2.7, 4.2, 1.3],\n       [4.6, 3.2, 1.4, 0.2],\n       [5.5, 2.6, 4.4, 1.2],\n       [6.3, 2.5, 4.9, 1.5],\n       [6. , 3. , 4.8, 1.8],\n       [5.6, 2.5, 3.9, 1.1],\n       [6.9, 3.1, 5.1, 2.3],\n       [4.7, 3.2, 1.3, 0.2],\n       [5.1, 3.4, 1.5, 0.2],\n       [4.5, 2.3, 1.3, 0.3],\n       [5.1, 3.3, 1.7, 0.5],\n       [6.1, 2.8, 4. , 1.3],\n       [5. , 3.4, 1.5, 0.2]])"
     },
     "execution_count": 10,
     "metadata": {},
     "output_type": "execute_result"
    }
   ],
   "source": [
    "x_train[:20]"
   ]
  },
  {
   "cell_type": "code",
   "execution_count": 11,
   "metadata": {
    "pycharm": {
     "name": "#%%\n"
    }
   },
   "outputs": [
    {
     "name": "stdout",
     "output_type": "stream",
     "text": [
      "0 von 400 Werten im Trainingsdatensatz fehlen\n",
      "0 von 200 Werten im Testdatensatz fehlen\n"
     ]
    }
   ],
   "source": [
    "print(\"{} von {} Werten im Trainingsdatensatz fehlen\".format(np.count_nonzero(np.isnan(x_train)),x_train.size))\n",
    "print(\"{} von {} Werten im Testdatensatz fehlen\".format(np.count_nonzero(np.isnan(x_test)),x_test.size))"
   ]
  },
  {
   "cell_type": "markdown",
   "metadata": {
    "pycharm": {
     "name": "#%% md\n"
    }
   },
   "source": [
    "## Imputed Werte sind den realen Werten statistisch gesehen nah"
   ]
  },
  {
   "cell_type": "code",
   "execution_count": 12,
   "metadata": {
    "pycharm": {
     "name": "#%%\n"
    }
   },
   "outputs": [
    {
     "data": {
      "text/plain": "0.029039541749106133"
     },
     "execution_count": 12,
     "metadata": {},
     "output_type": "execute_result"
    }
   ],
   "source": [
    "mean_squared_error(imputer.transform(x),x_original)"
   ]
  },
  {
   "cell_type": "code",
   "execution_count": 13,
   "metadata": {
    "pycharm": {
     "name": "#%%\n"
    }
   },
   "outputs": [
    {
     "data": {
      "text/plain": "<Figure size 576x432 with 1 Axes>",
      "image/png": "[encoded data removed]"
     },
     "metadata": {
      "needs_background": "light"
     },
     "output_type": "display_data"
    }
   ],
   "source": [
    "plt.figure(figsize=(8,6))\n",
    "label_imputed, label_original = \"\", \"\"\n",
    "for i in range(5):\n",
    "    # Plot Labels nur einmal\n",
    "    if i == 4:\n",
    "        label_imputed=\"Imputed\"\n",
    "        label_original=\"Original\"\n",
    "        \n",
    "    # Errechne die fehlenden Werte\n",
    "    x1,x2 = imputer.transform(x)[rows[np.where(cols<=1)][i],:1], imputer.transform(x)[rows[np.where(cols<=1)][i],1:2]\n",
    "    \n",
    "    # Plotte die Imputed Werte und fortlaufende Nummer\n",
    "    plt.scatter(x1,x2,c=\"#CC1B58\",label=label_imputed)\n",
    "    plt.text(x1-0.03,x2+0.1,str(i),c=\"#CC1B58\")\n",
    "    \n",
    "    # Plotte die originalen Werte und fortlaufende Nummmder\n",
    "    plt.scatter(x_original[rows[np.where(cols<=1)][i],:1],x_original[rows[np.where(cols<=1)][i],1:2],c=\"#1ACC94\",label=label_original)\n",
    "    plt.text(x_original[rows[np.where(cols<=1)][i],:1]-0.03,x_original[rows[np.where(cols<=1)][i],1:2]+0.1,str(i),c=\"#1ACC94\")\n",
    "    \n",
    "# Plot beschreiben\n",
    "plt.xlim(np.min(x_original[:,:1]),np.max(x_original[:,:1]))\n",
    "plt.ylim(np.min(x_original[:,1:2]),np.max(x_original[:,1:2]))\n",
    "plt.title(\"Imputed und Originale Werte\")\n",
    "plt.legend()\n",
    "plt.xlabel(\"$x_1$\")\n",
    "plt.ylabel(\"$x_2$\")\n",
    "plt.show()"
   ]
  },
  {
   "cell_type": "markdown",
   "metadata": {
    "pycharm": {
     "name": "#%% md\n"
    }
   },
   "source": [
    "## kNN Imputer verwenden"
   ]
  },
  {
   "cell_type": "code",
   "execution_count": 14,
   "metadata": {
    "pycharm": {
     "name": "#%%\n"
    }
   },
   "outputs": [],
   "source": [
    "knn_imputer = KNNImputer()\n",
    "knn_imputer.fit(x_train)\n",
    "x_train = knn_imputer.transform(x_train)\n",
    "x_test = knn_imputer.transform(x_test)"
   ]
  },
  {
   "cell_type": "code",
   "execution_count": 15,
   "metadata": {
    "pycharm": {
     "name": "#%%\n"
    }
   },
   "outputs": [
    {
     "data": {
      "text/plain": "<Figure size 576x432 with 1 Axes>",
      "image/png": "[encoded data removed]"
     },
     "metadata": {
      "needs_background": "light"
     },
     "output_type": "display_data"
    }
   ],
   "source": [
    "plt.figure(figsize=(8,6))\n",
    "label_imputed, label_original, label_knn_imputed = \"\", \"\", \"\"\n",
    "for i in range(5):\n",
    "    # Plot Labels nur einmal\n",
    "    if i == 4:\n",
    "        label_imputed=\"Imputed\"\n",
    "        label_knn_imputed=\"Knn Imputed\"\n",
    "        label_original=\"Original\"\n",
    "        \n",
    "    # Errechne die fehlenden Werte\n",
    "    x1,x2 = imputer.transform(x)[rows[np.where(cols<=1)][i],:1], imputer.transform(x)[rows[np.where(cols<=1)][i],1:2]\n",
    "    \n",
    "    # Plotte die Imputed Werte und fortlaufende Nummer\n",
    "    plt.scatter(x1,x2,c=\"#CC1B58\",label=label_imputed)\n",
    "    plt.text(x1-0.03,x2+0.1,str(i),c=\"#CC1B58\")\n",
    "    \n",
    "    # Errechne die fehlenden Werte\n",
    "    knnx1,knnx2 = knn_imputer.transform(x)[rows[np.where(cols<=1)][i],:1], knn_imputer.transform(x)[rows[np.where(cols<=1)][i],1:2]\n",
    "    \n",
    "    # Plotte die Imputed Werte und fortlaufende Nummer\n",
    "    plt.scatter(knnx1,knnx2,c=\"#7902E5\",label=label_knn_imputed)\n",
    "    plt.text(knnx1-0.03,knnx2+0.1,str(i),c=\"#7902E5\")\n",
    "    \n",
    "    # Plotte die originalen Werte und fortlaufende Nummmder\n",
    "    plt.scatter(x_original[rows[np.where(cols<=1)][i],:1],x_original[rows[np.where(cols<=1)][i],1:2],c=\"#1ACC94\",label=label_original)\n",
    "    plt.text(x_original[rows[np.where(cols<=1)][i],:1]-0.03,x_original[rows[np.where(cols<=1)][i],1:2]+0.1,str(i),c=\"#1ACC94\")\n",
    "    \n",
    "# Plot beschreiben\n",
    "plt.xlim(np.min(x_original[:,:1]),np.max(x_original[:,:1]))\n",
    "plt.ylim(np.min(x_original[:,1:2]),np.max(x_original[:,1:2]))\n",
    "plt.title(\"Imputierte und originale Werte\")\n",
    "plt.legend()\n",
    "plt.xlabel(\"$x_1$\")\n",
    "plt.ylabel(\"$x_2$\")\n",
    "plt.show()"
   ]
  },
  {
   "cell_type": "code",
   "execution_count": null,
   "metadata": {
    "pycharm": {
     "name": "#%%\n"
    }
   },
   "outputs": [],
   "source": []
  }
 ],
 "metadata": {
  "kernelspec": {
   "display_name": "Python 3 (ipykernel)",
   "language": "python",
   "name": "python3"
  },
  "language_info": {
   "codemirror_mode": {
    "name": "ipython",
    "version": 3
   },
   "file_extension": ".py",
   "mimetype": "text/x-python",
   "name": "python",
   "nbconvert_exporter": "python",
   "pygments_lexer": "ipython3",
   "version": "3.8.12"
  }
 },
 "nbformat": 4,
 "nbformat_minor": 4
}