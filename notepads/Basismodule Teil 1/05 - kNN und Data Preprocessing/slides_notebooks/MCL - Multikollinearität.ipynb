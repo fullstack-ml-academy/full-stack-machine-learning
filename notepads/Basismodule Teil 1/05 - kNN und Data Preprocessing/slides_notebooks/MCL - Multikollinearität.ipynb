{
 "cells": [
  {
   "cell_type": "markdown",
   "metadata": {
    "pycharm": {
     "name": "#%% md\n"
    }
   },
   "source": [
    "# Multikollinearität"
   ]
  },
  {
   "cell_type": "markdown",
   "metadata": {
    "pycharm": {
     "name": "#%% md\n"
    }
   },
   "source": [
    "## Imports"
   ]
  },
  {
   "cell_type": "code",
   "execution_count": 5,
   "metadata": {
    "pycharm": {
     "name": "#%%\n"
    }
   },
   "outputs": [],
   "source": [
    "import pandas as pd\n",
    "import os"
   ]
  },
  {
   "cell_type": "markdown",
   "metadata": {
    "pycharm": {
     "name": "#%% md\n"
    }
   },
   "source": [
    "## Datengrundlage"
   ]
  },
  {
   "cell_type": "code",
   "execution_count": 6,
   "metadata": {
    "pycharm": {
     "name": "#%%\n"
    }
   },
   "outputs": [],
   "source": [
    "data = pd.read_csv(os.path.join('..', '..', '..', '..', 'data', 'mpg.csv'))[[\"cylinders\",\"displacement\",\"horsepower\",\"weight\",\"model year\"]]\n",
    "data[\"car age\"] = 2021-data[\"model year\"] # perfekte Multikollinearität"
   ]
  },
  {
   "cell_type": "code",
   "execution_count": 7,
   "metadata": {
    "pycharm": {
     "name": "#%%\n"
    }
   },
   "outputs": [
    {
     "data": {
      "text/plain": "              cylinders  displacement  horsepower    weight  model year  \\\ncylinders      1.000000      0.950721    0.842426  0.896017    0.348746   \ndisplacement   0.950721      1.000000    0.897304  0.932824    0.370164   \nhorsepower     0.842426      0.897304    1.000000  0.865087    0.412879   \nweight         0.896017      0.932824    0.865087  1.000000    0.306564   \nmodel year     0.348746      0.370164    0.412879  0.306564    1.000000   \ncar age        0.348746      0.370164    0.412879  0.306564    1.000000   \n\n               car age  \ncylinders     0.348746  \ndisplacement  0.370164  \nhorsepower    0.412879  \nweight        0.306564  \nmodel year    1.000000  \ncar age       1.000000  ",
      "text/html": "<div>\n<style scoped>\n    .dataframe tbody tr th:only-of-type {\n        vertical-align: middle;\n    }\n\n    .dataframe tbody tr th {\n        vertical-align: top;\n    }\n\n    .dataframe thead th {\n        text-align: right;\n    }\n</style>\n<table border=\"1\" class=\"dataframe\">\n  <thead>\n    <tr style=\"text-align: right;\">\n      <th></th>\n      <th>cylinders</th>\n      <th>displacement</th>\n      <th>horsepower</th>\n      <th>weight</th>\n      <th>model year</th>\n      <th>car age</th>\n    </tr>\n  </thead>\n  <tbody>\n    <tr>\n      <th>cylinders</th>\n      <td>1.000000</td>\n      <td>0.950721</td>\n      <td>0.842426</td>\n      <td>0.896017</td>\n      <td>0.348746</td>\n      <td>0.348746</td>\n    </tr>\n    <tr>\n      <th>displacement</th>\n      <td>0.950721</td>\n      <td>1.000000</td>\n      <td>0.897304</td>\n      <td>0.932824</td>\n      <td>0.370164</td>\n      <td>0.370164</td>\n    </tr>\n    <tr>\n      <th>horsepower</th>\n      <td>0.842426</td>\n      <td>0.897304</td>\n      <td>1.000000</td>\n      <td>0.865087</td>\n      <td>0.412879</td>\n      <td>0.412879</td>\n    </tr>\n    <tr>\n      <th>weight</th>\n      <td>0.896017</td>\n      <td>0.932824</td>\n      <td>0.865087</td>\n      <td>1.000000</td>\n      <td>0.306564</td>\n      <td>0.306564</td>\n    </tr>\n    <tr>\n      <th>model year</th>\n      <td>0.348746</td>\n      <td>0.370164</td>\n      <td>0.412879</td>\n      <td>0.306564</td>\n      <td>1.000000</td>\n      <td>1.000000</td>\n    </tr>\n    <tr>\n      <th>car age</th>\n      <td>0.348746</td>\n      <td>0.370164</td>\n      <td>0.412879</td>\n      <td>0.306564</td>\n      <td>1.000000</td>\n      <td>1.000000</td>\n    </tr>\n  </tbody>\n</table>\n</div>"
     },
     "execution_count": 7,
     "metadata": {},
     "output_type": "execute_result"
    }
   ],
   "source": [
    "corr_matrix = data.corr().abs()\n",
    "corr_matrix"
   ]
  },
  {
   "cell_type": "code",
   "execution_count": null,
   "metadata": {
    "pycharm": {
     "name": "#%%\n"
    }
   },
   "outputs": [],
   "source": []
  }
 ],
 "metadata": {
  "kernelspec": {
   "display_name": "Python 3 (ipykernel)",
   "language": "python",
   "name": "python3"
  },
  "language_info": {
   "codemirror_mode": {
    "name": "ipython",
    "version": 3
   },
   "file_extension": ".py",
   "mimetype": "text/x-python",
   "name": "python",
   "nbconvert_exporter": "python",
   "pygments_lexer": "ipython3",
   "version": "3.8.12"
  }
 },
 "nbformat": 4,
 "nbformat_minor": 4
}