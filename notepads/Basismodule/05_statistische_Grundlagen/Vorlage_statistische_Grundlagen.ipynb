{
 "cells": [
  {
   "cell_type": "markdown",
   "id": "ce459c5e",
   "metadata": {
    "pycharm": {
     "name": "#%% md\n"
    }
   },
   "source": [
    "# Aufgabe: Statistische Grundlagen\n",
    "\n",
    "Versuchen Sie, Diskriminierung beim Gehalt mit Census Datensatz aufzuzeigen."
   ]
  },
  {
   "cell_type": "markdown",
   "metadata": {
    "collapsed": false,
    "pycharm": {
     "name": "#%% md\n"
    }
   },
   "source": [
    "### 1. Laden Sie den Census Datensatz mittels Pandas in Ihre Notebook:"
   ]
  },
  {
   "cell_type": "code",
   "execution_count": 1,
   "id": "220b168a",
   "metadata": {
    "pycharm": {
     "name": "#%%\n"
    }
   },
   "outputs": [],
   "source": [
    "import pandas as pd\n",
    "import os\n"
   ]
  },
  {
   "cell_type": "code",
   "execution_count": 2,
   "metadata": {
    "collapsed": false,
    "pycharm": {
     "name": "#%%\n"
    }
   },
   "outputs": [],
   "source": [
    "# Laden des Datensatzes und Vorbereitung der Daten wie in 04 Einführung Python\n",
    "\n",
    "# data.head(10)"
   ]
  },
  {
   "cell_type": "markdown",
   "id": "4135cb88",
   "metadata": {
    "pycharm": {
     "name": "#%% md\n"
    }
   },
   "source": [
    "### 2. Führen Sie für alle relevante Features eine explorative Datenanalyse zusammen: erstellen Sie eine visuelle Übersicht über den Datensatz"
   ]
  },
  {
   "cell_type": "code",
   "execution_count": 3,
   "metadata": {
    "collapsed": false,
    "pycharm": {
     "name": "#%%\n"
    }
   },
   "outputs": [],
   "source": [
    "# Bibliothek zur Darstellung der Daten\n",
    "import matplotlib.pyplot as plt\n",
    "\n",
    "# welche Plots könnten hier sinnvoll sein um die Verteilung der Features darzustellen?\n",
    "# jedes Feature kann in einem eigenen Diagramm dargestellt werden"
   ]
  },
  {
   "cell_type": "markdown",
   "metadata": {
    "collapsed": false,
    "pycharm": {
     "name": "#%% md\n"
    }
   },
   "source": [
    "### 3. Finden Sie Auffälligkeiten im Datensatz. Welches Visualisierungstool könnte dabei hilfreich sein?"
   ]
  },
  {
   "cell_type": "code",
   "execution_count": 4,
   "id": "e3fb48fb",
   "metadata": {},
   "outputs": [],
   "source": [
    "# machen Sie sich mit den Arten von Diagrammen in matplotlib vertraut\n",
    "# Es sollten statistische Größen und Ausreißer sichtbar sein"
   ]
  },
  {
   "cell_type": "markdown",
   "metadata": {
    "collapsed": false,
    "pycharm": {
     "name": "#%% md\n"
    }
   },
   "source": [
    "### 4. Geben Sie eine erste Abschätzung, welche Features für die Vorhersage des Targets (Einkommen größer oder kleiner als 50k) gut geeignet sind und versuchen Sie mithilfe der betrachteten statistischen Werkzeug Diskriminierung beim Gehalt aufzuzeigen."
   ]
  },
  {
   "cell_type": "code",
   "execution_count": 5,
   "metadata": {
    "collapsed": false,
    "pycharm": {
     "name": "#%%\n"
    }
   },
   "outputs": [],
   "source": [
    "# Analysieren Sie den Zusammenhang der Features und der Zielvariable\n",
    "\n",
    "# Die Zielvariable muss erstmal zu einer binären Variable geändert werden"
   ]
  }
 ],
 "metadata": {
  "kernelspec": {
   "display_name": ".venv",
   "language": "python",
   "name": "python3"
  },
  "language_info": {
   "codemirror_mode": {
    "name": "ipython",
    "version": 3
   },
   "file_extension": ".py",
   "mimetype": "text/x-python",
   "name": "python",
   "nbconvert_exporter": "python",
   "pygments_lexer": "ipython3",
   "version": "3.10.15"
  }
 },
 "nbformat": 4,
 "nbformat_minor": 5
}
