{
 "cells": [
  {
   "cell_type": "markdown",
   "id": "ce459c5e",
   "metadata": {},
   "source": [
    "# *Aufgabe: Gradientenverfahren*"
   ]
  },
  {
   "cell_type": "markdown",
   "id": "a4b6f1a7",
   "metadata": {},
   "source": [
    "0. Importieren Sie alle die nötigen Bibliotheken."
   ]
  },
  {
   "cell_type": "code",
   "execution_count": null,
   "id": "1e0fd736",
   "metadata": {},
   "outputs": [],
   "source": [
    "import numpy as np\n",
    "\n",
    "# Importieren Sie die Bibliotheken für die Modelle und die Visualisierung"
   ]
  },
  {
   "cell_type": "markdown",
   "id": "c41ab1e2",
   "metadata": {},
   "source": [
    "1. Implementieren Sie auf Grundlage eines linearen Modells für Regressionen das Gradientenverfahren. Verwenden Sie die gleichen Daten wie in Aufgabe Modul 4:"
   ]
  },
  {
   "cell_type": "code",
   "execution_count": null,
   "id": "220b168a",
   "metadata": {},
   "outputs": [],
   "source": [
    "studying = np.array(\n",
    "    [84, 1323, 282, 957, 1386, 810, 396, 474, 501, 660, 1260, 1005, 1110, 1290]\n",
    ")\n",
    "result = np.array([44, 97, 30, 51, 95, 51, 44, 41, 21, 40, 90, 83, 61, 92])\n"
   ]
  },
  {
   "cell_type": "markdown",
   "id": "47fc106f",
   "metadata": {},
   "source": [
    "Errechnen Sie dafür den Fehler (MSE / SSE) in jede Iteration und passen Sie die Gewichte Ihres Modells auf dessen Grundlage an. Zusatzaufgabe: fügen Sie auch das Bias hinzu."
   ]
  },
  {
   "cell_type": "code",
   "execution_count": null,
   "id": "95ad7720",
   "metadata": {},
   "outputs": [],
   "source": [
    "# Initialgewicht\n",
    "w = 1\n",
    "# Anzahl der Epochen:\n",
    "epoch = 500\n",
    "# Learning rate:\n",
    "lr = 0.00000001\n",
    "\n",
    "# Vergesses Sie nicht, den Fehler bei jeder Iteration für die Visualisierung zu speichern\n",
    "\n",
    "# Gehen Sie durch alle Epochen und Berechnen sie das neue Gewicht anhand des Gradientens"
   ]
  },
  {
   "cell_type": "markdown",
   "id": "49c78e70",
   "metadata": {},
   "source": [
    "Zeigen Sie, dass Sie nach einer gewissen Anzahl Epochen (Iterationen) den Fehler Ihres Modells minimiert haben. "
   ]
  },
  {
   "cell_type": "code",
   "execution_count": null,
   "id": "24d4f6f7",
   "metadata": {},
   "outputs": [],
   "source": [
    "# Visualisieren die Fehler für jede Epoche"
   ]
  },
  {
   "cell_type": "markdown",
   "id": "28a647bb",
   "metadata": {},
   "source": [
    "Zusatzaufgabe 1. Implementieren Sie ein Momentum für Ihr Gradientenverfahren"
   ]
  },
  {
   "cell_type": "code",
   "execution_count": null,
   "id": "89eadce6",
   "metadata": {},
   "outputs": [],
   "source": [
    "# Fahren Sie fort wie in der letzten Aufgabe, aber ergänzen Sie die Formel durch das Momentum"
   ]
  },
  {
   "cell_type": "markdown",
   "id": "20cbb007",
   "metadata": {},
   "source": [
    "Zusatzaufgabe 2: Wiederholen Sie den Schritt 2 für die Logistische Regression. "
   ]
  },
  {
   "cell_type": "code",
   "execution_count": 1,
   "id": "0fd8bacd",
   "metadata": {},
   "outputs": [],
   "source": [
    "# Beachten Sie was bei der logitischen Regression im Vergleich zur linearen Regression angepasst werden muss."
   ]
  }
 ],
 "metadata": {
  "kernelspec": {
   "display_name": ".venv",
   "language": "python",
   "name": "python3"
  },
  "language_info": {
   "codemirror_mode": {
    "name": "ipython",
    "version": 3
   },
   "file_extension": ".py",
   "mimetype": "text/x-python",
   "name": "python",
   "nbconvert_exporter": "python",
   "pygments_lexer": "ipython3",
   "version": "3.10.15"
  }
 },
 "nbformat": 4,
 "nbformat_minor": 5
}
