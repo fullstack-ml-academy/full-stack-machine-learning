{
 "cells": [
  {
   "cell_type": "markdown",
   "id": "ce459c5e",
   "metadata": {
    "pycharm": {
     "name": "#%% md\n"
    }
   },
   "source": [
    "# *Aufgabe: Lineare Methoden*"
   ]
  },
  {
   "cell_type": "markdown",
   "id": "a4b6f1a7",
   "metadata": {
    "pycharm": {
     "name": "#%% md\n"
    }
   },
   "source": [
    "0. Importieren Sie alle die nötigen Bibliotheken."
   ]
  },
  {
   "cell_type": "code",
   "execution_count": null,
   "id": "1e0fd736",
   "metadata": {
    "pycharm": {
     "name": "#%%\n"
    }
   },
   "outputs": [],
   "source": [
    "# Zum Beispiel zur Darstellung\n",
    "import matplotlib.pyplot as plt\n",
    "\n",
    "# Für den Umgang mit Arrays\n",
    "import numpy as np\n",
    "\n",
    "# Importieren sie benötigte Funktionen für die Modelle und statistische Auswertung"
   ]
  },
  {
   "cell_type": "markdown",
   "id": "c41ab1e2",
   "metadata": {
    "pycharm": {
     "name": "#%% md\n"
    }
   },
   "source": [
    "### Aufgabe 1. Lineare Regression per Hand\n",
    "Implementieren Sie die Lineare Regression per Hand. Versuchen Sie händisch so eine Kombination von w (Gewicht) und b (Bias) zu finden, dass der Fehler (MSE/SSE/RMSE) minimal wird. Visualisieren Sie das modell für unterschiedliche w’s und b’s. Nutzen Sie dafür folgende Daten:"
   ]
  },
  {
   "cell_type": "code",
   "execution_count": null,
   "id": "220b168a",
   "metadata": {
    "pycharm": {
     "name": "#%%\n"
    }
   },
   "outputs": [],
   "source": [
    "# Vorgegebene Daten aus der Aufgabe\n",
    "studying = np.array(\n",
    "    [84, 1323, 282, 957, 1386, 810, 396, 474, 501, 660, 1260, 1005, 1110, 1290]\n",
    ")\n",
    "result = np.array([44, 97, 30, 51, 95, 51, 44, 41, 21, 40, 90, 83, 61, 92])\n",
    "\n",
    "# Visualisieren sie die Daten um ein Gefühl für die Verteilung zu bekommen"
   ]
  },
  {
   "cell_type": "markdown",
   "id": "3d899592",
   "metadata": {
    "pycharm": {
     "name": "#%% md\n"
    }
   },
   "source": [
    "Definieren Sie Vektoren mit Gewichten und Bias Werten und berechnen Sie die lineare Regression sowie den Fehler. Visualisieren Sie Ihr Ergebnis."
   ]
  },
  {
   "cell_type": "code",
   "execution_count": null,
   "id": "08e2a8e0",
   "metadata": {
    "pycharm": {
     "name": "#%%\n"
    }
   },
   "outputs": [],
   "source": [
    "# Definieren Sie Vektoren mit Gewichten und Bias Werten und berechnen Sie die lineare Regression sowie den Fehler\n",
    "# Die Werte der Gewichte und Biases können zufällig gewählt werden\n",
    "\n",
    "# Die Gewichte und der Bias ergeben mit den Eingabewerten eine Funktion für die Vorhersage\n",
    "\n",
    "# Der Fehler berechnet sich aus der Vorhersage und den Zielwerten\n",
    "\n",
    "# Visualisieren Sie Ihr Ergebnis als Regressionsgeraden für alle Kombinationen"
   ]
  },
  {
   "cell_type": "markdown",
   "id": "2e316275",
   "metadata": {
    "pycharm": {
     "name": "#%% md\n"
    }
   },
   "source": [
    "### Aufgabe 2. Polynomiale Regression"
   ]
  },
  {
   "cell_type": "markdown",
   "id": "4135cb88",
   "metadata": {
    "pycharm": {
     "name": "#%% md\n"
    }
   },
   "source": [
    "1. Implementieren Sie ein Polynomiales Modell für Regression für den Polynomgrad 1 bis 7. Trainieren Sie dafür sklearn Modelle, die für den studying Vektor die Prädiktion von result zurückliefert (die Daten aus der Aufgabe 1). Vergleichen Sie den Fehler für unterschiedliche Polynomgrade. Visualisieren Sie die Modelle. "
   ]
  },
  {
   "cell_type": "code",
   "execution_count": null,
   "id": "95ad7720",
   "metadata": {
    "pycharm": {
     "name": "#%%\n"
    }
   },
   "outputs": [],
   "source": [
    "from sklearn.preprocessing import PolynomialFeatures\n",
    "\n",
    "# Schauen sie sich an wie die PolynomialFeatures verwendet werden\n",
    "\n",
    "# Erstellen Sie Modelle für alle Polynomgrade und berechnen sie Vorhersagen damit\n",
    "\n",
    "# Visualisieren Sie die Regressionskurven"
   ]
  },
  {
   "cell_type": "markdown",
   "id": "28a647bb",
   "metadata": {
    "pycharm": {
     "name": "#%% md\n"
    }
   },
   "source": [
    "2. Binarisieren Sie nun den Result Vektor für die Logistische Regression nach Bestanden (>= 50) und Nicht Bestanden (< 50) und implementieren Sie vergleichbar zu der Aufgabe 2 eine Logistische Regression für Klassifikation. "
   ]
  },
  {
   "cell_type": "code",
   "execution_count": null,
   "id": "89eadce6",
   "metadata": {
    "pycharm": {
     "name": "#%%\n"
    }
   },
   "outputs": [],
   "source": [
    "# Binarisieren Sie das Ergebnis, so dass der Vektor nur noch aus 0 und 1 besteht\n",
    "\n",
    "# Verwenden Sie eine logistische Regression statt der linearen Regression\n",
    "\n",
    "# Führen Sie die Vorhersage der Wahrscheinlichkeiten durch und berechnen Sie die Accuracy\n",
    "\n",
    "# Darstellung über den gesamten Wertebereich (Schauen Sie sich contourf in matplotlib an)"
   ]
  }
 ],
 "metadata": {
  "kernelspec": {
   "display_name": ".venv",
   "language": "python",
   "name": "python3"
  },
  "language_info": {
   "codemirror_mode": {
    "name": "ipython",
    "version": 3
   },
   "file_extension": ".py",
   "mimetype": "text/x-python",
   "name": "python",
   "nbconvert_exporter": "python",
   "pygments_lexer": "ipython3",
   "version": "3.10.15"
  }
 },
 "nbformat": 4,
 "nbformat_minor": 5
}
