{
 "cells": [
  {
   "cell_type": "markdown",
   "metadata": {},
   "source": [
    "# Decision Tree Classifier"
   ]
  },
  {
   "cell_type": "markdown",
   "metadata": {},
   "source": [
    "## Imports"
   ]
  },
  {
   "cell_type": "code",
   "execution_count": 1,
   "metadata": {},
   "outputs": [],
   "source": [
    "import pandas as pd\n",
    "import numpy as np\n",
    "import matplotlib.pyplot as plt\n",
    "from sklearn.tree import DecisionTreeClassifier"
   ]
  },
  {
   "cell_type": "markdown",
   "metadata": {},
   "source": [
    "## Daten"
   ]
  },
  {
   "cell_type": "code",
   "execution_count": 2,
   "metadata": {},
   "outputs": [],
   "source": [
    "data_train = pd.DataFrame([[1,1,0,1],[0,0,0,0],[0,0,1,1],[1,0,0,0],[0,1,1,0],[1,0,1,1],[1,0,1,1],[1,1,0,1],[1,0,1,1],[0,1,0,0]],\n",
    "                    columns=[\"Hut\",\"Brille\",\"Mund\",\"Verkauft\"])\n",
    "data_test = pd.DataFrame([[0,0,1,1],[0,1,0,0],[1,0,1,1],[1,0,0,0],[0,0,0,1]],\n",
    "                    columns=[\"Hut\",\"Brille\",\"Mund\",\"Verkauft\"])\n",
    "\n",
    "x_train = data_train.drop([\"Verkauft\"],axis=1)\n",
    "y_train = data_train[\"Verkauft\"]\n",
    "\n",
    "x_test = data_test.drop([\"Verkauft\"],axis=1)\n",
    "y_test = data_test[\"Verkauft\"]"
   ]
  },
  {
   "cell_type": "markdown",
   "metadata": {},
   "source": [
    "## Base Rate"
   ]
  },
  {
   "cell_type": "code",
   "execution_count": 3,
   "metadata": {},
   "outputs": [
    {
     "data": {
      "image/png": "[encoded data removed]",
      "text/plain": [
       "<Figure size 432x288 with 1 Axes>"
      ]
     },
     "metadata": {
      "needs_background": "light"
     },
     "output_type": "display_data"
    }
   ],
   "source": [
    "mapping = {0:\"Nicht Verkauft\",1:\"Verkauft\"} \n",
    "plt.bar(y_train.value_counts().index,y_train.value_counts()/y_train.shape[0],tick_label=y_train.value_counts().index.map(mapping),color=[\"#1ACC94\",\"#CC1B58\"])\n",
    "plt.hlines(0.5,-0.5,1.5,ls=\"--\",alpha=0.5)\n",
    "plt.xlim(-0.5,1.5)\n",
    "plt.ylim(0,1)\n",
    "plt.title(\"Häufigkeit der Target Values\")\n",
    "plt.ylabel(\"Relative Klassenhäufigkeit\")\n",
    "plt.show()"
   ]
  },
  {
   "cell_type": "markdown",
   "metadata": {},
   "source": [
    "## Entropie"
   ]
  },
  {
   "cell_type": "code",
   "execution_count": 4,
   "metadata": {},
   "outputs": [
    {
     "name": "stdout",
     "output_type": "stream",
     "text": [
      "Entropie für Attribut Hut = 1: 0.65\n",
      "Entropie für Attribut Hut = 0: 0.81\n",
      "Entropie für Attribut Brille = 1: 1.00\n",
      "Entropie für Attribut Brille = 0: 0.92\n",
      "Entropie für Attribut Mund = 0: 0.97\n",
      "Entropie für Attribut Mund = 1: 0.72\n"
     ]
    }
   ],
   "source": [
    "merged_dataframe = pd.concat([x_train,y_train],axis=1)\n",
    "\n",
    "# Für jedes Attribut (jede Spalte) im Inputdatensatz\n",
    "for column in x_train:\n",
    "    # Für jede unqiue Ausprägung in der aktuellen Spalte\n",
    "    for unique_value in x_train[column].unique():\n",
    "        entropy_values = []\n",
    "        # entropy_values uniquen Ausprägungen in Y (0 und 1 in diesem Fall)\n",
    "        for target_value in y_train.unique():\n",
    "            pi = merged_dataframe.loc[(merged_dataframe[column] == unique_value) & (merged_dataframe[\"Verkauft\"] == target_value)].shape[0]/merged_dataframe.loc[(merged_dataframe[column] == unique_value)].shape[0]\n",
    "            entropy_values.append(pi*np.log2(pi))\n",
    "        entropy = -np.sum(entropy_values)\n",
    "        print(\"Entropie für Attribut {} = {}: {:.2f}\".format(column,unique_value,entropy))\n",
    "    \n",
    "    "
   ]
  },
  {
   "cell_type": "markdown",
   "metadata": {},
   "source": [
    "## Information Gain"
   ]
  },
  {
   "cell_type": "code",
   "execution_count": 5,
   "metadata": {},
   "outputs": [
    {
     "name": "stdout",
     "output_type": "stream",
     "text": [
      "Information Gain für Attribut Hut:0.26\n",
      "Information Gain für Attribut Brille:0.02\n",
      "Information Gain für Attribut Mund:0.12\n"
     ]
    }
   ],
   "source": [
    "merged_dataframe = pd.concat([x_train,y_train],axis=1)\n",
    "\n",
    "# Für jedes Attribut (jede Spalte) im Inputdatensatz\n",
    "for column in x_train:\n",
    "    # Für jede unqiue Ausprägung in der aktuellen Spalte\n",
    "    parent_pi1 = merged_dataframe.loc[merged_dataframe[\"Verkauft\"] == 0].shape[0]/merged_dataframe.shape[0]\n",
    "    parent_pi2 = merged_dataframe.loc[merged_dataframe[\"Verkauft\"] == 1].shape[0]/merged_dataframe.shape[0]\n",
    "    parent_entropy = -(parent_pi1*np.log2(parent_pi1)+parent_pi2*np.log2(parent_pi2))\n",
    "\n",
    "    entropies = []\n",
    "    for unique_value in x_train[column].unique():\n",
    "        entropy_values = []\n",
    "        # Alle uniquen Ausprägungen in Y (0 und 1 in diesem Fall)\n",
    "        for target_value in y_train.unique():\n",
    "            pi = merged_dataframe.loc[(merged_dataframe[column] == unique_value) & (merged_dataframe[\"Verkauft\"] == target_value)].shape[0]/merged_dataframe.loc[(merged_dataframe[column] == unique_value)].shape[0]\n",
    "            entropy_values.append(pi*np.log2(pi))\n",
    "        entropies.append(np.sum(entropy_values)*-1*merged_dataframe.loc[(merged_dataframe[column] == unique_value)].shape[0]/merged_dataframe.shape[0])\n",
    "    \n",
    "    print(\"Information Gain für Attribut {}:{:.2f}\".format(column,parent_entropy-np.sum(entropies)))\n",
    "    "
   ]
  },
  {
   "cell_type": "markdown",
   "metadata": {},
   "source": [
    "## Decision Tree"
   ]
  },
  {
   "cell_type": "code",
   "execution_count": 6,
   "metadata": {},
   "outputs": [
    {
     "data": {
      "text/plain": [
       "0.8"
      ]
     },
     "execution_count": 6,
     "metadata": {},
     "output_type": "execute_result"
    }
   ],
   "source": [
    "model = DecisionTreeClassifier()\n",
    "model.fit(x_train,y_train)\n",
    "model.score(x_test,y_test)"
   ]
  },
  {
   "cell_type": "code",
   "execution_count": 7,
   "metadata": {},
   "outputs": [
    {
     "data": {
      "image/png": "[encoded data removed]",
      "text/plain": [
       "<Figure size 576x432 with 1 Axes>"
      ]
     },
     "metadata": {
      "needs_background": "light"
     },
     "output_type": "display_data"
    }
   ],
   "source": [
    "x = np.linspace(-5,5)\n",
    "y = x**2\n",
    "plt.figure(figsize=(8,6))\n",
    "plt.plot(x,y,c=\"#1ACC94\")\n",
    "plt.title(\"Optimale Learning Rate\")\n",
    "plt.show()"
   ]
  },
  {
   "cell_type": "code",
   "execution_count": 8,
   "metadata": {},
   "outputs": [],
   "source": [
    "td = pd.DataFrame([[50,60,1],[30,40,1],[40,30,0],[90,20,0],[20,10,0],[10,20,1],[30,90,1],[70,60,0],[60,70,1],[40,50,1]],\n",
    "                 columns=[\"x1\",\"x2\",\"y\"])\n"
   ]
  },
  {
   "cell_type": "code",
   "execution_count": 9,
   "metadata": {},
   "outputs": [
    {
     "data": {
      "text/html": [
       "<div>\n",
       "<style scoped>\n",
       "    .dataframe tbody tr th:only-of-type {\n",
       "        vertical-align: middle;\n",
       "    }\n",
       "\n",
       "    .dataframe tbody tr th {\n",
       "        vertical-align: top;\n",
       "    }\n",
       "\n",
       "    .dataframe thead th {\n",
       "        text-align: right;\n",
       "    }\n",
       "</style>\n",
       "<table border=\"1\" class=\"dataframe\">\n",
       "  <thead>\n",
       "    <tr style=\"text-align: right;\">\n",
       "      <th></th>\n",
       "      <th>x1</th>\n",
       "      <th>x2</th>\n",
       "      <th>y</th>\n",
       "    </tr>\n",
       "  </thead>\n",
       "  <tbody>\n",
       "    <tr>\n",
       "      <th>0</th>\n",
       "      <td>50</td>\n",
       "      <td>60</td>\n",
       "      <td>1</td>\n",
       "    </tr>\n",
       "    <tr>\n",
       "      <th>1</th>\n",
       "      <td>30</td>\n",
       "      <td>40</td>\n",
       "      <td>1</td>\n",
       "    </tr>\n",
       "    <tr>\n",
       "      <th>2</th>\n",
       "      <td>40</td>\n",
       "      <td>30</td>\n",
       "      <td>0</td>\n",
       "    </tr>\n",
       "    <tr>\n",
       "      <th>3</th>\n",
       "      <td>90</td>\n",
       "      <td>20</td>\n",
       "      <td>0</td>\n",
       "    </tr>\n",
       "    <tr>\n",
       "      <th>4</th>\n",
       "      <td>20</td>\n",
       "      <td>10</td>\n",
       "      <td>0</td>\n",
       "    </tr>\n",
       "    <tr>\n",
       "      <th>5</th>\n",
       "      <td>10</td>\n",
       "      <td>20</td>\n",
       "      <td>1</td>\n",
       "    </tr>\n",
       "    <tr>\n",
       "      <th>6</th>\n",
       "      <td>30</td>\n",
       "      <td>90</td>\n",
       "      <td>1</td>\n",
       "    </tr>\n",
       "    <tr>\n",
       "      <th>7</th>\n",
       "      <td>70</td>\n",
       "      <td>60</td>\n",
       "      <td>0</td>\n",
       "    </tr>\n",
       "    <tr>\n",
       "      <th>8</th>\n",
       "      <td>60</td>\n",
       "      <td>70</td>\n",
       "      <td>1</td>\n",
       "    </tr>\n",
       "    <tr>\n",
       "      <th>9</th>\n",
       "      <td>40</td>\n",
       "      <td>50</td>\n",
       "      <td>1</td>\n",
       "    </tr>\n",
       "  </tbody>\n",
       "</table>\n",
       "</div>"
      ],
      "text/plain": [
       "   x1  x2  y\n",
       "0  50  60  1\n",
       "1  30  40  1\n",
       "2  40  30  0\n",
       "3  90  20  0\n",
       "4  20  10  0\n",
       "5  10  20  1\n",
       "6  30  90  1\n",
       "7  70  60  0\n",
       "8  60  70  1\n",
       "9  40  50  1"
      ]
     },
     "execution_count": 9,
     "metadata": {},
     "output_type": "execute_result"
    }
   ],
   "source": [
    "td"
   ]
  },
  {
   "cell_type": "code",
   "execution_count": 10,
   "metadata": {},
   "outputs": [
    {
     "data": {
      "image/png": "[encoded data removed]",
      "text/plain": [
       "<Figure size 576x432 with 1 Axes>"
      ]
     },
     "metadata": {
      "needs_background": "light"
     },
     "output_type": "display_data"
    }
   ],
   "source": [
    "plt.figure(figsize=(8,6))\n",
    "plt.plot([0,100],[0,100],c=\"#20232E\",label=\"Reale Trennlinie\",ls=\"--\")\n",
    "plt.scatter(td.loc[td[\"y\"]==0][\"x1\"],td.loc[td[\"y\"]==0][\"x2\"],c=\"#CC1B58\")\n",
    "plt.scatter(td.loc[td[\"y\"]==1][\"x1\"],td.loc[td[\"y\"]==1][\"x2\"],c=\"#1ACC94\")\n",
    "plt.legend()\n",
    "plt.title(\"Nicht lösbare Klassifikationsaufgabe für den Decision Tree\")\n",
    "plt.xlabel(\"$x_1$\")\n",
    "plt.ylabel(\"$x_2$\")\n",
    "plt.show()"
   ]
  },
  {
   "cell_type": "code",
   "execution_count": null,
   "metadata": {},
   "outputs": [],
   "source": []
  }
 ],
 "metadata": {
  "kernelspec": {
   "display_name": "Python 3 (ipykernel)",
   "language": "python",
   "name": "python3"
  },
  "language_info": {
   "codemirror_mode": {
    "name": "ipython",
    "version": 3
   },
   "file_extension": ".py",
   "mimetype": "text/x-python",
   "name": "python",
   "nbconvert_exporter": "python",
   "pygments_lexer": "ipython3",
   "version": "3.8.12"
  }
 },
 "nbformat": 4,
 "nbformat_minor": 4
}
