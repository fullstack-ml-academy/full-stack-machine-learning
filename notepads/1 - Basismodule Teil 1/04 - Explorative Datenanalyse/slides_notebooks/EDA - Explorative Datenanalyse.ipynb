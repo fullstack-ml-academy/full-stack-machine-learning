{
 "cells": [
  {
   "cell_type": "markdown",
   "metadata": {
    "pycharm": {
     "name": "#%% md\n"
    }
   },
   "source": [
    "# Explorative Datenanalyse"
   ]
  },
  {
   "cell_type": "markdown",
   "metadata": {
    "pycharm": {
     "name": "#%% md\n"
    }
   },
   "source": [
    "## Imports"
   ]
  },
  {
   "cell_type": "code",
   "execution_count": 1,
   "metadata": {
    "pycharm": {
     "name": "#%%\n"
    }
   },
   "outputs": [
    {
     "ename": "ModuleNotFoundError",
     "evalue": "No module named 'matplotlib'",
     "output_type": "error",
     "traceback": [
      "\u001B[0;31m---------------------------------------------------------------------------\u001B[0m",
      "\u001B[0;31mModuleNotFoundError\u001B[0m                       Traceback (most recent call last)",
      "\u001B[0;32m/var/folders/vx/hcm3xqr533g30kd_72jn3qb40000gn/T/ipykernel_11580/162445620.py\u001B[0m in \u001B[0;36m<module>\u001B[0;34m\u001B[0m\n\u001B[1;32m      3\u001B[0m \u001B[0;32mfrom\u001B[0m \u001B[0mscipy\u001B[0m \u001B[0;32mimport\u001B[0m \u001B[0mstats\u001B[0m\u001B[0;34m\u001B[0m\u001B[0;34m\u001B[0m\u001B[0m\n\u001B[1;32m      4\u001B[0m \u001B[0;32mfrom\u001B[0m \u001B[0mstatsmodels\u001B[0m \u001B[0;32mimport\u001B[0m \u001B[0mrobust\u001B[0m\u001B[0;34m\u001B[0m\u001B[0;34m\u001B[0m\u001B[0m\n\u001B[0;32m----> 5\u001B[0;31m \u001B[0;32mimport\u001B[0m \u001B[0mmatplotlib\u001B[0m\u001B[0;34m.\u001B[0m\u001B[0mpyplot\u001B[0m \u001B[0;32mas\u001B[0m \u001B[0mplt\u001B[0m\u001B[0;34m\u001B[0m\u001B[0;34m\u001B[0m\u001B[0m\n\u001B[0m",
      "\u001B[0;31mModuleNotFoundError\u001B[0m: No module named 'matplotlib'"
     ]
    }
   ],
   "source": [
    "import numpy as np\n",
    "import pandas as pd\n",
    "from scipy import stats\n",
    "from statsmodels import robust\n",
    "import matplotlib.pyplot as plt"
   ]
  },
  {
   "cell_type": "markdown",
   "metadata": {
    "pycharm": {
     "name": "#%% md\n"
    }
   },
   "source": [
    "## Datengrundlage"
   ]
  },
  {
   "cell_type": "code",
   "execution_count": 2,
   "metadata": {
    "pycharm": {
     "name": "#%%\n"
    }
   },
   "outputs": [
    {
     "data": {
      "text/html": [
       "<div>\n",
       "<style scoped>\n",
       "    .dataframe tbody tr th:only-of-type {\n",
       "        vertical-align: middle;\n",
       "    }\n",
       "\n",
       "    .dataframe tbody tr th {\n",
       "        vertical-align: top;\n",
       "    }\n",
       "\n",
       "    .dataframe thead th {\n",
       "        text-align: right;\n",
       "    }\n",
       "</style>\n",
       "<table border=\"1\" class=\"dataframe\">\n",
       "  <thead>\n",
       "    <tr style=\"text-align: right;\">\n",
       "      <th></th>\n",
       "      <th>Restaurants</th>\n",
       "      <th>Einwohner in T</th>\n",
       "      <th>Restaurants pro T Einwohner</th>\n",
       "    </tr>\n",
       "  </thead>\n",
       "  <tbody>\n",
       "    <tr>\n",
       "      <th>Bremen</th>\n",
       "      <td>1583</td>\n",
       "      <td>680</td>\n",
       "      <td>2.327941</td>\n",
       "    </tr>\n",
       "    <tr>\n",
       "      <th>Saarland</th>\n",
       "      <td>2782</td>\n",
       "      <td>984</td>\n",
       "      <td>2.827236</td>\n",
       "    </tr>\n",
       "    <tr>\n",
       "      <th>Mecklenburg-Vorpommern</th>\n",
       "      <td>3338</td>\n",
       "      <td>1611</td>\n",
       "      <td>2.072005</td>\n",
       "    </tr>\n",
       "    <tr>\n",
       "      <th>Sachsen-Anhalt</th>\n",
       "      <td>3762</td>\n",
       "      <td>2181</td>\n",
       "      <td>1.724897</td>\n",
       "    </tr>\n",
       "    <tr>\n",
       "      <th>Thüringen</th>\n",
       "      <td>3770</td>\n",
       "      <td>2120</td>\n",
       "      <td>1.778302</td>\n",
       "    </tr>\n",
       "    <tr>\n",
       "      <th>Brandenburg</th>\n",
       "      <td>4211</td>\n",
       "      <td>2531</td>\n",
       "      <td>1.663769</td>\n",
       "    </tr>\n",
       "    <tr>\n",
       "      <th>Hamburg</th>\n",
       "      <td>4517</td>\n",
       "      <td>1852</td>\n",
       "      <td>2.438985</td>\n",
       "    </tr>\n",
       "    <tr>\n",
       "      <th>Schleswig-Holstein</th>\n",
       "      <td>5927</td>\n",
       "      <td>2911</td>\n",
       "      <td>2.036070</td>\n",
       "    </tr>\n",
       "    <tr>\n",
       "      <th>Sachsen</th>\n",
       "      <td>6869</td>\n",
       "      <td>4057</td>\n",
       "      <td>1.693123</td>\n",
       "    </tr>\n",
       "    <tr>\n",
       "      <th>Berlin</th>\n",
       "      <td>9815</td>\n",
       "      <td>3664</td>\n",
       "      <td>2.678766</td>\n",
       "    </tr>\n",
       "    <tr>\n",
       "      <th>Rheinland-Pfalz</th>\n",
       "      <td>10604</td>\n",
       "      <td>4098</td>\n",
       "      <td>2.587604</td>\n",
       "    </tr>\n",
       "    <tr>\n",
       "      <th>Hessen</th>\n",
       "      <td>14243</td>\n",
       "      <td>6293</td>\n",
       "      <td>2.263308</td>\n",
       "    </tr>\n",
       "    <tr>\n",
       "      <th>Niedersachsen</th>\n",
       "      <td>15469</td>\n",
       "      <td>8003</td>\n",
       "      <td>1.932900</td>\n",
       "    </tr>\n",
       "    <tr>\n",
       "      <th>Baden-Württemberg</th>\n",
       "      <td>24548</td>\n",
       "      <td>11103</td>\n",
       "      <td>2.210934</td>\n",
       "    </tr>\n",
       "    <tr>\n",
       "      <th>Bayern</th>\n",
       "      <td>29296</td>\n",
       "      <td>13140</td>\n",
       "      <td>2.229528</td>\n",
       "    </tr>\n",
       "    <tr>\n",
       "      <th>NRW</th>\n",
       "      <td>37937</td>\n",
       "      <td>17926</td>\n",
       "      <td>2.116312</td>\n",
       "    </tr>\n",
       "  </tbody>\n",
       "</table>\n",
       "</div>"
      ],
      "text/plain": [
       "                        Restaurants  Einwohner in T  \\\n",
       "Bremen                         1583             680   \n",
       "Saarland                       2782             984   \n",
       "Mecklenburg-Vorpommern         3338            1611   \n",
       "Sachsen-Anhalt                 3762            2181   \n",
       "Thüringen                      3770            2120   \n",
       "Brandenburg                    4211            2531   \n",
       "Hamburg                        4517            1852   \n",
       "Schleswig-Holstein             5927            2911   \n",
       "Sachsen                        6869            4057   \n",
       "Berlin                         9815            3664   \n",
       "Rheinland-Pfalz               10604            4098   \n",
       "Hessen                        14243            6293   \n",
       "Niedersachsen                 15469            8003   \n",
       "Baden-Württemberg             24548           11103   \n",
       "Bayern                        29296           13140   \n",
       "NRW                           37937           17926   \n",
       "\n",
       "                        Restaurants pro T Einwohner  \n",
       "Bremen                                     2.327941  \n",
       "Saarland                                   2.827236  \n",
       "Mecklenburg-Vorpommern                     2.072005  \n",
       "Sachsen-Anhalt                             1.724897  \n",
       "Thüringen                                  1.778302  \n",
       "Brandenburg                                1.663769  \n",
       "Hamburg                                    2.438985  \n",
       "Schleswig-Holstein                         2.036070  \n",
       "Sachsen                                    1.693123  \n",
       "Berlin                                     2.678766  \n",
       "Rheinland-Pfalz                            2.587604  \n",
       "Hessen                                     2.263308  \n",
       "Niedersachsen                              1.932900  \n",
       "Baden-Württemberg                          2.210934  \n",
       "Bayern                                     2.229528  \n",
       "NRW                                        2.116312  "
      ]
     },
     "execution_count": 2,
     "metadata": {},
     "output_type": "execute_result"
    }
   ],
   "source": [
    "data = pd.DataFrame.from_dict({\"Bayern\":[29296,13140],\"NRW\":[37937,17926],\"Niedersachsen\":[15469,8003],\"Baden-Württemberg\":[24548,11103],\"Hessen\":[14243,6293],\"Sachsen\":[6869,4057],\"Brandenburg\":[4211,2531],\"Rheinland-Pfalz\":[10604,4098],\"Sachsen-Anhalt\":[3762,2181],\"Schleswig-Holstein\":[5927,2911],\"Thüringen\":[3770,2120],\"Mecklenburg-Vorpommern\":[3338,1611],\"Berlin\":[9815,3664],\"Saarland\":[2782,984],\"Hamburg\":[4517,1852],\"Bremen\":[1583,680]},orient=\"index\",columns=[\"Restaurants\",\"Einwohner in T\"])\n",
    "data[\"Restaurants pro T Einwohner\"] = data[\"Restaurants\"]/data[\"Einwohner in T\"]\n",
    "data.sort_values(\"Restaurants\")"
   ]
  },
  {
   "cell_type": "markdown",
   "metadata": {
    "pycharm": {
     "name": "#%% md\n"
    }
   },
   "source": [
    "# Lageparameter"
   ]
  },
  {
   "cell_type": "markdown",
   "metadata": {
    "pycharm": {
     "name": "#%% md\n"
    }
   },
   "source": [
    "## Arithmetisches Mittel"
   ]
  },
  {
   "cell_type": "code",
   "execution_count": 3,
   "metadata": {
    "pycharm": {
     "name": "#%%\n"
    }
   },
   "outputs": [
    {
     "name": "stdout",
     "output_type": "stream",
     "text": [
      "Das Arithmetisches Mittel der Restaurants liegt bei 11166.94\n",
      "Das Arithmetisches Mittel der Einwohner in T liegt bei 5197.12\n"
     ]
    }
   ],
   "source": [
    "for column in data[[\"Restaurants\",\"Einwohner in T\"]]:\n",
    "    print(\"Das Arithmetisches Mittel der {} liegt bei {:.2f}\".format(column,np.mean(data[column])))"
   ]
  },
  {
   "cell_type": "markdown",
   "metadata": {
    "pycharm": {
     "name": "#%% md\n"
    }
   },
   "source": [
    "## Getrimmtes Mittel"
   ]
  },
  {
   "cell_type": "code",
   "execution_count": 4,
   "metadata": {
    "pycharm": {
     "name": "#%%\n"
    }
   },
   "outputs": [
    {
     "name": "stdout",
     "output_type": "stream",
     "text": [
      "Das getrimmte Mittel der Restaurants liegt bei 9939.36\n",
      "Das getrimmte Mittel der Einwohner in T liegt bei 4610.57\n"
     ]
    }
   ],
   "source": [
    "for column in data[[\"Restaurants\",\"Einwohner in T\"]]:\n",
    "    print(\"Das getrimmte Mittel der {} liegt bei {:.2f}\".format(column,stats.trim_mean(data[column],0.1)))"
   ]
  },
  {
   "cell_type": "markdown",
   "metadata": {
    "pycharm": {
     "name": "#%% md\n"
    }
   },
   "source": [
    "## Median"
   ]
  },
  {
   "cell_type": "code",
   "execution_count": 5,
   "metadata": {
    "pycharm": {
     "name": "#%%\n"
    }
   },
   "outputs": [
    {
     "name": "stdout",
     "output_type": "stream",
     "text": [
      "Der Median der Restaurants liegt bei 6398.0\n",
      "Der Median der Einwohner in T liegt bei 3287.5\n"
     ]
    }
   ],
   "source": [
    "for column in data[[\"Restaurants\",\"Einwohner in T\"]]:\n",
    "    print(\"Der Median der {} liegt bei {:.1f}\".format(column,np.median(data[column])))"
   ]
  },
  {
   "cell_type": "markdown",
   "metadata": {
    "pycharm": {
     "name": "#%% md\n"
    }
   },
   "source": [
    "## Spannweite"
   ]
  },
  {
   "cell_type": "code",
   "execution_count": 6,
   "metadata": {
    "pycharm": {
     "name": "#%%\n"
    }
   },
   "outputs": [
    {
     "name": "stdout",
     "output_type": "stream",
     "text": [
      "Die Spannweit der Restaurants liegt bei 36354\n",
      "Die Spannweit der Einwohner in T liegt bei 17246\n"
     ]
    },
    {
     "data": {
      "image/png": "[encoded data removed]",
      "text/plain": [
       "<Figure size 576x432 with 1 Axes>"
      ]
     },
     "metadata": {
      "needs_background": "light"
     },
     "output_type": "display_data"
    }
   ],
   "source": [
    "for column in data[[\"Restaurants\",\"Einwohner in T\"]]:\n",
    "    print(\"Die Spannweit der {} liegt bei {:.0f}\".format(column,data[column].max()-data[column].min()))\n",
    "    \n",
    "sorted_data = data.sort_values(\"Restaurants\")\n",
    "\n",
    "plt.figure(figsize=(8,6))\n",
    "plt.bar(sorted_data.index,sorted_data[\"Restaurants\"],color=\"#1ACC94\")\n",
    "plt.xticks(rotation=90)\n",
    "plt.title(\"Spannweite\")\n",
    "plt.ylabel(\"Anzahl Restaurants\")\n",
    "plt.hlines(sorted_data[\"Restaurants\"].max(),-0.5,15.5,ls=\"--\",alpha=0.5)\n",
    "plt.hlines(sorted_data[\"Restaurants\"].min(),-0.5,15.5,ls=\"--\",alpha=0.5)\n",
    "plt.annotate(text='', xy=(5.5,sorted_data[\"Restaurants\"].min()), xytext=(5.5,sorted_data[\"Restaurants\"].max()), arrowprops=dict(arrowstyle='<->'))\n",
    "plt.show()"
   ]
  },
  {
   "cell_type": "markdown",
   "metadata": {
    "pycharm": {
     "name": "#%% md\n"
    }
   },
   "source": [
    "## Mittlere absolute Abweichung (MAD)"
   ]
  },
  {
   "cell_type": "code",
   "execution_count": 7,
   "metadata": {
    "pycharm": {
     "name": "#%%\n"
    }
   },
   "outputs": [
    {
     "name": "stdout",
     "output_type": "stream",
     "text": [
      "Die MAD der Restaurants liegt bei 8207.29\n",
      "Die MAD der Einwohner in T liegt bei 3809.92\n"
     ]
    }
   ],
   "source": [
    "for column in data[[\"Restaurants\",\"Einwohner in T\"]]:\n",
    "    print(\"Die MAD der {} liegt bei {:.2f}\".format(column,data[column].mad()))"
   ]
  },
  {
   "cell_type": "markdown",
   "metadata": {
    "pycharm": {
     "name": "#%% md\n"
    }
   },
   "source": [
    "# Streuungsmaße"
   ]
  },
  {
   "cell_type": "markdown",
   "metadata": {
    "pycharm": {
     "name": "#%% md\n"
    }
   },
   "source": [
    "## Standardabweichung"
   ]
  },
  {
   "cell_type": "code",
   "execution_count": 8,
   "metadata": {
    "pycharm": {
     "name": "#%%\n"
    }
   },
   "outputs": [
    {
     "name": "stdout",
     "output_type": "stream",
     "text": [
      "Die Standardabweichung der Restaurants liegt bei 10386.29\n",
      "Die Standardabweichung der Einwohner in T liegt bei 4789.51\n"
     ]
    }
   ],
   "source": [
    "for column in data[[\"Restaurants\",\"Einwohner in T\"]]:\n",
    "    print(\"Die Standardabweichung der {} liegt bei {:.2f}\".format(column,np.std(data[column])))"
   ]
  },
  {
   "cell_type": "markdown",
   "metadata": {
    "pycharm": {
     "name": "#%% md\n"
    }
   },
   "source": [
    "## Perzentil"
   ]
  },
  {
   "cell_type": "code",
   "execution_count": 9,
   "metadata": {
    "pycharm": {
     "name": "#%%\n"
    }
   },
   "outputs": [
    {
     "name": "stdout",
     "output_type": "stream",
     "text": [
      "80% der Bundesländer haben 15469 oder weniger Restaurants\n",
      "80% der Bundesländer haben 8003 oder weniger Einwohner in T\n"
     ]
    },
    {
     "data": {
      "image/png": "[encoded data removed]",
      "text/plain": [
       "<Figure size 576x432 with 1 Axes>"
      ]
     },
     "metadata": {
      "needs_background": "light"
     },
     "output_type": "display_data"
    }
   ],
   "source": [
    "for column in data[[\"Restaurants\",\"Einwohner in T\"]]:\n",
    "    print(\"80% der Bundesländer haben {:.0f} oder weniger {}\".format(np.percentile(data[column],80),column))\n",
    "    \n",
    "plt.figure(figsize=(8,6))\n",
    "plt.bar(sorted_data.loc[sorted_data[\"Restaurants\"] <= 15469].index,sorted_data.loc[sorted_data[\"Restaurants\"] <= 15469][\"Restaurants\"],label=\"80. Perzentil\",color=\"#1ACC94\")\n",
    "plt.bar(sorted_data.loc[sorted_data[\"Restaurants\"] > 15469].index,sorted_data.loc[sorted_data[\"Restaurants\"] > 15469][\"Restaurants\"],label=\">80. Perzentil\",color=\"#CC1B58\")\n",
    "plt.xticks(rotation=90)\n",
    "plt.title(\"Anzahl Restaurants nach Bundesland, sortiert\")\n",
    "plt.ylabel(\"Anzahl Restaurants\")\n",
    "plt.vlines(12.5,0,38000,ls=\"--\",alpha=0.5)\n",
    "plt.hlines(15469,-0.5,15.5,ls=\"--\",alpha=0.5)\n",
    "plt.legend()\n",
    "plt.show()"
   ]
  },
  {
   "cell_type": "markdown",
   "metadata": {
    "pycharm": {
     "name": "#%% md\n"
    }
   },
   "source": [
    "## Interquartilsabstand"
   ]
  },
  {
   "cell_type": "code",
   "execution_count": 10,
   "metadata": {
    "pycharm": {
     "name": "#%%\n"
    }
   },
   "outputs": [
    {
     "name": "stdout",
     "output_type": "stream",
     "text": [
      "Der Interquartilsabstand der Restaurants liegt bei 10781.50\n",
      "Der Interquartilsabstand der Einwohner in T liegt bei 4667.50\n"
     ]
    },
    {
     "data": {
      "image/png": "[encoded data removed]",
      "text/plain": [
       "<Figure size 576x432 with 1 Axes>"
      ]
     },
     "metadata": {
      "needs_background": "light"
     },
     "output_type": "display_data"
    }
   ],
   "source": [
    "for column in data[[\"Restaurants\",\"Einwohner in T\"]]:\n",
    "    print(\"Der Interquartilsabstand der {} liegt bei {:.2f}\".format(column,stats.iqr(data[column])))\n",
    "    \n",
    "plt.figure(figsize=(8,6))\n",
    "plt.bar(sorted_data.index,sorted_data[\"Restaurants\"],color=\"#1ACC94\")\n",
    "plt.xticks(rotation=90)\n",
    "plt.title(\"Interquartilsabstand\")\n",
    "plt.ylabel(\"Anzahl Restaurants\")\n",
    "plt.hlines(np.percentile(sorted_data[\"Restaurants\"],75),-0.5,15.5,ls=\"--\",alpha=0.5)\n",
    "plt.hlines(np.percentile(sorted_data[\"Restaurants\"],25),-0.5,15.5,ls=\"--\",alpha=0.5)\n",
    "plt.annotate(text='', xy=(5.5,np.percentile(sorted_data[\"Restaurants\"],25)), xytext=(5.5,np.percentile(sorted_data[\"Restaurants\"],75)), arrowprops=dict(arrowstyle='<->'))\n",
    "plt.show()"
   ]
  },
  {
   "cell_type": "markdown",
   "metadata": {
    "pycharm": {
     "name": "#%% md\n"
    }
   },
   "source": [
    "# Datenverteilungen"
   ]
  },
  {
   "cell_type": "markdown",
   "metadata": {
    "pycharm": {
     "name": "#%% md\n"
    }
   },
   "source": [
    "## Boxplot"
   ]
  },
  {
   "cell_type": "code",
   "execution_count": 11,
   "metadata": {
    "pycharm": {
     "name": "#%%\n"
    }
   },
   "outputs": [
    {
     "data": {
      "image/png": "[encoded data removed]",
      "text/plain": [
       "<Figure size 576x432 with 1 Axes>"
      ]
     },
     "metadata": {
      "needs_background": "light"
     },
     "output_type": "display_data"
    }
   ],
   "source": [
    "plt.figure(figsize=(8,6))\n",
    "plt.title(\"Boxplot\")\n",
    "plt.boxplot(data,labels=data.columns,medianprops=dict(color=\"#1ACC94\"))\n",
    "plt.xticks(rotation=45)\n",
    "plt.show()"
   ]
  },
  {
   "cell_type": "markdown",
   "metadata": {
    "pycharm": {
     "name": "#%% md\n"
    }
   },
   "source": [
    "## Histogramm"
   ]
  },
  {
   "cell_type": "code",
   "execution_count": 50,
   "metadata": {
    "pycharm": {
     "name": "#%%\n"
    }
   },
   "outputs": [
    {
     "data": {
      "image/png": "[encoded data removed]",
      "text/plain": [
       "<Figure size 576x432 with 1 Axes>"
      ]
     },
     "metadata": {
      "needs_background": "light"
     },
     "output_type": "display_data"
    }
   ],
   "source": [
    "plt.figure(figsize=(8,6))\n",
    "plt.title(\"Histogramm\")\n",
    "plt.hist(data[\"Einwohner in T\"],bins=5,color=\"#1ACC94\")\n",
    "plt.ylabel(\"Häufigkeit der Bins\")\n",
    "plt.xlabel(\"Einwohner in T (5 Klassen)\")\n",
    "plt.show()"
   ]
  },
  {
   "cell_type": "markdown",
   "metadata": {
    "pycharm": {
     "name": "#%% md\n"
    }
   },
   "source": [
    "## Dichtediagramm"
   ]
  },
  {
   "cell_type": "code",
   "execution_count": 45,
   "metadata": {
    "pycharm": {
     "name": "#%%\n"
    }
   },
   "outputs": [
    {
     "data": {
      "image/png": "[encoded data removed]",
      "text/plain": [
       "<Figure size 576x432 with 1 Axes>"
      ]
     },
     "metadata": {
      "needs_background": "light"
     },
     "output_type": "display_data"
    }
   ],
   "source": [
    "density = stats.kde.gaussian_kde(data[\"Einwohner in T\"])\n",
    "x = np.linspace(data[\"Einwohner in T\"].min(),data[\"Einwohner in T\"].max(),300)\n",
    "\n",
    "plt.figure(figsize=(8,6))\n",
    "plt.title(\"Dichtediagramm\")\n",
    "plt.plot(x, density(x),color=\"#1ACC94\")\n",
    "plt.ylabel(\"Häufigkeit\")\n",
    "plt.xlabel(\"Einwohner in T\")\n",
    "plt.show()"
   ]
  },
  {
   "cell_type": "markdown",
   "metadata": {
    "pycharm": {
     "name": "#%% md\n"
    }
   },
   "source": [
    "# Zusammenhangsmaße"
   ]
  },
  {
   "cell_type": "markdown",
   "metadata": {
    "pycharm": {
     "name": "#%% md\n"
    }
   },
   "source": [
    "## Pearson-Korrelationskoeffizient"
   ]
  },
  {
   "cell_type": "code",
   "execution_count": 6,
   "metadata": {
    "pycharm": {
     "name": "#%%\n"
    }
   },
   "outputs": [
    {
     "data": {
      "text/plain": [
       "(0.9942773426621782, 5.308722364816913e-15)"
      ]
     },
     "execution_count": 6,
     "metadata": {},
     "output_type": "execute_result"
    }
   ],
   "source": [
    "stats.pearsonr(data[\"Einwohner in T\"],data[\"Restaurants\"])"
   ]
  },
  {
   "cell_type": "code",
   "execution_count": 14,
   "metadata": {
    "pycharm": {
     "name": "#%%\n"
    }
   },
   "outputs": [
    {
     "data": {
      "text/plain": [
       "(0.43938852998842287, 0.08859279628710953)"
      ]
     },
     "execution_count": 14,
     "metadata": {},
     "output_type": "execute_result"
    }
   ],
   "source": [
    "stats.pearsonr(data[\"Einwohner in T\"],data[\"Einwohner in T\"]**5)"
   ]
  },
  {
   "cell_type": "markdown",
   "metadata": {
    "pycharm": {
     "name": "#%% md\n"
    }
   },
   "source": [
    "## Korrelationsmatrix"
   ]
  },
  {
   "cell_type": "code",
   "execution_count": 8,
   "metadata": {
    "pycharm": {
     "name": "#%%\n"
    }
   },
   "outputs": [
    {
     "data": {
      "text/html": [
       "<div>\n",
       "<style scoped>\n",
       "    .dataframe tbody tr th:only-of-type {\n",
       "        vertical-align: middle;\n",
       "    }\n",
       "\n",
       "    .dataframe tbody tr th {\n",
       "        vertical-align: top;\n",
       "    }\n",
       "\n",
       "    .dataframe thead th {\n",
       "        text-align: right;\n",
       "    }\n",
       "</style>\n",
       "<table border=\"1\" class=\"dataframe\">\n",
       "  <thead>\n",
       "    <tr style=\"text-align: right;\">\n",
       "      <th></th>\n",
       "      <th>Einwohner in T</th>\n",
       "      <th>Restaurants</th>\n",
       "    </tr>\n",
       "  </thead>\n",
       "  <tbody>\n",
       "    <tr>\n",
       "      <th>Einwohner in T</th>\n",
       "      <td>1.000000</td>\n",
       "      <td>0.994277</td>\n",
       "    </tr>\n",
       "    <tr>\n",
       "      <th>Restaurants</th>\n",
       "      <td>0.994277</td>\n",
       "      <td>1.000000</td>\n",
       "    </tr>\n",
       "  </tbody>\n",
       "</table>\n",
       "</div>"
      ],
      "text/plain": [
       "                Einwohner in T  Restaurants\n",
       "Einwohner in T        1.000000     0.994277\n",
       "Restaurants           0.994277     1.000000"
      ]
     },
     "execution_count": 8,
     "metadata": {},
     "output_type": "execute_result"
    }
   ],
   "source": [
    "data[[\"Einwohner in T\",\"Restaurants\"]].corr()"
   ]
  },
  {
   "cell_type": "markdown",
   "metadata": {
    "pycharm": {
     "name": "#%% md\n"
    }
   },
   "source": [
    "## Streudiagramm"
   ]
  },
  {
   "cell_type": "code",
   "execution_count": 3,
   "metadata": {
    "pycharm": {
     "name": "#%%\n"
    }
   },
   "outputs": [
    {
     "data": {
      "image/png": "[encoded data removed]",
      "text/plain": [
       "<Figure size 432x288 with 4 Axes>"
      ]
     },
     "metadata": {
      "needs_background": "light"
     },
     "output_type": "display_data"
    }
   ],
   "source": [
    "pd.plotting.scatter_matrix(data[[\"Einwohner in T\",\"Restaurants\"]],c=\"#1ACC94\")\n",
    "plt.show()"
   ]
  },
  {
   "cell_type": "code",
   "execution_count": null,
   "metadata": {
    "pycharm": {
     "name": "#%%\n"
    }
   },
   "outputs": [],
   "source": []
  }
 ],
 "metadata": {
  "kernelspec": {
   "display_name": "Python 3 (ipykernel)",
   "language": "python",
   "name": "python3"
  },
  "language_info": {
   "codemirror_mode": {
    "name": "ipython",
    "version": 3
   },
   "file_extension": ".py",
   "mimetype": "text/x-python",
   "name": "python",
   "nbconvert_exporter": "python",
   "pygments_lexer": "ipython3",
   "version": "3.8.12"
  }
 },
 "nbformat": 4,
 "nbformat_minor": 4
}