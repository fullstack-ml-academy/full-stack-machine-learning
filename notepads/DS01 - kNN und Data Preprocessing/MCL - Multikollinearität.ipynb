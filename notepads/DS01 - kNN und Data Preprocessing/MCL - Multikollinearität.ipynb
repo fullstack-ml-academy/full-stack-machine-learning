{
 "cells": [
  {
   "cell_type": "markdown",
   "metadata": {},
   "source": [
    "# Multikollinearität"
   ]
  },
  {
   "cell_type": "markdown",
   "metadata": {},
   "source": [
    "## Imports"
   ]
  },
  {
   "cell_type": "code",
   "execution_count": 1,
   "metadata": {},
   "outputs": [],
   "source": [
    "import numpy as np\n",
    "import pandas as pd\n",
    "import matplotlib.pyplot as plt"
   ]
  },
  {
   "cell_type": "markdown",
   "metadata": {},
   "source": [
    "## Datengrundlage"
   ]
  },
  {
   "cell_type": "code",
   "execution_count": 2,
   "metadata": {},
   "outputs": [],
   "source": [
    "data = pd.read_csv(\"/data/mpg.csv\")[[\"cylinders\",\"displacement\",\"horsepower\",\"weight\",\"model year\"]]\n",
    "data[\"car age\"] = 2021-data[\"model year\"] # perfekte Multikollinearität"
   ]
  },
  {
   "cell_type": "code",
   "execution_count": 3,
   "metadata": {},
   "outputs": [
    {
     "data": {
      "text/html": [
       "<div>\n",
       "<style scoped>\n",
       "    .dataframe tbody tr th:only-of-type {\n",
       "        vertical-align: middle;\n",
       "    }\n",
       "\n",
       "    .dataframe tbody tr th {\n",
       "        vertical-align: top;\n",
       "    }\n",
       "\n",
       "    .dataframe thead th {\n",
       "        text-align: right;\n",
       "    }\n",
       "</style>\n",
       "<table border=\"1\" class=\"dataframe\">\n",
       "  <thead>\n",
       "    <tr style=\"text-align: right;\">\n",
       "      <th></th>\n",
       "      <th>cylinders</th>\n",
       "      <th>displacement</th>\n",
       "      <th>horsepower</th>\n",
       "      <th>weight</th>\n",
       "      <th>model year</th>\n",
       "      <th>car age</th>\n",
       "    </tr>\n",
       "  </thead>\n",
       "  <tbody>\n",
       "    <tr>\n",
       "      <th>cylinders</th>\n",
       "      <td>1.000000</td>\n",
       "      <td>0.950721</td>\n",
       "      <td>0.842426</td>\n",
       "      <td>0.896017</td>\n",
       "      <td>0.348746</td>\n",
       "      <td>0.348746</td>\n",
       "    </tr>\n",
       "    <tr>\n",
       "      <th>displacement</th>\n",
       "      <td>0.950721</td>\n",
       "      <td>1.000000</td>\n",
       "      <td>0.897304</td>\n",
       "      <td>0.932824</td>\n",
       "      <td>0.370164</td>\n",
       "      <td>0.370164</td>\n",
       "    </tr>\n",
       "    <tr>\n",
       "      <th>horsepower</th>\n",
       "      <td>0.842426</td>\n",
       "      <td>0.897304</td>\n",
       "      <td>1.000000</td>\n",
       "      <td>0.865087</td>\n",
       "      <td>0.412879</td>\n",
       "      <td>0.412879</td>\n",
       "    </tr>\n",
       "    <tr>\n",
       "      <th>weight</th>\n",
       "      <td>0.896017</td>\n",
       "      <td>0.932824</td>\n",
       "      <td>0.865087</td>\n",
       "      <td>1.000000</td>\n",
       "      <td>0.306564</td>\n",
       "      <td>0.306564</td>\n",
       "    </tr>\n",
       "    <tr>\n",
       "      <th>model year</th>\n",
       "      <td>0.348746</td>\n",
       "      <td>0.370164</td>\n",
       "      <td>0.412879</td>\n",
       "      <td>0.306564</td>\n",
       "      <td>1.000000</td>\n",
       "      <td>1.000000</td>\n",
       "    </tr>\n",
       "    <tr>\n",
       "      <th>car age</th>\n",
       "      <td>0.348746</td>\n",
       "      <td>0.370164</td>\n",
       "      <td>0.412879</td>\n",
       "      <td>0.306564</td>\n",
       "      <td>1.000000</td>\n",
       "      <td>1.000000</td>\n",
       "    </tr>\n",
       "  </tbody>\n",
       "</table>\n",
       "</div>"
      ],
      "text/plain": [
       "              cylinders  displacement  horsepower    weight  model year  \\\n",
       "cylinders      1.000000      0.950721    0.842426  0.896017    0.348746   \n",
       "displacement   0.950721      1.000000    0.897304  0.932824    0.370164   \n",
       "horsepower     0.842426      0.897304    1.000000  0.865087    0.412879   \n",
       "weight         0.896017      0.932824    0.865087  1.000000    0.306564   \n",
       "model year     0.348746      0.370164    0.412879  0.306564    1.000000   \n",
       "car age        0.348746      0.370164    0.412879  0.306564    1.000000   \n",
       "\n",
       "               car age  \n",
       "cylinders     0.348746  \n",
       "displacement  0.370164  \n",
       "horsepower    0.412879  \n",
       "weight        0.306564  \n",
       "model year    1.000000  \n",
       "car age       1.000000  "
      ]
     },
     "execution_count": 3,
     "metadata": {},
     "output_type": "execute_result"
    }
   ],
   "source": [
    "corr_matrix = data.corr().abs()\n",
    "corr_matrix"
   ]
  },
  {
   "cell_type": "code",
   "execution_count": null,
   "metadata": {},
   "outputs": [],
   "source": []
  }
 ],
 "metadata": {
  "kernelspec": {
   "display_name": "Python 3 (ipykernel)",
   "language": "python",
   "name": "python3"
  },
  "language_info": {
   "codemirror_mode": {
    "name": "ipython",
    "version": 3
   },
   "file_extension": ".py",
   "mimetype": "text/x-python",
   "name": "python",
   "nbconvert_exporter": "python",
   "pygments_lexer": "ipython3",
   "version": "3.8.12"
  }
 },
 "nbformat": 4,
 "nbformat_minor": 4
}
