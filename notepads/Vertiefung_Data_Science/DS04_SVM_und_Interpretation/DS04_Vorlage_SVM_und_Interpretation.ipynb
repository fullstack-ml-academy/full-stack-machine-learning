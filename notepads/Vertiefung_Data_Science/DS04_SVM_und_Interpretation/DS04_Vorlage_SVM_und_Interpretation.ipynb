{
 "cells": [
  {
   "cell_type": "markdown",
   "id": "f00a85dc",
   "metadata": {},
   "source": [
    "# *Aufgabe: SVM und Interpretation ML*"
   ]
  },
  {
   "cell_type": "markdown",
   "id": "03303cff",
   "metadata": {},
   "source": [
    "0. Imports"
   ]
  },
  {
   "cell_type": "code",
   "execution_count": null,
   "id": "9bc853ee",
   "metadata": {},
   "outputs": [
    {
     "name": "stderr",
     "output_type": "stream",
     "text": [
      "/Users/lauraboenchen/Workspace/Digethic/full-stack-machine-learning/.venv/lib/python3.10/site-packages/tqdm/auto.py:21: TqdmWarning: IProgress not found. Please update jupyter and ipywidgets. See https://ipywidgets.readthedocs.io/en/stable/user_install.html\n",
      "  from .autonotebook import tqdm as notebook_tqdm\n"
     ]
    }
   ],
   "source": [
    "# Imports\n",
    "import time # for timing the training\n",
    "# Modelle, die gefordert sind\n",
    "from sklearn import svm\n",
    "from sklearn.linear_model import LinearRegression\n",
    "# Lade weitere Modelle\n",
    "\n",
    "# Für die Interpretierbarkeit\n",
    "import shap"
   ]
  },
  {
   "cell_type": "markdown",
   "id": "9ff86a7e",
   "metadata": {},
   "source": [
    "### Aufgabe 1. SVM\n",
    "\n",
    "Wählen Sie einen beliebigen Regressionsdatensatz und trainieren Sie neben ausgewählten Modellen auch einen Support Vector Regressor. Stellen Sie sicher, dass neben Ihren selbst gewählten Modellen (bspw. kNN, Decision Tree, Random Forest, Boosting o.ä.) auch eine lineare oder polynomiale Regression gewählt ist. Vergleichen Sie das Ergebnis mit der passenden Metrik sowie der Rechenzeit Analyse."
   ]
  },
  {
   "cell_type": "code",
   "execution_count": 5,
   "id": "1ec81fc5",
   "metadata": {},
   "outputs": [],
   "source": [
    "# Datensatz laden und wie gewohnt vorbereiten"
   ]
  },
  {
   "cell_type": "markdown",
   "id": "9e608a8f",
   "metadata": {},
   "source": [
    "2. Train and evaluate all the models"
   ]
  },
  {
   "cell_type": "code",
   "execution_count": null,
   "id": "20e8f818",
   "metadata": {},
   "outputs": [
    {
     "name": "stdout",
     "output_type": "stream",
     "text": [
      "Genauigkeit von knn: 3425.4947747747747; running time: 0.0\n",
      "Genauigkeit von linregr: 2926.315799255039; running time: 0.0\n",
      "Genauigkeit von tree: 5729.774774774774; running time: 0.0\n",
      "Genauigkeit von forest: 3132.587764864865; running time: 0.14\n",
      "Genauigkeit von ada: 3733.8939802583745; running time: 0.05\n",
      "Genauigkeit von svm: 5350.743360340978; running time: 0.0\n"
     ]
    }
   ],
   "source": [
    "# Definiere mögliche Regressionsmethoden\n",
    "methods = {\n",
    "    \"linregr\": LinearRegression(),\n",
    "    \"svm\": svm.SVR()\n",
    "    # füge weitere Methoden hinzu\n",
    "    }\n",
    "\n",
    "# Trainiere und vergleiche die Modelle\n",
    "# Hier sollte auch die Zeit zwischen Beginn und Ende des Trainings gemessen werden\n",
    "for method in methods:\n",
    "    # methods[method].fit(x_train, x_test)"
   ]
  },
  {
   "cell_type": "markdown",
   "id": "042fdefc",
   "metadata": {},
   "source": [
    "### Aufgabe 2. Interpretation\n",
    "\n",
    "Zeigen Sie grafisch die Relevanz der Features Ihres Datensatzes auf Grundlage des Modells auf. Verwenden Sie dafür bei der linearen Regression die Koeffizienter der Regression. Greifen Sie bei den anderen Modellen, wenn verfügbar, über feature_importances_ auf diese Information zu. Konsultieren Sie bei Fragen die Dokumentation von sklearn."
   ]
  },
  {
   "cell_type": "code",
   "execution_count": null,
   "id": "e3fc6fe5",
   "metadata": {},
   "outputs": [],
   "source": [
    "# Darstellung jeder Methode und die Wichtung der features\n",
    "\n",
    "# Für lineare Regression nutze die Koeffizienten\n",
    "# methods[\"linregr\"].coef_\n",
    "\n",
    "# Andere Methoden könnten zum Beispiel Feature Importance enthalten\n",
    "# Recherchieren Sie dafür auf den Dokumentationsseiten der gewählten Seiten\n",
    "\n",
    "# Für SVM können die SHAP values zur Interpretierbarkeit verwendet werden\n",
    "# Beschäftigen Sie sich mit der shap Bibliothek"
   ]
  }
 ],
 "metadata": {
  "kernelspec": {
   "display_name": ".venv",
   "language": "python",
   "name": "python3"
  },
  "language_info": {
   "codemirror_mode": {
    "name": "ipython",
    "version": 3
   },
   "file_extension": ".py",
   "mimetype": "text/x-python",
   "name": "python",
   "nbconvert_exporter": "python",
   "pygments_lexer": "ipython3",
   "version": "3.10.15"
  }
 },
 "nbformat": 4,
 "nbformat_minor": 5
}
