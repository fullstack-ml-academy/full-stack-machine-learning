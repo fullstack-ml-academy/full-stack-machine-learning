{
 "cells": [
  {
   "cell_type": "markdown",
   "id": "f00a85dc",
   "metadata": {
    "pycharm": {
     "name": "#%% md\n"
    }
   },
   "source": [
    "# *Aufgabe: SVM und Interpretation ML*"
   ]
  },
  {
   "cell_type": "markdown",
   "id": "03303cff",
   "metadata": {
    "pycharm": {
     "name": "#%% md\n"
    }
   },
   "source": [
    "0. Imports"
   ]
  },
  {
   "cell_type": "code",
   "execution_count": 17,
   "id": "9bc853ee",
   "metadata": {
    "pycharm": {
     "name": "#%%\n"
    }
   },
   "outputs": [],
   "source": [
    "from sklearn import svm\n",
    "from sklearn.linear_model import LinearRegression\n",
    "from sklearn.neighbors import KNeighborsRegressor\n",
    "from sklearn.ensemble import RandomForestRegressor, AdaBoostRegressor\n",
    "from sklearn.tree import DecisionTreeRegressor\n",
    "import time\n",
    "from sklearn.datasets import load_diabetes\n",
    "import pandas as pd\n",
    "from sklearn.preprocessing import MinMaxScaler\n",
    "from sklearn.model_selection import train_test_split\n",
    "from sklearn.metrics import accuracy_score\n",
    "import numpy as np\n",
    "from scipy import stats\n",
    "import os"
   ]
  },
  {
   "cell_type": "markdown",
   "id": "9ff86a7e",
   "metadata": {
    "pycharm": {
     "name": "#%% md\n"
    }
   },
   "source": [
    "### Aufgabe 1. SVM"
   ]
  },
  {
   "cell_type": "markdown",
   "id": "57ce8533",
   "metadata": {
    "pycharm": {
     "name": "#%% md\n"
    }
   },
   "source": [
    "1. Load and split the data"
   ]
  },
  {
   "cell_type": "code",
   "execution_count": 18,
   "id": "785099e7",
   "metadata": {
    "pycharm": {
     "name": "#%%\n"
    }
   },
   "outputs": [
    {
     "name": "stdout",
     "output_type": "stream",
     "text": [
      "X Train: (298, 7)\n",
      "Y Train: (298,)\n",
      "X Test: (100, 7)\n",
      "Y Test: (100,)\n"
     ]
    }
   ],
   "source": [
    "data = pd.read_csv(os.path.join(\"..\", \"..\", \"..\", \"data\", \"mpg.csv\"))\n",
    "X  = data.drop([\"mpg\"],axis=1)\n",
    "x_train, x_test, y_train, y_test = train_test_split(X, data[\"mpg\"])\n",
    "\n",
    "minmax = MinMaxScaler()\n",
    "\n",
    "x_train = pd.DataFrame(minmax.fit_transform(x_train), columns=X.columns)\n",
    "x_test = minmax.fit_transform(x_test)\n",
    "\n",
    "print('X Train: {}'.format(x_train.shape)) \n",
    "print('Y Train: {}'.format(y_train.shape)) \n",
    "print('X Test: {}'.format(x_test.shape)) \n",
    "print('Y Test: {}'.format(y_test.shape))"
   ]
  },
  {
   "cell_type": "code",
   "execution_count": 11,
   "id": "1ec81fc5",
   "metadata": {
    "pycharm": {
     "name": "#%%\n"
    }
   },
   "outputs": [
    {
     "name": "stdout",
     "output_type": "stream",
     "text": [
      "X Train: (331, 10)\n",
      "Y Train: (331,)\n",
      "X Test: (111, 10)\n",
      "Y Test: (111,)\n"
     ]
    }
   ],
   "source": [
    "# An alternative data\n",
    "features, target = load_diabetes(return_X_y=True, as_frame=True)\n",
    "\n",
    "X = features\n",
    "x_train, x_test, y_train, y_test = train_test_split(features, target)\n",
    "\n",
    "minmax = MinMaxScaler()\n",
    "\n",
    "x_train = pd.DataFrame(minmax.fit_transform(x_train), columns=X.columns)\n",
    "x_test = minmax.fit_transform(x_test)\n",
    "print('X Train: {}'.format(x_train.shape)) \n",
    "print('Y Train: {}'.format(y_train.shape)) \n",
    "print('X Test: {}'.format(x_test.shape)) \n",
    "print('Y Test: {}'.format(y_test.shape))"
   ]
  },
  {
   "cell_type": "markdown",
   "id": "9e608a8f",
   "metadata": {
    "pycharm": {
     "name": "#%% md\n"
    }
   },
   "source": [
    "2. Train and evaluate all the models"
   ]
  },
  {
   "cell_type": "code",
   "execution_count": 12,
   "id": "20e8f818",
   "metadata": {
    "pycharm": {
     "name": "#%%\n"
    }
   },
   "outputs": [
    {
     "name": "stdout",
     "output_type": "stream",
     "text": [
      "Genauigkeit von knn: 4478.1070270270275; running time: 0.0\n",
      "Genauigkeit von linregr: 4207.273198744859; running time: 0.0\n",
      "Genauigkeit von tree: 8631.81081081081; running time: 0.0\n",
      "Genauigkeit von forest: 3613.722252252252; running time: 0.23\n",
      "Genauigkeit von ada: 3678.2506772723686; running time: 0.06\n",
      "Genauigkeit von svm: 5288.983567312791; running time: 0.0\n"
     ]
    }
   ],
   "source": [
    "import warnings\n",
    "warnings.filterwarnings('ignore')\n",
    "\n",
    "def mse(y_pred,y):\n",
    "    return np.mean((y_pred-y)**2)\n",
    "\n",
    "def train_evaluate_time(method):\n",
    "    start_time = time.time()\n",
    "    methods[method].fit(x_train, y_train)\n",
    "    running_time = round(time.time() - start_time,2)\n",
    "    model_predict = methods[method].predict(x_test)\n",
    "    model_mse = mse(model_predict,y_test)\n",
    "    print(\"Genauigkeit von {}: {}; running time: {}\".format(method, model_mse, running_time))\n",
    "\n",
    "\n",
    "methods = {\"knn\": KNeighborsRegressor(), \"linregr\": LinearRegression(), \"tree\": DecisionTreeRegressor(), \n",
    "           \"forest\": RandomForestRegressor(), \"ada\": AdaBoostRegressor(), \"svm\": svm.SVR()}\n",
    "\n",
    "\n",
    "for method in methods:\n",
    "    train_evaluate_time(method)\n"
   ]
  },
  {
   "cell_type": "markdown",
   "source": [
    "### Aufgabe 2: Probabilistische Methoden"
   ],
   "metadata": {
    "collapsed": false,
    "pycharm": {
     "name": "#%% md\n"
    }
   }
  },
  {
   "cell_type": "markdown",
   "source": [
    "### Aufgabe 1. Gaussian Naive Bayes"
   ],
   "metadata": {
    "collapsed": false,
    "pycharm": {
     "name": "#%% md\n"
    }
   }
  },
  {
   "cell_type": "markdown",
   "source": [
    "1. Import and Train/Test split"
   ],
   "metadata": {
    "collapsed": false,
    "pycharm": {
     "name": "#%% md\n"
    }
   }
  },
  {
   "cell_type": "code",
   "execution_count": 19,
   "outputs": [
    {
     "data": {
      "text/plain": "   age  hours-per-week  target\n0   39              40       0\n1   50              13       0\n2   38              40       0\n3   53              40       0\n4   28              40       0",
      "text/html": "<div>\n<style scoped>\n    .dataframe tbody tr th:only-of-type {\n        vertical-align: middle;\n    }\n\n    .dataframe tbody tr th {\n        vertical-align: top;\n    }\n\n    .dataframe thead th {\n        text-align: right;\n    }\n</style>\n<table border=\"1\" class=\"dataframe\">\n  <thead>\n    <tr style=\"text-align: right;\">\n      <th></th>\n      <th>age</th>\n      <th>hours-per-week</th>\n      <th>target</th>\n    </tr>\n  </thead>\n  <tbody>\n    <tr>\n      <th>0</th>\n      <td>39</td>\n      <td>40</td>\n      <td>0</td>\n    </tr>\n    <tr>\n      <th>1</th>\n      <td>50</td>\n      <td>13</td>\n      <td>0</td>\n    </tr>\n    <tr>\n      <th>2</th>\n      <td>38</td>\n      <td>40</td>\n      <td>0</td>\n    </tr>\n    <tr>\n      <th>3</th>\n      <td>53</td>\n      <td>40</td>\n      <td>0</td>\n    </tr>\n    <tr>\n      <th>4</th>\n      <td>28</td>\n      <td>40</td>\n      <td>0</td>\n    </tr>\n  </tbody>\n</table>\n</div>"
     },
     "execution_count": 19,
     "metadata": {},
     "output_type": "execute_result"
    }
   ],
   "source": [
    "census = pd.read_csv(os.path.join(\"..\", \"..\", \"..\", \"data\", \"census.csv\"))[['age', 'hours-per-week', 'target']]\n",
    "census[\"target\"] = census[\"target\"].map({\" <=50K\":0,\" >50K\":1})\n",
    "census.head(5)"
   ],
   "metadata": {
    "collapsed": false,
    "pycharm": {
     "name": "#%%\n"
    }
   }
  },
  {
   "cell_type": "code",
   "execution_count": 14,
   "outputs": [
    {
     "name": "stdout",
     "output_type": "stream",
     "text": [
      "X Train: (24420, 2)\n",
      "Y Train: (24420,)\n",
      "X Test: (8141, 2)\n",
      "Y Test: (8141,)\n"
     ]
    }
   ],
   "source": [
    "x_train, x_test, y_train, y_test = train_test_split(census.drop([\"target\"],axis=1),census[\"target\"])\n",
    "print('X Train: {}'.format(x_train.shape))\n",
    "print('Y Train: {}'.format(y_train.shape))\n",
    "print('X Test: {}'.format(x_test.shape))\n",
    "print('Y Test: {}'.format(y_test.shape))\n",
    "\n",
    "# Normalize: Age und hours-per-week\n",
    "minmax = MinMaxScaler()\n",
    "\n",
    "x_train['age'] = minmax.fit_transform(x_train['age'].to_numpy().reshape(-1,1))\n",
    "x_train['hours-per-week'] = minmax.fit_transform(x_train['hours-per-week'].to_numpy().reshape(-1,1))\n",
    "\n",
    "x_test['age'] = minmax.fit_transform(x_test['age'].to_numpy().reshape(-1,1))\n",
    "x_test['hours-per-week'] = minmax.fit_transform(x_test['hours-per-week'].to_numpy().reshape(-1,1))"
   ],
   "metadata": {
    "collapsed": false,
    "pycharm": {
     "name": "#%%\n"
    }
   }
  },
  {
   "cell_type": "markdown",
   "source": [
    "2. Gaussian Naive Bayes:"
   ],
   "metadata": {
    "collapsed": false,
    "pycharm": {
     "name": "#%% md\n"
    }
   }
  },
  {
   "cell_type": "code",
   "execution_count": 15,
   "outputs": [
    {
     "name": "stdout",
     "output_type": "stream",
     "text": [
      "Prior probability high income: 23.94\n",
      "Prior probability low income: 76.06\n",
      "Accuracy score: 0.7640339024689842\n"
     ]
    }
   ],
   "source": [
    "def calculate_probability(prior_high, prior_low, x):\n",
    "    proba_high = np.log(prior_high*age_density_high(x[0])*hours_density_high(x[1]))\n",
    "    proba_low = np.log(prior_low*age_density_low(x[0])*hours_density_low(x[1]))\n",
    "    if proba_high >= proba_low:\n",
    "        return 1\n",
    "    else:\n",
    "        return 0\n",
    "\n",
    "# Prior Probabilities:\n",
    "\n",
    "data_shape = y_train.shape[0]\n",
    "prior_probability_high_income = y_train.loc[y_train == 1].shape[0]/data_shape\n",
    "prior_probability_low_income = y_train.loc[y_train == 0].shape[0]/data_shape\n",
    "print(\"Prior probability high income: {:.2f}\".format(prior_probability_high_income*100))\n",
    "print(\"Prior probability low income: {:.2f}\".format(prior_probability_low_income*100))\n",
    "\n",
    "data_train = x_train\n",
    "data_train['target'] = y_train\n",
    "age_density_high = stats.kde.gaussian_kde(data_train.loc[data_train[\"target\"]==1][\"age\"])\n",
    "age_density_low = stats.kde.gaussian_kde(data_train.loc[data_train[\"target\"]==0][\"age\"])\n",
    "hours_density_high = stats.kde.gaussian_kde(data_train.loc[data_train[\"target\"]==1][\"hours-per-week\"])\n",
    "hours_density_low = stats.kde.gaussian_kde(data_train.loc[data_train[\"target\"]==0][\"hours-per-week\"])\n",
    "\n",
    "# Prediction:\n",
    "predicted = []\n",
    "for element in x_test.to_numpy():\n",
    "    predicted.append(calculate_probability(prior_probability_high_income, prior_probability_low_income, element))\n",
    "\n",
    "print(\"Accuracy score: {}\".format(accuracy_score(predicted, y_test)))"
   ],
   "metadata": {
    "collapsed": false,
    "pycharm": {
     "name": "#%%\n"
    }
   }
  },
  {
   "cell_type": "code",
   "execution_count": null,
   "outputs": [],
   "source": [],
   "metadata": {
    "collapsed": false,
    "pycharm": {
     "name": "#%%\n"
    }
   }
  }
 ],
 "metadata": {
  "kernelspec": {
   "display_name": "Python 3 (ipykernel)",
   "language": "python",
   "name": "python3"
  },
  "language_info": {
   "codemirror_mode": {
    "name": "ipython",
    "version": 3
   },
   "file_extension": ".py",
   "mimetype": "text/x-python",
   "name": "python",
   "nbconvert_exporter": "python",
   "pygments_lexer": "ipython3",
   "version": "3.8.12"
  }
 },
 "nbformat": 4,
 "nbformat_minor": 5
}