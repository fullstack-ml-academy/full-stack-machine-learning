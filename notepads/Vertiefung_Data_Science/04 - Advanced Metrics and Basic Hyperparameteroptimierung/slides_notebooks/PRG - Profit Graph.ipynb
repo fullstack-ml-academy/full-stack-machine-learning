{
 "cells": [
  {
   "cell_type": "markdown",
   "id": "d55209dc-66d5-4474-a199-6d1484279ed6",
   "metadata": {
    "pycharm": {
     "name": "#%% md\n"
    }
   },
   "source": [
    "# Profit & ROC Graph"
   ]
  },
  {
   "cell_type": "markdown",
   "id": "f60c4b6d-6e5a-4212-bbeb-a14c33f0fda1",
   "metadata": {
    "pycharm": {
     "name": "#%% md\n"
    }
   },
   "source": [
    "## Imports"
   ]
  },
  {
   "cell_type": "code",
   "execution_count": 10,
   "id": "6cea0d19-2cc5-4037-a2df-76cb966becd3",
   "metadata": {
    "pycharm": {
     "name": "#%%\n"
    }
   },
   "outputs": [],
   "source": [
    "import numpy as np\n",
    "import os\n",
    "import pandas as pd\n",
    "import matplotlib.pyplot as plt\n",
    "from sklearn.neighbors import KNeighborsClassifier\n",
    "from sklearn.linear_model import LogisticRegression\n",
    "from sklearn.model_selection import train_test_split\n",
    "from sklearn import metrics"
   ]
  },
  {
   "cell_type": "markdown",
   "id": "0d901e7a-bc80-4a29-ae63-5378888b7bbf",
   "metadata": {
    "pycharm": {
     "name": "#%% md\n"
    }
   },
   "source": [
    "## Datengrundlage"
   ]
  },
  {
   "cell_type": "code",
   "execution_count": 11,
   "id": "c7bbf438-b278-41a5-9629-c63bfe01458a",
   "metadata": {
    "pycharm": {
     "name": "#%%\n"
    }
   },
   "outputs": [],
   "source": [
    "data = pd.read_csv(os.path.join(\"..\", \"..\", \"..\", \"..\", \"data\", \"wine.csv\"))\n",
    "data.loc[data[\"Target\"] == 3] = 2 # binarsieren\n",
    "data[\"Target\"] = data[\"Target\"] - 1 # target auf 0 / 1 bringen\n",
    "x_train, x_test, y_train, y_test = train_test_split(data.drop([\"Target\"],axis=1),data[\"Target\"])"
   ]
  },
  {
   "cell_type": "markdown",
   "id": "77a02d88-96d7-45ff-9db8-402a488ee020",
   "metadata": {
    "pycharm": {
     "name": "#%% md\n"
    }
   },
   "source": [
    "## Model Training"
   ]
  },
  {
   "cell_type": "code",
   "execution_count": 12,
   "id": "6bb3daee-bc2e-449f-9ccb-9a0d07604a10",
   "metadata": {
    "pycharm": {
     "name": "#%%\n"
    }
   },
   "outputs": [
    {
     "data": {
      "text/plain": "KNeighborsClassifier(n_neighbors=25)"
     },
     "execution_count": 12,
     "metadata": {},
     "output_type": "execute_result"
    }
   ],
   "source": [
    "model = KNeighborsClassifier(n_neighbors=25)\n",
    "model.fit(x_train,y_train)"
   ]
  },
  {
   "cell_type": "code",
   "execution_count": 13,
   "id": "648afbe9-f2a9-4eb7-84d3-09f0f10db830",
   "metadata": {
    "pycharm": {
     "name": "#%%\n"
    }
   },
   "outputs": [],
   "source": [
    "profit_tp = 0.2\n",
    "profit_tn = 0.1\n",
    "profit_fp = -1\n",
    "profit_fn = -0.3"
   ]
  },
  {
   "cell_type": "markdown",
   "id": "a4b2e613-f8ca-431e-be9f-920f495de251",
   "metadata": {
    "pycharm": {
     "name": "#%% md\n"
    }
   },
   "source": [
    "## Profit Graph"
   ]
  },
  {
   "cell_type": "code",
   "execution_count": 14,
   "id": "9bf9469a-f502-491d-8e34-88c1ed260684",
   "metadata": {
    "pycharm": {
     "name": "#%%\n"
    }
   },
   "outputs": [
    {
     "data": {
      "text/plain": "<Figure size 576x432 with 1 Axes>",
      "image/png": "[encoded data removed]"
     },
     "metadata": {
      "needs_background": "light"
     },
     "output_type": "display_data"
    }
   ],
   "source": [
    "profits = []\n",
    "for i in np.linspace(0,1):\n",
    "    probas = model.predict_proba(x_test)[:,1:]\n",
    "    predictions = np.where(probas >= i,1,0)\n",
    "    \n",
    "    errors = predictions-y_test.to_numpy().reshape(-1,1)\n",
    "    fp = np.count_nonzero(errors == 1)\n",
    "    fn = np.count_nonzero(errors == -1)\n",
    "    tp = np.sum(np.where(np.logical_and(errors == 0, predictions == 1),1,0))\n",
    "    tn = np.sum(np.where(np.logical_and(errors == 0, predictions == 0),1,0))\n",
    "    profits.append(fp*profit_fp+fn*profit_fn+tp*profit_tp+tn*profit_tn)\n",
    "\n",
    "plt.figure(figsize=(8,6))\n",
    "plt.title(\"Profit Graph für kNN Modell\")    \n",
    "plt.plot(np.linspace(0,1), profits,label=\"kNN Modell\",c=\"#1ACC94\")\n",
    "plt.xlabel(\"Threshold\")\n",
    "plt.ylabel(\"Profit\")\n",
    "plt.legend()\n",
    "plt.show()"
   ]
  },
  {
   "cell_type": "code",
   "execution_count": null,
   "id": "e1df652d-bece-4c19-a215-fe2b70f2ff0c",
   "metadata": {
    "pycharm": {
     "name": "#%%\n"
    }
   },
   "outputs": [],
   "source": []
  }
 ],
 "metadata": {
  "kernelspec": {
   "display_name": "Python 3 (ipykernel)",
   "language": "python",
   "name": "python3"
  },
  "language_info": {
   "codemirror_mode": {
    "name": "ipython",
    "version": 3
   },
   "file_extension": ".py",
   "mimetype": "text/x-python",
   "name": "python",
   "nbconvert_exporter": "python",
   "pygments_lexer": "ipython3",
   "version": "3.8.12"
  }
 },
 "nbformat": 4,
 "nbformat_minor": 5
}