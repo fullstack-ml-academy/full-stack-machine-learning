{
 "cells": [
  {
   "cell_type": "markdown",
   "id": "ce459c5e",
   "metadata": {
    "pycharm": {
     "name": "#%% md\n"
    }
   },
   "source": [
    "# *Zusatzbeispiel: Hyperparameter Optimierung*"
   ]
  },
  {
   "cell_type": "markdown",
   "id": "a4b6f1a7",
   "metadata": {
    "pycharm": {
     "name": "#%% md\n"
    }
   },
   "source": [
    "0. Imports"
   ]
  },
  {
   "cell_type": "code",
   "execution_count": null,
   "id": "1e0fd736",
   "metadata": {
    "pycharm": {
     "name": "#%%\n"
    }
   },
   "outputs": [],
   "source": [
    "import pandas as pd\n",
    "from sklearn.impute import SimpleImputer\n",
    "from sklearn.preprocessing import MinMaxScaler\n",
    "from sklearn.model_selection import train_test_split\n",
    "from sklearn.tree import DecisionTreeClassifier\n",
    "from sklearn.metrics import accuracy_score\n",
    "import matplotlib.pyplot as plt\n",
    "from tqdm import trange\n",
    "import os"
   ]
  },
  {
   "cell_type": "markdown",
   "id": "c41ab1e2",
   "metadata": {
    "pycharm": {
     "name": "#%% md\n"
    }
   },
   "source": [
    "1. Import and Train/Test split"
   ]
  },
  {
   "cell_type": "code",
   "execution_count": 2,
   "id": "220b168a",
   "metadata": {
    "pycharm": {
     "name": "#%%\n"
    }
   },
   "outputs": [
    {
     "name": "stderr",
     "output_type": "stream",
     "text": [
      "/var/folders/6z/jr7vc1n52qlbyvvf98jx_y580000gn/T/ipykernel_7843/628978011.py:13: FutureWarning: Downcasting behavior in `replace` is deprecated and will be removed in a future version. To retain the old behavior, explicitly call `result.infer_objects(copy=False)`. To opt-in to the future behavior, set `pd.set_option('future.no_silent_downcasting', True)`\n",
      "  census[\"sex\"] = census[\"sex\"].replace({' Male': 1, ' Female': 0})\n",
      "/var/folders/6z/jr7vc1n52qlbyvvf98jx_y580000gn/T/ipykernel_7843/628978011.py:16: FutureWarning: Downcasting behavior in `replace` is deprecated and will be removed in a future version. To retain the old behavior, explicitly call `result.infer_objects(copy=False)`. To opt-in to the future behavior, set `pd.set_option('future.no_silent_downcasting', True)`\n",
      "  census[\"target\"] = census[\"target\"].replace({' >50K': 1, ' <=50K': 0})\n"
     ]
    }
   ],
   "source": [
    "census = data = pd.read_csv(os.path.join(\"..\", \"..\", \"..\", \"data\", \"census.csv\"))\n",
    "census = census.drop(['occupation', 'relationship', 'capital-gain', 'capital-loss', 'native-country'], axis=1)\n",
    "\n",
    "# Missing Values: 'workclass'\n",
    "\n",
    "imp_most_frequent = SimpleImputer(missing_values=' ?', strategy='most_frequent')\n",
    "census['workclass'] = imp_most_frequent.fit_transform(\n",
    "    census['workclass'].to_numpy().reshape(-1,1)\n",
    "    ).reshape(census.shape[0])\n",
    "\n",
    "# Encoding:\n",
    "# SEX: Male: 1, Female: 0\n",
    "census[\"sex\"] = census[\"sex\"].replace({' Male': 1, ' Female': 0})\n",
    "\n",
    "# TARGET: >50K: 1, <=50K: 0\n",
    "census[\"target\"] = census[\"target\"].replace({' >50K': 1, ' <=50K': 0})\n",
    "\n",
    "to_encode = ['workclass', 'education', 'marital-status', 'race']\n",
    "for feature in to_encode:\n",
    "    one_hot = pd.get_dummies(census[feature], drop_first=True)\n",
    "    census = census.join(one_hot)\n",
    "    census.pop(feature)"
   ]
  },
  {
   "cell_type": "code",
   "execution_count": 3,
   "id": "330df648",
   "metadata": {
    "pycharm": {
     "name": "#%%\n"
    }
   },
   "outputs": [],
   "source": [
    "x_train, x_test, y_train, y_test = train_test_split(census.drop([\"target\"],axis=1),census[\"target\"])\n",
    "\n",
    "# Normalize: Age und hours-per-week\n",
    "minmax = MinMaxScaler()\n",
    "\n",
    "x_train['age'] = minmax.fit_transform(x_train['age'].to_numpy().reshape(-1,1))\n",
    "x_train['hours-per-week'] = minmax.fit_transform(x_train['hours-per-week'].to_numpy().reshape(-1,1))\n",
    "\n",
    "x_test['age'] = minmax.fit_transform(x_test['age'].to_numpy().reshape(-1,1))\n",
    "x_test['hours-per-week'] = minmax.fit_transform(x_test['hours-per-week'].to_numpy().reshape(-1,1))"
   ]
  },
  {
   "cell_type": "markdown",
   "id": "4135cb88",
   "metadata": {
    "pycharm": {
     "name": "#%% md\n"
    }
   },
   "source": [
    "2. Train the DT model for differnt max_depth's and min_sample_split's:"
   ]
  },
  {
   "cell_type": "code",
   "execution_count": null,
   "metadata": {
    "collapsed": false,
    "pycharm": {
     "name": "#%%\n"
    }
   },
   "outputs": [
    {
     "name": "stderr",
     "output_type": "stream",
     "text": [
      "  0%|          | 0/30 [00:00<?, ?it/s]"
     ]
    },
    {
     "name": "stderr",
     "output_type": "stream",
     "text": [
      " 67%|██████▋   | 20/30 [00:18<00:13,  1.31s/it]"
     ]
    }
   ],
   "source": [
    "error = []\n",
    "\n",
    "xs, ys = [], []\n",
    "\n",
    "for x in trange(1, 31):\n",
    "    for y in range(2, 32):\n",
    "        clf = DecisionTreeClassifier(max_depth=x, min_samples_split=y, random_state=1)\n",
    "        clf.fit(x_train, y_train)\n",
    "        xs.append(x)\n",
    "        ys.append(y)\n",
    "        error.append(accuracy_score(clf.predict(x_test), y_test))\n",
    "\n",
    "fig = plt.figure(figsize=(10,10))\n",
    "ax = fig.add_subplot(projection='3d')\n",
    "ax.scatter(xs, ys, error)\n",
    "ax.set_xlabel('max_depth')\n",
    "ax.set_ylabel('min_samples_split')\n",
    "ax.set_zlabel('accuracy')\n",
    "plt.show()"
   ]
  }
 ],
 "metadata": {
  "kernelspec": {
   "display_name": ".venv",
   "language": "python",
   "name": "python3"
  },
  "language_info": {
   "codemirror_mode": {
    "name": "ipython",
    "version": 3
   },
   "file_extension": ".py",
   "mimetype": "text/x-python",
   "name": "python",
   "nbconvert_exporter": "python",
   "pygments_lexer": "ipython3",
   "version": "3.10.15"
  }
 },
 "nbformat": 4,
 "nbformat_minor": 5
}
