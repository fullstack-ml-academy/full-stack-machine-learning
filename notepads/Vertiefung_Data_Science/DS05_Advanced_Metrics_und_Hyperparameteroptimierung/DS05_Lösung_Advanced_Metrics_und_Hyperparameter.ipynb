{
 "cells": [
  {
   "cell_type": "markdown",
   "id": "ce459c5e",
   "metadata": {
    "pycharm": {
     "name": "#%% md\n"
    }
   },
   "source": [
    "# *Aufgabe: Advanced Metriken and Hypereparameteroptimierung*"
   ]
  },
  {
   "cell_type": "code",
   "execution_count": 1,
   "id": "1e0fd736",
   "metadata": {
    "pycharm": {
     "name": "#%%\n"
    }
   },
   "outputs": [],
   "source": [
    "import pandas as pd\n",
    "from sklearn.preprocessing import MinMaxScaler\n",
    "from sklearn.model_selection import train_test_split\n",
    "from sklearn.ensemble import RandomForestClassifier\n",
    "from sklearn.neighbors import KNeighborsClassifier\n",
    "from sklearn.metrics import accuracy_score, confusion_matrix\n",
    "import matplotlib.pyplot as plt\n",
    "import numpy as np\n",
    "from sklearn import metrics\n",
    "import os"
   ]
  },
  {
   "cell_type": "markdown",
   "id": "218d68e3",
   "metadata": {
    "pycharm": {
     "name": "#%% md\n"
    }
   },
   "source": [
    "### Aufgabe 1. Advanced Metrics\n",
    "\n",
    "\n",
    "Für den Census Datensatz trainieren Sie zwei Klassifizierungsmodelle Ihrer Wahl und berechnen Sie für sie neben der Akkuranz auch Precision und Recall. Plotten Sie mithilfe von sklearn zusätzlich je einen ROC-Graphen.\n"
   ]
  },
  {
   "cell_type": "code",
   "execution_count": 2,
   "id": "220b168a",
   "metadata": {
    "pycharm": {
     "name": "#%%\n"
    }
   },
   "outputs": [
    {
     "name": "stderr",
     "output_type": "stream",
     "text": [
      "/var/folders/6z/jr7vc1n52qlbyvvf98jx_y580000gn/T/ipykernel_7769/2926189982.py:7: FutureWarning: Downcasting behavior in `replace` is deprecated and will be removed in a future version. To retain the old behavior, explicitly call `result.infer_objects(copy=False)`. To opt-in to the future behavior, set `pd.set_option('future.no_silent_downcasting', True)`\n",
      "  census[\"sex\"] = census[\"sex\"].replace({' Male': 1, ' Female': 0})\n",
      "/var/folders/6z/jr7vc1n52qlbyvvf98jx_y580000gn/T/ipykernel_7769/2926189982.py:10: FutureWarning: Downcasting behavior in `replace` is deprecated and will be removed in a future version. To retain the old behavior, explicitly call `result.infer_objects(copy=False)`. To opt-in to the future behavior, set `pd.set_option('future.no_silent_downcasting', True)`\n",
      "  census[\"target\"] = census[\"target\"].replace({' >50K': 1, ' <=50K': 0})\n"
     ]
    }
   ],
   "source": [
    "# Vorbereitung wie in den vorherigen Notebooks\n",
    "census = pd.read_csv(os.path.join(\"..\", \"..\", \"..\", \"data\", \"census.csv\"))\n",
    "census = census.drop(['occupation', 'relationship', 'capital-gain', 'capital-loss', 'native-country', 'workclass', 'marital-status'], axis=1)\n",
    "\n",
    "# Encoding:\n",
    "# SEX: Male: 1, Female: 0\n",
    "census[\"sex\"] = census[\"sex\"].replace({' Male': 1, ' Female': 0})\n",
    "\n",
    "# TARGET: >50K: 1, <=50K: 0\n",
    "census[\"target\"] = census[\"target\"].replace({' >50K': 1, ' <=50K': 0})\n",
    "\n",
    "to_encode = ['education', 'race']\n",
    "for feature in to_encode:\n",
    "    one_hot = pd.get_dummies(census[feature], drop_first=True)\n",
    "    census = census.join(one_hot)\n",
    "    census.pop(feature)"
   ]
  },
  {
   "cell_type": "code",
   "execution_count": 3,
   "id": "330df648",
   "metadata": {
    "pycharm": {
     "name": "#%%\n"
    }
   },
   "outputs": [
    {
     "name": "stdout",
     "output_type": "stream",
     "text": [
      "X Train: (24420, 22)\n",
      "Y Train: (24420,)\n",
      "X Test: (8141, 22)\n",
      "Y Test: (8141,)\n"
     ]
    }
   ],
   "source": [
    "x_train, x_test, y_train, y_test = train_test_split(census.drop([\"target\"],axis=1),census[\"target\"])\n",
    "print('X Train: {}'.format(x_train.shape))\n",
    "print('Y Train: {}'.format(y_train.shape))\n",
    "print('X Test: {}'.format(x_test.shape))\n",
    "print('Y Test: {}'.format(y_test.shape))\n",
    "\n",
    "# Normalize: Age und hours-per-week\n",
    "minmax = MinMaxScaler()\n",
    "\n",
    "x_train['age'] = minmax.fit_transform(x_train['age'].to_numpy().reshape(-1,1))\n",
    "x_train['hours-per-week'] = minmax.fit_transform(x_train['hours-per-week'].to_numpy().reshape(-1,1))\n",
    "\n",
    "x_test['age'] = minmax.fit_transform(x_test['age'].to_numpy().reshape(-1,1))\n",
    "x_test['hours-per-week'] = minmax.fit_transform(x_test['hours-per-week'].to_numpy().reshape(-1,1))"
   ]
  },
  {
   "cell_type": "markdown",
   "id": "4135cb88",
   "metadata": {
    "pycharm": {
     "name": "#%% md\n"
    }
   },
   "source": [
    "2. Train the Random Forest and kNN models:"
   ]
  },
  {
   "cell_type": "code",
   "execution_count": null,
   "id": "24d4f6f7",
   "metadata": {
    "pycharm": {
     "name": "#%%\n"
    }
   },
   "outputs": [
    {
     "name": "stderr",
     "output_type": "stream",
     "text": [
      "/var/folders/6z/jr7vc1n52qlbyvvf98jx_y580000gn/T/ipykernel_7769/756652473.py:26: RuntimeWarning: invalid value encountered in scalar divide\n",
      "  print(\"Recall: {}\".format(tp/(tp + fn)))\n"
     ]
    },
    {
     "name": "stdout",
     "output_type": "stream",
     "text": [
      "--------------------------------- \n",
      " TRIVIALE HYPOTHESE\n",
      "Accuracy: 0.7624370470458175\n",
      "Confusion matrix: \n",
      "[[6207 1934]\n",
      " [   0    0]]\n",
      "--------------------------------- \n",
      " RANDOM FOREST  \n",
      "Accuracy: 0.7624370470458175\n",
      "Confusion matrix: \n",
      "[[6207 1934]\n",
      " [   0    0]]\n",
      "Precision: 0.0\n",
      "Recall: nan\n"
     ]
    }
   ],
   "source": [
    "# Triviale Hypothese - schätze immer 0 als Ergebnis\n",
    "predict = np.zeros(len(y_test))\n",
    "\n",
    "# Confusionmatrix zur Darstellung der true-positiv, false-positiv, true-negativ, false-negativ\n",
    "cm = confusion_matrix(predict, y_test)\n",
    "\n",
    "print(\"--------------------------------- \\n TRIVIALE HYPOTHESE\")\n",
    "print(\"Accuracy: {}\".format(accuracy_score(predict, y_test)))\n",
    "print(\"Confusion matrix: \\n{}\".format(cm))\n",
    "\n",
    "# Random Forest:\n",
    "\n",
    "rf = RandomForestClassifier(n_estimators=2, criterion=\"entropy\", max_depth=1, min_samples_split=5, random_state=1)\n",
    "rf.fit(x_train, y_train)\n",
    "predict = rf.predict(x_test)\n",
    "\n",
    "cm = confusion_matrix(predict, y_test)\n",
    "\n",
    "# false-positiv, false-negativ, true-positiv werden für die weiteren Berechnungen benötigt\n",
    "_, fp, fn, tp = cm.ravel()\n",
    "\n",
    "print(\"--------------------------------- \\n RANDOM FOREST  \")\n",
    "print(\"Accuracy: {}\".format(accuracy_score(predict, y_test)))\n",
    "print(\"Confusion matrix: \\n{}\".format(cm))\n",
    "print(\"Precision: {}\".format(tp/(tp + fp)))\n",
    "print(\"Recall: {}\".format(tp/(tp + fn)))\n",
    "\n",
    "# Erstellen der ROC Kurve basierend auf anderen Metriken\n",
    "plt.figure(figsize=(8,6))\n",
    "plt.title(\"ROC Graphs\")\n",
    "fpr, tpr, thresholds = metrics.roc_curve(y_test.values, rf.predict_proba(x_test)[:,1:])\n",
    "plt.plot([0,1],[0,1],ls=\"--\",c=\"black\",alpha=0.2)\n",
    "plt.plot(fpr,tpr,label=\"ROC-Graph Random forest\",c=\"#1ACC94\")\n",
    "plt.xlabel(\"False-Positive Rate (FPR)\")\n",
    "plt.ylabel(\"True-Positive Rate (TPR)\")\n",
    "\n",
    "# kNN\n",
    "knn = KNeighborsClassifier(n_neighbors=30)\n",
    "knn.fit(x_train, y_train)\n",
    "predict = knn.predict(x_test)\n",
    "\n",
    "cm = confusion_matrix(predict, y_test)\n",
    "_, fp, fn, tp = cm.ravel()\n",
    "\n",
    "print(\"--------------------------------- \\n KNN  \")\n",
    "print(\"Accuracy: {}\".format(accuracy_score(predict, y_test)))\n",
    "print(\"Confusion matrix: \\n{}\".format(cm))\n",
    "print(\"Precision: {}\".format(tp/(tp + fp)))\n",
    "print(\"Recall: {}\".format(tp/(tp + fn)))\n",
    "fpr, tpr, _ = metrics.roc_curve(y_test.values, knn.predict_proba(x_test)[:,1:])\n",
    "plt.plot([0,1],[0,1],ls=\"--\",c=\"black\",alpha=0.2)\n",
    "plt.plot(fpr,tpr,label=\"ROC-Graph kNN\")\n",
    "\n",
    "plt.legend()\n",
    "plt.show()"
   ]
  },
  {
   "cell_type": "markdown",
   "id": "a7f37cfd",
   "metadata": {
    "pycharm": {
     "name": "#%% md\n"
    }
   },
   "source": [
    "### Aufgabe 2. Hyperparameteroptimierung\n",
    "\n",
    "Optimieren Sie eins von den beiden Modelle mithilfe von wahlweise Grid- oder Random-Search aus der sklearn Implementierung. Um wieviel verbessert sich Ihr Modell im Rahmen dieser Optimierung?"
   ]
  },
  {
   "cell_type": "markdown",
   "id": "28a647bb",
   "metadata": {
    "pycharm": {
     "name": "#%% md\n"
    }
   },
   "source": [
    "1. Optimize Random Forest with Grid Search Algorithm"
   ]
  },
  {
   "cell_type": "code",
   "execution_count": null,
   "id": "89eadce6",
   "metadata": {
    "pycharm": {
     "name": "#%%\n"
    }
   },
   "outputs": [
    {
     "name": "stdout",
     "output_type": "stream",
     "text": [
      "Bester Punkt mit z=0.81 gefunden bei (101, np.int64(10), np.int64(7))\n"
     ]
    }
   ],
   "source": [
    "# Festlegen des Wertebereichs und der Schrittweite des Grids für die Hyperparameter\n",
    "grid_points_n_estimators = range(1, 201, 50)\n",
    "grid_points_max_depth = np.arange(1, 11)\n",
    "grid_points_min_samples_split = np.arange(2, 52, 5)\n",
    "\n",
    "# Initialisieren der besten Hyperparameter, diese werden später überschrieben\n",
    "max_z = -np.inf\n",
    "n_estimators, max_depth, min_samples_split = 1, 1, 2\n",
    "best_point = (n_estimators, max_depth, min_samples_split)\n",
    "\n",
    "# Loop durch alle möglichen Kombinationen\n",
    "for n_estimators in grid_points_n_estimators:\n",
    "    for max_depth in grid_points_max_depth:\n",
    "        for min_samples_split in grid_points_min_samples_split:\n",
    "            rf = RandomForestClassifier(n_estimators=n_estimators, criterion=\"entropy\", max_depth=max_depth,\n",
    "                                        min_samples_split=min_samples_split, random_state=1)\n",
    "            rf.fit(x_train, y_train)\n",
    "            z = accuracy_score(rf.predict(x_test), y_test)\n",
    "\n",
    "            # falls die Accuracy höher ist als die vorherige beste, speicher die neuen Werte ab\n",
    "            if z > max_z:\n",
    "                max_z = z\n",
    "                best_point = (n_estimators, max_depth, min_samples_split)\n",
    "\n",
    "print(f\"Bester Punkt mit z={round(max_z, 3)} gefunden bei {best_point}\")"
   ]
  },
  {
   "cell_type": "markdown",
   "id": "42f0bd51",
   "metadata": {
    "pycharm": {
     "name": "#%% md\n"
    }
   },
   "source": [
    "ROC Graph für das verbesserte Model"
   ]
  },
  {
   "cell_type": "code",
   "execution_count": null,
   "id": "23619f59",
   "metadata": {
    "pycharm": {
     "name": "#%%\n"
    }
   },
   "outputs": [
    {
     "name": "stdout",
     "output_type": "stream",
     "text": [
      "Accuracy: 0.8096056995455104\n",
      "Confusion matrix: \n",
      "[[5883 1265]\n",
      " [ 285  708]]\n",
      "Precision: 0.35884439939178914\n",
      "Recall: 0.7129909365558912\n"
     ]
    },
    {
     "data": {
      "image/png": "[encoded data removed]",
      "text/plain": [
       "<Figure size 800x600 with 1 Axes>"
      ]
     },
     "metadata": {},
     "output_type": "display_data"
    }
   ],
   "source": [
    "# Originale Modell\n",
    "rf1 = RandomForestClassifier(n_estimators=2, criterion=\"entropy\", max_depth=1, min_samples_split=5, random_state=1)\n",
    "rf1.fit(x_train, y_train)\n",
    "\n",
    "plt.figure(figsize=(8,6))\n",
    "plt.title(\"ROC Graphs Random Forest\")\n",
    "fpr, tpr, thresholds = metrics.roc_curve(y_test.values, rf1.predict_proba(x_test)[:,1:])\n",
    "plt.plot([0,1],[0,1],ls=\"--\",c=\"black\",alpha=0.2)\n",
    "plt.plot(fpr,tpr,label=\"Original\",c=\"#1ACC94\")\n",
    "plt.xlabel(\"False-Positive Rate (FPR)\")\n",
    "plt.ylabel(\"True-Positive Rate (TPR)\")\n",
    "\n",
    "# Optimiertes Modell\n",
    "best_point = (n_estimators, max_depth, min_samples_split)\n",
    "rf_opt = RandomForestClassifier(n_estimators=best_point[0], criterion=\"entropy\", max_depth=best_point[1],\n",
    "                                min_samples_split=best_point[2], random_state=1)\n",
    "rf_opt.fit(x_train, y_train)\n",
    "predict = rf_opt.predict(x_test)\n",
    "\n",
    "cm = confusion_matrix(predict, y_test)\n",
    "tn, fp, fn, tp = cm.ravel()\n",
    "\n",
    "print(\"Accuracy: {}\".format(accuracy_score(predict, y_test)))\n",
    "print(\"Confusion matrix: \\n{}\".format(cm))\n",
    "print(\"Precision: {}\".format(tp/(tp + fp)))\n",
    "print(\"Recall: {}\".format(tp/(tp + fn)))\n",
    "fpr, tpr, _ = metrics.roc_curve(y_test.values, rf_opt.predict_proba(x_test)[:,1:])\n",
    "plt.plot(fpr,tpr,label=\"Optimized\")\n",
    "\n",
    "fpr, tpr, _ = metrics.roc_curve(y_test.values, knn.predict_proba(x_test)[:,1:])\n",
    "plt.plot([0,1],[0,1],ls=\"--\",c=\"black\",alpha=0.2)\n",
    "plt.plot(fpr,tpr,label=\"kNN\")\n",
    "plt.legend()\n",
    "plt.show()"
   ]
  }
 ],
 "metadata": {
  "kernelspec": {
   "display_name": ".venv",
   "language": "python",
   "name": "python3"
  },
  "language_info": {
   "codemirror_mode": {
    "name": "ipython",
    "version": 3
   },
   "file_extension": ".py",
   "mimetype": "text/x-python",
   "name": "python",
   "nbconvert_exporter": "python",
   "pygments_lexer": "ipython3",
   "version": "3.10.15"
  }
 },
 "nbformat": 4,
 "nbformat_minor": 5
}
