{
 "cells": [
  {
   "cell_type": "markdown",
   "id": "f00a85dc",
   "metadata": {
    "pycharm": {
     "name": "#%% md\n"
    }
   },
   "source": [
    "# *Aufgabe: SVM und Interpretation ML*"
   ]
  },
  {
   "cell_type": "markdown",
   "id": "03303cff",
   "metadata": {
    "pycharm": {
     "name": "#%% md\n"
    }
   },
   "source": [
    "0. Imports"
   ]
  },
  {
   "cell_type": "code",
   "execution_count": null,
   "id": "9bc853ee",
   "metadata": {
    "pycharm": {
     "name": "#%%\n"
    }
   },
   "outputs": [],
   "source": [
    "import os\n",
    "\n",
    "import pandas as pd\n",
    "from sklearn.preprocessing import MinMaxScaler\n",
    "from sklearn.model_selection import train_test_split\n",
    "import numpy as np"
   ]
  },
  {
   "cell_type": "markdown",
   "metadata": {
    "collapsed": false,
    "pycharm": {
     "name": "#%% md\n"
    }
   },
   "source": [
    "### Aufgabe 1. Gaussian Naive Bayes\n",
    "\n",
    "Laden Sie den Census Datensatz und implementieren Sie den Gaussian Naive Bayes Algorithmus analog zu den Vorlesungsinhalten “from Scratch” (dh. ohne die GNB Implementierung aus sklearn). Sagen Sie nur auf Grundlage von Alter und Arbeitsstunden pro Woche die Zielvariable der Einkommensklasse für eine Instanz vorher. Ziehen Sie das Notebook 02/EDA heran, wenn Sie eine Gaußsche Funktion aus einer Datenmenge erstellen wollen.\n"
   ]
  },
  {
   "cell_type": "code",
   "execution_count": 2,
   "metadata": {
    "collapsed": false,
    "pycharm": {
     "name": "#%%\n"
    }
   },
   "outputs": [
    {
     "data": {
      "text/html": [
       "<div>\n",
       "<style scoped>\n",
       "    .dataframe tbody tr th:only-of-type {\n",
       "        vertical-align: middle;\n",
       "    }\n",
       "\n",
       "    .dataframe tbody tr th {\n",
       "        vertical-align: top;\n",
       "    }\n",
       "\n",
       "    .dataframe thead th {\n",
       "        text-align: right;\n",
       "    }\n",
       "</style>\n",
       "<table border=\"1\" class=\"dataframe\">\n",
       "  <thead>\n",
       "    <tr style=\"text-align: right;\">\n",
       "      <th></th>\n",
       "      <th>age</th>\n",
       "      <th>hours-per-week</th>\n",
       "      <th>target</th>\n",
       "    </tr>\n",
       "  </thead>\n",
       "  <tbody>\n",
       "    <tr>\n",
       "      <th>0</th>\n",
       "      <td>39</td>\n",
       "      <td>40</td>\n",
       "      <td>0</td>\n",
       "    </tr>\n",
       "    <tr>\n",
       "      <th>1</th>\n",
       "      <td>50</td>\n",
       "      <td>13</td>\n",
       "      <td>0</td>\n",
       "    </tr>\n",
       "    <tr>\n",
       "      <th>2</th>\n",
       "      <td>38</td>\n",
       "      <td>40</td>\n",
       "      <td>0</td>\n",
       "    </tr>\n",
       "    <tr>\n",
       "      <th>3</th>\n",
       "      <td>53</td>\n",
       "      <td>40</td>\n",
       "      <td>0</td>\n",
       "    </tr>\n",
       "    <tr>\n",
       "      <th>4</th>\n",
       "      <td>28</td>\n",
       "      <td>40</td>\n",
       "      <td>0</td>\n",
       "    </tr>\n",
       "  </tbody>\n",
       "</table>\n",
       "</div>"
      ],
      "text/plain": [
       "   age  hours-per-week  target\n",
       "0   39              40       0\n",
       "1   50              13       0\n",
       "2   38              40       0\n",
       "3   53              40       0\n",
       "4   28              40       0"
      ]
     },
     "execution_count": 2,
     "metadata": {},
     "output_type": "execute_result"
    }
   ],
   "source": [
    "# Laden und Preprocessing wie in vorherigen Notebooks\n",
    "census = pd.read_csv(os.path.join(\"..\", \"..\", \"..\", \"data\", \"census.csv\"))[['age', 'hours-per-week', 'target']]\n",
    "census[\"target\"] = census[\"target\"].map({\" <=50K\":0,\" >50K\":1})\n",
    "census.head(5)"
   ]
  },
  {
   "cell_type": "code",
   "execution_count": 3,
   "metadata": {
    "collapsed": false,
    "pycharm": {
     "name": "#%%\n"
    }
   },
   "outputs": [
    {
     "name": "stdout",
     "output_type": "stream",
     "text": [
      "X Train: (24420, 2)\n",
      "Y Train: (24420,)\n",
      "X Test: (8141, 2)\n",
      "Y Test: (8141,)\n"
     ]
    }
   ],
   "source": [
    "x_train, x_test, y_train, y_test = train_test_split(census.drop([\"target\"],axis=1),census[\"target\"])\n",
    "print('X Train: {}'.format(x_train.shape))\n",
    "print('Y Train: {}'.format(y_train.shape))\n",
    "print('X Test: {}'.format(x_test.shape))\n",
    "print('Y Test: {}'.format(y_test.shape))\n",
    "\n",
    "# Normalize: Age und hours-per-week\n",
    "minmax = MinMaxScaler()\n",
    "\n",
    "x_train['age'] = minmax.fit_transform(x_train['age'].to_numpy().reshape(-1,1))\n",
    "x_train['hours-per-week'] = minmax.fit_transform(x_train['hours-per-week'].to_numpy().reshape(-1,1))\n",
    "\n",
    "x_test['age'] = minmax.fit_transform(x_test['age'].to_numpy().reshape(-1,1))\n",
    "x_test['hours-per-week'] = minmax.fit_transform(x_test['hours-per-week'].to_numpy().reshape(-1,1))"
   ]
  },
  {
   "cell_type": "markdown",
   "metadata": {
    "collapsed": false,
    "pycharm": {
     "name": "#%% md\n"
    }
   },
   "source": [
    "2. Gaussian Naive Bayes:"
   ]
  },
  {
   "cell_type": "code",
   "execution_count": 4,
   "metadata": {
    "collapsed": false,
    "pycharm": {
     "name": "#%%\n"
    }
   },
   "outputs": [],
   "source": [
    "class GaussianNBFromScratch:\n",
    "    \"\"\"\n",
    "    Eine \"from scratch\" Implementierung des Gaussian Naive Bayes Algorithmus.\n",
    "    \"\"\"\n",
    "\n",
    "    def fit(self, X, y):\n",
    "        \"\"\"\n",
    "        Lernen der Mittelwerte, Standardabweichungen und Priors aus den Trainingsdaten.\n",
    "        \"\"\"\n",
    "        n_samples, n_features = X.shape\n",
    "        self.classes = np.unique(y)\n",
    "        n_classes = len(self.classes)\n",
    "\n",
    "        # Initialisieren von mean, var und priors\n",
    "        self._mean = np.zeros((n_classes, n_features), dtype=np.float64)\n",
    "        self._var = np.zeros((n_classes, n_features), dtype=np.float64)\n",
    "        self._priors = np.zeros(n_classes, dtype=np.float64)\n",
    "\n",
    "        for idx, c in enumerate(self.classes):\n",
    "            X_c = X[y == c]\n",
    "            self._mean[idx, :] = X_c.mean(axis=0)\n",
    "            self._var[idx, :] = X_c.var(axis=0)\n",
    "            self._priors[idx] = X_c.shape[0] / float(n_samples)\n",
    "\n",
    "    def _calculate_likelihood(self, x, mean, var):\n",
    "        \"\"\"\n",
    "        Berechnet die Wahrscheinlichkeitsdichte mit der Gausschen Formel.\n",
    "        Dies ist die Funktion, die laut Hinweis aus den Daten erstellt wird.\n",
    "        \"\"\"\n",
    "        exponent = np.exp(-((x - mean) ** 2 / (2 * var)))\n",
    "        return (1 / np.sqrt(2 * np.pi * var)) * exponent\n",
    "\n",
    "    def predict(self, X):\n",
    "        \"\"\"\n",
    "        Sagt die Klasse für eine oder mehrere neue Instanzen voraus.\n",
    "        \"\"\"\n",
    "        y_pred = [self._predict_single(x) for x in X]\n",
    "        return np.array(y_pred)\n",
    "\n",
    "    def _predict_single(self, x):\n",
    "        \"\"\"\n",
    "        Führt die Klassenvorhersage für eine einzelne Instanz durch.\n",
    "        \"\"\"\n",
    "        posteriors = []\n",
    "\n",
    "        # Berechne die Posterior-Wahrscheinlichkeit für jede Klasse\n",
    "        for idx, c in enumerate(self.classes):\n",
    "            prior = np.log(self._priors[idx])\n",
    "            # Wir verwenden log-Wahrscheinlichkeiten, um numerische Instabilität zu vermeiden\n",
    "            class_conditional = np.sum(\n",
    "                np.log(self._calculate_likelihood(x, self._mean[idx], self._var[idx]))\n",
    "            )\n",
    "            posterior = prior + class_conditional\n",
    "            posteriors.append(posterior)\n",
    "\n",
    "        # Gib die Klasse mit der höchsten Posterior-Wahrscheinlichkeit zurück\n",
    "        return self.classes[np.argmax(posteriors)]"
   ]
  },
  {
   "cell_type": "code",
   "execution_count": null,
   "id": "f27182c3",
   "metadata": {},
   "outputs": [
    {
     "name": "stdout",
     "output_type": "stream",
     "text": [
      "\n",
      "--- Vorhersage für eine neue Instanz ---\n",
      "Daten der Instanz: Alter=40, Arbeitsstunden/Woche=45\n",
      "Vorhergesagte Einkommensklasse: 0\n"
     ]
    }
   ],
   "source": [
    "# Modell trainieren und Vorhersage für eine Instanz durchführen\n",
    "\n",
    "# Vorbereiten der Features (X) und des Ziels (y)\n",
    "X = census[[\"age\", \"hours-per-week\"]].values\n",
    "y = census[\"target\"].values\n",
    "\n",
    "# Initialisieren und Trainieren des Modells\n",
    "gnb = GaussianNBFromScratch()\n",
    "gnb.fit(X, y)\n",
    "\n",
    "# Definieren einer neuen Instanz, für die eine Vorhersage getroffen werden soll\n",
    "# Beispiel: Eine Person, 40 Jahre alt, die 45 Stunden pro Woche arbeitet.\n",
    "age, hours = 40, 45\n",
    "new_instance = np.array([[age, hours]])\n",
    "\n",
    "# Vorhersage treffen\n",
    "prediction = gnb.predict(new_instance)\n",
    "\n",
    "print(\"\\n--- Vorhersage für eine neue Instanz ---\")\n",
    "print(f\"Daten der Instanz: Alter={age}, Arbeitsstunden/Woche={hours}\")\n",
    "print(f\"Vorhergesagte Einkommensklasse: {prediction[0]}\")\n"
   ]
  }
 ],
 "metadata": {
  "kernelspec": {
   "display_name": ".venv",
   "language": "python",
   "name": "python3"
  },
  "language_info": {
   "codemirror_mode": {
    "name": "ipython",
    "version": 3
   },
   "file_extension": ".py",
   "mimetype": "text/x-python",
   "name": "python",
   "nbconvert_exporter": "python",
   "pygments_lexer": "ipython3",
   "version": "3.10.15"
  }
 },
 "nbformat": 4,
 "nbformat_minor": 5
}
