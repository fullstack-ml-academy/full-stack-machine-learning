{
 "cells": [
  {
   "cell_type": "markdown",
   "id": "ce459c5e",
   "metadata": {
    "pycharm": {
     "name": "#%% md\n"
    }
   },
   "source": [
    "# *Aufgabe: kNN und Data Preprocessing*"
   ]
  },
  {
   "cell_type": "markdown",
   "id": "218d68e3",
   "metadata": {
    "pycharm": {
     "name": "#%% md\n"
    }
   },
   "source": [
    "### Aufgabe 1. kNN\n",
    "\n",
    "Nutzen Sie kNN von scikit-learn (KNeighborsRegressor), um damit den Benzinverbrauch eines Fahrzeugs auf Grundlage seiner Eigenschaften (Gewicht, PS, ...) vorherzusagen. Nutzen Sie dafür den bereitgestellten Miles-per-Gallon Datensatz mpg.csv.\n",
    "\n",
    "Messen Sie die Leistungsfähigkeit Ihres Modells mit einer passenden Metrik. Plotten Sie die Akkuranz in Abhängigkeit von k nearest Neighbours."
   ]
  },
  {
   "cell_type": "markdown",
   "id": "a4b6f1a7",
   "metadata": {
    "pycharm": {
     "name": "#%% md\n"
    }
   },
   "source": [
    "0. Imports"
   ]
  },
  {
   "cell_type": "code",
   "execution_count": 1,
   "id": "1e0fd736",
   "metadata": {
    "pycharm": {
     "name": "#%%\n"
    }
   },
   "outputs": [],
   "source": [
    "import pandas as pd\n",
    "from sklearn.neighbors import KNeighborsRegressor, KNeighborsClassifier\n",
    "from sklearn.model_selection import train_test_split\n",
    "from sklearn.metrics import mean_squared_error as mse\n",
    "import matplotlib.pyplot as plt\n",
    "import os"
   ]
  },
  {
   "cell_type": "markdown",
   "id": "c41ab1e2",
   "metadata": {
    "pycharm": {
     "name": "#%% md\n"
    }
   },
   "source": [
    "1. Lesen von Data und Train/Test split"
   ]
  },
  {
   "cell_type": "code",
   "execution_count": 2,
   "id": "220b168a",
   "metadata": {
    "pycharm": {
     "name": "#%%\n"
    }
   },
   "outputs": [],
   "source": [
    "path = os.path.join(\"..\", \"..\", \"..\", \"data\", \"mpg.csv\")"
   ]
  },
  {
   "cell_type": "markdown",
   "id": "4135cb88",
   "metadata": {
    "pycharm": {
     "name": "#%% md\n"
    }
   },
   "source": [
    "Trainieren des Modells für mehrere k-Werte:"
   ]
  },
  {
   "cell_type": "code",
   "execution_count": null,
   "id": "24d4f6f7",
   "metadata": {
    "pycharm": {
     "name": "#%%\n"
    }
   },
   "outputs": [],
   "source": [
    "error = []\n",
    "# Probiere mögliche Anzahl Nachbarn durch\n",
    "#for i in range(1, 150):\n",
    "    # Trainiere und evaluiere das Modell, speicher den Fehler zur Darstellung später\n",
    "\n",
    "# plot(error)"
   ]
  },
  {
   "cell_type": "markdown",
   "id": "a7f37cfd",
   "metadata": {
    "pycharm": {
     "name": "#%% md\n"
    }
   },
   "source": [
    "### Aufgabe 2. Preprocessing"
   ]
  },
  {
   "cell_type": "code",
   "execution_count": 4,
   "id": "71b2c6f2",
   "metadata": {
    "pycharm": {
     "name": "#%%\n"
    }
   },
   "outputs": [],
   "source": [
    "from sklearn.impute import SimpleImputer\n",
    "from sklearn.preprocessing import MinMaxScaler\n",
    "from tqdm.notebook import trange\n",
    "from sklearn.metrics import accuracy_score"
   ]
  },
  {
   "cell_type": "markdown",
   "id": "4fdfb46e",
   "metadata": {
    "pycharm": {
     "name": "#%% md\n"
    }
   },
   "source": [
    "Daten einlesen"
   ]
  },
  {
   "cell_type": "code",
   "execution_count": null,
   "id": "f1cf540e",
   "metadata": {
    "pycharm": {
     "name": "#%%\n"
    }
   },
   "outputs": [
    {
     "ename": "SyntaxError",
     "evalue": "invalid syntax (3529672437.py, line 3)",
     "output_type": "error",
     "traceback": [
      "\u001b[0;36m  Cell \u001b[0;32mIn[7], line 3\u001b[0;36m\u001b[0m\n\u001b[0;31m    census = census.drop(['capital-gain', 'capital-loss', 'native-country', .... ], axis=1)\u001b[0m\n\u001b[0m                                                                                 ^\u001b[0m\n\u001b[0;31mSyntaxError\u001b[0m\u001b[0;31m:\u001b[0m invalid syntax\n"
     ]
    }
   ],
   "source": [
    "#path = os.path.join(\"..\", \"..\", \"..\", \"data\", \"census.csv\")\n",
    "#census = census.drop(['capital-gain', 'capital-loss', 'native-country', .... ], axis=1)"
   ]
  },
  {
   "cell_type": "markdown",
   "id": "28a647bb",
   "metadata": {
    "pycharm": {
     "name": "#%% md\n"
    }
   },
   "source": [
    "Imputing fehlender Werte:"
   ]
  },
  {
   "cell_type": "code",
   "execution_count": null,
   "id": "89eadce6",
   "metadata": {
    "pycharm": {
     "name": "#%%\n"
    }
   },
   "outputs": [],
   "source": [
    "# Nachsehen ob echte NaN-Wert in den Spalten existieren\n",
    "census.isnull().sum()\n",
    "\n",
    "\n",
    "# Untersuche weitere mögliche fehlende Werte\n",
    "# es könnten auch '-', '?', '/' oder ähnliches in den Daten sein, wenn diese aus anderen Datenformaten stammen\n",
    "\n",
    "# Benutze einen Imputer oder ersetzen Sie die Werte per Hand\n",
    "# Strategien könnten häufigste Werte oder der Mittelwert sein"
   ]
  },
  {
   "cell_type": "markdown",
   "id": "20cbb007",
   "metadata": {
    "pycharm": {
     "name": "#%% md\n"
    }
   },
   "source": [
    "3. Encoding kategorischer Werte:"
   ]
  },
  {
   "cell_type": "code",
   "execution_count": null,
   "id": "0fd8bacd",
   "metadata": {
    "pycharm": {
     "name": "#%%\n"
    }
   },
   "outputs": [
    {
     "ename": "NameError",
     "evalue": "name 'census' is not defined",
     "output_type": "error",
     "traceback": [
      "\u001b[0;31m---------------------------------------------------------------------------\u001b[0m",
      "\u001b[0;31mNameError\u001b[0m                                 Traceback (most recent call last)",
      "Cell \u001b[0;32mIn[6], line 4\u001b[0m\n\u001b[1;32m      1\u001b[0m \u001b[38;5;66;03m# Die binären Features sex und target können per Hand encoded werden:\u001b[39;00m\n\u001b[1;32m      2\u001b[0m \n\u001b[1;32m      3\u001b[0m \u001b[38;5;66;03m# SEX: Male: 1, Female: 0\u001b[39;00m\n\u001b[0;32m----> 4\u001b[0m census[\u001b[38;5;124m\"\u001b[39m\u001b[38;5;124msex\u001b[39m\u001b[38;5;124m\"\u001b[39m] \u001b[38;5;241m=\u001b[39m \u001b[43mcensus\u001b[49m[\u001b[38;5;124m\"\u001b[39m\u001b[38;5;124msex\u001b[39m\u001b[38;5;124m\"\u001b[39m]\u001b[38;5;241m.\u001b[39mreplace({\u001b[38;5;124m'\u001b[39m\u001b[38;5;124m Male\u001b[39m\u001b[38;5;124m'\u001b[39m: \u001b[38;5;241m1\u001b[39m, \u001b[38;5;124m'\u001b[39m\u001b[38;5;124m Female\u001b[39m\u001b[38;5;124m'\u001b[39m: \u001b[38;5;241m0\u001b[39m})\n\u001b[1;32m      6\u001b[0m \u001b[38;5;66;03m# TARGET: >50K: 1, <=50K: 0 \u001b[39;00m\n\u001b[1;32m      7\u001b[0m census[\u001b[38;5;124m\"\u001b[39m\u001b[38;5;124mtarget\u001b[39m\u001b[38;5;124m\"\u001b[39m] \u001b[38;5;241m=\u001b[39m census[\u001b[38;5;124m\"\u001b[39m\u001b[38;5;124mtarget\u001b[39m\u001b[38;5;124m\"\u001b[39m]\u001b[38;5;241m.\u001b[39mreplace({\u001b[38;5;124m'\u001b[39m\u001b[38;5;124m >50K\u001b[39m\u001b[38;5;124m'\u001b[39m: \u001b[38;5;241m1\u001b[39m, \u001b[38;5;124m'\u001b[39m\u001b[38;5;124m <=50K\u001b[39m\u001b[38;5;124m'\u001b[39m: \u001b[38;5;241m0\u001b[39m})\n",
      "\u001b[0;31mNameError\u001b[0m: name 'census' is not defined"
     ]
    }
   ],
   "source": [
    "# Die binären Features sex und target können per Hand encoded werden:\n",
    "\n",
    "# SEX: Male: 1, Female: 0\n",
    "census[\"sex\"] = census[\"sex\"].replace({' Male': 1, ' Female': 0})\n",
    "\n",
    "# Binarisieren Sie die Zielvariable\n",
    "# TARGET: >50K: 1, <=50K: 0\n",
    "census[\"target\"] = census[\"target\"].replace({' >50K': 1, ' <=50K': 0})\n",
    "\n",
    "# Benutzen Sie einen Encoder (in sklean oder pandas) um die übrigen kategorischen Variablen zu encoden"
   ]
  },
  {
   "cell_type": "markdown",
   "id": "0b763c63",
   "metadata": {
    "pycharm": {
     "name": "#%% md\n"
    }
   },
   "source": [
    "Normalisierung der Features"
   ]
  },
  {
   "cell_type": "code",
   "execution_count": null,
   "id": "80ee6a12",
   "metadata": {
    "pycharm": {
     "name": "#%%\n"
    }
   },
   "outputs": [],
   "source": [
    "# Aufteilen in train/test Set zuerst\n",
    "# Normalerweise sind nur die Trainingsdaten bekannt, wenn der Normalisierer gefittet wird\n",
    "\n",
    "# Die Testdaten müssen mit demselben Normalisierer gefittet werden"
   ]
  },
  {
   "cell_type": "markdown",
   "id": "5c07707c",
   "metadata": {
    "pycharm": {
     "name": "#%% md\n"
    }
   },
   "source": [
    "### 2. Predict with kNN\n",
    "Sagen Sie den Einkommen >=50K oder <50K mittels kNN vorher. Plotten Sie die Akkuranz in Abhängigkeit von k nearest Neighbours. Bei längerer Rechenzeit (bei viele Iterationen) ist Prozessbar (trange (from tqdm.notebook import trange, tqdm) statt range) zu empfehlen. "
   ]
  },
  {
   "cell_type": "code",
   "execution_count": null,
   "id": "b5a0dc64",
   "metadata": {
    "pycharm": {
     "name": "#%%\n"
    }
   },
   "outputs": [],
   "source": [
    "# Gehe durch mögliche Nachbarwerte, trainiere das Modell und berechne die Akkuranz\n",
    "for k in trange(1, 30):\n",
    "\n",
    "# Darstellung der Akkuranz über die gewählten Nachbarn"
   ]
  }
 ],
 "metadata": {
  "kernelspec": {
   "display_name": ".venv",
   "language": "python",
   "name": "python3"
  },
  "language_info": {
   "codemirror_mode": {
    "name": "ipython",
    "version": 3
   },
   "file_extension": ".py",
   "mimetype": "text/x-python",
   "name": "python",
   "nbconvert_exporter": "python",
   "pygments_lexer": "ipython3",
   "version": "3.10.15"
  }
 },
 "nbformat": 4,
 "nbformat_minor": 5
}
