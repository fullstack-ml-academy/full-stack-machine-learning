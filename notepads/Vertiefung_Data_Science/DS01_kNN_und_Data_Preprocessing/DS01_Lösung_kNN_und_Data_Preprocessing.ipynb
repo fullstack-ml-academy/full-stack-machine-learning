{
 "cells": [
  {
   "cell_type": "markdown",
   "id": "ce459c5e",
   "metadata": {
    "pycharm": {
     "name": "#%% md\n"
    }
   },
   "source": [
    "# Aufgabe: kNN und Data Preprocessing"
   ]
  },
  {
   "cell_type": "markdown",
   "id": "218d68e3",
   "metadata": {
    "pycharm": {
     "name": "#%% md\n"
    }
   },
   "source": [
    "### Aufgabe 1. kNN\n",
    "\n",
    "Nutzen Sie kNN von scikit-learn (KNeighborsRegressor), um damit den Benzinverbrauch eines Fahrzeugs auf Grundlage seiner Eigenschaften (Gewicht, PS, ...) vorherzusagen. Nutzen Sie dafür den bereitgestellten Miles-per-Gallon Datensatz mpg.csv.\n",
    "\n",
    "Messen Sie die Leistungsfähigkeit Ihres Modells mit einer passenden Metrik. Plotten Sie die Akkuranz in Abhängigkeit von k nearest Neighbours."
   ]
  },
  {
   "cell_type": "markdown",
   "id": "a4b6f1a7",
   "metadata": {
    "pycharm": {
     "name": "#%% md\n"
    }
   },
   "source": [
    "0. Imports"
   ]
  },
  {
   "cell_type": "code",
   "execution_count": 2,
   "id": "1e0fd736",
   "metadata": {
    "pycharm": {
     "name": "#%%\n"
    }
   },
   "outputs": [],
   "source": [
    "import pandas as pd\n",
    "from sklearn.neighbors import KNeighborsRegressor, KNeighborsClassifier\n",
    "from sklearn.model_selection import train_test_split\n",
    "from sklearn.metrics import mean_squared_error as mse\n",
    "import matplotlib.pyplot as plt\n",
    "import os"
   ]
  },
  {
   "cell_type": "markdown",
   "id": "c41ab1e2",
   "metadata": {
    "pycharm": {
     "name": "#%% md\n"
    }
   },
   "source": [
    "1. Lesen von Data und Train/Test split"
   ]
  },
  {
   "cell_type": "code",
   "execution_count": 3,
   "id": "220b168a",
   "metadata": {
    "pycharm": {
     "name": "#%%\n"
    }
   },
   "outputs": [
    {
     "data": {
      "text/html": [
       "<div>\n",
       "<style scoped>\n",
       "    .dataframe tbody tr th:only-of-type {\n",
       "        vertical-align: middle;\n",
       "    }\n",
       "\n",
       "    .dataframe tbody tr th {\n",
       "        vertical-align: top;\n",
       "    }\n",
       "\n",
       "    .dataframe thead th {\n",
       "        text-align: right;\n",
       "    }\n",
       "</style>\n",
       "<table border=\"1\" class=\"dataframe\">\n",
       "  <thead>\n",
       "    <tr style=\"text-align: right;\">\n",
       "      <th></th>\n",
       "      <th>mpg</th>\n",
       "      <th>cylinders</th>\n",
       "      <th>displacement</th>\n",
       "      <th>horsepower</th>\n",
       "      <th>weight</th>\n",
       "      <th>acceleration</th>\n",
       "      <th>model year</th>\n",
       "      <th>origin</th>\n",
       "    </tr>\n",
       "  </thead>\n",
       "  <tbody>\n",
       "    <tr>\n",
       "      <th>0</th>\n",
       "      <td>18.0</td>\n",
       "      <td>8.0</td>\n",
       "      <td>307.0</td>\n",
       "      <td>130.0</td>\n",
       "      <td>3504.0</td>\n",
       "      <td>12.0</td>\n",
       "      <td>70.0</td>\n",
       "      <td>1.0</td>\n",
       "    </tr>\n",
       "    <tr>\n",
       "      <th>1</th>\n",
       "      <td>15.0</td>\n",
       "      <td>8.0</td>\n",
       "      <td>350.0</td>\n",
       "      <td>165.0</td>\n",
       "      <td>3693.0</td>\n",
       "      <td>11.5</td>\n",
       "      <td>70.0</td>\n",
       "      <td>1.0</td>\n",
       "    </tr>\n",
       "    <tr>\n",
       "      <th>2</th>\n",
       "      <td>18.0</td>\n",
       "      <td>8.0</td>\n",
       "      <td>318.0</td>\n",
       "      <td>150.0</td>\n",
       "      <td>3436.0</td>\n",
       "      <td>11.0</td>\n",
       "      <td>70.0</td>\n",
       "      <td>1.0</td>\n",
       "    </tr>\n",
       "    <tr>\n",
       "      <th>3</th>\n",
       "      <td>16.0</td>\n",
       "      <td>8.0</td>\n",
       "      <td>304.0</td>\n",
       "      <td>150.0</td>\n",
       "      <td>3433.0</td>\n",
       "      <td>12.0</td>\n",
       "      <td>70.0</td>\n",
       "      <td>1.0</td>\n",
       "    </tr>\n",
       "    <tr>\n",
       "      <th>4</th>\n",
       "      <td>17.0</td>\n",
       "      <td>8.0</td>\n",
       "      <td>302.0</td>\n",
       "      <td>140.0</td>\n",
       "      <td>3449.0</td>\n",
       "      <td>10.5</td>\n",
       "      <td>70.0</td>\n",
       "      <td>1.0</td>\n",
       "    </tr>\n",
       "  </tbody>\n",
       "</table>\n",
       "</div>"
      ],
      "text/plain": [
       "    mpg  cylinders  displacement  horsepower  weight  acceleration  \\\n",
       "0  18.0        8.0         307.0       130.0  3504.0          12.0   \n",
       "1  15.0        8.0         350.0       165.0  3693.0          11.5   \n",
       "2  18.0        8.0         318.0       150.0  3436.0          11.0   \n",
       "3  16.0        8.0         304.0       150.0  3433.0          12.0   \n",
       "4  17.0        8.0         302.0       140.0  3449.0          10.5   \n",
       "\n",
       "   model year  origin  \n",
       "0        70.0     1.0  \n",
       "1        70.0     1.0  \n",
       "2        70.0     1.0  \n",
       "3        70.0     1.0  \n",
       "4        70.0     1.0  "
      ]
     },
     "execution_count": 3,
     "metadata": {},
     "output_type": "execute_result"
    }
   ],
   "source": [
    "# Datensatz einlesen und die ersten Zeilen anschauen\n",
    "data = pd.read_csv(os.path.join(\"..\", \"..\", \"..\", \"data\", \"mpg.csv\"))\n",
    "data.head()"
   ]
  },
  {
   "cell_type": "code",
   "execution_count": 4,
   "id": "9155f9d2",
   "metadata": {},
   "outputs": [
    {
     "name": "stdout",
     "output_type": "stream",
     "text": [
      "X Train: (298, 7)\n",
      "Y Train: (298,)\n",
      "X Test: (100, 7)\n",
      "Y Test: (100,)\n"
     ]
    }
   ],
   "source": [
    "# Train/Test Split\n",
    "x_train, x_test, y_train, y_test = train_test_split(\n",
    "    data.drop([\"mpg\"], axis=1), data[\"mpg\"]\n",
    ")\n",
    "\n",
    "# Ausgabe der Feature und Instanzenanzahl\n",
    "print(\"X Train: {}\".format(x_train.shape))\n",
    "print(\"Y Train: {}\".format(y_train.shape))\n",
    "print(\"X Test: {}\".format(x_test.shape))\n",
    "print(\"Y Test: {}\".format(y_test.shape))\n"
   ]
  },
  {
   "cell_type": "markdown",
   "id": "adaefc05",
   "metadata": {},
   "source": [
    "Trainieren des Modells für mehrere k-Werte:"
   ]
  },
  {
   "cell_type": "code",
   "execution_count": 5,
   "id": "24d4f6f7",
   "metadata": {
    "pycharm": {
     "name": "#%%\n"
    }
   },
   "outputs": [
    {
     "data": {
      "image/png": "[encoded data removed]",
      "text/plain": [
       "<Figure size 640x480 with 1 Axes>"
      ]
     },
     "metadata": {},
     "output_type": "display_data"
    }
   ],
   "source": [
    "# Speicher die Fehler\n",
    "error = []\n",
    "\n",
    "# Probiere mögliche Anzahl Nachbarn durch\n",
    "for i in range(1, 150):\n",
    "    knn = KNeighborsRegressor(n_neighbors=i)\n",
    "    knn.fit(x_train, y_train)\n",
    "    predicted = knn.predict(x_test)\n",
    "    error.append(mse(predicted, y_test))\n",
    "\n",
    "plt.title(\"Error in Abhängigkeit von k\")\n",
    "plt.plot(error)\n",
    "plt.xlabel(\"k\")\n",
    "plt.ylabel(\"Error\")\n",
    "plt.show()"
   ]
  },
  {
   "cell_type": "markdown",
   "id": "a7f37cfd",
   "metadata": {
    "pycharm": {
     "name": "#%% md\n"
    }
   },
   "source": [
    "### Aufgabe 2. Preprocessing\n",
    "\n",
    "\n",
    "1. Nutzen Sie die zur Verfügung stehenden Methoden zur Datenaufbereitung von scikit-learn, um den Censu Datensatz zu bereinigen:"
   ]
  },
  {
   "cell_type": "code",
   "execution_count": 6,
   "id": "71b2c6f2",
   "metadata": {
    "pycharm": {
     "name": "#%%\n"
    }
   },
   "outputs": [],
   "source": [
    "from sklearn.impute import SimpleImputer\n",
    "from sklearn.preprocessing import MinMaxScaler\n",
    "from tqdm import trange\n",
    "from sklearn.metrics import accuracy_score"
   ]
  },
  {
   "cell_type": "code",
   "execution_count": 7,
   "id": "f1cf540e",
   "metadata": {
    "pycharm": {
     "name": "#%%\n"
    }
   },
   "outputs": [
    {
     "data": {
      "text/html": [
       "<div>\n",
       "<style scoped>\n",
       "    .dataframe tbody tr th:only-of-type {\n",
       "        vertical-align: middle;\n",
       "    }\n",
       "\n",
       "    .dataframe tbody tr th {\n",
       "        vertical-align: top;\n",
       "    }\n",
       "\n",
       "    .dataframe thead th {\n",
       "        text-align: right;\n",
       "    }\n",
       "</style>\n",
       "<table border=\"1\" class=\"dataframe\">\n",
       "  <thead>\n",
       "    <tr style=\"text-align: right;\">\n",
       "      <th></th>\n",
       "      <th>age</th>\n",
       "      <th>workclass</th>\n",
       "      <th>education</th>\n",
       "      <th>marital-status</th>\n",
       "      <th>race</th>\n",
       "      <th>sex</th>\n",
       "      <th>hours-per-week</th>\n",
       "      <th>target</th>\n",
       "    </tr>\n",
       "  </thead>\n",
       "  <tbody>\n",
       "    <tr>\n",
       "      <th>0</th>\n",
       "      <td>39</td>\n",
       "      <td>State-gov</td>\n",
       "      <td>Bachelors</td>\n",
       "      <td>Never-married</td>\n",
       "      <td>White</td>\n",
       "      <td>Male</td>\n",
       "      <td>40</td>\n",
       "      <td>&lt;=50K</td>\n",
       "    </tr>\n",
       "    <tr>\n",
       "      <th>1</th>\n",
       "      <td>50</td>\n",
       "      <td>Self-emp-not-inc</td>\n",
       "      <td>Bachelors</td>\n",
       "      <td>Married-civ-spouse</td>\n",
       "      <td>White</td>\n",
       "      <td>Male</td>\n",
       "      <td>13</td>\n",
       "      <td>&lt;=50K</td>\n",
       "    </tr>\n",
       "    <tr>\n",
       "      <th>2</th>\n",
       "      <td>38</td>\n",
       "      <td>Private</td>\n",
       "      <td>HS-grad</td>\n",
       "      <td>Divorced</td>\n",
       "      <td>White</td>\n",
       "      <td>Male</td>\n",
       "      <td>40</td>\n",
       "      <td>&lt;=50K</td>\n",
       "    </tr>\n",
       "    <tr>\n",
       "      <th>3</th>\n",
       "      <td>53</td>\n",
       "      <td>Private</td>\n",
       "      <td>11th</td>\n",
       "      <td>Married-civ-spouse</td>\n",
       "      <td>Black</td>\n",
       "      <td>Male</td>\n",
       "      <td>40</td>\n",
       "      <td>&lt;=50K</td>\n",
       "    </tr>\n",
       "    <tr>\n",
       "      <th>4</th>\n",
       "      <td>28</td>\n",
       "      <td>Private</td>\n",
       "      <td>Bachelors</td>\n",
       "      <td>Married-civ-spouse</td>\n",
       "      <td>Black</td>\n",
       "      <td>Female</td>\n",
       "      <td>40</td>\n",
       "      <td>&lt;=50K</td>\n",
       "    </tr>\n",
       "  </tbody>\n",
       "</table>\n",
       "</div>"
      ],
      "text/plain": [
       "   age          workclass   education       marital-status    race      sex  \\\n",
       "0   39          State-gov   Bachelors        Never-married   White     Male   \n",
       "1   50   Self-emp-not-inc   Bachelors   Married-civ-spouse   White     Male   \n",
       "2   38            Private     HS-grad             Divorced   White     Male   \n",
       "3   53            Private        11th   Married-civ-spouse   Black     Male   \n",
       "4   28            Private   Bachelors   Married-civ-spouse   Black   Female   \n",
       "\n",
       "   hours-per-week  target  \n",
       "0              40   <=50K  \n",
       "1              13   <=50K  \n",
       "2              40   <=50K  \n",
       "3              40   <=50K  \n",
       "4              40   <=50K  "
      ]
     },
     "execution_count": 7,
     "metadata": {},
     "output_type": "execute_result"
    }
   ],
   "source": [
    "# Einlesen der Daten und Entfernen der Spalten\n",
    "census = pd.read_csv(os.path.join(\"..\", \"..\", \"..\", \"data\", \"census.csv\"))\n",
    "census = census.drop(['occupation', 'relationship', 'capital-gain', 'capital-loss', 'native-country'], axis=1)\n",
    "census.head()"
   ]
  },
  {
   "cell_type": "markdown",
   "id": "28a647bb",
   "metadata": {
    "pycharm": {
     "name": "#%% md\n"
    }
   },
   "source": [
    "Imputing fehlender Werte:"
   ]
  },
  {
   "cell_type": "code",
   "execution_count": 8,
   "id": "0b1a9b9c",
   "metadata": {},
   "outputs": [
    {
     "data": {
      "text/plain": [
       "age               0\n",
       "workclass         0\n",
       "education         0\n",
       "marital-status    0\n",
       "race              0\n",
       "sex               0\n",
       "hours-per-week    0\n",
       "target            0\n",
       "dtype: int64"
      ]
     },
     "execution_count": 8,
     "metadata": {},
     "output_type": "execute_result"
    }
   ],
   "source": [
    "# Nachsehen ob echte NaN-Werte existieren\n",
    "census.isnull().sum()"
   ]
  },
  {
   "cell_type": "code",
   "execution_count": 9,
   "id": "0573a130",
   "metadata": {},
   "outputs": [
    {
     "name": "stdout",
     "output_type": "stream",
     "text": [
      "[39 50 38 53 28 37 49 52 31 42 30 23 32 40 34 25 43 54 35 59 56 19 20 45\n",
      " 22 48 21 24 57 44 41 29 18 47 46 36 79 27 67 33 76 17 55 61 70 64 71 68\n",
      " 66 51 58 26 60 90 75 65 77 62 63 80 72 74 69 73 81 78 88 82 83 84 85 86\n",
      " 87]\n",
      "[' State-gov' ' Self-emp-not-inc' ' Private' ' Federal-gov' ' Local-gov'\n",
      " ' ?' ' Self-emp-inc' ' Without-pay' ' Never-worked']\n",
      "[' Bachelors' ' HS-grad' ' 11th' ' Masters' ' 9th' ' Some-college'\n",
      " ' Assoc-acdm' ' Assoc-voc' ' 7th-8th' ' Doctorate' ' Prof-school'\n",
      " ' 5th-6th' ' 10th' ' 1st-4th' ' Preschool' ' 12th']\n",
      "[' Never-married' ' Married-civ-spouse' ' Divorced'\n",
      " ' Married-spouse-absent' ' Separated' ' Married-AF-spouse' ' Widowed']\n",
      "[' White' ' Black' ' Asian-Pac-Islander' ' Amer-Indian-Eskimo' ' Other']\n",
      "[' Male' ' Female']\n",
      "[40 13 16 45 50 80 30 35 60 20 52 44 15 25 38 43 55 48 58 32 70  2 22 56\n",
      " 41 28 36 24 46 42 12 65  1 10 34 75 98 33 54  8  6 64 19 18 72  5  9 47\n",
      " 37 21 26 14  4 59  7 99 53 39 62 57 78 90 66 11 49 84  3 17 68 27 85 31\n",
      " 51 77 63 23 87 88 73 89 97 94 29 96 67 82 86 91 81 76 92 61 74 95]\n",
      "[' <=50K' ' >50K']\n"
     ]
    }
   ],
   "source": [
    "# Untersuche weitere mögliche fehlende Werte\n",
    "# es könnten auch '-', '?', '/' oder ähnliches in den Daten sein, wenn diese aus anderen Datenformaten stammen\n",
    "for col in census.columns:\n",
    "    print(census[col].unique())"
   ]
  },
  {
   "cell_type": "code",
   "execution_count": 10,
   "id": "3be820e6",
   "metadata": {},
   "outputs": [],
   "source": [
    "# Es sind viele Lehrzeichen in den String Objekten, das macht es schwieriger\n",
    "# strip() entfernt alle Leerzeichen am Anfang oder Ende\n",
    "for col in census.select_dtypes(include=\"object\"):\n",
    "    census[col] = census[col].str.strip()\n",
    "\n",
    "col_missing = [col for col in census.columns if \"?\" in census[col].values]"
   ]
  },
  {
   "cell_type": "code",
   "execution_count": null,
   "id": "89eadce6",
   "metadata": {
    "pycharm": {
     "name": "#%%\n"
    }
   },
   "outputs": [
    {
     "data": {
      "image/png": "[encoded data removed]",
      "text/plain": [
       "<Figure size 1500x500 with 1 Axes>"
      ]
     },
     "metadata": {},
     "output_type": "display_data"
    },
    {
     "data": {
      "image/png": "[encoded data removed]",
      "text/plain": [
       "<Figure size 1500x500 with 1 Axes>"
      ]
     },
     "metadata": {},
     "output_type": "display_data"
    }
   ],
   "source": [
    "# Es gibt 1 Feature mit missing Values: 'workclass': 1836 Instanzen\n",
    "\n",
    "# Histogramm für die Spalte aus col_missing: workclass\n",
    "fig = plt.figure(figsize=(15,5))\n",
    "ax = fig.add_subplot(111)\n",
    "ax.hist(census[col_missing[0]])\n",
    "\n",
    "# Definiere einen Imputer für die fehlenden Werte\n",
    "imp_most_frequent = SimpleImputer(missing_values='?', strategy='most_frequent')\n",
    "\n",
    "# Fit und transformiere die Spalte\n",
    "# Die fit_transform Funktion des Imputers erwartet ein 2D-array, aber die Spalte muss 1D sein\n",
    "# Deshalb die doppelte reshape Funktion\n",
    "census[col_missing[0]] = imp_most_frequent.fit_transform(\n",
    "    census[col_missing[0]].to_numpy().reshape(-1, 1)\n",
    ").reshape(census.shape[0])\n",
    "\n",
    "# Darstellung des Histogramms nach der Imputation\n",
    "fig = plt.figure(figsize=(15,5))\n",
    "ax = fig.add_subplot(111)\n",
    "ax.hist(census[col_missing[0]])\n",
    "plt.show()"
   ]
  },
  {
   "cell_type": "markdown",
   "id": "20cbb007",
   "metadata": {
    "pycharm": {
     "name": "#%% md\n"
    }
   },
   "source": [
    "Encoding kategorischer Werte:"
   ]
  },
  {
   "cell_type": "code",
   "execution_count": null,
   "id": "0fd8bacd",
   "metadata": {
    "pycharm": {
     "name": "#%%\n"
    }
   },
   "outputs": [
    {
     "name": "stderr",
     "output_type": "stream",
     "text": [
      "/var/folders/6z/jr7vc1n52qlbyvvf98jx_y580000gn/T/ipykernel_85252/1548752878.py:3: FutureWarning: Downcasting behavior in `replace` is deprecated and will be removed in a future version. To retain the old behavior, explicitly call `result.infer_objects(copy=False)`. To opt-in to the future behavior, set `pd.set_option('future.no_silent_downcasting', True)`\n",
      "  census[\"sex\"] = census[\"sex\"].replace({'Male': 1, 'Female': 0})\n",
      "/var/folders/6z/jr7vc1n52qlbyvvf98jx_y580000gn/T/ipykernel_85252/1548752878.py:6: FutureWarning: Downcasting behavior in `replace` is deprecated and will be removed in a future version. To retain the old behavior, explicitly call `result.infer_objects(copy=False)`. To opt-in to the future behavior, set `pd.set_option('future.no_silent_downcasting', True)`\n",
      "  census[\"target\"] = census[\"target\"].replace({'>50K': 1, '<=50K': 0})\n"
     ]
    },
    {
     "data": {
      "text/plain": [
       "(32561, 36)"
      ]
     },
     "execution_count": 12,
     "metadata": {},
     "output_type": "execute_result"
    }
   ],
   "source": [
    "# Die binären Features sex und target können per Hand encoded werden:\n",
    "# SEX: Male: 1, Female: 0\n",
    "census[\"sex\"] = census[\"sex\"].replace({'Male': 1, 'Female': 0})\n",
    "\n",
    "# TARGET: >50K: 1, <=50K: 0\n",
    "census[\"target\"] = census[\"target\"].replace({'>50K': 1, '<=50K': 0})\n",
    "\n",
    "# Alle kategorischen Variablen sollten in diesem Fall encoded werden\n",
    "to_encode = ['workclass', 'education', 'marital-status', 'race']\n",
    "for feature in to_encode:\n",
    "    # Benutze dummy codierung von pandas\n",
    "    one_hot = pd.get_dummies(census[feature], drop_first=True)\n",
    "    census = census.join(one_hot)\n",
    "    census.pop(feature)\n",
    "\n",
    "# Nachsehen wie viele Feature die Dummykodierung ergibt\n",
    "census.shape"
   ]
  },
  {
   "cell_type": "markdown",
   "id": "0b763c63",
   "metadata": {
    "pycharm": {
     "name": "#%% md\n"
    }
   },
   "source": [
    "Normalisierung"
   ]
  },
  {
   "cell_type": "code",
   "execution_count": 13,
   "id": "80ee6a12",
   "metadata": {
    "pycharm": {
     "name": "#%%\n"
    }
   },
   "outputs": [
    {
     "name": "stdout",
     "output_type": "stream",
     "text": [
      "X Train: (24420, 35)\n",
      "Y Train: (24420,)\n",
      "X Test: (8141, 35)\n",
      "Y Test: (8141,)\n"
     ]
    }
   ],
   "source": [
    "# Vorerst muss train/test Split gemacht werden\n",
    "\n",
    "x_train, x_test, y_train, y_test = train_test_split(census.drop([\"target\"],axis=1), census[\"target\"])\n",
    "print('X Train: {}'.format(x_train.shape))\n",
    "print('Y Train: {}'.format(y_train.shape))\n",
    "print('X Test: {}'.format(x_test.shape))\n",
    "print('Y Test: {}'.format(y_test.shape))"
   ]
  },
  {
   "cell_type": "code",
   "execution_count": null,
   "id": "4209e014",
   "metadata": {
    "pycharm": {
     "name": "#%%\n"
    }
   },
   "outputs": [
    {
     "name": "stdout",
     "output_type": "stream",
     "text": [
      "            age  sex  hours-per-week  Local-gov  Never-worked  Private  \\\n",
      "22119  0.041096    0        0.193878      False         False    False   \n",
      "1160   0.369863    1        0.397959      False         False     True   \n",
      "12879  0.246575    1        0.397959      False         False    False   \n",
      "23636  0.726027    1        0.030612      False         False     True   \n",
      "16605  0.383562    1        0.091837      False         False    False   \n",
      "\n",
      "       Self-emp-inc  Self-emp-not-inc  State-gov  Without-pay  ...  \\\n",
      "22119         False             False       True        False  ...   \n",
      "1160          False             False      False        False  ...   \n",
      "12879         False             False      False        False  ...   \n",
      "23636         False             False      False        False  ...   \n",
      "16605         False              True      False        False  ...   \n",
      "\n",
      "       Married-AF-spouse  Married-civ-spouse  Married-spouse-absent  \\\n",
      "22119              False               False                  False   \n",
      "1160               False                True                  False   \n",
      "12879              False               False                  False   \n",
      "23636              False                True                  False   \n",
      "16605              False                True                  False   \n",
      "\n",
      "       Never-married  Separated  Widowed  Asian-Pac-Islander  Black  Other  \\\n",
      "22119           True      False    False               False  False  False   \n",
      "1160           False      False    False               False  False  False   \n",
      "12879          False      False     True               False  False  False   \n",
      "23636          False      False    False               False  False  False   \n",
      "16605          False      False    False               False  False  False   \n",
      "\n",
      "       White  \n",
      "22119   True  \n",
      "1160    True  \n",
      "12879   True  \n",
      "23636   True  \n",
      "16605   True  \n",
      "\n",
      "[5 rows x 35 columns]\n"
     ]
    },
    {
     "data": {
      "text/html": [
       "<div>\n",
       "<style scoped>\n",
       "    .dataframe tbody tr th:only-of-type {\n",
       "        vertical-align: middle;\n",
       "    }\n",
       "\n",
       "    .dataframe tbody tr th {\n",
       "        vertical-align: top;\n",
       "    }\n",
       "\n",
       "    .dataframe thead th {\n",
       "        text-align: right;\n",
       "    }\n",
       "</style>\n",
       "<table border=\"1\" class=\"dataframe\">\n",
       "  <thead>\n",
       "    <tr style=\"text-align: right;\">\n",
       "      <th></th>\n",
       "      <th>age</th>\n",
       "      <th>sex</th>\n",
       "      <th>hours-per-week</th>\n",
       "      <th>Local-gov</th>\n",
       "      <th>Never-worked</th>\n",
       "      <th>Private</th>\n",
       "      <th>Self-emp-inc</th>\n",
       "      <th>Self-emp-not-inc</th>\n",
       "      <th>State-gov</th>\n",
       "      <th>Without-pay</th>\n",
       "      <th>...</th>\n",
       "      <th>Married-AF-spouse</th>\n",
       "      <th>Married-civ-spouse</th>\n",
       "      <th>Married-spouse-absent</th>\n",
       "      <th>Never-married</th>\n",
       "      <th>Separated</th>\n",
       "      <th>Widowed</th>\n",
       "      <th>Asian-Pac-Islander</th>\n",
       "      <th>Black</th>\n",
       "      <th>Other</th>\n",
       "      <th>White</th>\n",
       "    </tr>\n",
       "  </thead>\n",
       "  <tbody>\n",
       "    <tr>\n",
       "      <th>18127</th>\n",
       "      <td>0.260274</td>\n",
       "      <td>1</td>\n",
       "      <td>0.397959</td>\n",
       "      <td>False</td>\n",
       "      <td>False</td>\n",
       "      <td>True</td>\n",
       "      <td>False</td>\n",
       "      <td>False</td>\n",
       "      <td>False</td>\n",
       "      <td>False</td>\n",
       "      <td>...</td>\n",
       "      <td>False</td>\n",
       "      <td>False</td>\n",
       "      <td>False</td>\n",
       "      <td>False</td>\n",
       "      <td>False</td>\n",
       "      <td>False</td>\n",
       "      <td>False</td>\n",
       "      <td>False</td>\n",
       "      <td>False</td>\n",
       "      <td>True</td>\n",
       "    </tr>\n",
       "    <tr>\n",
       "      <th>20726</th>\n",
       "      <td>0.123288</td>\n",
       "      <td>0</td>\n",
       "      <td>0.142857</td>\n",
       "      <td>False</td>\n",
       "      <td>False</td>\n",
       "      <td>True</td>\n",
       "      <td>False</td>\n",
       "      <td>False</td>\n",
       "      <td>False</td>\n",
       "      <td>False</td>\n",
       "      <td>...</td>\n",
       "      <td>False</td>\n",
       "      <td>False</td>\n",
       "      <td>False</td>\n",
       "      <td>True</td>\n",
       "      <td>False</td>\n",
       "      <td>False</td>\n",
       "      <td>False</td>\n",
       "      <td>False</td>\n",
       "      <td>False</td>\n",
       "      <td>True</td>\n",
       "    </tr>\n",
       "    <tr>\n",
       "      <th>614</th>\n",
       "      <td>0.136986</td>\n",
       "      <td>0</td>\n",
       "      <td>0.193878</td>\n",
       "      <td>False</td>\n",
       "      <td>False</td>\n",
       "      <td>True</td>\n",
       "      <td>False</td>\n",
       "      <td>False</td>\n",
       "      <td>False</td>\n",
       "      <td>False</td>\n",
       "      <td>...</td>\n",
       "      <td>False</td>\n",
       "      <td>False</td>\n",
       "      <td>False</td>\n",
       "      <td>True</td>\n",
       "      <td>False</td>\n",
       "      <td>False</td>\n",
       "      <td>False</td>\n",
       "      <td>False</td>\n",
       "      <td>False</td>\n",
       "      <td>True</td>\n",
       "    </tr>\n",
       "    <tr>\n",
       "      <th>197</th>\n",
       "      <td>0.315068</td>\n",
       "      <td>0</td>\n",
       "      <td>0.551020</td>\n",
       "      <td>False</td>\n",
       "      <td>False</td>\n",
       "      <td>False</td>\n",
       "      <td>False</td>\n",
       "      <td>False</td>\n",
       "      <td>False</td>\n",
       "      <td>False</td>\n",
       "      <td>...</td>\n",
       "      <td>False</td>\n",
       "      <td>False</td>\n",
       "      <td>False</td>\n",
       "      <td>True</td>\n",
       "      <td>False</td>\n",
       "      <td>False</td>\n",
       "      <td>False</td>\n",
       "      <td>False</td>\n",
       "      <td>False</td>\n",
       "      <td>True</td>\n",
       "    </tr>\n",
       "    <tr>\n",
       "      <th>12724</th>\n",
       "      <td>0.164384</td>\n",
       "      <td>1</td>\n",
       "      <td>0.397959</td>\n",
       "      <td>False</td>\n",
       "      <td>False</td>\n",
       "      <td>True</td>\n",
       "      <td>False</td>\n",
       "      <td>False</td>\n",
       "      <td>False</td>\n",
       "      <td>False</td>\n",
       "      <td>...</td>\n",
       "      <td>False</td>\n",
       "      <td>True</td>\n",
       "      <td>False</td>\n",
       "      <td>False</td>\n",
       "      <td>False</td>\n",
       "      <td>False</td>\n",
       "      <td>False</td>\n",
       "      <td>False</td>\n",
       "      <td>False</td>\n",
       "      <td>True</td>\n",
       "    </tr>\n",
       "  </tbody>\n",
       "</table>\n",
       "<p>5 rows × 35 columns</p>\n",
       "</div>"
      ],
      "text/plain": [
       "            age  sex  hours-per-week  Local-gov  Never-worked  Private  \\\n",
       "18127  0.260274    1        0.397959      False         False     True   \n",
       "20726  0.123288    0        0.142857      False         False     True   \n",
       "614    0.136986    0        0.193878      False         False     True   \n",
       "197    0.315068    0        0.551020      False         False    False   \n",
       "12724  0.164384    1        0.397959      False         False     True   \n",
       "\n",
       "       Self-emp-inc  Self-emp-not-inc  State-gov  Without-pay  ...  \\\n",
       "18127         False             False      False        False  ...   \n",
       "20726         False             False      False        False  ...   \n",
       "614           False             False      False        False  ...   \n",
       "197           False             False      False        False  ...   \n",
       "12724         False             False      False        False  ...   \n",
       "\n",
       "       Married-AF-spouse  Married-civ-spouse  Married-spouse-absent  \\\n",
       "18127              False               False                  False   \n",
       "20726              False               False                  False   \n",
       "614                False               False                  False   \n",
       "197                False               False                  False   \n",
       "12724              False                True                  False   \n",
       "\n",
       "       Never-married  Separated  Widowed  Asian-Pac-Islander  Black  Other  \\\n",
       "18127          False      False    False               False  False  False   \n",
       "20726           True      False    False               False  False  False   \n",
       "614             True      False    False               False  False  False   \n",
       "197             True      False    False               False  False  False   \n",
       "12724          False      False    False               False  False  False   \n",
       "\n",
       "       White  \n",
       "18127   True  \n",
       "20726   True  \n",
       "614     True  \n",
       "197     True  \n",
       "12724   True  \n",
       "\n",
       "[5 rows x 35 columns]"
      ]
     },
     "execution_count": 14,
     "metadata": {},
     "output_type": "execute_result"
    }
   ],
   "source": [
    "# Age und hours-per-week sollten normalisiert werden\n",
    "scaled_columns = ['age', 'hours-per-week']\n",
    "\n",
    "# Initalisieren des Scalers\n",
    "minmax = MinMaxScaler()\n",
    "\n",
    "# Fitte den Scaler auf die Trainingsdaten und wende ihn an\n",
    "x_train[scaled_columns] = minmax.fit_transform(x_train[scaled_columns])\n",
    "print(x_train.head())\n",
    "\n",
    "# Wende denselben gefitetten Scaler auf die Testdaten an\n",
    "x_test[scaled_columns] = minmax.transform(x_test[scaled_columns])\n",
    "x_test.head()"
   ]
  },
  {
   "cell_type": "markdown",
   "id": "5c07707c",
   "metadata": {
    "pycharm": {
     "name": "#%% md\n"
    }
   },
   "source": [
    "### 2. Predict with kNN\n",
    "Sagen Sie den Einkommen >=50K oder <50K mittels kNN vorher. Plotten Sie die Akkuranz in Abhängigkeit von k nearest Neighbours. Bei längerer Rechenzeit (bei viele Iterationen) ist Prozessbar (trange (from tqdm.notebook import trange, tqdm) statt range) zu empfehlen. "
   ]
  },
  {
   "cell_type": "code",
   "execution_count": null,
   "id": "b5a0dc64",
   "metadata": {
    "pycharm": {
     "name": "#%%\n"
    }
   },
   "outputs": [
    {
     "name": "stderr",
     "output_type": "stream",
     "text": [
      "  0%|          | 0/19 [00:00<?, ?it/s]"
     ]
    },
    {
     "name": "stderr",
     "output_type": "stream",
     "text": [
      "100%|██████████| 19/19 [00:04<00:00,  3.90it/s]\n"
     ]
    },
    {
     "data": {
      "image/png": "[encoded data removed]",
      "text/plain": [
       "<Figure size 640x480 with 1 Axes>"
      ]
     },
     "metadata": {},
     "output_type": "display_data"
    }
   ],
   "source": [
    "# Speichern der Scores\n",
    "scores = []\n",
    "\n",
    "# Gehe durch die mögliche Anzahl der Nachbarn, trange zeigt wie viel Prozent des Loops geschafft sind\n",
    "for i in trange(1, 20):\n",
    "    knn = KNeighborsClassifier(n_neighbors=i)\n",
    "\n",
    "    # Fit auf den Trainingsdaten und Vorhersage auf den Testdaten\n",
    "    knn.fit(x_train, y_train)\n",
    "    predicted = knn.predict(x_test)\n",
    "\n",
    "    # Accuracy aus den Vorhersagen und den echten Werten\n",
    "    scores.append(accuracy_score(predicted.reshape(-1,1), y_test.to_numpy().reshape(-1,1)))\n",
    "\n",
    "plt.title(\"Akkuranz in Abhängigkeit von k\")\n",
    "plt.plot(scores)\n",
    "plt.xlabel(\"k\")\n",
    "plt.ylabel(\"Akkuranz\")\n",
    "plt.show()"
   ]
  },
  {
   "cell_type": "code",
   "execution_count": 16,
   "id": "108d2f0c",
   "metadata": {
    "pycharm": {
     "name": "#%%\n"
    }
   },
   "outputs": [
    {
     "name": "stderr",
     "output_type": "stream",
     "text": [
      "100%|██████████| 100/100 [03:58<00:00,  2.38s/it]\n"
     ]
    },
    {
     "data": {
      "image/png": "[encoded data removed]",
      "text/plain": [
       "<Figure size 640x480 with 1 Axes>"
      ]
     },
     "metadata": {},
     "output_type": "display_data"
    }
   ],
   "source": [
    "# Nochmal für andere Nachbarwerte\n",
    "scores = []\n",
    "for i in trange(1, 10000, 100):\n",
    "    knn = KNeighborsClassifier(n_neighbors=i)\n",
    "    knn.fit(x_train, y_train)\n",
    "    predicted = knn.predict(x_test)\n",
    "    scores.append(accuracy_score(predicted.reshape(-1,1), y_test.to_numpy().reshape(-1,1)))\n",
    "\n",
    "plt.title(\"Akkuranz in Abhängigkeit von k\")\n",
    "plt.plot(scores)\n",
    "plt.xlabel(\"k\")\n",
    "plt.ylabel(\"Akkuranz\")\n",
    "plt.show()"
   ]
  },
  {
   "cell_type": "code",
   "execution_count": null,
   "id": "1451d49d",
   "metadata": {
    "pycharm": {
     "name": "#%%\n"
    }
   },
   "outputs": [],
   "source": []
  }
 ],
 "metadata": {
  "kernelspec": {
   "display_name": ".venv",
   "language": "python",
   "name": "python3"
  },
  "language_info": {
   "codemirror_mode": {
    "name": "ipython",
    "version": 3
   },
   "file_extension": ".py",
   "mimetype": "text/x-python",
   "name": "python",
   "nbconvert_exporter": "python",
   "pygments_lexer": "ipython3",
   "version": "3.10.15"
  }
 },
 "nbformat": 4,
 "nbformat_minor": 5
}
