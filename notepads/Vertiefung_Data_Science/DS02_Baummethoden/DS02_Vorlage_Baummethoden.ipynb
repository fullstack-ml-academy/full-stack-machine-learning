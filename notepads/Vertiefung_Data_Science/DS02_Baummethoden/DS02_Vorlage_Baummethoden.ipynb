{
 "cells": [
  {
   "cell_type": "markdown",
   "id": "ce459c5e",
   "metadata": {
    "pycharm": {
     "name": "#%% md\n"
    }
   },
   "source": [
    "# *Aufgabe: Baummethoden*"
   ]
  },
  {
   "cell_type": "markdown",
   "id": "a4b6f1a7",
   "metadata": {
    "pycharm": {
     "name": "#%% md\n"
    }
   },
   "source": [
    "0. Imports"
   ]
  },
  {
   "cell_type": "code",
   "execution_count": null,
   "id": "1e0fd736",
   "metadata": {
    "pycharm": {
     "name": "#%%\n"
    }
   },
   "outputs": [],
   "source": [
    "# Importiere alle Bibliotheken/ Funktionen, die später benötigt werden\n",
    "# Zum Beispiel für das Preprocessing\n",
    "from sklearn.impute import SimpleImputer\n",
    "from sklearn.preprocessing import MinMaxScaler\n",
    "from sklearn.model_selection import train_test_split\n",
    "import matplotlib.pyplot as plt  # zur Darstellung\n",
    "from sklearn.tree import DecisionTreeRegressor, DecisionTreeClassifier  # Die Modelle\n",
    "from sklearn.datasets import load_diabetes  # Den Datensatz aus der Aufgabe\n",
    "from tqdm import trange # zur Darstellung des prozentualen Fortschritts in for-Loop"
   ]
  },
  {
   "cell_type": "markdown",
   "id": "218d68e3",
   "metadata": {
    "pycharm": {
     "name": "#%% md\n"
    }
   },
   "source": [
    "### Aufgabe 1. Baummethoden\n",
    "\n",
    "Implementieren Sie ein Decision Tree Modell für Klassifikationsaufgaben aus [scikit-learn](https://scikit-learn.org/stable/modules/generated/sklearn.tree.DecisionTreeClassifier.html) und sagen Sie damit den Gehalt von Menschen auf Grundlage ihrer sozioökonomischen Attribute vorher. Nutzen Sie dafür den bereitgestellten Census Datensatz. Achten Sie darauf, dass der Datensatz vorverarbeitet werden muss, da es zahlreiche kategorische Features und fehlende Werte gibt. \n",
    "\n",
    "Messen Sie die Leistungsfähigkeit Ihres Modells in Abhängigkeit von der maximalen Tiefe mit einer passenden Metrik.\n"
   ]
  },
  {
   "cell_type": "markdown",
   "id": "c41ab1e2",
   "metadata": {
    "pycharm": {
     "name": "#%% md\n"
    }
   },
   "source": [
    "#### Data Preprocessing"
   ]
  },
  {
   "cell_type": "code",
   "execution_count": 2,
   "id": "220b168a",
   "metadata": {
    "pycharm": {
     "name": "#%%\n"
    }
   },
   "outputs": [],
   "source": [
    "# Vorbereitung wie aus dem letzten Notebook DS01_Lösung_kNN_und_Data_Preprocessing"
   ]
  },
  {
   "cell_type": "markdown",
   "id": "4135cb88",
   "metadata": {
    "pycharm": {
     "name": "#%% md\n"
    }
   },
   "source": [
    "#### Trainieren der Bäume für verschiedene Tiefen"
   ]
  },
  {
   "cell_type": "code",
   "execution_count": 3,
   "id": "24d4f6f7",
   "metadata": {
    "pycharm": {
     "name": "#%%\n"
    }
   },
   "outputs": [],
   "source": [
    "# Gehe durch die möglichen Tiefen von 1 bis 20 (zum Beispiel)\n",
    "# trange zeigt den prozentualen Fortschritt an\n",
    "# for i in trange(1, 21):\n",
    "    # Erstelle und trainiere das Modell, aber ändere jeweils nur die Tiefe\n",
    "\n",
    "\n",
    "# Darstellung der Accuracy über den verschiedenen Tiefen der Bäume"
   ]
  },
  {
   "cell_type": "markdown",
   "id": "a7f37cfd",
   "metadata": {
    "pycharm": {
     "name": "#%% md\n"
    }
   },
   "source": [
    "### Aufgabe 2. Visualisierung von Baummethoden Regressor\n",
    "\n",
    "Trainieren Sie einen Decision Tree Regressor (DTR) auf den [Diabetes Datensatz](https://scikit-learn.org/stable/modules/generated/sklearn.datasets.load_diabetes.html#sklearn.datasets.load_diabetes) aus sklearn. Dieser Datensatz gibt Risikofaktoren für Diabetes (Alter, BMI, ..) und einen Risikoscore für Diabetes. Regressieren Sie mittels eines DTR den Risikoscore. Zeigen Sie dann für das Attribut BMI auf, wie ein DTR diesen Wert nutzt, um auf den Risikoscore zu regressieren. Trainieren Sie dabei DTRs mit verschiedener Tiefe (max_depth=). Bauen Sie grafisch die folgende Darstellung nach:"
   ]
  },
  {
   "cell_type": "code",
   "execution_count": null,
   "id": "f1cf540e",
   "metadata": {
    "pycharm": {
     "name": "#%%\n"
    }
   },
   "outputs": [],
   "source": [
    "# Einlesen der Daten load_diabetes()\n",
    "# Lesen sie in der Dokumentation nach wie das Format des Diabetes Datensatz aufgebaut ist\n",
    "\n",
    "# Das relevante Feature und die Zielvariable\n",
    "# bmi =\n",
    "# risk =\n",
    "# plt.scatter(bmi, risk, alpha=0.3)"
   ]
  },
  {
   "cell_type": "markdown",
   "id": "28a647bb",
   "metadata": {
    "pycharm": {
     "name": "#%% md\n"
    }
   },
   "source": [
    "Trainieren der Modelle und Visualisierung:"
   ]
  },
  {
   "cell_type": "code",
   "execution_count": 5,
   "id": "89eadce6",
   "metadata": {
    "pycharm": {
     "name": "#%%\n"
    }
   },
   "outputs": [],
   "source": [
    "# X-Achsen Definition zur späteren Darstellung\n",
    "# x_axis = np.linspace(-0.1, 0.2, 1500).reshape(-1,1)\n",
    "\n",
    "# for i in range(1, 10):\n",
    "\n",
    "    # Darstellung von BMI und Risiko\n",
    "\n",
    "    # Trainieren des Regressors für verschiedene Tiefen\n",
    "\n",
    "    # Vorhersagen des Risikos\n",
    "\n",
    "    # Visualisiere das Modell für BMI und Risiko"
   ]
  }
 ],
 "metadata": {
  "kernelspec": {
   "display_name": ".venv",
   "language": "python",
   "name": "python3"
  },
  "language_info": {
   "codemirror_mode": {
    "name": "ipython",
    "version": 3
   },
   "file_extension": ".py",
   "mimetype": "text/x-python",
   "name": "python",
   "nbconvert_exporter": "python",
   "pygments_lexer": "ipython3",
   "version": "3.10.15"
  }
 },
 "nbformat": 4,
 "nbformat_minor": 5
}
