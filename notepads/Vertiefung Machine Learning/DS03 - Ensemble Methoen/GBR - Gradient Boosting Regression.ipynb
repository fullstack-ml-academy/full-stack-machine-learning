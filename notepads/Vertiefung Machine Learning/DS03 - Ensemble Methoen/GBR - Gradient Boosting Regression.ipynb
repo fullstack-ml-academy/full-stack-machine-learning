{
 "cells": [
  {
   "cell_type": "markdown",
   "metadata": {},
   "source": [
    "# Gradient Boosting Regression"
   ]
  },
  {
   "cell_type": "markdown",
   "metadata": {},
   "source": [
    "## Algorithmus\n",
    "\n",
    "- Errechne den Durchschnitt des Target Values (Start Leaf), nimm dies als erste Prädiktion\n",
    "- Iteriere:\n",
    " - Errechne die Pseudoresiduals (Differenz zwischen Prädiktion und Target)\n",
    " - Trainiere einen DT Regressor (Tiefe zw. 8 und 32) um die Pseudoresiduals vorherzusagen\n",
    " - Die neue Prädiktion ist die Summe des Start Leafs und den Werten der DT Regressoren, multipliziert mit Learning Rate"
   ]
  },
  {
   "cell_type": "code",
   "execution_count": null,
   "metadata": {},
   "outputs": [],
   "source": []
  }
 ],
 "metadata": {
  "kernelspec": {
   "display_name": "Python 3 (ipykernel)",
   "language": "python",
   "name": "python3"
  },
  "language_info": {
   "codemirror_mode": {
    "name": "ipython",
    "version": 3
   },
   "file_extension": ".py",
   "mimetype": "text/x-python",
   "name": "python",
   "nbconvert_exporter": "python",
   "pygments_lexer": "ipython3",
   "version": "3.8.12"
  }
 },
 "nbformat": 4,
 "nbformat_minor": 4
}
