{
 "cells": [
  {
   "cell_type": "markdown",
   "id": "ce459c5e",
   "metadata": {},
   "source": [
    "# *Aufgabe: Probabilistische Methoden*"
   ]
  },
  {
   "cell_type": "markdown",
   "id": "a4b6f1a7",
   "metadata": {},
   "source": [
    "0. Imports"
   ]
  },
  {
   "cell_type": "code",
   "execution_count": 20,
   "id": "1e0fd736",
   "metadata": {},
   "outputs": [],
   "source": [
    "import pandas as pd\n",
    "from sklearn.impute import SimpleImputer\n",
    "from sklearn.preprocessing import MinMaxScaler\n",
    "from sklearn.model_selection import train_test_split\n",
    "from sklearn.ensemble import RandomForestClassifier \n",
    "from sklearn.neighbors import KNeighborsClassifier\n",
    "from sklearn.metrics import accuracy_score, confusion_matrix, precision_recall_fscore_support\n",
    "import matplotlib.pyplot as plt\n",
    "import numpy as np\n",
    "from sklearn import metrics\n",
    "from scipy import stats"
   ]
  },
  {
   "cell_type": "markdown",
   "id": "218d68e3",
   "metadata": {},
   "source": [
    "### Aufgabe 1. Gaussian Naive Bayes"
   ]
  },
  {
   "cell_type": "markdown",
   "id": "c41ab1e2",
   "metadata": {},
   "source": [
    "1. Import and Train/Test split"
   ]
  },
  {
   "cell_type": "code",
   "execution_count": 21,
   "id": "220b168a",
   "metadata": {},
   "outputs": [
    {
     "data": {
      "text/html": [
       "<div>\n",
       "<style scoped>\n",
       "    .dataframe tbody tr th:only-of-type {\n",
       "        vertical-align: middle;\n",
       "    }\n",
       "\n",
       "    .dataframe tbody tr th {\n",
       "        vertical-align: top;\n",
       "    }\n",
       "\n",
       "    .dataframe thead th {\n",
       "        text-align: right;\n",
       "    }\n",
       "</style>\n",
       "<table border=\"1\" class=\"dataframe\">\n",
       "  <thead>\n",
       "    <tr style=\"text-align: right;\">\n",
       "      <th></th>\n",
       "      <th>age</th>\n",
       "      <th>hours-per-week</th>\n",
       "      <th>target</th>\n",
       "    </tr>\n",
       "  </thead>\n",
       "  <tbody>\n",
       "    <tr>\n",
       "      <th>0</th>\n",
       "      <td>39</td>\n",
       "      <td>40</td>\n",
       "      <td>0</td>\n",
       "    </tr>\n",
       "    <tr>\n",
       "      <th>1</th>\n",
       "      <td>50</td>\n",
       "      <td>13</td>\n",
       "      <td>0</td>\n",
       "    </tr>\n",
       "    <tr>\n",
       "      <th>2</th>\n",
       "      <td>38</td>\n",
       "      <td>40</td>\n",
       "      <td>0</td>\n",
       "    </tr>\n",
       "    <tr>\n",
       "      <th>3</th>\n",
       "      <td>53</td>\n",
       "      <td>40</td>\n",
       "      <td>0</td>\n",
       "    </tr>\n",
       "    <tr>\n",
       "      <th>4</th>\n",
       "      <td>28</td>\n",
       "      <td>40</td>\n",
       "      <td>0</td>\n",
       "    </tr>\n",
       "  </tbody>\n",
       "</table>\n",
       "</div>"
      ],
      "text/plain": [
       "   age  hours-per-week  target\n",
       "0   39              40       0\n",
       "1   50              13       0\n",
       "2   38              40       0\n",
       "3   53              40       0\n",
       "4   28              40       0"
      ]
     },
     "execution_count": 21,
     "metadata": {},
     "output_type": "execute_result"
    }
   ],
   "source": [
    "census = pd.read_csv(\"../../../data/census.csv\")[['age', 'hours-per-week', 'target']]\n",
    "census[\"target\"] = census[\"target\"].map({\" <=50K\":0,\" >50K\":1})\n",
    "census.head(5)"
   ]
  },
  {
   "cell_type": "code",
   "execution_count": 22,
   "id": "330df648",
   "metadata": {},
   "outputs": [
    {
     "name": "stdout",
     "output_type": "stream",
     "text": [
      "X Train: (24420, 2)\n",
      "Y Train: (24420,)\n",
      "X Test: (8141, 2)\n",
      "Y Test: (8141,)\n"
     ]
    }
   ],
   "source": [
    "x_train, x_test, y_train, y_test = train_test_split(census.drop([\"target\"],axis=1),census[\"target\"])\n",
    "print('X Train: {}'.format(x_train.shape)) \n",
    "print('Y Train: {}'.format(y_train.shape)) \n",
    "print('X Test: {}'.format(x_test.shape)) \n",
    "print('Y Test: {}'.format(y_test.shape))\n",
    "\n",
    "# Normalize: Age und hours-per-week\n",
    "minmax = MinMaxScaler()\n",
    "\n",
    "x_train['age'] = minmax.fit_transform(x_train['age'].to_numpy().reshape(-1,1))\n",
    "x_train['hours-per-week'] = minmax.fit_transform(x_train['hours-per-week'].to_numpy().reshape(-1,1))\n",
    "\n",
    "x_test['age'] = minmax.fit_transform(x_test['age'].to_numpy().reshape(-1,1))\n",
    "x_test['hours-per-week'] = minmax.fit_transform(x_test['hours-per-week'].to_numpy().reshape(-1,1))"
   ]
  },
  {
   "cell_type": "markdown",
   "id": "4135cb88",
   "metadata": {},
   "source": [
    "2. Gaussian Naive Bayes:"
   ]
  },
  {
   "cell_type": "code",
   "execution_count": 30,
   "id": "24d4f6f7",
   "metadata": {},
   "outputs": [
    {
     "name": "stdout",
     "output_type": "stream",
     "text": [
      "Prior probability high income: 24.20\n",
      "Prior probability low income: 75.80\n",
      "Accuracy score: 0.7690701388035868\n",
      "Confusion matrix: \n",
      "[[5731 1402]\n",
      " [ 478  530]]\n",
      "Precision: 0.2743271221532091\n",
      "Recall: 0.5257936507936508\n"
     ]
    }
   ],
   "source": [
    "def calculate_probability(prior_high, prior_low, x):\n",
    "    proba_high = np.log(prior_high*age_density_high(x[0])*hours_density_high(x[1]))\n",
    "    proba_low = np.log(prior_low*age_density_low(x[0])*hours_density_low(x[1]))\n",
    "    if proba_high >= proba_low:\n",
    "        return 1\n",
    "    else: \n",
    "        return 0\n",
    "    \n",
    "# Prior Probabilities:\n",
    "\n",
    "data_shape = y_train.shape[0]\n",
    "prior_probability_high_income = y_train.loc[y_train == 1].shape[0]/data_shape\n",
    "prior_probability_low_income = y_train.loc[y_train == 0].shape[0]/data_shape\n",
    "print(\"Prior probability high income: {:.2f}\".format(prior_probability_high_income*100))\n",
    "print(\"Prior probability low income: {:.2f}\".format(prior_probability_low_income*100))\n",
    "\n",
    "data_train = x_train\n",
    "data_train['target'] = y_train\n",
    "age_density_high = stats.kde.gaussian_kde(data_train.loc[data_train[\"target\"]==1][\"age\"])\n",
    "age_density_low = stats.kde.gaussian_kde(data_train.loc[data_train[\"target\"]==0][\"age\"])\n",
    "hours_density_high = stats.kde.gaussian_kde(data_train.loc[data_train[\"target\"]==1][\"hours-per-week\"])\n",
    "hours_density_low = stats.kde.gaussian_kde(data_train.loc[data_train[\"target\"]==0][\"hours-per-week\"])\n",
    "\n",
    "# Prediction:\n",
    "predicted = []\n",
    "for element in x_test.to_numpy():\n",
    "    predicted.append(calculate_probability(prior_probability_high_income, prior_probability_low_income, element))\n",
    "     \n",
    "print(\"Accuracy score: {}\".format(accuracy_score(predicted, y_test)))\n",
    "\n",
    "# Confusion matrix\n",
    "\n",
    "cm = confusion_matrix(predicted, y_test)\n",
    "tn, fp, fn, tp = cm.ravel()\n",
    "\n",
    "print(\"Confusion matrix: \\n{}\".format(cm))    \n",
    "print(\"Precision: {}\".format(tp/(tp + fp)))\n",
    "print(\"Recall: {}\".format(tp/(tp + fn)))    "
   ]
  },
  {
   "cell_type": "code",
   "execution_count": null,
   "id": "4e0b0816",
   "metadata": {},
   "outputs": [],
   "source": []
  }
 ],
 "metadata": {
  "kernelspec": {
   "display_name": "Python 3 (ipykernel)",
   "language": "python",
   "name": "python3"
  },
  "language_info": {
   "codemirror_mode": {
    "name": "ipython",
    "version": 3
   },
   "file_extension": ".py",
   "mimetype": "text/x-python",
   "name": "python",
   "nbconvert_exporter": "python",
   "pygments_lexer": "ipython3",
   "version": "3.8.12"
  }
 },
 "nbformat": 4,
 "nbformat_minor": 5
}
