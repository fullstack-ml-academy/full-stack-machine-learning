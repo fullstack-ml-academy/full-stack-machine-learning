{
 "cells": [
  {
   "cell_type": "markdown",
   "metadata": {},
   "source": [
    "# Grid- und Randomsearch"
   ]
  },
  {
   "cell_type": "markdown",
   "metadata": {},
   "source": [
    "## Imports"
   ]
  },
  {
   "cell_type": "code",
   "execution_count": 123,
   "metadata": {},
   "outputs": [],
   "source": [
    "import numpy as np\n",
    "import pandas as pd\n",
    "from tqdm.notebook import tqdm\n",
    "from sklearn.tree import DecisionTreeRegressor\n",
    "from sklearn.model_selection import train_test_split\n",
    "from sklearn.metrics import mean_squared_error as mse\n",
    "import matplotlib.pyplot as plt\n",
    "import itertools\n",
    "import random"
   ]
  },
  {
   "cell_type": "markdown",
   "metadata": {},
   "source": [
    "## Datengrundlage"
   ]
  },
  {
   "cell_type": "code",
   "execution_count": 17,
   "metadata": {},
   "outputs": [],
   "source": [
    "data = pd.read_csv(\"../data/mpg.csv\")\n",
    "x_train, x_test, y_train, y_test = train_test_split(data.drop([\"mpg\"],axis=1), data[\"mpg\"], test_size=0.25, random_state=45)"
   ]
  },
  {
   "cell_type": "markdown",
   "metadata": {},
   "source": [
    "## Training eines Decision Tree Regressors"
   ]
  },
  {
   "cell_type": "code",
   "execution_count": 26,
   "metadata": {},
   "outputs": [
    {
     "data": {
      "text/plain": [
       "18.969700000000003"
      ]
     },
     "execution_count": 26,
     "metadata": {},
     "output_type": "execute_result"
    }
   ],
   "source": [
    "dt = DecisionTreeRegressor()\n",
    "dt.fit(x_train,y_train)\n",
    "\n",
    "mse(y_test,dt.predict(x_test))"
   ]
  },
  {
   "cell_type": "markdown",
   "metadata": {},
   "source": [
    "## Definition des Optimierungsspaces"
   ]
  },
  {
   "cell_type": "code",
   "execution_count": 101,
   "metadata": {},
   "outputs": [
    {
     "name": "stdout",
     "output_type": "stream",
     "text": [
      "Anzahl möglicher Kombinationen: 145\n"
     ]
    }
   ],
   "source": [
    "space = {\"max_depth\":np.arange(1,30),\n",
    "         \"min_samples_split\":np.arange(2,50,10)}\n",
    "\n",
    "print(\"Anzahl möglicher Kombinationen: {}\".format(np.prod([len(value) for key, value in space.items()])))"
   ]
  },
  {
   "cell_type": "markdown",
   "metadata": {},
   "source": [
    "## Gridsearch"
   ]
  },
  {
   "cell_type": "code",
   "execution_count": 129,
   "metadata": {},
   "outputs": [
    {
     "data": {
      "application/vnd.jupyter.widget-view+json": {
       "model_id": "ccf33f4254434112b318fd2bd8922e9b",
       "version_major": 2,
       "version_minor": 0
      },
      "text/plain": [
       "HBox(children=(FloatProgress(value=1.0, bar_style='info', max=1.0), HTML(value='')))"
      ]
     },
     "metadata": {},
     "output_type": "display_data"
    },
    {
     "name": "stdout",
     "output_type": "stream",
     "text": [
      "\n",
      "Der best Baum hat einen MSE von 16.346118864244232 und die Parameter [7, 12]\n"
     ]
    }
   ],
   "source": [
    "grid_errors = []\n",
    "\n",
    "# iteriere über jede Hyperparameterkombination\n",
    "for params in tqdm(itertools.product(space[\"max_depth\"],space[\"min_samples_split\"])):\n",
    "    dt = DecisionTreeRegressor(max_depth=params[0],min_samples_split=params[1])\n",
    "    dt.fit(x_train,y_train)\n",
    "\n",
    "    error = mse(y_test,dt.predict(x_test))\n",
    "    if len(grid_errors) == 0 or error < np.min(grid_errors):\n",
    "        best_params_grid = [max_depth_i,min_samples_split_i]\n",
    "    grid_errors.append(error)\n",
    "            \n",
    "print(\"Der best Baum hat einen MSE von {} und die Parameter {}\".format(np.min(grid_errors),best_params))"
   ]
  },
  {
   "cell_type": "markdown",
   "metadata": {},
   "source": [
    "## Randomsearch"
   ]
  },
  {
   "cell_type": "code",
   "execution_count": 130,
   "metadata": {},
   "outputs": [
    {
     "data": {
      "application/vnd.jupyter.widget-view+json": {
       "model_id": "b016988387514d75ac03b4bae9b2b8f0",
       "version_major": 2,
       "version_minor": 0
      },
      "text/plain": [
       "HBox(children=(FloatProgress(value=0.0, max=145.0), HTML(value='')))"
      ]
     },
     "metadata": {},
     "output_type": "display_data"
    },
    {
     "name": "stdout",
     "output_type": "stream",
     "text": [
      "\n"
     ]
    }
   ],
   "source": [
    "random_errors = []\n",
    "for i in tqdm(range(np.prod([len(value) for key, value in space.items()]))):\n",
    "    max_depth_i = random.choice(space[\"max_depth\"])\n",
    "    min_samples_split_i = random.choice(space[\"min_samples_split\"])\n",
    "    \n",
    "    dt = DecisionTreeRegressor(max_depth=max_depth_i,min_samples_split=min_samples_split_i)\n",
    "    dt.fit(x_train,y_train)\n",
    "    \n",
    "    error = mse(y_test,dt.predict(x_test))\n",
    "    if len(random_errors) == 0 or error < np.min(random_errors):\n",
    "        best_params_random = [max_depth_i,min_samples_split_i]\n",
    "    random_errors.append(error)\n"
   ]
  },
  {
   "cell_type": "code",
   "execution_count": 103,
   "metadata": {},
   "outputs": [
    {
     "data": {
      "text/plain": [
       "[<matplotlib.lines.Line2D at 0x7fa544abf6a0>]"
      ]
     },
     "execution_count": 103,
     "metadata": {},
     "output_type": "execute_result"
    },
    {
     "data": {
      "image/png": "[encoded data removed]",
      "text/plain": [
       "<Figure size 432x288 with 1 Axes>"
      ]
     },
     "metadata": {
      "needs_background": "light"
     },
     "output_type": "display_data"
    }
   ],
   "source": [
    "plt.plot(errors)"
   ]
  },
  {
   "cell_type": "code",
   "execution_count": 131,
   "metadata": {},
   "outputs": [],
   "source": [
    "grid_errors_min = []\n",
    "for i in grid_errors:\n",
    "    if len(grid_errors_min) == 0 or i < np.min(grid_errors_min):\n",
    "        grid_errors_min.append(i)\n",
    "    else:\n",
    "        grid_errors_min.append(grid_errors_min[-1])\n",
    "        \n",
    "random_errors_min = []\n",
    "for i in random_errors:\n",
    "    if len(random_errors_min) == 0 or i < np.min(random_errors_min):\n",
    "        random_errors_min.append(i)\n",
    "    else:\n",
    "        random_errors_min.append(random_errors_min[-1])"
   ]
  },
  {
   "cell_type": "code",
   "execution_count": 132,
   "metadata": {},
   "outputs": [
    {
     "data": {
      "image/png": "[encoded data removed]",
      "text/plain": [
       "<Figure size 432x288 with 1 Axes>"
      ]
     },
     "metadata": {
      "needs_background": "light"
     },
     "output_type": "display_data"
    }
   ],
   "source": [
    "plt.plot(grid_errors_min,label=\"Grid Search\")\n",
    "plt.plot(random_errors_min,label=\"Random Search\")\n",
    "plt.legend()\n",
    "plt.show()"
   ]
  },
  {
   "cell_type": "code",
   "execution_count": 53,
   "metadata": {},
   "outputs": [
    {
     "data": {
      "text/plain": [
       "16.346118864244232"
      ]
     },
     "execution_count": 53,
     "metadata": {},
     "output_type": "execute_result"
    }
   ],
   "source": [
    "lowest_error"
   ]
  },
  {
   "cell_type": "code",
   "execution_count": 54,
   "metadata": {},
   "outputs": [
    {
     "data": {
      "text/plain": [
       "[7, 12]"
      ]
     },
     "execution_count": 54,
     "metadata": {},
     "output_type": "execute_result"
    }
   ],
   "source": [
    "best_params"
   ]
  },
  {
   "cell_type": "code",
   "execution_count": null,
   "metadata": {},
   "outputs": [],
   "source": []
  }
 ],
 "metadata": {
  "kernelspec": {
   "display_name": "Python 3",
   "language": "python",
   "name": "python3"
  },
  "language_info": {
   "codemirror_mode": {
    "name": "ipython",
    "version": 3
   },
   "file_extension": ".py",
   "mimetype": "text/x-python",
   "name": "python",
   "nbconvert_exporter": "python",
   "pygments_lexer": "ipython3",
   "version": "3.7.3"
  }
 },
 "nbformat": 4,
 "nbformat_minor": 4
}
