{
 "cells": [
  {
   "cell_type": "markdown",
   "metadata": {},
   "source": [
    "# Gradient Boosting Classification"
   ]
  },
  {
   "cell_type": "markdown",
   "metadata": {},
   "source": [
    "## Algorithmus\n",
    "\n",
    "- Erstelle ein Initial Leaf mit dem Logarithmus der Odds (bspw. log(4/2)), aktiviere die LogOdds Logistisch (e^(log(4/2)/((1+e^(log(4/2)))\n",
    "- Errechne die Residuals zwischen Leaf und Instanzen\n",
    "- Baue DT Regressor um Residuals vorherzusagen\n",
    "- Neue Prädiktion: Aktivierung(Leaf + Learning Rate * Transformierte Residuals)\n",
    " - Transformation, da Residuals und Logodds nicht einfach zusammengerechnet werden können:\n",
    " - Summe Residual für jeden Wert im Leaf / (Summe (Vorherige Probabbilities * 1- Vorherige Probability) für jeden Wert im Leaf\n",
    " - = Transformierte Residuals"
   ]
  },
  {
   "cell_type": "code",
   "execution_count": null,
   "metadata": {},
   "outputs": [],
   "source": []
  }
 ],
 "metadata": {
  "kernelspec": {
   "display_name": "Python 3 (ipykernel)",
   "language": "python",
   "name": "python3"
  },
  "language_info": {
   "codemirror_mode": {
    "name": "ipython",
    "version": 3
   },
   "file_extension": ".py",
   "mimetype": "text/x-python",
   "name": "python",
   "nbconvert_exporter": "python",
   "pygments_lexer": "ipython3",
   "version": "3.8.12"
  }
 },
 "nbformat": 4,
 "nbformat_minor": 4
}
