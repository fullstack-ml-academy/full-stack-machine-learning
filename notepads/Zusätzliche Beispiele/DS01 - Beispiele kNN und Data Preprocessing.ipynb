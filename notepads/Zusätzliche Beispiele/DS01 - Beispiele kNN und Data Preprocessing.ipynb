{
 "cells": [
  {
   "cell_type": "markdown",
   "id": "da0f8537",
   "metadata": {
    "pycharm": {
     "name": "#%% md\n"
    }
   },
   "source": [
    "### 03 - Normalisierung und Skalierung"
   ]
  },
  {
   "cell_type": "code",
   "execution_count": 2,
   "id": "9bc853ee",
   "metadata": {
    "pycharm": {
     "name": "#%%\n"
    }
   },
   "outputs": [],
   "source": [
    "import numpy as np\n",
    "from sklearn.preprocessing import MinMaxScaler, StandardScaler"
   ]
  },
  {
   "cell_type": "code",
   "execution_count": 19,
   "id": "20e8f818",
   "metadata": {
    "pycharm": {
     "name": "#%%\n"
    }
   },
   "outputs": [
    {
     "name": "stdout",
     "output_type": "stream",
     "text": [
      "[[0. ]\n",
      " [0.5]\n",
      " [1. ]]\n",
      "[[-1.22474487]\n",
      " [ 0.        ]\n",
      " [ 1.22474487]]\n",
      "[0.  0.5 1. ]\n",
      "[-1.22474487  0.          1.22474487]\n"
     ]
    }
   ],
   "source": [
    "# Beispiel Normalisierung vs. Skalierung\n",
    "\n",
    "x = np.array([[1], [2], [3]])\n",
    "\n",
    "minmax = MinMaxScaler()\n",
    "print(minmax.fit_transform(x))\n",
    "\n",
    "scaler = StandardScaler()\n",
    "print(scaler.fit_transform(x))\n",
    "\n",
    "# Was wenn 1D?\n",
    "\n",
    "x = np.array([1, 2, 3])\n",
    "x_norm = minmax.fit_transform(x.reshape(-1,1)).ravel()\n",
    "print(x_norm)\n",
    "\n",
    "scaler = StandardScaler()\n",
    "x_scaled = scaler.fit_transform(x.reshape(-1,1)).ravel()\n",
    "print(x_scaled)\n"
   ]
  },
  {
   "cell_type": "code",
   "execution_count": null,
   "id": "d74ed529",
   "metadata": {
    "pycharm": {
     "name": "#%%\n"
    }
   },
   "outputs": [],
   "source": []
  }
 ],
 "metadata": {
  "kernelspec": {
   "display_name": "Python 3 (ipykernel)",
   "language": "python",
   "name": "python3"
  },
  "language_info": {
   "codemirror_mode": {
    "name": "ipython",
    "version": 3
   },
   "file_extension": ".py",
   "mimetype": "text/x-python",
   "name": "python",
   "nbconvert_exporter": "python",
   "pygments_lexer": "ipython3",
   "version": "3.8.12"
  }
 },
 "nbformat": 4,
 "nbformat_minor": 5
}