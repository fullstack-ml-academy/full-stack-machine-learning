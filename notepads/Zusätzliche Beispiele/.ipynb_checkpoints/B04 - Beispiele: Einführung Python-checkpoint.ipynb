{
 "cells": [
  {
   "cell_type": "markdown",
   "id": "806111bc",
   "metadata": {},
   "source": [
    "### Datentypen und Strukturen"
   ]
  },
  {
   "cell_type": "code",
   "execution_count": 4,
   "id": "1cabb95a",
   "metadata": {},
   "outputs": [
    {
     "name": "stdout",
     "output_type": "stream",
     "text": [
      "<class 'dict'>\n",
      "1\n"
     ]
    }
   ],
   "source": [
    "# Man kann dictionary von dictionary definieren.\n",
    "\n",
    "a = [1, 2, 3]\n",
    "b = (\"a\", 15)\n",
    "c = {\"yes\": 1, \"no\": 0}\n",
    "\n",
    "k = {'Bestanden': a, 'Durchgefallen': b, 'Nicht angetreten': c}\n",
    "print(type(k))\n",
    "print(k[\"Nicht angetreten\"][\"yes\"])\n",
    "\n",
    "k = {'Bestanden': a, 1: b, 'Nicht angetreten': c}\n",
    "\n",
    "# Man kann auch zB int als Dict. Key setzen.\n",
    "k[1]"
   ]
  },
  {
   "cell_type": "markdown",
   "id": "048875ec",
   "metadata": {},
   "source": [
    "### Functions"
   ]
  },
  {
   "cell_type": "code",
   "execution_count": null,
   "id": "e0834d4d",
   "metadata": {},
   "outputs": [],
   "source": [
    "# Aufgabe zur Wiederholungsfragen.\n",
    "\n",
    "def f1(x, y):\n",
    "    return x + y\n",
    "\n",
    "def f2(x):\n",
    "    return 2 * x \n",
    "\n",
    "# Was wird fehlerfrei(!) ausgeführt?\n",
    "f1\n",
    "f1(f2)\n",
    "f2(f1)\n",
    "f1(f2(3))\n",
    "f2(f2(3))(3)\n",
    "f1(f2(3), 3)"
   ]
  },
  {
   "cell_type": "markdown",
   "id": "0da5dcc8",
   "metadata": {},
   "source": [
    "### Numpy"
   ]
  },
  {
   "cell_type": "code",
   "execution_count": 1,
   "id": "373406e3",
   "metadata": {},
   "outputs": [
    {
     "ename": "AttributeError",
     "evalue": "'list' object has no attribute 'ravel'",
     "output_type": "error",
     "traceback": [
      "\u001b[0;31m---------------------------------------------------------------------------\u001b[0m",
      "\u001b[0;31mAttributeError\u001b[0m                            Traceback (most recent call last)",
      "\u001b[0;32m/var/folders/vx/hcm3xqr533g30kd_72jn3qb40000gn/T/ipykernel_62845/2211905672.py\u001b[0m in \u001b[0;36m<module>\u001b[0;34m\u001b[0m\n\u001b[1;32m      6\u001b[0m \u001b[0;34m\u001b[0m\u001b[0m\n\u001b[1;32m      7\u001b[0m \u001b[0;31m# Was ist der Unterschied?\u001b[0m\u001b[0;34m\u001b[0m\u001b[0;34m\u001b[0m\u001b[0;34m\u001b[0m\u001b[0m\n\u001b[0;32m----> 8\u001b[0;31m \u001b[0mprint\u001b[0m\u001b[0;34m(\u001b[0m\u001b[0mvector\u001b[0m\u001b[0;34m.\u001b[0m\u001b[0mravel\u001b[0m\u001b[0;34m(\u001b[0m\u001b[0;34m)\u001b[0m\u001b[0;34m)\u001b[0m\u001b[0;34m\u001b[0m\u001b[0;34m\u001b[0m\u001b[0m\n\u001b[0m\u001b[1;32m      9\u001b[0m \u001b[0mprint\u001b[0m\u001b[0;34m(\u001b[0m\u001b[0mvector\u001b[0m\u001b[0;34m.\u001b[0m\u001b[0msqueeze\u001b[0m\u001b[0;34m(\u001b[0m\u001b[0;34m)\u001b[0m\u001b[0;34m)\u001b[0m\u001b[0;34m\u001b[0m\u001b[0;34m\u001b[0m\u001b[0m\n\u001b[1;32m     10\u001b[0m \u001b[0mprint\u001b[0m\u001b[0;34m(\u001b[0m\u001b[0mvector\u001b[0m\u001b[0;34m.\u001b[0m\u001b[0mflatten\u001b[0m\u001b[0;34m(\u001b[0m\u001b[0;34m)\u001b[0m\u001b[0;34m)\u001b[0m\u001b[0;34m\u001b[0m\u001b[0;34m\u001b[0m\u001b[0m\n",
      "\u001b[0;31mAttributeError\u001b[0m: 'list' object has no attribute 'ravel'"
     ]
    }
   ],
   "source": [
    "# Aufgabe zur Wiederholungsfragen.\n",
    "\n",
    "import numpy as np\n",
    "\n",
    "vector = [[[[0]]], [[[1]]], [[[2]]], [[[3]]]]\n",
    "\n",
    "# Werden die folgenden Befehle ausgeführt? was muss geändert werden?\n",
    "\n",
    "# Was ist der Unterschied?\n",
    "print(vector.ravel())\n",
    "print(vector.squeeze())\n",
    "print(vector.flatten())\n",
    "print(vector.reshape(-1))"
   ]
  },
  {
   "cell_type": "markdown",
   "id": "7ce44c7b",
   "metadata": {},
   "source": [
    "### Sklearn"
   ]
  },
  {
   "cell_type": "code",
   "execution_count": 2,
   "id": "7ce96835",
   "metadata": {},
   "outputs": [
    {
     "name": "stdout",
     "output_type": "stream",
     "text": [
      "Decision Tree scores with 97.77777777777777% accuracy\n",
      "Predicted: Iris-setosa, reality: Iris-setosa\n",
      "Predicted: Iris-virginica, reality: Iris-virginica\n",
      "Predicted: Iris-versicolor, reality: Iris-versicolor\n",
      "Predicted: Iris-versicolor, reality: Iris-versicolor\n",
      "Predicted: Iris-versicolor, reality: Iris-versicolor\n",
      "Predicted: Iris-virginica, reality: Iris-virginica\n",
      "Predicted: Iris-virginica, reality: Iris-virginica\n",
      "Predicted: Iris-versicolor, reality: Iris-versicolor\n",
      "Predicted: Iris-setosa, reality: Iris-setosa\n",
      "Predicted: Iris-virginica, reality: Iris-virginica\n",
      "Predicted: Iris-versicolor, reality: Iris-versicolor\n",
      "Predicted: Iris-versicolor, reality: Iris-versicolor\n",
      "Predicted: Iris-virginica, reality: Iris-virginica\n",
      "Predicted: Iris-versicolor, reality: Iris-versicolor\n",
      "Predicted: Iris-setosa, reality: Iris-setosa\n",
      "Predicted: Iris-virginica, reality: Iris-virginica\n",
      "Predicted: Iris-versicolor, reality: Iris-versicolor\n",
      "Predicted: Iris-versicolor, reality: Iris-versicolor\n",
      "Predicted: Iris-virginica, reality: Iris-virginica\n",
      "Predicted: Iris-versicolor, reality: Iris-versicolor\n",
      "Predicted: Iris-virginica, reality: Iris-virginica\n",
      "Predicted: Iris-virginica, reality: Iris-virginica\n",
      "Predicted: Iris-setosa, reality: Iris-setosa\n",
      "Predicted: Iris-setosa, reality: Iris-setosa\n",
      "Predicted: Iris-versicolor, reality: Iris-versicolor\n",
      "Predicted: Iris-setosa, reality: Iris-setosa\n",
      "Predicted: Iris-versicolor, reality: Iris-versicolor\n",
      "Predicted: Iris-virginica, reality: Iris-virginica\n",
      "Predicted: Iris-virginica, reality: Iris-virginica\n",
      "Predicted: Iris-setosa, reality: Iris-setosa\n",
      "Predicted: Iris-versicolor, reality: Iris-versicolor\n",
      "Predicted: Iris-versicolor, reality: Iris-versicolor\n",
      "Predicted: Iris-setosa, reality: Iris-setosa\n",
      "Predicted: Iris-virginica, reality: Iris-virginica\n",
      "Predicted: Iris-virginica, reality: Iris-virginica\n",
      "Predicted: Iris-virginica, reality: Iris-virginica\n",
      "Predicted: Iris-setosa, reality: Iris-setosa\n",
      "Predicted: Iris-setosa, reality: Iris-setosa\n",
      "Predicted: Iris-setosa, reality: Iris-setosa\n",
      "Predicted: Iris-virginica, reality: Iris-versicolor\n",
      "Predicted: Iris-setosa, reality: Iris-setosa\n",
      "Predicted: Iris-setosa, reality: Iris-setosa\n",
      "Predicted: Iris-setosa, reality: Iris-setosa\n",
      "Predicted: Iris-versicolor, reality: Iris-versicolor\n",
      "Predicted: Iris-setosa, reality: Iris-setosa\n"
     ]
    }
   ],
   "source": [
    "# Nochmals DecisionTree aber zusätzlich die Vorhersagen einzeln.\n",
    "\n",
    "import pandas as pd\n",
    "from sklearn.tree import DecisionTreeClassifier\n",
    "from sklearn.model_selection import train_test_split\n",
    "\n",
    "data = pd.read_csv('../../data/iris.csv')\n",
    "X = data.drop(['class'],axis=1)\n",
    "y = data['class']\n",
    "\n",
    "X_train, X_test, y_train, y_test = train_test_split(X, y, test_size=0.3)\n",
    "\n",
    "dt = DecisionTreeClassifier()\n",
    "dt.fit(X_train, y_train)\n",
    "score = dt.score(X_test, y_test)\n",
    "print('Decision Tree scores with {}% accuracy'.format(score*100))\n",
    "\n",
    "for i in range(len(X_test)):\n",
    "    print(\"Predicted: {}, reality: {}\".format(dt.predict(X_test)[i], y_test.to_numpy()[i]))"
   ]
  },
  {
   "cell_type": "code",
   "execution_count": null,
   "id": "def7ef0d",
   "metadata": {},
   "outputs": [],
   "source": []
  }
 ],
 "metadata": {
  "kernelspec": {
   "display_name": "Python 3 (ipykernel)",
   "language": "python",
   "name": "python3"
  },
  "language_info": {
   "codemirror_mode": {
    "name": "ipython",
    "version": 3
   },
   "file_extension": ".py",
   "mimetype": "text/x-python",
   "name": "python",
   "nbconvert_exporter": "python",
   "pygments_lexer": "ipython3",
   "version": "3.8.12"
  }
 },
 "nbformat": 4,
 "nbformat_minor": 5
}
