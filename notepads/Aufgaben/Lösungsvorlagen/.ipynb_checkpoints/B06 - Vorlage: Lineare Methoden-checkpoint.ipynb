{
 "cells": [
  {
   "cell_type": "markdown",
   "id": "ce459c5e",
   "metadata": {},
   "source": [
    "# *Aufgabe 1*"
   ]
  },
  {
   "cell_type": "markdown",
   "id": "a4b6f1a7",
   "metadata": {},
   "source": [
    "0. Importieren Sie alle die nötigen Bibliotheken."
   ]
  },
  {
   "cell_type": "code",
   "execution_count": null,
   "id": "1e0fd736",
   "metadata": {},
   "outputs": [],
   "source": []
  },
  {
   "cell_type": "markdown",
   "id": "c41ab1e2",
   "metadata": {},
   "source": [
    "1. Kopieren und visualisieren (am besten mit scatter) Sie die Daten:"
   ]
  },
  {
   "cell_type": "code",
   "execution_count": null,
   "id": "220b168a",
   "metadata": {},
   "outputs": [],
   "source": []
  },
  {
   "cell_type": "markdown",
   "id": "4135cb88",
   "metadata": {},
   "source": [
    "2. Implementieren Sie polinomiale Modelle (grad von 1 bis 7) für die Regressionsaufgabe. Visualisieren Sie alle Modelle auf einem Graphen. Vergleichen Sie auch den Fehler. "
   ]
  },
  {
   "cell_type": "code",
   "execution_count": null,
   "id": "95ad7720",
   "metadata": {},
   "outputs": [],
   "source": [
    "    "
   ]
  },
  {
   "cell_type": "markdown",
   "id": "28a647bb",
   "metadata": {},
   "source": [
    "3. Implementieren Sie den Step 2 mittels Logistischer Regression für die Klassifikationsaufgabe. Vergessen Sie nicht, die Target Feature zu binarisieren."
   ]
  },
  {
   "cell_type": "code",
   "execution_count": null,
   "id": "89eadce6",
   "metadata": {},
   "outputs": [],
   "source": []
  }
 ],
 "metadata": {
  "kernelspec": {
   "display_name": "Python 3 (ipykernel)",
   "language": "python",
   "name": "python3"
  },
  "language_info": {
   "codemirror_mode": {
    "name": "ipython",
    "version": 3
   },
   "file_extension": ".py",
   "mimetype": "text/x-python",
   "name": "python",
   "nbconvert_exporter": "python",
   "pygments_lexer": "ipython3",
   "version": "3.8.12"
  }
 },
 "nbformat": 4,
 "nbformat_minor": 5
}
