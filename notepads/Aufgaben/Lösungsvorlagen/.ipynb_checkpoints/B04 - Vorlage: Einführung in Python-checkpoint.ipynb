{
 "cells": [
  {
   "cell_type": "markdown",
   "id": "ce459c5e",
   "metadata": {},
   "source": [
    "# Aufgabe: Einführung in Python"
   ]
  },
  {
   "cell_type": "markdown",
   "id": "c41ab1e2",
   "metadata": {},
   "source": [
    "1. Lesen Sie den Datensatz mit Pandas ein. "
   ]
  },
  {
   "cell_type": "code",
   "execution_count": 1,
   "id": "220b168a",
   "metadata": {},
   "outputs": [],
   "source": [
    "import pandas as pd\n",
    "\n",
    "# census = ...\n",
    "\n",
    "# Denken Sie daran, dass manche Spalten vielleicht nicht benötigt werden und manche kategorisch sind.\n",
    "# census.pop()\n",
    "# census[col] = pd.factorize(census[col])[0]"
   ]
  },
  {
   "cell_type": "markdown",
   "id": "4135cb88",
   "metadata": {},
   "source": [
    "2. Geben Sie eine Statistische Zusammenfassung der Daten aus:"
   ]
  },
  {
   "cell_type": "code",
   "execution_count": null,
   "id": "95ad7720",
   "metadata": {},
   "outputs": [],
   "source": []
  },
  {
   "cell_type": "markdown",
   "id": "28a647bb",
   "metadata": {},
   "source": [
    "3. Teilen Sie die Daten mittels Train-Test-Split von Sklearn in Trainings- und Testdaten:"
   ]
  },
  {
   "cell_type": "code",
   "execution_count": 2,
   "id": "89eadce6",
   "metadata": {},
   "outputs": [],
   "source": [
    "from sklearn.model_selection import train_test_split\n",
    "\n"
   ]
  },
  {
   "cell_type": "markdown",
   "id": "175aacd6",
   "metadata": {},
   "source": [
    "4. Analysieren Sie mit Numpy, ob die Features in Test- und Trainingsdatensatz sich in den Mittelwerten unterscheiden:"
   ]
  },
  {
   "cell_type": "code",
   "execution_count": null,
   "id": "36b4137d",
   "metadata": {},
   "outputs": [],
   "source": []
  }
 ],
 "metadata": {
  "kernelspec": {
   "display_name": "Python 3 (ipykernel)",
   "language": "python",
   "name": "python3"
  },
  "language_info": {
   "codemirror_mode": {
    "name": "ipython",
    "version": 3
   },
   "file_extension": ".py",
   "mimetype": "text/x-python",
   "name": "python",
   "nbconvert_exporter": "python",
   "pygments_lexer": "ipython3",
   "version": "3.8.12"
  }
 },
 "nbformat": 4,
 "nbformat_minor": 5
}
