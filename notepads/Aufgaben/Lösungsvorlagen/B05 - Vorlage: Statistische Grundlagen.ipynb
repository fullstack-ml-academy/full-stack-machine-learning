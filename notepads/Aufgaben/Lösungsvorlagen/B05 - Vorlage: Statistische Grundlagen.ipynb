{
 "cells": [
  {
   "cell_type": "markdown",
   "id": "ce459c5e",
   "metadata": {},
   "source": [
    "# *Aufgabe: Statistische Grundlagen*"
   ]
  },
  {
   "cell_type": "markdown",
   "id": "c41ab1e2",
   "metadata": {},
   "source": [
    "1. Laden Sie den Census Datensatz mittels Pandas in Ihre Notebook:"
   ]
  },
  {
   "cell_type": "code",
   "execution_count": 2,
   "id": "220b168a",
   "metadata": {},
   "outputs": [],
   "source": [
    "import pandas as pd\n",
    "\n",
    "# Für diese Aufgabe Features müssen ordentlich vorbereitet werden: \n",
    "# census[col] = pd.factorize(census[col])[0] wird nicht mehr ausreichen. Denken Sie daran, dass manche Features ordinal sind."
   ]
  },
  {
   "cell_type": "markdown",
   "id": "4135cb88",
   "metadata": {},
   "source": [
    "2. Führen Sie für alle Werte eine explorative Datenanalyse zusammen. Erstellen Sie eine visuelle Übersicht über den Datensatz:"
   ]
  },
  {
   "cell_type": "code",
   "execution_count": null,
   "id": "95ad7720",
   "metadata": {},
   "outputs": [],
   "source": []
  },
  {
   "cell_type": "markdown",
   "id": "28a647bb",
   "metadata": {},
   "source": [
    "3. Finden Sie Auffälligkeiten im Datensatz. Welches Visualisierungstool könnte dabei nutzlich sein?"
   ]
  },
  {
   "cell_type": "code",
   "execution_count": null,
   "id": "89eadce6",
   "metadata": {},
   "outputs": [],
   "source": []
  },
  {
   "cell_type": "markdown",
   "id": "175aacd6",
   "metadata": {},
   "source": [
    "4. Geben Sie eine erste Abschätzung, welche Features für die Vorhersage des Targets (Einkommen größer oder kleiner als 50k) gut geeignet sind und versuchen Sie mithilfe der betrachteten statistischen Werkzeug Diskriminierung beim Gehalt aufzuzeigen:"
   ]
  },
  {
   "cell_type": "code",
   "execution_count": null,
   "id": "36b4137d",
   "metadata": {},
   "outputs": [],
   "source": []
  }
 ],
 "metadata": {
  "kernelspec": {
   "display_name": "Python 3 (ipykernel)",
   "language": "python",
   "name": "python3"
  },
  "language_info": {
   "codemirror_mode": {
    "name": "ipython",
    "version": 3
   },
   "file_extension": ".py",
   "mimetype": "text/x-python",
   "name": "python",
   "nbconvert_exporter": "python",
   "pygments_lexer": "ipython3",
   "version": "3.8.12"
  }
 },
 "nbformat": 4,
 "nbformat_minor": 5
}
