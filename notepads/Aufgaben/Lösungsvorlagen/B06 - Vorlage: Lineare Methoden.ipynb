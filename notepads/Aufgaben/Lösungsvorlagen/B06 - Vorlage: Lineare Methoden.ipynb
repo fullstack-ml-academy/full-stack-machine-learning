{
 "cells": [
  {
   "cell_type": "markdown",
   "id": "ce459c5e",
   "metadata": {},
   "source": [
    "# *Aufgabe: Lineare Methoden*"
   ]
  },
  {
   "cell_type": "markdown",
   "id": "a4b6f1a7",
   "metadata": {},
   "source": [
    "0. Importieren Sie alle die nötigen Bibliotheken."
   ]
  },
  {
   "cell_type": "code",
   "execution_count": 1,
   "id": "1e0fd736",
   "metadata": {},
   "outputs": [],
   "source": [
    "import matplotlib.pyplot as plt "
   ]
  },
  {
   "cell_type": "markdown",
   "id": "c41ab1e2",
   "metadata": {},
   "source": [
    "### Aufgabe 1. Lineare Regression per Hand"
   ]
  },
  {
   "cell_type": "markdown",
   "id": "7b511bda",
   "metadata": {},
   "source": [
    "1. Kopieren und visualisieren Sie (am besten mit scatter) die Daten:"
   ]
  },
  {
   "cell_type": "code",
   "execution_count": null,
   "id": "220b168a",
   "metadata": {},
   "outputs": [],
   "source": [
    "# plt.scatter(studying, result)"
   ]
  },
  {
   "cell_type": "markdown",
   "id": "3d899592",
   "metadata": {},
   "source": [
    "2. Definieren Sie Vektoren mit Gewichten und Bias Werten und berechnen Sie die lineare Regression sowie den Fehler. Visualisieren Sie Ihr Ergebnis."
   ]
  },
  {
   "cell_type": "code",
   "execution_count": null,
   "id": "08e2a8e0",
   "metadata": {},
   "outputs": [],
   "source": []
  },
  {
   "cell_type": "markdown",
   "id": "2e316275",
   "metadata": {},
   "source": [
    "### Aufgabe 2. Polynomiale Regression"
   ]
  },
  {
   "cell_type": "markdown",
   "id": "4135cb88",
   "metadata": {},
   "source": [
    "1. Implementieren Sie polinomiale Modelle (grad von 1 bis 7) für die Regressionsaufgabe. Visualisieren Sie alle Modelle auf einem Graphen. Vergleichen Sie auch den Fehler. "
   ]
  },
  {
   "cell_type": "code",
   "execution_count": null,
   "id": "95ad7720",
   "metadata": {},
   "outputs": [],
   "source": [
    "    "
   ]
  },
  {
   "cell_type": "markdown",
   "id": "28a647bb",
   "metadata": {},
   "source": [
    "2. Binarisieren Sie den result Vektor und implementieren Sie die Logistischer Regression für die Klassifikationsaufgabe. "
   ]
  },
  {
   "cell_type": "code",
   "execution_count": null,
   "id": "89eadce6",
   "metadata": {},
   "outputs": [],
   "source": []
  }
 ],
 "metadata": {
  "kernelspec": {
   "display_name": "Python 3 (ipykernel)",
   "language": "python",
   "name": "python3"
  },
  "language_info": {
   "codemirror_mode": {
    "name": "ipython",
    "version": 3
   },
   "file_extension": ".py",
   "mimetype": "text/x-python",
   "name": "python",
   "nbconvert_exporter": "python",
   "pygments_lexer": "ipython3",
   "version": "3.8.12"
  }
 },
 "nbformat": 4,
 "nbformat_minor": 5
}
