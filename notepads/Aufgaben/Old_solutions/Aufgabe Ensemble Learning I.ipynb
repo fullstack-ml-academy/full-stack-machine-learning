{
 "cells": [
  {
   "cell_type": "code",
   "execution_count": 18,
   "id": "d83b5d55-8c71-4435-a264-76ebe68d427d",
   "metadata": {},
   "outputs": [],
   "source": [
    "import pandas as pd\n",
    "import numpy as np\n",
    "from sklearn.datasets import load_wine\n",
    "from sklearn.model_selection import train_test_split\n",
    "\n",
    "from sklearn.ensemble import AdaBoostClassifier\n",
    "from sklearn.ensemble import RandomForestClassifier\n",
    "from sklearn.tree import DecisionTreeClassifier\n",
    "from sklearn.linear_model import LogisticRegression\n",
    "from sklearn.neighbors import KNeighborsClassifier\n",
    "\n",
    "from sklearn.ensemble import VotingClassifier"
   ]
  },
  {
   "cell_type": "code",
   "execution_count": 23,
   "id": "61fa85c1-bda7-488d-87fb-0471922d8bdb",
   "metadata": {},
   "outputs": [],
   "source": [
    "data = load_wine()\n",
    "x = pd.DataFrame(data.data,columns=data.feature_names)\n",
    "y = data.target\n",
    "x_train, x_test, y_train, y_test = train_test_split(x,y)"
   ]
  },
  {
   "cell_type": "code",
   "execution_count": 24,
   "id": "458067ac-464a-49c5-8a49-a152bcd3981d",
   "metadata": {},
   "outputs": [],
   "source": [
    "models = {\"AdaBoost\":AdaBoostClassifier(),\n",
    "         \"Random Forest\":RandomForestClassifier(),\n",
    "         \"Decision Tree\":DecisionTreeClassifier(),\n",
    "         \"Logistische Regression\": LogisticRegression(),\n",
    "         \"kNN\":KNeighborsClassifier()}"
   ]
  },
  {
   "cell_type": "code",
   "execution_count": 25,
   "id": "aed87195-0926-4ab7-a72e-c3f3959132ed",
   "metadata": {},
   "outputs": [
    {
     "name": "stdout",
     "output_type": "stream",
     "text": [
      "Model AdaBoost scored with an accuracy of: 77.78%\n",
      "Model Random Forest scored with an accuracy of: 100.00%\n",
      "Model Decision Tree scored with an accuracy of: 75.56%\n",
      "Model Logistische Regression scored with an accuracy of: 91.11%\n",
      "Model kNN scored with an accuracy of: 71.11%\n"
     ]
    },
    {
     "name": "stderr",
     "output_type": "stream",
     "text": [
      "/usr/local/lib/python3.8/site-packages/sklearn/linear_model/_logistic.py:763: ConvergenceWarning: lbfgs failed to converge (status=1):\n",
      "STOP: TOTAL NO. of ITERATIONS REACHED LIMIT.\n",
      "\n",
      "Increase the number of iterations (max_iter) or scale the data as shown in:\n",
      "    https://scikit-learn.org/stable/modules/preprocessing.html\n",
      "Please also refer to the documentation for alternative solver options:\n",
      "    https://scikit-learn.org/stable/modules/linear_model.html#logistic-regression\n",
      "  n_iter_i = _check_optimize_result(\n"
     ]
    }
   ],
   "source": [
    "for name, model in models.items():\n",
    "    model.fit(x_train,y_train)\n",
    "    print(\"Model {} scored with an accuracy of: {:.2f}%\".format(name, model.score(x_test,y_test)*100))"
   ]
  },
  {
   "cell_type": "code",
   "execution_count": 26,
   "id": "1cd3e93d-b333-4932-9e32-7e06ea9872fb",
   "metadata": {},
   "outputs": [
    {
     "name": "stderr",
     "output_type": "stream",
     "text": [
      "/usr/local/lib/python3.8/site-packages/sklearn/linear_model/_logistic.py:763: ConvergenceWarning: lbfgs failed to converge (status=1):\n",
      "STOP: TOTAL NO. of ITERATIONS REACHED LIMIT.\n",
      "\n",
      "Increase the number of iterations (max_iter) or scale the data as shown in:\n",
      "    https://scikit-learn.org/stable/modules/preprocessing.html\n",
      "Please also refer to the documentation for alternative solver options:\n",
      "    https://scikit-learn.org/stable/modules/linear_model.html#logistic-regression\n",
      "  n_iter_i = _check_optimize_result(\n"
     ]
    },
    {
     "data": {
      "text/plain": [
       "0.9333333333333333"
      ]
     },
     "execution_count": 26,
     "metadata": {},
     "output_type": "execute_result"
    }
   ],
   "source": [
    "vc = VotingClassifier([(name, model) for name, model in models.items()])\n",
    "vc.fit(x_train,y_train)\n",
    "vc.score(x_test, y_test)"
   ]
  }
 ],
 "metadata": {
  "kernelspec": {
   "display_name": "Python 3 (ipykernel)",
   "language": "python",
   "name": "python3"
  },
  "language_info": {
   "codemirror_mode": {
    "name": "ipython",
    "version": 3
   },
   "file_extension": ".py",
   "mimetype": "text/x-python",
   "name": "python",
   "nbconvert_exporter": "python",
   "pygments_lexer": "ipython3",
   "version": "3.8.12"
  }
 },
 "nbformat": 4,
 "nbformat_minor": 5
}
