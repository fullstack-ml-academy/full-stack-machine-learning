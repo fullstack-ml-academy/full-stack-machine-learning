{
 "cells": [
  {
   "cell_type": "markdown",
   "id": "ce459c5e",
   "metadata": {},
   "source": [
    "# *Aufgabe: kNN und Data Preprocessing*"
   ]
  },
  {
   "cell_type": "markdown",
   "id": "218d68e3",
   "metadata": {},
   "source": [
    "### Aufgabe 1. kNN"
   ]
  },
  {
   "cell_type": "markdown",
   "id": "a4b6f1a7",
   "metadata": {},
   "source": [
    "0. Imports"
   ]
  },
  {
   "cell_type": "code",
   "execution_count": 12,
   "id": "1e0fd736",
   "metadata": {},
   "outputs": [],
   "source": [
    "import pandas as pd\n",
    "from sklearn.neighbors import KNeighborsRegressor, KNeighborsClassifier\n",
    "from sklearn.model_selection import train_test_split\n",
    "import matplotlib.pyplot as plt\n",
    "import numpy as np"
   ]
  },
  {
   "cell_type": "markdown",
   "id": "c41ab1e2",
   "metadata": {},
   "source": [
    "1. Lesen von Data und Train/Test split"
   ]
  },
  {
   "cell_type": "code",
   "execution_count": 2,
   "id": "220b168a",
   "metadata": {},
   "outputs": [
    {
     "name": "stdout",
     "output_type": "stream",
     "text": [
      "X Train: (298, 7)\n",
      "Y Train: (298,)\n",
      "X Test: (100, 7)\n",
      "Y Test: (100,)\n"
     ]
    }
   ],
   "source": [
    "data = pd.read_csv(\"../../../data/mpg.csv\")\n",
    "data.head()\n",
    "x_train, x_test, y_train, y_test = train_test_split(data.drop([\"mpg\"],axis=1),data[\"mpg\"])\n",
    "print('X Train: {}'.format(x_train.shape)) \n",
    "print('Y Train: {}'.format(y_train.shape)) \n",
    "print('X Test: {}'.format(x_test.shape)) \n",
    "print('Y Test: {}'.format(y_test.shape))"
   ]
  },
  {
   "cell_type": "markdown",
   "id": "4135cb88",
   "metadata": {},
   "source": [
    "2. \"Train\" the kNN \"model\" for differnt k's:"
   ]
  },
  {
   "cell_type": "code",
   "execution_count": 4,
   "id": "24d4f6f7",
   "metadata": {},
   "outputs": [
    {
     "data": {
      "image/png": "[encoded data removed]",
      "text/plain": [
       "<Figure size 432x288 with 1 Axes>"
      ]
     },
     "metadata": {
      "needs_background": "light"
     },
     "output_type": "display_data"
    }
   ],
   "source": [
    "def mse(y_pred,y):\n",
    "    return np.mean((y_pred-y)**2)\n",
    "\n",
    "\n",
    "error = []\n",
    "for i in range(1, 150):\n",
    "    knn = KNeighborsRegressor(n_neighbors=i)\n",
    "    knn.fit(x_train, y_train)\n",
    "    predicted = knn.predict(x_test)\n",
    "    error.append(mse(predicted, y_test))\n",
    "    \n",
    "plt.title(\"Akkuranz in Abhängigkeit von k\")\n",
    "plt.plot(error)\n",
    "plt.xlabel(\"k\")\n",
    "plt.ylabel(\"Akkuranz\")\n",
    "plt.show()"
   ]
  },
  {
   "cell_type": "markdown",
   "id": "a7f37cfd",
   "metadata": {},
   "source": [
    "### Aufgabe 2. Preprocessing"
   ]
  },
  {
   "cell_type": "code",
   "execution_count": 5,
   "id": "71b2c6f2",
   "metadata": {},
   "outputs": [],
   "source": [
    "from sklearn.impute import SimpleImputer\n",
    "from sklearn.preprocessing import MinMaxScaler\n",
    "from tqdm.notebook import trange, tqdm\n",
    "from sklearn.metrics import accuracy_score"
   ]
  },
  {
   "cell_type": "markdown",
   "id": "4fdfb46e",
   "metadata": {},
   "source": [
    "1. Data auslesen"
   ]
  },
  {
   "cell_type": "code",
   "execution_count": 6,
   "id": "f1cf540e",
   "metadata": {},
   "outputs": [
    {
     "data": {
      "text/html": [
       "<div>\n",
       "<style scoped>\n",
       "    .dataframe tbody tr th:only-of-type {\n",
       "        vertical-align: middle;\n",
       "    }\n",
       "\n",
       "    .dataframe tbody tr th {\n",
       "        vertical-align: top;\n",
       "    }\n",
       "\n",
       "    .dataframe thead th {\n",
       "        text-align: right;\n",
       "    }\n",
       "</style>\n",
       "<table border=\"1\" class=\"dataframe\">\n",
       "  <thead>\n",
       "    <tr style=\"text-align: right;\">\n",
       "      <th></th>\n",
       "      <th>age</th>\n",
       "      <th>workclass</th>\n",
       "      <th>education</th>\n",
       "      <th>marital-status</th>\n",
       "      <th>race</th>\n",
       "      <th>sex</th>\n",
       "      <th>hours-per-week</th>\n",
       "      <th>target</th>\n",
       "    </tr>\n",
       "  </thead>\n",
       "  <tbody>\n",
       "    <tr>\n",
       "      <th>0</th>\n",
       "      <td>39</td>\n",
       "      <td>State-gov</td>\n",
       "      <td>Bachelors</td>\n",
       "      <td>Never-married</td>\n",
       "      <td>White</td>\n",
       "      <td>Male</td>\n",
       "      <td>40</td>\n",
       "      <td>&lt;=50K</td>\n",
       "    </tr>\n",
       "    <tr>\n",
       "      <th>1</th>\n",
       "      <td>50</td>\n",
       "      <td>Self-emp-not-inc</td>\n",
       "      <td>Bachelors</td>\n",
       "      <td>Married-civ-spouse</td>\n",
       "      <td>White</td>\n",
       "      <td>Male</td>\n",
       "      <td>13</td>\n",
       "      <td>&lt;=50K</td>\n",
       "    </tr>\n",
       "    <tr>\n",
       "      <th>2</th>\n",
       "      <td>38</td>\n",
       "      <td>Private</td>\n",
       "      <td>HS-grad</td>\n",
       "      <td>Divorced</td>\n",
       "      <td>White</td>\n",
       "      <td>Male</td>\n",
       "      <td>40</td>\n",
       "      <td>&lt;=50K</td>\n",
       "    </tr>\n",
       "    <tr>\n",
       "      <th>3</th>\n",
       "      <td>53</td>\n",
       "      <td>Private</td>\n",
       "      <td>11th</td>\n",
       "      <td>Married-civ-spouse</td>\n",
       "      <td>Black</td>\n",
       "      <td>Male</td>\n",
       "      <td>40</td>\n",
       "      <td>&lt;=50K</td>\n",
       "    </tr>\n",
       "    <tr>\n",
       "      <th>4</th>\n",
       "      <td>28</td>\n",
       "      <td>Private</td>\n",
       "      <td>Bachelors</td>\n",
       "      <td>Married-civ-spouse</td>\n",
       "      <td>Black</td>\n",
       "      <td>Female</td>\n",
       "      <td>40</td>\n",
       "      <td>&lt;=50K</td>\n",
       "    </tr>\n",
       "  </tbody>\n",
       "</table>\n",
       "</div>"
      ],
      "text/plain": [
       "   age          workclass   education       marital-status    race      sex  \\\n",
       "0   39          State-gov   Bachelors        Never-married   White     Male   \n",
       "1   50   Self-emp-not-inc   Bachelors   Married-civ-spouse   White     Male   \n",
       "2   38            Private     HS-grad             Divorced   White     Male   \n",
       "3   53            Private        11th   Married-civ-spouse   Black     Male   \n",
       "4   28            Private   Bachelors   Married-civ-spouse   Black   Female   \n",
       "\n",
       "   hours-per-week  target  \n",
       "0              40   <=50K  \n",
       "1              13   <=50K  \n",
       "2              40   <=50K  \n",
       "3              40   <=50K  \n",
       "4              40   <=50K  "
      ]
     },
     "execution_count": 6,
     "metadata": {},
     "output_type": "execute_result"
    }
   ],
   "source": [
    "census = pd.read_csv(\"../../../data/census.csv\")\n",
    "census = census.drop(['occupation', 'relationship', 'capital-gain', 'capital-loss', 'native-country'], axis=1)\n",
    "census.head()"
   ]
  },
  {
   "cell_type": "markdown",
   "id": "28a647bb",
   "metadata": {},
   "source": [
    "2. Imputing fehlender Werte:"
   ]
  },
  {
   "cell_type": "code",
   "execution_count": 7,
   "id": "89eadce6",
   "metadata": {},
   "outputs": [
    {
     "data": {
      "image/png": "[encoded data removed]",
      "text/plain": [
       "<Figure size 1080x360 with 1 Axes>"
      ]
     },
     "metadata": {
      "needs_background": "light"
     },
     "output_type": "display_data"
    },
    {
     "data": {
      "image/png": "[encoded data removed]",
      "text/plain": [
       "<Figure size 1080x360 with 1 Axes>"
      ]
     },
     "metadata": {
      "needs_background": "light"
     },
     "output_type": "display_data"
    }
   ],
   "source": [
    "# Es gibt 1 Feature mit missing Values: 'workclass': 1836 Instanzen\n",
    "\n",
    "fig = plt.figure(figsize=(15,5))\n",
    "ax = fig.add_subplot(111)\n",
    "ax.hist(census['workclass'])\n",
    "\n",
    "imp_most_frequent = SimpleImputer(missing_values=' ?', strategy='most_frequent')\n",
    "census['workclass'] = imp_most_frequent.fit_transform(census['workclass'].to_numpy().reshape(-1,1))\n",
    "\n",
    "fig = plt.figure(figsize=(15,5))\n",
    "ax = fig.add_subplot(111)\n",
    "ax.hist(census['workclass'])\n",
    "plt.show()"
   ]
  },
  {
   "cell_type": "markdown",
   "id": "20cbb007",
   "metadata": {},
   "source": [
    "3. Encoding kategorischer Werte:"
   ]
  },
  {
   "cell_type": "code",
   "execution_count": 8,
   "id": "0fd8bacd",
   "metadata": {},
   "outputs": [
    {
     "data": {
      "text/plain": [
       "(32561, 36)"
      ]
     },
     "execution_count": 8,
     "metadata": {},
     "output_type": "execute_result"
    }
   ],
   "source": [
    "# Die binäre Features sex und target können per Hand encoded werden:\n",
    "\n",
    "# SEX: Male: 1, Female: 0\n",
    "census[\"sex\"] = census[\"sex\"].replace({' Male': 1, ' Female': 0})\n",
    "\n",
    "# TARGET: >50K: 1, <=50K: 0 \n",
    "census[\"target\"] = census[\"target\"].replace({' >50K': 1, ' <=50K': 0})\n",
    "\n",
    "to_encode = ['workclass', 'education', 'marital-status', 'race']\n",
    "for feature in to_encode:\n",
    "    one_hot = pd.get_dummies(census[feature], drop_first=True)\n",
    "    census = census.join(one_hot)\n",
    "    census.pop(feature)\n",
    "\n",
    "    \n",
    "census.shape"
   ]
  },
  {
   "cell_type": "markdown",
   "id": "0b763c63",
   "metadata": {},
   "source": [
    "4. Normalize the features"
   ]
  },
  {
   "cell_type": "code",
   "execution_count": 9,
   "id": "4209e014",
   "metadata": {},
   "outputs": [
    {
     "data": {
      "text/html": [
       "<div>\n",
       "<style scoped>\n",
       "    .dataframe tbody tr th:only-of-type {\n",
       "        vertical-align: middle;\n",
       "    }\n",
       "\n",
       "    .dataframe tbody tr th {\n",
       "        vertical-align: top;\n",
       "    }\n",
       "\n",
       "    .dataframe thead th {\n",
       "        text-align: right;\n",
       "    }\n",
       "</style>\n",
       "<table border=\"1\" class=\"dataframe\">\n",
       "  <thead>\n",
       "    <tr style=\"text-align: right;\">\n",
       "      <th></th>\n",
       "      <th>age</th>\n",
       "      <th>sex</th>\n",
       "      <th>hours-per-week</th>\n",
       "      <th>target</th>\n",
       "      <th>Local-gov</th>\n",
       "      <th>Never-worked</th>\n",
       "      <th>Private</th>\n",
       "      <th>Self-emp-inc</th>\n",
       "      <th>Self-emp-not-inc</th>\n",
       "      <th>State-gov</th>\n",
       "      <th>...</th>\n",
       "      <th>Married-AF-spouse</th>\n",
       "      <th>Married-civ-spouse</th>\n",
       "      <th>Married-spouse-absent</th>\n",
       "      <th>Never-married</th>\n",
       "      <th>Separated</th>\n",
       "      <th>Widowed</th>\n",
       "      <th>Asian-Pac-Islander</th>\n",
       "      <th>Black</th>\n",
       "      <th>Other</th>\n",
       "      <th>White</th>\n",
       "    </tr>\n",
       "  </thead>\n",
       "  <tbody>\n",
       "    <tr>\n",
       "      <th>0</th>\n",
       "      <td>0.301370</td>\n",
       "      <td>1</td>\n",
       "      <td>0.397959</td>\n",
       "      <td>0</td>\n",
       "      <td>0</td>\n",
       "      <td>0</td>\n",
       "      <td>0</td>\n",
       "      <td>0</td>\n",
       "      <td>0</td>\n",
       "      <td>1</td>\n",
       "      <td>...</td>\n",
       "      <td>0</td>\n",
       "      <td>0</td>\n",
       "      <td>0</td>\n",
       "      <td>1</td>\n",
       "      <td>0</td>\n",
       "      <td>0</td>\n",
       "      <td>0</td>\n",
       "      <td>0</td>\n",
       "      <td>0</td>\n",
       "      <td>1</td>\n",
       "    </tr>\n",
       "    <tr>\n",
       "      <th>1</th>\n",
       "      <td>0.452055</td>\n",
       "      <td>1</td>\n",
       "      <td>0.122449</td>\n",
       "      <td>0</td>\n",
       "      <td>0</td>\n",
       "      <td>0</td>\n",
       "      <td>0</td>\n",
       "      <td>0</td>\n",
       "      <td>1</td>\n",
       "      <td>0</td>\n",
       "      <td>...</td>\n",
       "      <td>0</td>\n",
       "      <td>1</td>\n",
       "      <td>0</td>\n",
       "      <td>0</td>\n",
       "      <td>0</td>\n",
       "      <td>0</td>\n",
       "      <td>0</td>\n",
       "      <td>0</td>\n",
       "      <td>0</td>\n",
       "      <td>1</td>\n",
       "    </tr>\n",
       "    <tr>\n",
       "      <th>2</th>\n",
       "      <td>0.287671</td>\n",
       "      <td>1</td>\n",
       "      <td>0.397959</td>\n",
       "      <td>0</td>\n",
       "      <td>0</td>\n",
       "      <td>0</td>\n",
       "      <td>1</td>\n",
       "      <td>0</td>\n",
       "      <td>0</td>\n",
       "      <td>0</td>\n",
       "      <td>...</td>\n",
       "      <td>0</td>\n",
       "      <td>0</td>\n",
       "      <td>0</td>\n",
       "      <td>0</td>\n",
       "      <td>0</td>\n",
       "      <td>0</td>\n",
       "      <td>0</td>\n",
       "      <td>0</td>\n",
       "      <td>0</td>\n",
       "      <td>1</td>\n",
       "    </tr>\n",
       "    <tr>\n",
       "      <th>3</th>\n",
       "      <td>0.493151</td>\n",
       "      <td>1</td>\n",
       "      <td>0.397959</td>\n",
       "      <td>0</td>\n",
       "      <td>0</td>\n",
       "      <td>0</td>\n",
       "      <td>1</td>\n",
       "      <td>0</td>\n",
       "      <td>0</td>\n",
       "      <td>0</td>\n",
       "      <td>...</td>\n",
       "      <td>0</td>\n",
       "      <td>1</td>\n",
       "      <td>0</td>\n",
       "      <td>0</td>\n",
       "      <td>0</td>\n",
       "      <td>0</td>\n",
       "      <td>0</td>\n",
       "      <td>1</td>\n",
       "      <td>0</td>\n",
       "      <td>0</td>\n",
       "    </tr>\n",
       "    <tr>\n",
       "      <th>4</th>\n",
       "      <td>0.150685</td>\n",
       "      <td>0</td>\n",
       "      <td>0.397959</td>\n",
       "      <td>0</td>\n",
       "      <td>0</td>\n",
       "      <td>0</td>\n",
       "      <td>1</td>\n",
       "      <td>0</td>\n",
       "      <td>0</td>\n",
       "      <td>0</td>\n",
       "      <td>...</td>\n",
       "      <td>0</td>\n",
       "      <td>1</td>\n",
       "      <td>0</td>\n",
       "      <td>0</td>\n",
       "      <td>0</td>\n",
       "      <td>0</td>\n",
       "      <td>0</td>\n",
       "      <td>1</td>\n",
       "      <td>0</td>\n",
       "      <td>0</td>\n",
       "    </tr>\n",
       "  </tbody>\n",
       "</table>\n",
       "<p>5 rows × 36 columns</p>\n",
       "</div>"
      ],
      "text/plain": [
       "        age  sex  hours-per-week  target   Local-gov   Never-worked   Private  \\\n",
       "0  0.301370    1        0.397959       0           0              0         0   \n",
       "1  0.452055    1        0.122449       0           0              0         0   \n",
       "2  0.287671    1        0.397959       0           0              0         1   \n",
       "3  0.493151    1        0.397959       0           0              0         1   \n",
       "4  0.150685    0        0.397959       0           0              0         1   \n",
       "\n",
       "    Self-emp-inc   Self-emp-not-inc   State-gov  ...   Married-AF-spouse  \\\n",
       "0              0                  0           1  ...                   0   \n",
       "1              0                  1           0  ...                   0   \n",
       "2              0                  0           0  ...                   0   \n",
       "3              0                  0           0  ...                   0   \n",
       "4              0                  0           0  ...                   0   \n",
       "\n",
       "    Married-civ-spouse   Married-spouse-absent   Never-married   Separated  \\\n",
       "0                    0                       0               1           0   \n",
       "1                    1                       0               0           0   \n",
       "2                    0                       0               0           0   \n",
       "3                    1                       0               0           0   \n",
       "4                    1                       0               0           0   \n",
       "\n",
       "    Widowed   Asian-Pac-Islander   Black   Other   White  \n",
       "0         0                    0       0       0       1  \n",
       "1         0                    0       0       0       1  \n",
       "2         0                    0       0       0       1  \n",
       "3         0                    0       1       0       0  \n",
       "4         0                    0       1       0       0  \n",
       "\n",
       "[5 rows x 36 columns]"
      ]
     },
     "execution_count": 9,
     "metadata": {},
     "output_type": "execute_result"
    }
   ],
   "source": [
    "# Age und hours-per-week sollten normalisiert werden.\n",
    "minmax = MinMaxScaler()\n",
    "\n",
    "census['age'] = minmax.fit_transform(census['age'].to_numpy().reshape(-1,1))\n",
    "census['hours-per-week'] = minmax.fit_transform(census['hours-per-week'].to_numpy().reshape(-1,1))\n",
    "\n",
    "census.head()"
   ]
  },
  {
   "cell_type": "markdown",
   "id": "5c07707c",
   "metadata": {},
   "source": [
    "5. Predict with kNN"
   ]
  },
  {
   "cell_type": "code",
   "execution_count": 10,
   "id": "80ee6a12",
   "metadata": {},
   "outputs": [
    {
     "name": "stdout",
     "output_type": "stream",
     "text": [
      "X Train: (24420, 35)\n",
      "Y Train: (24420,)\n",
      "X Test: (8141, 35)\n",
      "Y Test: (8141,)\n"
     ]
    }
   ],
   "source": [
    "x_train, x_test, y_train, y_test = train_test_split(census.drop([\"target\"],axis=1), census[\"target\"])\n",
    "print('X Train: {}'.format(x_train.shape)) \n",
    "print('Y Train: {}'.format(y_train.shape)) \n",
    "print('X Test: {}'.format(x_test.shape)) \n",
    "print('Y Test: {}'.format(y_test.shape))"
   ]
  },
  {
   "cell_type": "code",
   "execution_count": 15,
   "id": "108d2f0c",
   "metadata": {},
   "outputs": [
    {
     "data": {
      "application/vnd.jupyter.widget-view+json": {
       "model_id": "dd30ac55a0de4895a23f7aa5a28c4e03",
       "version_major": 2,
       "version_minor": 0
      },
      "text/plain": [
       "  0%|          | 0/2 [00:00<?, ?it/s]"
      ]
     },
     "metadata": {},
     "output_type": "display_data"
    },
    {
     "data": {
      "image/png": "[encoded data removed]",
      "text/plain": [
       "<Figure size 432x288 with 1 Axes>"
      ]
     },
     "metadata": {
      "needs_background": "light"
     },
     "output_type": "display_data"
    }
   ],
   "source": [
    "scores = []\n",
    "for i in trange(1, 150):\n",
    "    knn = KNeighborsClassifier(n_neighbors=i)\n",
    "    knn.fit(x_train, y_train)\n",
    "    predicted = knn.predict(x_test)\n",
    "    scores.append(accuracy_score(predicted.reshape(-1,1), y_test.to_numpy().reshape(-1,1)))\n",
    "\n",
    "plt.title(\"Akkuranz in Abhängigkeit von k\")\n",
    "plt.plot(scores)\n",
    "plt.xlabel(\"k\")\n",
    "plt.ylabel(\"Akkuranz\")\n",
    "plt.show()"
   ]
  },
  {
   "cell_type": "code",
   "execution_count": null,
   "id": "1451d49d",
   "metadata": {},
   "outputs": [],
   "source": []
  }
 ],
 "metadata": {
  "kernelspec": {
   "display_name": "Python 3 (ipykernel)",
   "language": "python",
   "name": "python3"
  },
  "language_info": {
   "codemirror_mode": {
    "name": "ipython",
    "version": 3
   },
   "file_extension": ".py",
   "mimetype": "text/x-python",
   "name": "python",
   "nbconvert_exporter": "python",
   "pygments_lexer": "ipython3",
   "version": "3.8.12"
  }
 },
 "nbformat": 4,
 "nbformat_minor": 5
}
